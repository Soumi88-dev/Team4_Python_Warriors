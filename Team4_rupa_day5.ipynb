{
 "cells": [
  {
   "cell_type": "code",
   "execution_count": 267,
   "id": "f57f7a82",
   "metadata": {
    "scrolled": true
   },
   "outputs": [
    {
     "name": "stderr",
     "output_type": "stream",
     "text": [
      "C:\\Users\\aravi\\anaconda3\\lib\\site-packages\\openpyxl\\worksheet\\_reader.py:312: UserWarning: Unknown extension is not supported and will be removed\n",
      "  warn(msg)\n"
     ]
    },
    {
     "name": "stdout",
     "output_type": "stream",
     "text": [
      "       ID     time     RR       VO2  power\n",
      "0      11 -168.600  727.0  0.287147      0\n",
      "1      11 -167.872  728.0  0.287147      0\n",
      "2      11 -167.148  724.0  0.287147      0\n",
      "3      11 -166.484  664.0  0.320580      0\n",
      "4      11 -165.836  648.0  0.320580      0\n",
      "...    ..      ...    ...       ...    ...\n",
      "27598  10  942.700  428.0  0.786363      0\n",
      "27599  10  943.124  424.0  0.786363      0\n",
      "27600  10  943.552  428.0  0.786363      0\n",
      "27601  10  943.976  424.0  0.786363      0\n",
      "27602  10  944.404  428.0  0.786363      0\n",
      "\n",
      "[52062 rows x 5 columns]\n"
     ]
    },
    {
     "data": {
      "text/html": [
       "<div>\n",
       "<style scoped>\n",
       "    .dataframe tbody tr th:only-of-type {\n",
       "        vertical-align: middle;\n",
       "    }\n",
       "\n",
       "    .dataframe tbody tr th {\n",
       "        vertical-align: top;\n",
       "    }\n",
       "\n",
       "    .dataframe thead th {\n",
       "        text-align: right;\n",
       "    }\n",
       "</style>\n",
       "<table border=\"1\" class=\"dataframe\">\n",
       "  <thead>\n",
       "    <tr style=\"text-align: right;\">\n",
       "      <th></th>\n",
       "      <th>ID</th>\n",
       "      <th>time</th>\n",
       "      <th>RR</th>\n",
       "      <th>VO2</th>\n",
       "      <th>power</th>\n",
       "    </tr>\n",
       "  </thead>\n",
       "  <tbody>\n",
       "    <tr>\n",
       "      <th>0</th>\n",
       "      <td>11</td>\n",
       "      <td>-168.600</td>\n",
       "      <td>727.0</td>\n",
       "      <td>0.287147</td>\n",
       "      <td>0</td>\n",
       "    </tr>\n",
       "    <tr>\n",
       "      <th>1</th>\n",
       "      <td>11</td>\n",
       "      <td>-167.872</td>\n",
       "      <td>728.0</td>\n",
       "      <td>0.287147</td>\n",
       "      <td>0</td>\n",
       "    </tr>\n",
       "    <tr>\n",
       "      <th>2</th>\n",
       "      <td>11</td>\n",
       "      <td>-167.148</td>\n",
       "      <td>724.0</td>\n",
       "      <td>0.287147</td>\n",
       "      <td>0</td>\n",
       "    </tr>\n",
       "    <tr>\n",
       "      <th>3</th>\n",
       "      <td>11</td>\n",
       "      <td>-166.484</td>\n",
       "      <td>664.0</td>\n",
       "      <td>0.320580</td>\n",
       "      <td>0</td>\n",
       "    </tr>\n",
       "    <tr>\n",
       "      <th>4</th>\n",
       "      <td>11</td>\n",
       "      <td>-165.836</td>\n",
       "      <td>648.0</td>\n",
       "      <td>0.320580</td>\n",
       "      <td>0</td>\n",
       "    </tr>\n",
       "    <tr>\n",
       "      <th>...</th>\n",
       "      <td>...</td>\n",
       "      <td>...</td>\n",
       "      <td>...</td>\n",
       "      <td>...</td>\n",
       "      <td>...</td>\n",
       "    </tr>\n",
       "    <tr>\n",
       "      <th>27598</th>\n",
       "      <td>10</td>\n",
       "      <td>942.700</td>\n",
       "      <td>428.0</td>\n",
       "      <td>0.786363</td>\n",
       "      <td>0</td>\n",
       "    </tr>\n",
       "    <tr>\n",
       "      <th>27599</th>\n",
       "      <td>10</td>\n",
       "      <td>943.124</td>\n",
       "      <td>424.0</td>\n",
       "      <td>0.786363</td>\n",
       "      <td>0</td>\n",
       "    </tr>\n",
       "    <tr>\n",
       "      <th>27600</th>\n",
       "      <td>10</td>\n",
       "      <td>943.552</td>\n",
       "      <td>428.0</td>\n",
       "      <td>0.786363</td>\n",
       "      <td>0</td>\n",
       "    </tr>\n",
       "    <tr>\n",
       "      <th>27601</th>\n",
       "      <td>10</td>\n",
       "      <td>943.976</td>\n",
       "      <td>424.0</td>\n",
       "      <td>0.786363</td>\n",
       "      <td>0</td>\n",
       "    </tr>\n",
       "    <tr>\n",
       "      <th>27602</th>\n",
       "      <td>10</td>\n",
       "      <td>944.404</td>\n",
       "      <td>428.0</td>\n",
       "      <td>0.786363</td>\n",
       "      <td>0</td>\n",
       "    </tr>\n",
       "  </tbody>\n",
       "</table>\n",
       "<p>52062 rows × 5 columns</p>\n",
       "</div>"
      ],
      "text/plain": [
       "       ID     time     RR       VO2  power\n",
       "0      11 -168.600  727.0  0.287147      0\n",
       "1      11 -167.872  728.0  0.287147      0\n",
       "2      11 -167.148  724.0  0.287147      0\n",
       "3      11 -166.484  664.0  0.320580      0\n",
       "4      11 -165.836  648.0  0.320580      0\n",
       "...    ..      ...    ...       ...    ...\n",
       "27598  10  942.700  428.0  0.786363      0\n",
       "27599  10  943.124  424.0  0.786363      0\n",
       "27600  10  943.552  428.0  0.786363      0\n",
       "27601  10  943.976  424.0  0.786363      0\n",
       "27602  10  944.404  428.0  0.786363      0\n",
       "\n",
       "[52062 rows x 5 columns]"
      ]
     },
     "execution_count": 267,
     "metadata": {},
     "output_type": "execute_result"
    }
   ],
   "source": [
    "import numpy as np\n",
    "import pandas as pd\n",
    "import matplotlib\n",
    "import matplotlib.pyplot as plt\n",
    "import seaborn as sns\n",
    "import re\n",
    "%matplotlib inline\n",
    "\n",
    "\n",
    "#kayakdata = pd.read_excel('V02Max_Combined.xlsx', sheet_name ='Kayaking')\n",
    "#athletedata = pd.read_excel('V02Max_Combined.xlsx', sheet_name ='Athletes')\n",
    "#athletedata\n",
    "#kayakdata\n",
    "\n",
    "\n",
    "#Reading the excel files and storing into dataframes\n",
    "dataset=pd.ExcelFile('V02Max_Combined.xlsx')\n",
    "\n",
    "Athletes = pd.read_excel(dataset, sheet_name = 'Athletes')\n",
    "Kayaking = pd.read_excel(dataset, sheet_name = 'Kayaking')\n",
    "Triathlon = pd.read_excel(dataset, sheet_name = 'Triathlon')\n",
    "Fencing = pd.read_excel(dataset, sheet_name = 'Fencing')\n",
    "\n",
    "#Athletes\n",
    "\n",
    "#Kayaking\n",
    "\n",
    "combined=pd.concat([Kayaking,Triathlon,Fencing])\n",
    "#print(combined)\n",
    "\n",
    "#combined"
   ]
  },
  {
   "cell_type": "markdown",
   "id": "97917676",
   "metadata": {},
   "source": [
    "### 1. Join all sport-related tables to produce one dataframe that has all athletes values. The final table should only have the same 5 columns: ID, time,power,RR, vo2, power. Write this dataframe to an excel file."
   ]
  },
  {
   "cell_type": "code",
   "execution_count": 265,
   "id": "f4f7d25d",
   "metadata": {},
   "outputs": [],
   "source": [
    "\n",
    "\n",
    "#All_sports.to_excel('Allsports.xlsx', sheet_name='Allsports')\n",
    "\n",
    "\n"
   ]
  },
  {
   "cell_type": "markdown",
   "id": "9ab1485e",
   "metadata": {},
   "source": [
    "### 2. Divide the rows into 3 parts: Warm up, GET(graded exercise test) and cool down using the data def. Label each row accordingly"
   ]
  },
  {
   "cell_type": "code",
   "execution_count": 347,
   "id": "51d415ee",
   "metadata": {},
   "outputs": [
    {
     "name": "stdout",
     "output_type": "stream",
     "text": [
      "       ID     time     RR       VO2  power      stage\n",
      "0      11 -168.600  727.0  0.287147      0    Warm up\n",
      "1      11 -167.872  728.0  0.287147      0    Warm up\n",
      "2      11 -167.148  724.0  0.287147      0    Warm up\n",
      "3      11 -166.484  664.0  0.320580      0    Warm up\n",
      "4      11 -165.836  648.0  0.320580      0    Warm up\n",
      "...    ..      ...    ...       ...    ...        ...\n",
      "27598  10  942.700  428.0  0.786363      0  Cool down\n",
      "27599  10  943.124  424.0  0.786363      0  Cool down\n",
      "27600  10  943.552  428.0  0.786363      0  Cool down\n",
      "27601  10  943.976  424.0  0.786363      0  Cool down\n",
      "27602  10  944.404  428.0  0.786363      0  Cool down\n",
      "\n",
      "[52062 rows x 6 columns]\n"
     ]
    }
   ],
   "source": [
    "\n",
    "conditions=[\n",
    "    (combined['time']<0),\n",
    "    (combined['time']>0) & (combined['power']>0),\n",
    "    (combined['power']<=0)\n",
    "]\n",
    "choices=['Warm up','Get','Cool down']\n",
    "combined['stage']=np.select(conditions,choices,default='cool down')\n",
    "print(combined)                           "
   ]
  },
  {
   "cell_type": "markdown",
   "id": "c03a9625",
   "metadata": {},
   "source": [
    "### 49.Retrieve the row with minimum IBI for fencing athletes using sorting technique."
   ]
  },
  {
   "cell_type": "code",
   "execution_count": 350,
   "id": "7459857a",
   "metadata": {},
   "outputs": [
    {
     "ename": "TypeError",
     "evalue": "string indices must be integers",
     "output_type": "error",
     "traceback": [
      "\u001b[1;31m---------------------------------------------------------------------------\u001b[0m",
      "\u001b[1;31mTypeError\u001b[0m                                 Traceback (most recent call last)",
      "\u001b[1;32m~\\AppData\\Local\\Temp/ipykernel_4088/1688604421.py\u001b[0m in \u001b[0;36m<module>\u001b[1;34m\u001b[0m\n\u001b[1;32m----> 1\u001b[1;33m \u001b[0msorted_data\u001b[0m \u001b[1;33m=\u001b[0m \u001b[0msorted\u001b[0m\u001b[1;33m(\u001b[0m\u001b[0mFencing\u001b[0m\u001b[1;33m,\u001b[0m \u001b[0mkey\u001b[0m\u001b[1;33m=\u001b[0m\u001b[1;32mlambda\u001b[0m \u001b[0mx\u001b[0m\u001b[1;33m:\u001b[0m \u001b[0mx\u001b[0m\u001b[1;33m[\u001b[0m\u001b[1;34m'RR'\u001b[0m\u001b[1;33m]\u001b[0m\u001b[1;33m)\u001b[0m\u001b[1;33m\u001b[0m\u001b[1;33m\u001b[0m\u001b[0m\n\u001b[0m\u001b[0;32m      2\u001b[0m \u001b[0mmin_rr_row\u001b[0m \u001b[1;33m=\u001b[0m \u001b[0msorted_data\u001b[0m\u001b[1;33m[\u001b[0m\u001b[1;36m0\u001b[0m\u001b[1;33m]\u001b[0m\u001b[1;33m\u001b[0m\u001b[1;33m\u001b[0m\u001b[0m\n\u001b[0;32m      3\u001b[0m \u001b[0mprint\u001b[0m\u001b[1;33m(\u001b[0m\u001b[0mmin_rr_row\u001b[0m\u001b[1;33m)\u001b[0m\u001b[1;33m\u001b[0m\u001b[1;33m\u001b[0m\u001b[0m\n",
      "\u001b[1;32m~\\AppData\\Local\\Temp/ipykernel_4088/1688604421.py\u001b[0m in \u001b[0;36m<lambda>\u001b[1;34m(x)\u001b[0m\n\u001b[1;32m----> 1\u001b[1;33m \u001b[0msorted_data\u001b[0m \u001b[1;33m=\u001b[0m \u001b[0msorted\u001b[0m\u001b[1;33m(\u001b[0m\u001b[0mFencing\u001b[0m\u001b[1;33m,\u001b[0m \u001b[0mkey\u001b[0m\u001b[1;33m=\u001b[0m\u001b[1;32mlambda\u001b[0m \u001b[0mx\u001b[0m\u001b[1;33m:\u001b[0m \u001b[0mx\u001b[0m\u001b[1;33m[\u001b[0m\u001b[1;34m'RR'\u001b[0m\u001b[1;33m]\u001b[0m\u001b[1;33m)\u001b[0m\u001b[1;33m\u001b[0m\u001b[1;33m\u001b[0m\u001b[0m\n\u001b[0m\u001b[0;32m      2\u001b[0m \u001b[0mmin_rr_row\u001b[0m \u001b[1;33m=\u001b[0m \u001b[0msorted_data\u001b[0m\u001b[1;33m[\u001b[0m\u001b[1;36m0\u001b[0m\u001b[1;33m]\u001b[0m\u001b[1;33m\u001b[0m\u001b[1;33m\u001b[0m\u001b[0m\n\u001b[0;32m      3\u001b[0m \u001b[0mprint\u001b[0m\u001b[1;33m(\u001b[0m\u001b[0mmin_rr_row\u001b[0m\u001b[1;33m)\u001b[0m\u001b[1;33m\u001b[0m\u001b[1;33m\u001b[0m\u001b[0m\n",
      "\u001b[1;31mTypeError\u001b[0m: string indices must be integers"
     ]
    }
   ],
   "source": [
    "sorted_data = sorted(Fencing, key=lambda x: x['RR'])\n",
    "min_ibi_row = sorted_data[0]\n",
    "print(min_ibi_row)"
   ]
  },
  {
   "cell_type": "markdown",
   "id": "6c81b863",
   "metadata": {},
   "source": [
    "### 50.Create a violin chart using any 2 columns in the dataset"
   ]
  },
  {
   "cell_type": "code",
   "execution_count": 269,
   "id": "5eff6e75",
   "metadata": {},
   "outputs": [
    {
     "data": {
      "image/png": "[encoded data removed]",
      "text/plain": [
       "<Figure size 864x576 with 1 Axes>"
      ]
     },
     "metadata": {
      "needs_background": "light"
     },
     "output_type": "display_data"
    }
   ],
   "source": [
    "plt.figure(figsize=(12,8))\n",
    "sns.violinplot(x='sport', y='age', data=Athletes)\n",
    "#Genderwise distribution of age across sports\n",
    "#sns.violinplot(x='sport', y='age', data=Athletes, hue='Gender',split=True,palette='Blues')\n",
    "plt.title(\"Distribution of Age Across Sports\",fontsize=20)\n",
    "plt.xlabel(\"Sport\",fontsize=15)\n",
    "plt.ylabel(\"Age\",fontsize=15)\n",
    "plt.show()"
   ]
  },
  {
   "cell_type": "markdown",
   "id": "96316487",
   "metadata": {},
   "source": [
    "### 51.List every athlete’s V02 ml/kg"
   ]
  },
  {
   "cell_type": "code",
   "execution_count": 277,
   "id": "2b6135bf",
   "metadata": {},
   "outputs": [
    {
     "data": {
      "text/html": [
       "<div>\n",
       "<style scoped>\n",
       "    .dataframe tbody tr th:only-of-type {\n",
       "        vertical-align: middle;\n",
       "    }\n",
       "\n",
       "    .dataframe tbody tr th {\n",
       "        vertical-align: top;\n",
       "    }\n",
       "\n",
       "    .dataframe thead th {\n",
       "        text-align: right;\n",
       "    }\n",
       "</style>\n",
       "<table border=\"1\" class=\"dataframe\">\n",
       "  <thead>\n",
       "    <tr style=\"text-align: right;\">\n",
       "      <th></th>\n",
       "      <th>ID</th>\n",
       "      <th>VO2mlperkg</th>\n",
       "    </tr>\n",
       "  </thead>\n",
       "  <tbody>\n",
       "    <tr>\n",
       "      <th>0</th>\n",
       "      <td>1</td>\n",
       "      <td>42.81</td>\n",
       "    </tr>\n",
       "    <tr>\n",
       "      <th>1</th>\n",
       "      <td>2</td>\n",
       "      <td>38.63</td>\n",
       "    </tr>\n",
       "    <tr>\n",
       "      <th>2</th>\n",
       "      <td>3</td>\n",
       "      <td>69.71</td>\n",
       "    </tr>\n",
       "    <tr>\n",
       "      <th>3</th>\n",
       "      <td>4</td>\n",
       "      <td>76.99</td>\n",
       "    </tr>\n",
       "    <tr>\n",
       "      <th>4</th>\n",
       "      <td>5</td>\n",
       "      <td>86.74</td>\n",
       "    </tr>\n",
       "    <tr>\n",
       "      <th>5</th>\n",
       "      <td>6</td>\n",
       "      <td>71.68</td>\n",
       "    </tr>\n",
       "    <tr>\n",
       "      <th>6</th>\n",
       "      <td>7</td>\n",
       "      <td>38.40</td>\n",
       "    </tr>\n",
       "    <tr>\n",
       "      <th>7</th>\n",
       "      <td>8</td>\n",
       "      <td>44.82</td>\n",
       "    </tr>\n",
       "    <tr>\n",
       "      <th>8</th>\n",
       "      <td>9</td>\n",
       "      <td>49.70</td>\n",
       "    </tr>\n",
       "    <tr>\n",
       "      <th>9</th>\n",
       "      <td>10</td>\n",
       "      <td>55.12</td>\n",
       "    </tr>\n",
       "    <tr>\n",
       "      <th>10</th>\n",
       "      <td>11</td>\n",
       "      <td>89.59</td>\n",
       "    </tr>\n",
       "    <tr>\n",
       "      <th>11</th>\n",
       "      <td>12</td>\n",
       "      <td>92.26</td>\n",
       "    </tr>\n",
       "    <tr>\n",
       "      <th>12</th>\n",
       "      <td>13</td>\n",
       "      <td>90.76</td>\n",
       "    </tr>\n",
       "    <tr>\n",
       "      <th>13</th>\n",
       "      <td>14</td>\n",
       "      <td>54.87</td>\n",
       "    </tr>\n",
       "    <tr>\n",
       "      <th>14</th>\n",
       "      <td>15</td>\n",
       "      <td>66.94</td>\n",
       "    </tr>\n",
       "    <tr>\n",
       "      <th>15</th>\n",
       "      <td>16</td>\n",
       "      <td>69.66</td>\n",
       "    </tr>\n",
       "    <tr>\n",
       "      <th>16</th>\n",
       "      <td>17</td>\n",
       "      <td>73.79</td>\n",
       "    </tr>\n",
       "    <tr>\n",
       "      <th>17</th>\n",
       "      <td>18</td>\n",
       "      <td>81.21</td>\n",
       "    </tr>\n",
       "  </tbody>\n",
       "</table>\n",
       "</div>"
      ],
      "text/plain": [
       "    ID  VO2mlperkg\n",
       "0    1       42.81\n",
       "1    2       38.63\n",
       "2    3       69.71\n",
       "3    4       76.99\n",
       "4    5       86.74\n",
       "5    6       71.68\n",
       "6    7       38.40\n",
       "7    8       44.82\n",
       "8    9       49.70\n",
       "9   10       55.12\n",
       "10  11       89.59\n",
       "11  12       92.26\n",
       "12  13       90.76\n",
       "13  14       54.87\n",
       "14  15       66.94\n",
       "15  16       69.66\n",
       "16  17       73.79\n",
       "17  18       81.21"
      ]
     },
     "execution_count": 277,
     "metadata": {},
     "output_type": "execute_result"
    }
   ],
   "source": [
    "# Adding all VO2 values for each athlete\n",
    "vO2_sum=All_sports.groupby(['ID'])['VO2'].sum()\n",
    "#print(vO2_sum_df)\n",
    "\n",
    "#Inner join on VO2sum and athletes based on ID and writing them to a new dataframe\n",
    "athletenew_df=pd.merge(Athletes,vO2_sum, on='ID', how='inner')[['ID','Weight','sport','VO2']]       \n",
    "#print(athletenew_df)\n",
    "\n",
    " \n",
    "#Calculating VO2ml/kg for each athlete and writing it to the dataframe\n",
    "athletenew_df['VO2mlperkg']=(athletenew_df['VO2']/athletenew_df['Weight']).round(2)\n",
    "#print(athletenew_df)\n",
    "athletenew_df[['ID','VO2mlperkg']]\n",
    "\n",
    "\n"
   ]
  },
  {
   "cell_type": "markdown",
   "id": "0ca49513",
   "metadata": {},
   "source": [
    "### 52.Using all markers of fitness available to you, who is fittest athlete. Write 1-2 lines about the analysis that led to your insight."
   ]
  },
  {
   "cell_type": "markdown",
   "id": "dead2a34",
   "metadata": {},
   "source": [
    "### 53.\tphonebook={\"john\":938477566,\"Jack\":938377264,\"Jill\":947662781}  ,find the phone number of Jill"
   ]
  },
  {
   "cell_type": "code",
   "execution_count": 79,
   "id": "deecf4c8",
   "metadata": {},
   "outputs": [
    {
     "name": "stdout",
     "output_type": "stream",
     "text": [
      "Jill - 947662781\n"
     ]
    }
   ],
   "source": [
    "phonebook = {\n",
    "    \"john\":938477566,\n",
    "    \"Jack\":938377264,\n",
    "    \"Jill\":947662781\n",
    "}\n",
    "\n",
    "if \"Jill\" in phonebook:\n",
    "    print(f'Jill - {phonebook[\"Jill\"]}')\n",
    "else:\n",
    "    print(\"Jill is not listed in the phonebook\")"
   ]
  },
  {
   "cell_type": "markdown",
   "id": "d6749fb3",
   "metadata": {},
   "source": [
    "### 54. Create a Pie chart for  Athletes and explode the widge with Highest V02 kg/ml in and Label by Athlete ID"
   ]
  },
  {
   "cell_type": "code",
   "execution_count": 270,
   "id": "e500ee8f",
   "metadata": {},
   "outputs": [
    {
     "data": {
      "image/png": "[encoded data removed]",
      "text/plain": [
       "<Figure size 720x576 with 1 Axes>"
      ]
     },
     "metadata": {},
     "output_type": "display_data"
    }
   ],
   "source": [
    "#athletenew_df\n",
    "\n",
    "# Finding the index of the highest VO2 value\n",
    "vo2_max_index = athletenew_df['VO2mlperkg'].idxmax()\n",
    "#print(vo2_max_index) \n",
    "\n",
    "# Define explode array with 0.2 for the slice with the maximum VO2\n",
    "explodes = [0.2 if max == vo2_max_index else 0 for max in range(len(athletenew_df))]\n",
    "\n",
    "# Create pie chart\n",
    "plt.figure(figsize=(10, 8))\n",
    "plt.pie(athletenew_df['VO2mlperkg'], explode=explodes, labels=athletenew_df['ID'])\n",
    "plt.title('VO2ml/kg of Athletes', fontsize=14)\n",
    "plt.show()\n"
   ]
  },
  {
   "cell_type": "markdown",
   "id": "72c9764d",
   "metadata": {},
   "source": [
    "### 55. Using a for loop iterate through HR for all trathletes and display all details of the athlete with the highest heart rate"
   ]
  },
  {
   "cell_type": "code",
   "execution_count": 345,
   "id": "d9345790",
   "metadata": {},
   "outputs": [
    {
     "name": "stdout",
     "output_type": "stream",
     "text": [
      "      ID First Name Last Name  age Gender  Weight  Height  Heartrate\n",
      "4152  18       Owen     Myers   12   Male    39.7     158     197.37\n"
     ]
    }
   ],
   "source": [
    "#60/(RR/1000) will give you Heart rate per minute\n",
    "tr_heartrate=(60/(Triathlon['RR']/1000)).round(2) ## Calculatin the heart rate from RR value\n",
    "\n",
    "#Writing the triathlon dataframe to a ne wdataframe and adding the heartrate to the new dataframe\n",
    "triathlon_new=Triathlon \n",
    "triathlon_new['Heartrate']=tr_heartrate\n",
    "\n",
    "#print(triathlon_new)\n",
    "\n",
    "#Getting the maximum heartrate of each athlete\n",
    "hr_id=triathlon_new.groupby(['ID'])['Heartrate'].max()\n",
    "#print(hr_id)\n",
    "\n",
    "hr_dict=hr_id.to_dict()\n",
    "#print(hr_dict)\n",
    "\n",
    "highhr=0\n",
    "\n",
    "# finding the highest heartrate from all athletes\n",
    "for number in hr_id:\n",
    "    if number>highhr:\n",
    "        highhr=number\n",
    "#print(highhr)\n",
    "\n",
    "#Merging the triathlon_new and athletes table to get the details of the athletes\n",
    "athlete_tri=pd.merge(triathlon_new,Athletes,on='ID',how='inner')\n",
    "#print(athlete_tri)\n",
    "\n",
    "#printing the details of the athlete with the highest heartrate\n",
    "athlete_det=athlete_tri[(athlete_tri['Heartrate']==highhr)]\n",
    "#print(f\"Athlete ID: {athlete_det['ID']}\\n Athlete Name: {athlete_det['First Name']} {athlete_det['Last Name']}\\n Age: {athlete_det['age']}\\n Gender: {athlete_det['Gender']}\\n Weight: {athlete_det['Weight']}\\n Height: {athlete_det['Height']}\\n Sport: {athlete_det['sport']}\\n Heart Rate: {athlete_det['Heartrate']}\")\n",
    "print(newdata[['ID','First Name','Last Name','age','Gender','Weight','Height','Heartrate']])\n",
    "\n",
    "\n",
    "\n",
    "\n"
   ]
  },
  {
   "cell_type": "markdown",
   "id": "59bd2a33",
   "metadata": {},
   "source": [
    "### 56. Display a histogram to show distribution of athletes by sport."
   ]
  },
  {
   "cell_type": "code",
   "execution_count": 271,
   "id": "9ef8cbca",
   "metadata": {},
   "outputs": [
    {
     "data": {
      "image/png": "[encoded data removed]",
      "text/plain": [
       "<Figure size 720x576 with 1 Axes>"
      ]
     },
     "metadata": {
      "needs_background": "light"
     },
     "output_type": "display_data"
    }
   ],
   "source": [
    "plt.figure(figsize=(10,8))\n",
    "plt.hist(Athletes['sport'],bins=3,color='purple',edgecolor='black')\n",
    "plt.xlabel(\"Sport\",fontsize=16)\n",
    "plt.ylabel(\"Count of Athletes\",fontsize=16)\n",
    "plt.title(\"Distribution of Athletes By Sport\",fontsize=18)\n",
    "plt.show()"
   ]
  },
  {
   "cell_type": "markdown",
   "id": "35915623",
   "metadata": {},
   "source": [
    "### 57. Get the first letter of last name of students using for loops and RegEX"
   ]
  },
  {
   "cell_type": "code",
   "execution_count": 272,
   "id": "4c9127dd",
   "metadata": {},
   "outputs": [
    {
     "name": "stdout",
     "output_type": "stream",
     "text": [
      "First letter of last name in 'Olivia Martinez'  is  M\n",
      "First letter of last name in 'Ethan Reynolds'  is  R\n",
      "First letter of last name in 'Jackson Harper'  is  H\n",
      "First letter of last name in 'Liam Sanchez'  is  S\n"
     ]
    }
   ],
   "source": [
    "Names = [\"Olivia Martinez\", \"Ethan Reynolds\", \"Jackson Harper\", \"Liam Sanchez\"]\n",
    "\n",
    "for name in Names:\n",
    "     #Using regex to match the last name after the blank space\n",
    "     match = re.search(r'\\b(\\w+)$', name)\n",
    "    \n",
    "     if match:\n",
    "        # Extracting the first letter of the last name\n",
    "        first_letter = match.group(1)[0]\n",
    "        print(f\"First letter of last name in '{name}'  is  {first_letter}\")\n",
    "     else:\n",
    "        print(\"No last name found\")"
   ]
  },
  {
   "cell_type": "markdown",
   "id": "73b40170",
   "metadata": {},
   "source": [
    "### 58. What is the average % difference in heart rate between warm up and GET for all athletes?"
   ]
  },
  {
   "cell_type": "code",
   "execution_count": 390,
   "id": "147d6a47",
   "metadata": {},
   "outputs": [
    {
     "name": "stdout",
     "output_type": "stream",
     "text": [
      "                 Avg\n",
      "ID stage            \n",
      "1  Cool down  155.61\n",
      "   Get        162.52\n",
      "   Warm up     79.99\n",
      "   cool down   75.00\n",
      "2  Cool down  133.22\n",
      "...              ...\n",
      "17 cool down   80.65\n",
      "18 Cool down  139.60\n",
      "   Get        156.14\n",
      "   Warm up     71.02\n",
      "   cool down   84.27\n",
      "\n",
      "[72 rows x 1 columns]\n"
     ]
    },
    {
     "data": {
      "text/plain": [
       "'\\nx=[]\\nfor y in hr_avg[\\'ID\\']:\\n    if hr_avg[\\'stage\\']==\"Get\":\\n        hr_get=hr_avg[\\'Avg\\']\\n    \\n    if hr_avg[\\'stage\\']==\"Warm up\":\\n        hr_warmup=hr_avg[\\'Avg\\']\\n    \\n    hr_avg[\\'Average\\']=hr_get-hr_warmup\\n    \\nprint(hr_avg[\\'Average\\'])\\n        \\n\\n'"
      ]
     },
     "execution_count": 390,
     "metadata": {},
     "output_type": "execute_result"
    }
   ],
   "source": [
    "'''\n",
    "Take the difference between the two values. \n",
    "Find the average of two values. Divide the difference value by the average value. \n",
    "Multiply by 100 to get the %.\n",
    "\n",
    "Avg hr of warmup for each athlete. Avg hr of GET for each athlete. difference of these 2 & then %of it\n",
    "'''\n",
    "\n",
    "combined_hr=combined\n",
    "combined_hr['Heart_rate']=(60/(combined['RR']/1000)).round(2)\n",
    "#print(combined_hr)\n",
    "\n",
    "hr_avg=pd.DataFrame()\n",
    "hr_avg['Avg']=(combined_hr.groupby(['ID','stage'])['Heart_rate'].mean()).round(2)\n",
    "print(hr_avg)\n",
    "'''\n",
    "x=[]\n",
    "for y in hr_avg['ID']:\n",
    "    if hr_avg['stage']==\"Get\":\n",
    "        hr_get=hr_avg['Avg']\n",
    "    \n",
    "    if hr_avg['stage']==\"Warm up\":\n",
    "        hr_warmup=hr_avg['Avg']\n",
    "    \n",
    "    hr_avg['Average']=hr_get-hr_warmup\n",
    "    \n",
    "print(hr_avg['Average'])\n",
    "        \n",
    "\n",
    "'''\n"
   ]
  },
  {
   "cell_type": "markdown",
   "id": "e8de7e24",
   "metadata": {},
   "source": [
    "### 59. Who is the tallest athlete in the dataset. What is his sport and his Vo2 ml/kg?"
   ]
  },
  {
   "cell_type": "code",
   "execution_count": 338,
   "id": "c943d5c6",
   "metadata": {},
   "outputs": [
    {
     "ename": "KeyError",
     "evalue": "\"['sport'] not in index\"",
     "output_type": "error",
     "traceback": [
      "\u001b[1;31m---------------------------------------------------------------------------\u001b[0m",
      "\u001b[1;31mKeyError\u001b[0m                                  Traceback (most recent call last)",
      "\u001b[1;32m~\\AppData\\Local\\Temp/ipykernel_4088/375499796.py\u001b[0m in \u001b[0;36m<module>\u001b[1;34m\u001b[0m\n\u001b[0;32m      2\u001b[0m \u001b[1;31m#athletenew_df\u001b[0m\u001b[1;33m\u001b[0m\u001b[1;33m\u001b[0m\u001b[0m\n\u001b[0;32m      3\u001b[0m \u001b[1;33m\u001b[0m\u001b[0m\n\u001b[1;32m----> 4\u001b[1;33m \u001b[0mathlete_merge\u001b[0m\u001b[1;33m=\u001b[0m\u001b[0mpd\u001b[0m\u001b[1;33m.\u001b[0m\u001b[0mmerge\u001b[0m\u001b[1;33m(\u001b[0m\u001b[0mAthletes\u001b[0m\u001b[1;33m,\u001b[0m\u001b[0mathletenew_df\u001b[0m\u001b[1;33m,\u001b[0m \u001b[0mon\u001b[0m\u001b[1;33m=\u001b[0m\u001b[1;34m'ID'\u001b[0m\u001b[1;33m,\u001b[0m \u001b[0mhow\u001b[0m\u001b[1;33m=\u001b[0m\u001b[1;34m'inner'\u001b[0m\u001b[1;33m)\u001b[0m\u001b[1;33m[\u001b[0m\u001b[1;33m[\u001b[0m\u001b[1;34m'ID'\u001b[0m\u001b[1;33m,\u001b[0m\u001b[1;34m'First Name'\u001b[0m\u001b[1;33m,\u001b[0m\u001b[1;34m'Last Name'\u001b[0m\u001b[1;33m,\u001b[0m\u001b[1;34m'Height'\u001b[0m\u001b[1;33m,\u001b[0m\u001b[1;34m'sport'\u001b[0m\u001b[1;33m,\u001b[0m\u001b[1;34m'VO2mlperkg'\u001b[0m\u001b[1;33m]\u001b[0m\u001b[1;33m]\u001b[0m\u001b[1;33m\u001b[0m\u001b[1;33m\u001b[0m\u001b[0m\n\u001b[0m\u001b[0;32m      5\u001b[0m \u001b[1;31m#print(athlete_merge)\u001b[0m\u001b[1;33m\u001b[0m\u001b[1;33m\u001b[0m\u001b[0m\n\u001b[0;32m      6\u001b[0m \u001b[1;33m\u001b[0m\u001b[0m\n",
      "\u001b[1;32m~\\anaconda3\\lib\\site-packages\\pandas\\core\\frame.py\u001b[0m in \u001b[0;36m__getitem__\u001b[1;34m(self, key)\u001b[0m\n\u001b[0;32m   3462\u001b[0m             \u001b[1;32mif\u001b[0m \u001b[0mis_iterator\u001b[0m\u001b[1;33m(\u001b[0m\u001b[0mkey\u001b[0m\u001b[1;33m)\u001b[0m\u001b[1;33m:\u001b[0m\u001b[1;33m\u001b[0m\u001b[1;33m\u001b[0m\u001b[0m\n\u001b[0;32m   3463\u001b[0m                 \u001b[0mkey\u001b[0m \u001b[1;33m=\u001b[0m \u001b[0mlist\u001b[0m\u001b[1;33m(\u001b[0m\u001b[0mkey\u001b[0m\u001b[1;33m)\u001b[0m\u001b[1;33m\u001b[0m\u001b[1;33m\u001b[0m\u001b[0m\n\u001b[1;32m-> 3464\u001b[1;33m             \u001b[0mindexer\u001b[0m \u001b[1;33m=\u001b[0m \u001b[0mself\u001b[0m\u001b[1;33m.\u001b[0m\u001b[0mloc\u001b[0m\u001b[1;33m.\u001b[0m\u001b[0m_get_listlike_indexer\u001b[0m\u001b[1;33m(\u001b[0m\u001b[0mkey\u001b[0m\u001b[1;33m,\u001b[0m \u001b[0maxis\u001b[0m\u001b[1;33m=\u001b[0m\u001b[1;36m1\u001b[0m\u001b[1;33m)\u001b[0m\u001b[1;33m[\u001b[0m\u001b[1;36m1\u001b[0m\u001b[1;33m]\u001b[0m\u001b[1;33m\u001b[0m\u001b[1;33m\u001b[0m\u001b[0m\n\u001b[0m\u001b[0;32m   3465\u001b[0m \u001b[1;33m\u001b[0m\u001b[0m\n\u001b[0;32m   3466\u001b[0m         \u001b[1;31m# take() does not accept boolean indexers\u001b[0m\u001b[1;33m\u001b[0m\u001b[1;33m\u001b[0m\u001b[0m\n",
      "\u001b[1;32m~\\anaconda3\\lib\\site-packages\\pandas\\core\\indexing.py\u001b[0m in \u001b[0;36m_get_listlike_indexer\u001b[1;34m(self, key, axis)\u001b[0m\n\u001b[0;32m   1312\u001b[0m             \u001b[0mkeyarr\u001b[0m\u001b[1;33m,\u001b[0m \u001b[0mindexer\u001b[0m\u001b[1;33m,\u001b[0m \u001b[0mnew_indexer\u001b[0m \u001b[1;33m=\u001b[0m \u001b[0max\u001b[0m\u001b[1;33m.\u001b[0m\u001b[0m_reindex_non_unique\u001b[0m\u001b[1;33m(\u001b[0m\u001b[0mkeyarr\u001b[0m\u001b[1;33m)\u001b[0m\u001b[1;33m\u001b[0m\u001b[1;33m\u001b[0m\u001b[0m\n\u001b[0;32m   1313\u001b[0m \u001b[1;33m\u001b[0m\u001b[0m\n\u001b[1;32m-> 1314\u001b[1;33m         \u001b[0mself\u001b[0m\u001b[1;33m.\u001b[0m\u001b[0m_validate_read_indexer\u001b[0m\u001b[1;33m(\u001b[0m\u001b[0mkeyarr\u001b[0m\u001b[1;33m,\u001b[0m \u001b[0mindexer\u001b[0m\u001b[1;33m,\u001b[0m \u001b[0maxis\u001b[0m\u001b[1;33m)\u001b[0m\u001b[1;33m\u001b[0m\u001b[1;33m\u001b[0m\u001b[0m\n\u001b[0m\u001b[0;32m   1315\u001b[0m \u001b[1;33m\u001b[0m\u001b[0m\n\u001b[0;32m   1316\u001b[0m         if needs_i8_conversion(ax.dtype) or isinstance(\n",
      "\u001b[1;32m~\\anaconda3\\lib\\site-packages\\pandas\\core\\indexing.py\u001b[0m in \u001b[0;36m_validate_read_indexer\u001b[1;34m(self, key, indexer, axis)\u001b[0m\n\u001b[0;32m   1375\u001b[0m \u001b[1;33m\u001b[0m\u001b[0m\n\u001b[0;32m   1376\u001b[0m             \u001b[0mnot_found\u001b[0m \u001b[1;33m=\u001b[0m \u001b[0mlist\u001b[0m\u001b[1;33m(\u001b[0m\u001b[0mensure_index\u001b[0m\u001b[1;33m(\u001b[0m\u001b[0mkey\u001b[0m\u001b[1;33m)\u001b[0m\u001b[1;33m[\u001b[0m\u001b[0mmissing_mask\u001b[0m\u001b[1;33m.\u001b[0m\u001b[0mnonzero\u001b[0m\u001b[1;33m(\u001b[0m\u001b[1;33m)\u001b[0m\u001b[1;33m[\u001b[0m\u001b[1;36m0\u001b[0m\u001b[1;33m]\u001b[0m\u001b[1;33m]\u001b[0m\u001b[1;33m.\u001b[0m\u001b[0munique\u001b[0m\u001b[1;33m(\u001b[0m\u001b[1;33m)\u001b[0m\u001b[1;33m)\u001b[0m\u001b[1;33m\u001b[0m\u001b[1;33m\u001b[0m\u001b[0m\n\u001b[1;32m-> 1377\u001b[1;33m             \u001b[1;32mraise\u001b[0m \u001b[0mKeyError\u001b[0m\u001b[1;33m(\u001b[0m\u001b[1;34mf\"{not_found} not in index\"\u001b[0m\u001b[1;33m)\u001b[0m\u001b[1;33m\u001b[0m\u001b[1;33m\u001b[0m\u001b[0m\n\u001b[0m\u001b[0;32m   1378\u001b[0m \u001b[1;33m\u001b[0m\u001b[0m\n\u001b[0;32m   1379\u001b[0m \u001b[1;33m\u001b[0m\u001b[0m\n",
      "\u001b[1;31mKeyError\u001b[0m: \"['sport'] not in index\""
     ]
    }
   ],
   "source": [
    "#Athletes\n",
    "#athletenew_df\n",
    "\n",
    "athlete_merge=pd.merge(Athletes,athletenew_df, on='ID', how='inner')[['ID','First Name','Last Name','Height','sport','VO2mlperkg']]\n",
    "#print(athlete_merge)\n",
    "\n",
    "\n",
    "# Finding the index of the tallest athlete\n",
    "tallathlete_index = athlete_merge['Height'].idxmax()\n",
    "\n",
    "# Getting details of the tallest athlete\n",
    "tallest_athlete = athlete_merge.loc[tallathlete_index]\n",
    "\n",
    "#print(f\"Athlete ID: {tallest_athlete['ID']} \\nName: {tallest_athlete['First Name']} {tallest_athlete['Last Name']}\\nHeight: {tallest_athlete['Height']}\\nVO2ml/kg:{tallest_athlete['VO2mlperkg']}\\n sport: {tallest_athlete['sport']}\" )\n",
    "\n",
    "print(f\"Athlete ID: {tallest_athlete['ID']} \\nName: {tallest_athlete['First Name']} {tallest_athlete['Last Name']}\\nHeight: {tallest_athlete['Height']}\\nVO2ml/kg:{tallest_athlete['VO2mlperkg']}\" )"
   ]
  },
  {
   "cell_type": "markdown",
   "id": "9857213f",
   "metadata": {},
   "source": [
    "### 60. Get the last letter of athletes last names using RegEX ."
   ]
  },
  {
   "cell_type": "code",
   "execution_count": 273,
   "id": "c0300836",
   "metadata": {},
   "outputs": [
    {
     "name": "stdout",
     "output_type": "stream",
     "text": [
      "Last Names are : \n",
      " 0      Martinez\n",
      "1      Reynolds\n",
      "2        Harper\n",
      "3       Sanchez\n",
      "4      Thompson\n",
      "5     Rodriguez\n",
      "6       Simmons\n",
      "7       Bennett\n",
      "8         Price\n",
      "9        Jordan\n",
      "10      Griffin\n",
      "11        Dixon\n",
      "12    Carpenter\n",
      "13     Mitchell\n",
      "14      Wallace\n",
      "15     Anderson\n",
      "16       Foster\n",
      "17        Myers\n",
      "Name: Last Name, dtype: object\n",
      " Last Letters in Last Names are ['z', 's', 'r', 'z', 'n', 'z', 's', 't', 'e', 'n', 'n', 'n', 'r', 'l', 'e', 'n', 'r', 's']\n"
     ]
    }
   ],
   "source": [
    "last_letter = [] # Initializing an empty list to store the last letters of the last names\n",
    "\n",
    "# Using for loop to iterate over the list of  names\n",
    "for last_name in Athletes['Last Name']:\n",
    "    # Extracting the last letter using regex\n",
    "    match = re.search(r'(\\w)\\b$', last_name)\n",
    "    if match:\n",
    "        last_letter.append(match.group(1))\n",
    "print(f\"Last Names are : \\n {Athletes['Last Name']}\")\n",
    "print(f\" Last Letters in Last Names are {last_letter}\")\n"
   ]
  },
  {
   "cell_type": "markdown",
   "id": "415b88c6",
   "metadata": {},
   "source": [
    "### 61. Reverse an arrays order in Python. You can use any array with any values you like."
   ]
  },
  {
   "cell_type": "code",
   "execution_count": 80,
   "id": "377475f8",
   "metadata": {},
   "outputs": [
    {
     "name": "stdout",
     "output_type": "stream",
     "text": [
      "[70, 60, 50, 40, 30, 20, 10]\n"
     ]
    }
   ],
   "source": [
    "numbers=[10,20,30,40,50,60,70]\n",
    "print(numbers[::-1]) #printing in reverse order using negative index        "
   ]
  },
  {
   "cell_type": "markdown",
   "id": "57d942a8",
   "metadata": {},
   "source": [
    "### 62. What is the root mean of successive differences for 30 consecutive minutes for each athlete."
   ]
  },
  {
   "cell_type": "code",
   "execution_count": 352,
   "id": "ddd38f0e",
   "metadata": {},
   "outputs": [
    {
     "data": {
      "text/html": [
       "<div>\n",
       "<style scoped>\n",
       "    .dataframe tbody tr th:only-of-type {\n",
       "        vertical-align: middle;\n",
       "    }\n",
       "\n",
       "    .dataframe tbody tr th {\n",
       "        vertical-align: top;\n",
       "    }\n",
       "\n",
       "    .dataframe thead th {\n",
       "        text-align: right;\n",
       "    }\n",
       "</style>\n",
       "<table border=\"1\" class=\"dataframe\">\n",
       "  <thead>\n",
       "    <tr style=\"text-align: right;\">\n",
       "      <th></th>\n",
       "      <th>ID</th>\n",
       "      <th>time</th>\n",
       "      <th>RR</th>\n",
       "      <th>VO2</th>\n",
       "      <th>power</th>\n",
       "      <th>stage</th>\n",
       "    </tr>\n",
       "  </thead>\n",
       "  <tbody>\n",
       "    <tr>\n",
       "      <th>0</th>\n",
       "      <td>11</td>\n",
       "      <td>-168.600</td>\n",
       "      <td>727.0</td>\n",
       "      <td>0.287147</td>\n",
       "      <td>0</td>\n",
       "      <td>Warm up</td>\n",
       "    </tr>\n",
       "    <tr>\n",
       "      <th>1</th>\n",
       "      <td>11</td>\n",
       "      <td>-167.872</td>\n",
       "      <td>728.0</td>\n",
       "      <td>0.287147</td>\n",
       "      <td>0</td>\n",
       "      <td>Warm up</td>\n",
       "    </tr>\n",
       "    <tr>\n",
       "      <th>2</th>\n",
       "      <td>11</td>\n",
       "      <td>-167.148</td>\n",
       "      <td>724.0</td>\n",
       "      <td>0.287147</td>\n",
       "      <td>0</td>\n",
       "      <td>Warm up</td>\n",
       "    </tr>\n",
       "    <tr>\n",
       "      <th>3</th>\n",
       "      <td>11</td>\n",
       "      <td>-166.484</td>\n",
       "      <td>664.0</td>\n",
       "      <td>0.320580</td>\n",
       "      <td>0</td>\n",
       "      <td>Warm up</td>\n",
       "    </tr>\n",
       "    <tr>\n",
       "      <th>4</th>\n",
       "      <td>11</td>\n",
       "      <td>-165.836</td>\n",
       "      <td>648.0</td>\n",
       "      <td>0.320580</td>\n",
       "      <td>0</td>\n",
       "      <td>Warm up</td>\n",
       "    </tr>\n",
       "    <tr>\n",
       "      <th>...</th>\n",
       "      <td>...</td>\n",
       "      <td>...</td>\n",
       "      <td>...</td>\n",
       "      <td>...</td>\n",
       "      <td>...</td>\n",
       "      <td>...</td>\n",
       "    </tr>\n",
       "    <tr>\n",
       "      <th>27598</th>\n",
       "      <td>10</td>\n",
       "      <td>942.700</td>\n",
       "      <td>428.0</td>\n",
       "      <td>0.786363</td>\n",
       "      <td>0</td>\n",
       "      <td>Cool down</td>\n",
       "    </tr>\n",
       "    <tr>\n",
       "      <th>27599</th>\n",
       "      <td>10</td>\n",
       "      <td>943.124</td>\n",
       "      <td>424.0</td>\n",
       "      <td>0.786363</td>\n",
       "      <td>0</td>\n",
       "      <td>Cool down</td>\n",
       "    </tr>\n",
       "    <tr>\n",
       "      <th>27600</th>\n",
       "      <td>10</td>\n",
       "      <td>943.552</td>\n",
       "      <td>428.0</td>\n",
       "      <td>0.786363</td>\n",
       "      <td>0</td>\n",
       "      <td>Cool down</td>\n",
       "    </tr>\n",
       "    <tr>\n",
       "      <th>27601</th>\n",
       "      <td>10</td>\n",
       "      <td>943.976</td>\n",
       "      <td>424.0</td>\n",
       "      <td>0.786363</td>\n",
       "      <td>0</td>\n",
       "      <td>Cool down</td>\n",
       "    </tr>\n",
       "    <tr>\n",
       "      <th>27602</th>\n",
       "      <td>10</td>\n",
       "      <td>944.404</td>\n",
       "      <td>428.0</td>\n",
       "      <td>0.786363</td>\n",
       "      <td>0</td>\n",
       "      <td>Cool down</td>\n",
       "    </tr>\n",
       "  </tbody>\n",
       "</table>\n",
       "<p>52062 rows × 6 columns</p>\n",
       "</div>"
      ],
      "text/plain": [
       "       ID     time     RR       VO2  power      stage\n",
       "0      11 -168.600  727.0  0.287147      0    Warm up\n",
       "1      11 -167.872  728.0  0.287147      0    Warm up\n",
       "2      11 -167.148  724.0  0.287147      0    Warm up\n",
       "3      11 -166.484  664.0  0.320580      0    Warm up\n",
       "4      11 -165.836  648.0  0.320580      0    Warm up\n",
       "...    ..      ...    ...       ...    ...        ...\n",
       "27598  10  942.700  428.0  0.786363      0  Cool down\n",
       "27599  10  943.124  424.0  0.786363      0  Cool down\n",
       "27600  10  943.552  428.0  0.786363      0  Cool down\n",
       "27601  10  943.976  424.0  0.786363      0  Cool down\n",
       "27602  10  944.404  428.0  0.786363      0  Cool down\n",
       "\n",
       "[52062 rows x 6 columns]"
      ]
     },
     "execution_count": 352,
     "metadata": {},
     "output_type": "execute_result"
    }
   ],
   "source": []
  },
  {
   "cell_type": "markdown",
   "id": "690fcc17",
   "metadata": {},
   "source": [
    "### 63. On average how many minutes did each athlete in the sport of fencing spend in Zone 5?"
   ]
  },
  {
   "cell_type": "code",
   "execution_count": 244,
   "id": "ee17573b",
   "metadata": {},
   "outputs": [
    {
     "ename": "ValueError",
     "evalue": "The truth value of a Series is ambiguous. Use a.empty, a.bool(), a.item(), a.any() or a.all().",
     "output_type": "error",
     "traceback": [
      "\u001b[1;31m---------------------------------------------------------------------------\u001b[0m",
      "\u001b[1;31mValueError\u001b[0m                                Traceback (most recent call last)",
      "\u001b[1;32m~\\AppData\\Local\\Temp/ipykernel_4088/1964799976.py\u001b[0m in \u001b[0;36m<module>\u001b[1;34m\u001b[0m\n\u001b[0;32m      7\u001b[0m \u001b[1;33m\u001b[0m\u001b[0m\n\u001b[0;32m      8\u001b[0m \u001b[1;33m\u001b[0m\u001b[0m\n\u001b[1;32m----> 9\u001b[1;33m \u001b[1;32mif\u001b[0m \u001b[0mfencing_new\u001b[0m\u001b[1;33m[\u001b[0m\u001b[1;34m'Heartrate'\u001b[0m\u001b[1;33m]\u001b[0m\u001b[1;33m>\u001b[0m\u001b[1;36m155\u001b[0m\u001b[1;33m:\u001b[0m\u001b[1;33m\u001b[0m\u001b[1;33m\u001b[0m\u001b[0m\n\u001b[0m\u001b[0;32m     10\u001b[0m     \u001b[0mzone5\u001b[0m\u001b[1;33m=\u001b[0m\u001b[0mfencing_new\u001b[0m\u001b[1;33m[\u001b[0m\u001b[1;34m'time'\u001b[0m\u001b[1;33m]\u001b[0m\u001b[1;33m\u001b[0m\u001b[1;33m\u001b[0m\u001b[0m\n\u001b[0;32m     11\u001b[0m \u001b[1;33m\u001b[0m\u001b[0m\n",
      "\u001b[1;32m~\\anaconda3\\lib\\site-packages\\pandas\\core\\generic.py\u001b[0m in \u001b[0;36m__nonzero__\u001b[1;34m(self)\u001b[0m\n\u001b[0;32m   1535\u001b[0m     \u001b[1;33m@\u001b[0m\u001b[0mfinal\u001b[0m\u001b[1;33m\u001b[0m\u001b[1;33m\u001b[0m\u001b[0m\n\u001b[0;32m   1536\u001b[0m     \u001b[1;32mdef\u001b[0m \u001b[0m__nonzero__\u001b[0m\u001b[1;33m(\u001b[0m\u001b[0mself\u001b[0m\u001b[1;33m)\u001b[0m\u001b[1;33m:\u001b[0m\u001b[1;33m\u001b[0m\u001b[1;33m\u001b[0m\u001b[0m\n\u001b[1;32m-> 1537\u001b[1;33m         raise ValueError(\n\u001b[0m\u001b[0;32m   1538\u001b[0m             \u001b[1;34mf\"The truth value of a {type(self).__name__} is ambiguous. \"\u001b[0m\u001b[1;33m\u001b[0m\u001b[1;33m\u001b[0m\u001b[0m\n\u001b[0;32m   1539\u001b[0m             \u001b[1;34m\"Use a.empty, a.bool(), a.item(), a.any() or a.all().\"\u001b[0m\u001b[1;33m\u001b[0m\u001b[1;33m\u001b[0m\u001b[0m\n",
      "\u001b[1;31mValueError\u001b[0m: The truth value of a Series is ambiguous. Use a.empty, a.bool(), a.item(), a.any() or a.all()."
     ]
    }
   ],
   "source": [
    "#60/(RR/1000) will give you Heart rate per minute\n",
    "heartrate=(60/(Fencing['RR']/1000)).round(2)\n",
    "fencing_new=Fencing\n",
    "\n",
    "fencing_new['Heartrate']=heartrate\n",
    "fencing_new\n",
    "\n",
    "\n",
    "if fencing_new['Heartrate']>155:\n",
    "    zone5=fencing_new['time']\n",
    "\n",
    "        Athletes['Max_HR']=220-Athletes['age']\n",
    "    #zone5=fencing_new[['ID','time']]\n",
    "\n",
    "zone5"
   ]
  },
  {
   "cell_type": "code",
   "execution_count": null,
   "id": "80f90ca6",
   "metadata": {},
   "outputs": [],
   "source": []
  },
  {
   "cell_type": "markdown",
   "id": "29bac735",
   "metadata": {},
   "source": [
    "### 64. Count athletes based on Gender using count plot"
   ]
  },
  {
   "cell_type": "code",
   "execution_count": 85,
   "id": "a8929699",
   "metadata": {},
   "outputs": [
    {
     "data": {
      "image/png": "[encoded data removed]",
      "text/plain": [
       "<Figure size 720x576 with 1 Axes>"
      ]
     },
     "metadata": {
      "needs_background": "light"
     },
     "output_type": "display_data"
    }
   ],
   "source": [
    "plt.figure(figsize=(10,8))\n",
    "sns.countplot(x=\"Gender\",data=Athletes)\n",
    "plt.title(\"Count of Athletes Based On Gender\",fontsize=20)\n",
    "plt.xlabel(\"Gender\",fontsize=15)\n",
    "plt.ylabel(\"Athlete Count\",fontsize=15)\n",
    "plt.show()"
   ]
  },
  {
   "cell_type": "code",
   "execution_count": null,
   "id": "3bbeab13",
   "metadata": {},
   "outputs": [],
   "source": []
  },
  {
   "cell_type": "code",
   "execution_count": null,
   "id": "0cfa5dc0",
   "metadata": {},
   "outputs": [],
   "source": []
  }
 ],
 "metadata": {
  "kernelspec": {
   "display_name": "Python 3 (ipykernel)",
   "language": "python",
   "name": "python3"
  },
  "language_info": {
   "codemirror_mode": {
    "name": "ipython",
    "version": 3
   },
   "file_extension": ".py",
   "mimetype": "text/x-python",
   "name": "python",
   "nbconvert_exporter": "python",
   "pygments_lexer": "ipython3",
   "version": "3.9.7"
  }
 },
 "nbformat": 4,
 "nbformat_minor": 5
}
