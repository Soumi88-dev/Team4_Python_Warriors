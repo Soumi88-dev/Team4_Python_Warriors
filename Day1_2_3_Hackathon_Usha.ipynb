{
 "cells": [
  {
   "cell_type": "markdown",
   "id": "e9448825-a617-4065-a364-7c68eda39697",
   "metadata": {},
   "source": [
    "Importing needed Packages"
   ]
  },
  {
   "cell_type": "code",
   "execution_count": 2,
   "id": "bde13c05-2126-4714-b032-9259a8192302",
   "metadata": {},
   "outputs": [],
   "source": [
    "import pandas as pd\n",
    "import numpy as np\n",
    "import matplotlib"
   ]
  },
  {
   "cell_type": "markdown",
   "id": "b90a73a7-ae05-4539-9d2b-ee391da42cd3",
   "metadata": {},
   "source": [
    "Creating dataframes for each sheet by reading the excel file -'V02Max_Combined'"
   ]
  },
  {
   "cell_type": "code",
   "execution_count": 15,
   "id": "b43d35ed-6bb5-4123-9558-286c445e1c48",
   "metadata": {},
   "outputs": [
    {
     "name": "stderr",
     "output_type": "stream",
     "text": [
      "C:\\Users\\Sailu\\anaconda3\\Lib\\site-packages\\openpyxl\\worksheet\\_read_only.py:81: UserWarning: Unknown extension is not supported and will be removed\n",
      "  for idx, row in parser.parse():\n",
      "C:\\Users\\Sailu\\anaconda3\\Lib\\site-packages\\openpyxl\\worksheet\\_read_only.py:81: UserWarning: Unknown extension is not supported and will be removed\n",
      "  for idx, row in parser.parse():\n",
      "C:\\Users\\Sailu\\anaconda3\\Lib\\site-packages\\openpyxl\\worksheet\\_read_only.py:81: UserWarning: Unknown extension is not supported and will be removed\n",
      "  for idx, row in parser.parse():\n"
     ]
    }
   ],
   "source": [
    "file_path='Hackathon_Aug24/V02Max_Combined.xlsx'\n",
    "Kayaking=pd.read_excel(file_path,sheet_name='Kayaking')\n",
    "Athletes=pd.read_excel(file_path,sheet_name='Athletes')\n",
    "Traithlon=pd.read_excel(file_path,sheet_name='Triathlon')\n",
    "Fencing=pd.read_excel(file_path,sheet_name='Fencing')\n"
   ]
  },
  {
   "cell_type": "code",
   "execution_count": 18,
   "id": "ea00139c-cbd5-4344-b50a-ba3af6bb1b78",
   "metadata": {},
   "outputs": [
    {
     "name": "stdout",
     "output_type": "stream",
     "text": [
      "       ID      time     RR       VO2  power\n",
      "0      11  -168.600  727.0  0.287147      0\n",
      "1      11  -167.872  728.0  0.287147      0\n",
      "2      11  -167.148  724.0  0.287147      0\n",
      "3      11  -166.484  664.0  0.320580      0\n",
      "4      11  -165.836  648.0  0.320580      0\n",
      "...    ..       ...    ...       ...    ...\n",
      "19473  16  1118.404  548.0  0.671957      0\n",
      "19474  16  1118.944  540.0  0.671957      0\n",
      "19475  16  1119.484  540.0  0.671957      0\n",
      "19476  16  1120.016  532.0  0.671957      0\n",
      "19477  16  1120.544  528.0  0.671957      0\n",
      "\n",
      "[19478 rows x 5 columns]\n"
     ]
    }
   ],
   "source": [
    "print(Kayaking)"
   ]
  },
  {
   "cell_type": "markdown",
   "id": "bbd13258-c37a-405a-947a-0d2eba0e950c",
   "metadata": {},
   "source": [
    "Creating a column called 'Sport' into the dataframes"
   ]
  },
  {
   "cell_type": "code",
   "execution_count": 27,
   "id": "53972702-f8ac-4c97-bc81-21775171cc3e",
   "metadata": {},
   "outputs": [],
   "source": [
    "Kayaking['sport']='Kayaking'\n",
    "Fencing['sport']='Fencing'\n",
    "Traithlon['sport']='Triathlon'"
   ]
  },
  {
   "cell_type": "raw",
   "id": "e701621a-60bc-4ddf-ae19-2520a2d8bd17",
   "metadata": {},
   "source": [
    "print(sport)"
   ]
  },
  {
   "cell_type": "markdown",
   "id": "36df8b30-2313-4ad5-b6bd-945705b9a4a4",
   "metadata": {},
   "source": [
    "Concatenating all the dataframes (all the sheets into one)"
   ]
  },
  {
   "cell_type": "code",
   "execution_count": 37,
   "id": "f71a5e35-6c97-481f-b561-44d3e406d1aa",
   "metadata": {},
   "outputs": [],
   "source": [
    "All_sports=pd.concat([Kayaking,Fencing,Traithlon],ignore_index=True)"
   ]
  },
  {
   "cell_type": "code",
   "execution_count": 39,
   "id": "ec08ebf2-d257-4824-99cc-cf4dfdb39a3b",
   "metadata": {},
   "outputs": [
    {
     "data": {
      "text/html": [
       "<div>\n",
       "<style scoped>\n",
       "    .dataframe tbody tr th:only-of-type {\n",
       "        vertical-align: middle;\n",
       "    }\n",
       "\n",
       "    .dataframe tbody tr th {\n",
       "        vertical-align: top;\n",
       "    }\n",
       "\n",
       "    .dataframe thead th {\n",
       "        text-align: right;\n",
       "    }\n",
       "</style>\n",
       "<table border=\"1\" class=\"dataframe\">\n",
       "  <thead>\n",
       "    <tr style=\"text-align: right;\">\n",
       "      <th></th>\n",
       "      <th>ID</th>\n",
       "      <th>time</th>\n",
       "      <th>RR</th>\n",
       "      <th>VO2</th>\n",
       "      <th>power</th>\n",
       "      <th>sport</th>\n",
       "    </tr>\n",
       "  </thead>\n",
       "  <tbody>\n",
       "    <tr>\n",
       "      <th>0</th>\n",
       "      <td>11</td>\n",
       "      <td>-168.600</td>\n",
       "      <td>727.0</td>\n",
       "      <td>0.287147</td>\n",
       "      <td>0</td>\n",
       "      <td>Kayaking</td>\n",
       "    </tr>\n",
       "    <tr>\n",
       "      <th>1</th>\n",
       "      <td>11</td>\n",
       "      <td>-167.872</td>\n",
       "      <td>728.0</td>\n",
       "      <td>0.287147</td>\n",
       "      <td>0</td>\n",
       "      <td>Kayaking</td>\n",
       "    </tr>\n",
       "    <tr>\n",
       "      <th>2</th>\n",
       "      <td>11</td>\n",
       "      <td>-167.148</td>\n",
       "      <td>724.0</td>\n",
       "      <td>0.287147</td>\n",
       "      <td>0</td>\n",
       "      <td>Kayaking</td>\n",
       "    </tr>\n",
       "    <tr>\n",
       "      <th>3</th>\n",
       "      <td>11</td>\n",
       "      <td>-166.484</td>\n",
       "      <td>664.0</td>\n",
       "      <td>0.320580</td>\n",
       "      <td>0</td>\n",
       "      <td>Kayaking</td>\n",
       "    </tr>\n",
       "    <tr>\n",
       "      <th>4</th>\n",
       "      <td>11</td>\n",
       "      <td>-165.836</td>\n",
       "      <td>648.0</td>\n",
       "      <td>0.320580</td>\n",
       "      <td>0</td>\n",
       "      <td>Kayaking</td>\n",
       "    </tr>\n",
       "  </tbody>\n",
       "</table>\n",
       "</div>"
      ],
      "text/plain": [
       "   ID     time     RR       VO2  power     sport\n",
       "0  11 -168.600  727.0  0.287147      0  Kayaking\n",
       "1  11 -167.872  728.0  0.287147      0  Kayaking\n",
       "2  11 -167.148  724.0  0.287147      0  Kayaking\n",
       "3  11 -166.484  664.0  0.320580      0  Kayaking\n",
       "4  11 -165.836  648.0  0.320580      0  Kayaking"
      ]
     },
     "execution_count": 39,
     "metadata": {},
     "output_type": "execute_result"
    }
   ],
   "source": [
    "All_sports.head()"
   ]
  },
  {
   "cell_type": "code",
   "execution_count": 41,
   "id": "611adee4-eed1-4f10-b73b-e3355043cf2a",
   "metadata": {},
   "outputs": [
    {
     "data": {
      "text/html": [
       "<div>\n",
       "<style scoped>\n",
       "    .dataframe tbody tr th:only-of-type {\n",
       "        vertical-align: middle;\n",
       "    }\n",
       "\n",
       "    .dataframe tbody tr th {\n",
       "        vertical-align: top;\n",
       "    }\n",
       "\n",
       "    .dataframe thead th {\n",
       "        text-align: right;\n",
       "    }\n",
       "</style>\n",
       "<table border=\"1\" class=\"dataframe\">\n",
       "  <thead>\n",
       "    <tr style=\"text-align: right;\">\n",
       "      <th></th>\n",
       "      <th>ID</th>\n",
       "      <th>time</th>\n",
       "      <th>RR</th>\n",
       "      <th>VO2</th>\n",
       "      <th>power</th>\n",
       "      <th>sport</th>\n",
       "    </tr>\n",
       "  </thead>\n",
       "  <tbody>\n",
       "    <tr>\n",
       "      <th>52057</th>\n",
       "      <td>18</td>\n",
       "      <td>947.288</td>\n",
       "      <td>536.0</td>\n",
       "      <td>0.507071</td>\n",
       "      <td>0</td>\n",
       "      <td>Triathlon</td>\n",
       "    </tr>\n",
       "    <tr>\n",
       "      <th>52058</th>\n",
       "      <td>18</td>\n",
       "      <td>947.816</td>\n",
       "      <td>528.0</td>\n",
       "      <td>0.507071</td>\n",
       "      <td>0</td>\n",
       "      <td>Triathlon</td>\n",
       "    </tr>\n",
       "    <tr>\n",
       "      <th>52059</th>\n",
       "      <td>18</td>\n",
       "      <td>948.344</td>\n",
       "      <td>528.0</td>\n",
       "      <td>0.507071</td>\n",
       "      <td>0</td>\n",
       "      <td>Triathlon</td>\n",
       "    </tr>\n",
       "    <tr>\n",
       "      <th>52060</th>\n",
       "      <td>18</td>\n",
       "      <td>948.884</td>\n",
       "      <td>540.0</td>\n",
       "      <td>0.507071</td>\n",
       "      <td>0</td>\n",
       "      <td>Triathlon</td>\n",
       "    </tr>\n",
       "    <tr>\n",
       "      <th>52061</th>\n",
       "      <td>18</td>\n",
       "      <td>949.424</td>\n",
       "      <td>540.0</td>\n",
       "      <td>0.507071</td>\n",
       "      <td>0</td>\n",
       "      <td>Triathlon</td>\n",
       "    </tr>\n",
       "  </tbody>\n",
       "</table>\n",
       "</div>"
      ],
      "text/plain": [
       "       ID     time     RR       VO2  power      sport\n",
       "52057  18  947.288  536.0  0.507071      0  Triathlon\n",
       "52058  18  947.816  528.0  0.507071      0  Triathlon\n",
       "52059  18  948.344  528.0  0.507071      0  Triathlon\n",
       "52060  18  948.884  540.0  0.507071      0  Triathlon\n",
       "52061  18  949.424  540.0  0.507071      0  Triathlon"
      ]
     },
     "execution_count": 41,
     "metadata": {},
     "output_type": "execute_result"
    }
   ],
   "source": [
    "All_sports.tail()"
   ]
  },
  {
   "cell_type": "code",
   "execution_count": 53,
   "id": "1d5869b1-5188-4530-b6ac-893c084e2122",
   "metadata": {},
   "outputs": [],
   "source": [
    "All_sports.set_index(['sport'],inplace=True)"
   ]
  },
  {
   "cell_type": "code",
   "execution_count": 126,
   "id": "2691a742-8788-4cb1-9dae-667524097397",
   "metadata": {},
   "outputs": [
    {
     "data": {
      "text/html": [
       "<div>\n",
       "<style scoped>\n",
       "    .dataframe tbody tr th:only-of-type {\n",
       "        vertical-align: middle;\n",
       "    }\n",
       "\n",
       "    .dataframe tbody tr th {\n",
       "        vertical-align: top;\n",
       "    }\n",
       "\n",
       "    .dataframe thead th {\n",
       "        text-align: right;\n",
       "    }\n",
       "</style>\n",
       "<table border=\"1\" class=\"dataframe\">\n",
       "  <thead>\n",
       "    <tr style=\"text-align: right;\">\n",
       "      <th></th>\n",
       "      <th>ID</th>\n",
       "      <th>time</th>\n",
       "      <th>RR</th>\n",
       "      <th>VO2</th>\n",
       "      <th>power</th>\n",
       "    </tr>\n",
       "    <tr>\n",
       "      <th>sport</th>\n",
       "      <th></th>\n",
       "      <th></th>\n",
       "      <th></th>\n",
       "      <th></th>\n",
       "      <th></th>\n",
       "    </tr>\n",
       "  </thead>\n",
       "  <tbody>\n",
       "    <tr>\n",
       "      <th>Kayaking</th>\n",
       "      <td>11</td>\n",
       "      <td>-168.600</td>\n",
       "      <td>727.0</td>\n",
       "      <td>0.287147</td>\n",
       "      <td>0</td>\n",
       "    </tr>\n",
       "    <tr>\n",
       "      <th>Kayaking</th>\n",
       "      <td>11</td>\n",
       "      <td>-167.872</td>\n",
       "      <td>728.0</td>\n",
       "      <td>0.287147</td>\n",
       "      <td>0</td>\n",
       "    </tr>\n",
       "    <tr>\n",
       "      <th>Kayaking</th>\n",
       "      <td>11</td>\n",
       "      <td>-167.148</td>\n",
       "      <td>724.0</td>\n",
       "      <td>0.287147</td>\n",
       "      <td>0</td>\n",
       "    </tr>\n",
       "    <tr>\n",
       "      <th>Kayaking</th>\n",
       "      <td>11</td>\n",
       "      <td>-166.484</td>\n",
       "      <td>664.0</td>\n",
       "      <td>0.320580</td>\n",
       "      <td>0</td>\n",
       "    </tr>\n",
       "    <tr>\n",
       "      <th>Kayaking</th>\n",
       "      <td>11</td>\n",
       "      <td>-165.836</td>\n",
       "      <td>648.0</td>\n",
       "      <td>0.320580</td>\n",
       "      <td>0</td>\n",
       "    </tr>\n",
       "  </tbody>\n",
       "</table>\n",
       "</div>"
      ],
      "text/plain": [
       "          ID     time     RR       VO2  power\n",
       "sport                                        \n",
       "Kayaking  11 -168.600  727.0  0.287147      0\n",
       "Kayaking  11 -167.872  728.0  0.287147      0\n",
       "Kayaking  11 -167.148  724.0  0.287147      0\n",
       "Kayaking  11 -166.484  664.0  0.320580      0\n",
       "Kayaking  11 -165.836  648.0  0.320580      0"
      ]
     },
     "execution_count": 126,
     "metadata": {},
     "output_type": "execute_result"
    }
   ],
   "source": [
    "All_sports.head()"
   ]
  },
  {
   "cell_type": "markdown",
   "id": "bdd2502b-a5a8-4f79-91cb-ce63f0693523",
   "metadata": {},
   "source": [
    "Q17 ) What is the maximum ventilatory threshold for triathletes."
   ]
  },
  {
   "cell_type": "code",
   "execution_count": 113,
   "id": "6ce82ae5-91d3-476e-b63b-581b469f0a0d",
   "metadata": {},
   "outputs": [
    {
     "data": {
      "text/html": [
       "<div>\n",
       "<style scoped>\n",
       "    .dataframe tbody tr th:only-of-type {\n",
       "        vertical-align: middle;\n",
       "    }\n",
       "\n",
       "    .dataframe tbody tr th {\n",
       "        vertical-align: top;\n",
       "    }\n",
       "\n",
       "    .dataframe thead th {\n",
       "        text-align: right;\n",
       "    }\n",
       "</style>\n",
       "<table border=\"1\" class=\"dataframe\">\n",
       "  <thead>\n",
       "    <tr style=\"text-align: right;\">\n",
       "      <th></th>\n",
       "      <th>ID</th>\n",
       "      <th>age</th>\n",
       "      <th>Weight</th>\n",
       "      <th>Height</th>\n",
       "      <th>P_vt1</th>\n",
       "      <th>P_vt2</th>\n",
       "      <th>sport</th>\n",
       "      <th>Gender</th>\n",
       "      <th>Ethnicity</th>\n",
       "      <th>First Name</th>\n",
       "      <th>Last Name</th>\n",
       "    </tr>\n",
       "  </thead>\n",
       "  <tbody>\n",
       "    <tr>\n",
       "      <th>16</th>\n",
       "      <td>17</td>\n",
       "      <td>12</td>\n",
       "      <td>39.9</td>\n",
       "      <td>156</td>\n",
       "      <td>101</td>\n",
       "      <td>145</td>\n",
       "      <td>triathlon</td>\n",
       "      <td>Male</td>\n",
       "      <td>Latino</td>\n",
       "      <td>Lucas</td>\n",
       "      <td>Foster</td>\n",
       "    </tr>\n",
       "    <tr>\n",
       "      <th>17</th>\n",
       "      <td>18</td>\n",
       "      <td>12</td>\n",
       "      <td>39.7</td>\n",
       "      <td>158</td>\n",
       "      <td>65</td>\n",
       "      <td>168</td>\n",
       "      <td>triathlon</td>\n",
       "      <td>Male</td>\n",
       "      <td>Latino</td>\n",
       "      <td>Owen</td>\n",
       "      <td>Myers</td>\n",
       "    </tr>\n",
       "  </tbody>\n",
       "</table>\n",
       "</div>"
      ],
      "text/plain": [
       "    ID  age  Weight  Height  P_vt1  P_vt2      sport Gender Ethnicity  \\\n",
       "16  17   12    39.9     156    101    145  triathlon   Male    Latino   \n",
       "17  18   12    39.7     158     65    168  triathlon   Male    Latino   \n",
       "\n",
       "   First Name Last Name  \n",
       "16      Lucas    Foster  \n",
       "17       Owen     Myers  "
      ]
     },
     "execution_count": 113,
     "metadata": {},
     "output_type": "execute_result"
    }
   ],
   "source": [
    "#Athletes.describe()\n",
    "Triathletes=Athletes[(Athletes['sport']=='triathlon')]\n",
    "Triathletes\n"
   ]
  },
  {
   "cell_type": "code",
   "execution_count": 188,
   "id": "ced95006-f725-495d-aa08-60f6975e3f97",
   "metadata": {},
   "outputs": [
    {
     "data": {
      "text/plain": [
       "P_vt1    101.0\n",
       "P_vt2    168.0\n",
       "Name: max, dtype: float64"
      ]
     },
     "execution_count": 188,
     "metadata": {},
     "output_type": "execute_result"
    }
   ],
   "source": [
    "Max_Ventilatory_threshold=Triathletes[['P_vt1','P_vt2']].describe()\n",
    "Max_Ventilatory_threshold.loc['max']"
   ]
  },
  {
   "cell_type": "markdown",
   "id": "a3713816-c20d-424b-8f48-e3c4e591aa75",
   "metadata": {},
   "source": [
    "Q18)Display the number of athletes in every sport against the name of the sport."
   ]
  },
  {
   "cell_type": "code",
   "execution_count": 147,
   "id": "d24ab57d-7253-4a0c-8926-70369041fe9d",
   "metadata": {},
   "outputs": [
    {
     "data": {
      "text/plain": [
       "sport\n",
       "fencing      10\n",
       "kayak         6\n",
       "triathlon     2\n",
       "Name: count, dtype: int64"
      ]
     },
     "execution_count": 147,
     "metadata": {},
     "output_type": "execute_result"
    }
   ],
   "source": [
    "Athletes['sport'].value_counts()"
   ]
  },
  {
   "cell_type": "markdown",
   "id": "eb7d321d-989e-4bdf-b8ed-a7802f911d62",
   "metadata": {},
   "source": [
    "Q23)Using any 10 HR values print even if the value is an even number and odd if its an odd number"
   ]
  },
  {
   "cell_type": "code",
   "execution_count": 184,
   "id": "dd7020f2-e008-4c31-b31b-a309a862f9d0",
   "metadata": {},
   "outputs": [
    {
     "name": "stdout",
     "output_type": "stream",
     "text": [
      "HR  110.0  is an even number\n",
      "HR  109.0  is an odd number\n",
      "HR  115.0  is an odd number\n",
      "HR  112.0  is an even number\n",
      "HR  114.0  is an even number\n",
      "HR  116.0  is an even number\n",
      "HR  118.0  is an even number\n",
      "HR  117.0  is an odd number\n",
      "HR  111.0  is an odd number\n",
      "HR  119.0  is an odd number\n"
     ]
    }
   ],
   "source": [
    "All_sports['HR']=round(60000/All_sports['RR'])\n",
    "HR_random=All_sports['HR'].tail(50)\n",
    "HR_random=HR_random.drop_duplicates()\n",
    "HR_random=HR_random.head(10)\n",
    "for i in HR_random:\n",
    "    if i%2==0:\n",
    "        print(\"HR \",i,\" is an even number\")\n",
    "    else:\n",
    "        print(\"HR \",i,\" is an odd number\")\n"
   ]
  },
  {
   "cell_type": "markdown",
   "id": "d4704f05-cf6b-4a37-8eaa-7388e7616cc2",
   "metadata": {},
   "source": [
    "Q25)Store athlete name and sport in a dictionary as a pair of values."
   ]
  },
  {
   "cell_type": "code",
   "execution_count": 197,
   "id": "74b84293-39ef-40c5-a86d-328953c50055",
   "metadata": {},
   "outputs": [
    {
     "data": {
      "text/plain": [
       "{'Olivia': 'fencing',\n",
       " 'Ethan': 'fencing',\n",
       " 'Jackson': 'fencing',\n",
       " 'Liam': 'fencing',\n",
       " 'Ava': 'fencing',\n",
       " 'Sophia': 'fencing',\n",
       " 'Grace': 'fencing',\n",
       " 'Aiden': 'fencing',\n",
       " 'Chloe': 'fencing',\n",
       " 'Lily': 'fencing',\n",
       " 'Isabella': 'kayak',\n",
       " 'Caleb': 'kayak',\n",
       " 'Mia': 'kayak',\n",
       " 'Harper': 'kayak',\n",
       " 'Mason': 'kayak',\n",
       " 'Logan': 'kayak',\n",
       " 'Lucas': 'triathlon',\n",
       " 'Owen': 'triathlon'}"
      ]
     },
     "execution_count": 197,
     "metadata": {},
     "output_type": "execute_result"
    }
   ],
   "source": [
    "Name_sport_dict=Athletes.set_index('First Name')['sport'].to_dict()\n",
    "Name_sport_dict"
   ]
  },
  {
   "cell_type": "code",
   "execution_count": null,
   "id": "82c8051e-7bec-46a2-a9c4-b1973a855b4c",
   "metadata": {},
   "outputs": [],
   "source": []
  }
 ],
 "metadata": {
  "kernelspec": {
   "display_name": "Python 3 (ipykernel)",
   "language": "python",
   "name": "python3"
  },
  "language_info": {
   "codemirror_mode": {
    "name": "ipython",
    "version": 3
   },
   "file_extension": ".py",
   "mimetype": "text/x-python",
   "name": "python",
   "nbconvert_exporter": "python",
   "pygments_lexer": "ipython3",
   "version": "3.12.4"
  }
 },
 "nbformat": 4,
 "nbformat_minor": 5
}
