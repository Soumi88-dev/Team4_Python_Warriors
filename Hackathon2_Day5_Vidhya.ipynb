{
 "cells": [
  {
   "cell_type": "code",
   "execution_count": 1,
   "id": "2856d323-aa91-4947-a6a9-7c1605e56566",
   "metadata": {},
   "outputs": [
    {
     "name": "stderr",
     "output_type": "stream",
     "text": [
      "C:\\Users\\vidhy\\anaconda3\\Lib\\site-packages\\openpyxl\\worksheet\\_read_only.py:79: UserWarning: Unknown extension is not supported and will be removed\n",
      "  for idx, row in parser.parse():\n",
      "C:\\Users\\vidhy\\anaconda3\\Lib\\site-packages\\openpyxl\\worksheet\\_read_only.py:79: UserWarning: Unknown extension is not supported and will be removed\n",
      "  for idx, row in parser.parse():\n",
      "C:\\Users\\vidhy\\anaconda3\\Lib\\site-packages\\openpyxl\\worksheet\\_read_only.py:79: UserWarning: Unknown extension is not supported and will be removed\n",
      "  for idx, row in parser.parse():\n"
     ]
    }
   ],
   "source": [
    "import pandas as pd\n",
    "import numpy as np\n",
    "from datetime import datetime\n",
    "dataset = pd.ExcelFile(r\"C:\\Users\\vidhy\\Downloads\\V02Max_Combined.xlsx\")\n",
    "\n",
    "Athletes = pd.read_excel(dataset, sheet_name = 'Athletes')\n",
    "Kayaking = pd.read_excel(dataset, sheet_name = 'Kayaking')\n",
    "Triathlon = pd.read_excel(dataset, sheet_name = 'Triathlon')\n",
    "Fencing = pd.read_excel(dataset, sheet_name = 'Fencing')\n"
   ]
  },
  {
   "cell_type": "code",
   "execution_count": 2,
   "id": "12e37dcc-a193-4f37-bad3-47b1bb18fd40",
   "metadata": {},
   "outputs": [
    {
     "name": "stdout",
     "output_type": "stream",
     "text": [
      "       ID     time     RR       VO2  power\n",
      "0      11 -168.600  727.0  0.287147      0\n",
      "1      11 -167.872  728.0  0.287147      0\n",
      "2      11 -167.148  724.0  0.287147      0\n",
      "3      11 -166.484  664.0  0.320580      0\n",
      "4      11 -165.836  648.0  0.320580      0\n",
      "...    ..      ...    ...       ...    ...\n",
      "27598  10  942.700  428.0  0.786363      0\n",
      "27599  10  943.124  424.0  0.786363      0\n",
      "27600  10  943.552  428.0  0.786363      0\n",
      "27601  10  943.976  424.0  0.786363      0\n",
      "27602  10  944.404  428.0  0.786363      0\n",
      "\n",
      "[52062 rows x 5 columns]\n"
     ]
    }
   ],
   "source": [
    "combined=pd.concat([Kayaking,Triathlon,Fencing])\n",
    "print(combined)\n"
   ]
  },
  {
   "cell_type": "code",
   "execution_count": 3,
   "id": "cddadbef-c3fc-44f8-a573-83885af010df",
   "metadata": {},
   "outputs": [
    {
     "name": "stdout",
     "output_type": "stream",
     "text": [
      "       ID     time     RR       VO2  power  age  Weight  Height  P_vt1  P_vt2  \\\n",
      "0      11 -168.600  727.0  0.287147      0   18    84.8     182    174    268   \n",
      "1      11 -167.872  728.0  0.287147      0   18    84.8     182    174    268   \n",
      "2      11 -167.148  724.0  0.287147      0   18    84.8     182    174    268   \n",
      "3      11 -166.484  664.0  0.320580      0   18    84.8     182    174    268   \n",
      "4      11 -165.836  648.0  0.320580      0   18    84.8     182    174    268   \n",
      "...    ..      ...    ...       ...    ...  ...     ...     ...    ...    ...   \n",
      "52057  10  942.700  428.0  0.786363      0   14    58.8     177    101    162   \n",
      "52058  10  943.124  424.0  0.786363      0   14    58.8     177    101    162   \n",
      "52059  10  943.552  428.0  0.786363      0   14    58.8     177    101    162   \n",
      "52060  10  943.976  424.0  0.786363      0   14    58.8     177    101    162   \n",
      "52061  10  944.404  428.0  0.786363      0   14    58.8     177    101    162   \n",
      "\n",
      "         sport  Gender Ethnicity First Name Last Name  \n",
      "0        kayak  Female   African   Isabella   Griffin  \n",
      "1        kayak  Female   African   Isabella   Griffin  \n",
      "2        kayak  Female   African   Isabella   Griffin  \n",
      "3        kayak  Female   African   Isabella   Griffin  \n",
      "4        kayak  Female   African   Isabella   Griffin  \n",
      "...        ...     ...       ...        ...       ...  \n",
      "52057  fencing  Female   African       Lily    Jordan  \n",
      "52058  fencing  Female   African       Lily    Jordan  \n",
      "52059  fencing  Female   African       Lily    Jordan  \n",
      "52060  fencing  Female   African       Lily    Jordan  \n",
      "52061  fencing  Female   African       Lily    Jordan  \n",
      "\n",
      "[52062 rows x 15 columns]\n"
     ]
    }
   ],
   "source": [
    "merged=pd.merge(combined,Athletes,on='ID')\n",
    "print(merged)"
   ]
  },
  {
   "cell_type": "code",
   "execution_count": null,
   "id": "6d6eb26d-87dc-4da5-9aaa-6b38039106d5",
   "metadata": {},
   "outputs": [],
   "source": [
    "#13)What were the Highest 3 V02 Maxes recorded. Display all 3 names, sport and personal V02 Maxes?"
   ]
  },
  {
   "cell_type": "code",
   "execution_count": 9,
   "id": "3a23b463-2341-4033-84be-18a95694e1e7",
   "metadata": {},
   "outputs": [
    {
     "data": {
      "text/html": [
       "<div>\n",
       "<style scoped>\n",
       "    .dataframe tbody tr th:only-of-type {\n",
       "        vertical-align: middle;\n",
       "    }\n",
       "\n",
       "    .dataframe tbody tr th {\n",
       "        vertical-align: top;\n",
       "    }\n",
       "\n",
       "    .dataframe thead th {\n",
       "        text-align: right;\n",
       "    }\n",
       "</style>\n",
       "<table border=\"1\" class=\"dataframe\">\n",
       "  <thead>\n",
       "    <tr style=\"text-align: right;\">\n",
       "      <th></th>\n",
       "      <th>ID</th>\n",
       "      <th>time</th>\n",
       "      <th>RR</th>\n",
       "      <th>VO2</th>\n",
       "      <th>power</th>\n",
       "      <th>age</th>\n",
       "      <th>Weight</th>\n",
       "      <th>Height</th>\n",
       "      <th>P_vt1</th>\n",
       "      <th>P_vt2</th>\n",
       "      <th>sport</th>\n",
       "      <th>Gender</th>\n",
       "      <th>Ethnicity</th>\n",
       "      <th>First Name</th>\n",
       "      <th>Last Name</th>\n",
       "    </tr>\n",
       "  </thead>\n",
       "  <tbody>\n",
       "    <tr>\n",
       "      <th>10488</th>\n",
       "      <td>13</td>\n",
       "      <td>1155.388</td>\n",
       "      <td>320.0</td>\n",
       "      <td>4.576774</td>\n",
       "      <td>305</td>\n",
       "      <td>18</td>\n",
       "      <td>83.9</td>\n",
       "      <td>183</td>\n",
       "      <td>144</td>\n",
       "      <td>267</td>\n",
       "      <td>kayak</td>\n",
       "      <td>Female</td>\n",
       "      <td>Asian</td>\n",
       "      <td>Mia</td>\n",
       "      <td>Carpenter</td>\n",
       "    </tr>\n",
       "    <tr>\n",
       "      <th>10489</th>\n",
       "      <td>13</td>\n",
       "      <td>1155.716</td>\n",
       "      <td>328.0</td>\n",
       "      <td>4.576774</td>\n",
       "      <td>305</td>\n",
       "      <td>18</td>\n",
       "      <td>83.9</td>\n",
       "      <td>183</td>\n",
       "      <td>144</td>\n",
       "      <td>267</td>\n",
       "      <td>kayak</td>\n",
       "      <td>Female</td>\n",
       "      <td>Asian</td>\n",
       "      <td>Mia</td>\n",
       "      <td>Carpenter</td>\n",
       "    </tr>\n",
       "    <tr>\n",
       "      <th>10490</th>\n",
       "      <td>13</td>\n",
       "      <td>1156.040</td>\n",
       "      <td>324.0</td>\n",
       "      <td>4.576774</td>\n",
       "      <td>305</td>\n",
       "      <td>18</td>\n",
       "      <td>83.9</td>\n",
       "      <td>183</td>\n",
       "      <td>144</td>\n",
       "      <td>267</td>\n",
       "      <td>kayak</td>\n",
       "      <td>Female</td>\n",
       "      <td>Asian</td>\n",
       "      <td>Mia</td>\n",
       "      <td>Carpenter</td>\n",
       "    </tr>\n",
       "  </tbody>\n",
       "</table>\n",
       "</div>"
      ],
      "text/plain": [
       "       ID      time     RR       VO2  power  age  Weight  Height  P_vt1  \\\n",
       "10488  13  1155.388  320.0  4.576774    305   18    83.9     183    144   \n",
       "10489  13  1155.716  328.0  4.576774    305   18    83.9     183    144   \n",
       "10490  13  1156.040  324.0  4.576774    305   18    83.9     183    144   \n",
       "\n",
       "       P_vt2  sport  Gender Ethnicity First Name  Last Name  \n",
       "10488    267  kayak  Female     Asian        Mia  Carpenter  \n",
       "10489    267  kayak  Female     Asian        Mia  Carpenter  \n",
       "10490    267  kayak  Female     Asian        Mia  Carpenter  "
      ]
     },
     "execution_count": 9,
     "metadata": {},
     "output_type": "execute_result"
    }
   ],
   "source": [
    "Sorted_Combined=merged.sort_values(by =\"VO2\", ascending=False)\n",
    "Sorted_Combined.head(3)"
   ]
  },
  {
   "cell_type": "code",
   "execution_count": null,
   "id": "45b184b6-aec4-48ec-9b53-5b585d986dc3",
   "metadata": {},
   "outputs": [],
   "source": [
    "#14)What were the lowest 3 V02 Maxes recorded. Display all 3 names, sport and personal V02 Maxes."
   ]
  },
  {
   "cell_type": "code",
   "execution_count": 11,
   "id": "9da68d65-2ea4-4c3e-9450-980012bf4d4d",
   "metadata": {},
   "outputs": [
    {
     "data": {
      "text/html": [
       "<div>\n",
       "<style scoped>\n",
       "    .dataframe tbody tr th:only-of-type {\n",
       "        vertical-align: middle;\n",
       "    }\n",
       "\n",
       "    .dataframe tbody tr th {\n",
       "        vertical-align: top;\n",
       "    }\n",
       "\n",
       "    .dataframe thead th {\n",
       "        text-align: right;\n",
       "    }\n",
       "</style>\n",
       "<table border=\"1\" class=\"dataframe\">\n",
       "  <thead>\n",
       "    <tr style=\"text-align: right;\">\n",
       "      <th></th>\n",
       "      <th>ID</th>\n",
       "      <th>time</th>\n",
       "      <th>RR</th>\n",
       "      <th>VO2</th>\n",
       "      <th>power</th>\n",
       "      <th>age</th>\n",
       "      <th>Weight</th>\n",
       "      <th>Height</th>\n",
       "      <th>P_vt1</th>\n",
       "      <th>P_vt2</th>\n",
       "      <th>sport</th>\n",
       "      <th>Gender</th>\n",
       "      <th>Ethnicity</th>\n",
       "      <th>First Name</th>\n",
       "      <th>Last Name</th>\n",
       "    </tr>\n",
       "  </thead>\n",
       "  <tbody>\n",
       "    <tr>\n",
       "      <th>46779</th>\n",
       "      <td>9</td>\n",
       "      <td>-83.824</td>\n",
       "      <td>532.0</td>\n",
       "      <td>0.069354</td>\n",
       "      <td>0</td>\n",
       "      <td>14</td>\n",
       "      <td>57.1</td>\n",
       "      <td>176</td>\n",
       "      <td>50</td>\n",
       "      <td>125</td>\n",
       "      <td>fencing</td>\n",
       "      <td>Female</td>\n",
       "      <td>African</td>\n",
       "      <td>Chloe</td>\n",
       "      <td>Price</td>\n",
       "    </tr>\n",
       "    <tr>\n",
       "      <th>46782</th>\n",
       "      <td>9</td>\n",
       "      <td>-82.212</td>\n",
       "      <td>548.0</td>\n",
       "      <td>0.069354</td>\n",
       "      <td>0</td>\n",
       "      <td>14</td>\n",
       "      <td>57.1</td>\n",
       "      <td>176</td>\n",
       "      <td>50</td>\n",
       "      <td>125</td>\n",
       "      <td>fencing</td>\n",
       "      <td>Female</td>\n",
       "      <td>African</td>\n",
       "      <td>Chloe</td>\n",
       "      <td>Price</td>\n",
       "    </tr>\n",
       "    <tr>\n",
       "      <th>46781</th>\n",
       "      <td>9</td>\n",
       "      <td>-82.760</td>\n",
       "      <td>536.0</td>\n",
       "      <td>0.069354</td>\n",
       "      <td>0</td>\n",
       "      <td>14</td>\n",
       "      <td>57.1</td>\n",
       "      <td>176</td>\n",
       "      <td>50</td>\n",
       "      <td>125</td>\n",
       "      <td>fencing</td>\n",
       "      <td>Female</td>\n",
       "      <td>African</td>\n",
       "      <td>Chloe</td>\n",
       "      <td>Price</td>\n",
       "    </tr>\n",
       "  </tbody>\n",
       "</table>\n",
       "</div>"
      ],
      "text/plain": [
       "       ID    time     RR       VO2  power  age  Weight  Height  P_vt1  P_vt2  \\\n",
       "46779   9 -83.824  532.0  0.069354      0   14    57.1     176     50    125   \n",
       "46782   9 -82.212  548.0  0.069354      0   14    57.1     176     50    125   \n",
       "46781   9 -82.760  536.0  0.069354      0   14    57.1     176     50    125   \n",
       "\n",
       "         sport  Gender Ethnicity First Name Last Name  \n",
       "46779  fencing  Female   African      Chloe     Price  \n",
       "46782  fencing  Female   African      Chloe     Price  \n",
       "46781  fencing  Female   African      Chloe     Price  "
      ]
     },
     "execution_count": 11,
     "metadata": {},
     "output_type": "execute_result"
    }
   ],
   "source": [
    "Sorted_Combined=merged.sort_values(by =\"VO2\", ascending=True)\n",
    "Sorted_Combined.head(3)"
   ]
  },
  {
   "cell_type": "code",
   "execution_count": 50,
   "id": "c1bec36f-2ec2-4277-8d51-c6177a55844e",
   "metadata": {},
   "outputs": [
    {
     "name": "stdout",
     "output_type": "stream",
     "text": [
      "       ID     time     RR       VO2  power      stage\n",
      "0      11 -168.600  727.0  0.287147      0    Warm up\n",
      "1      11 -167.872  728.0  0.287147      0    Warm up\n",
      "2      11 -167.148  724.0  0.287147      0    Warm up\n",
      "3      11 -166.484  664.0  0.320580      0    Warm up\n",
      "4      11 -165.836  648.0  0.320580      0    Warm up\n",
      "...    ..      ...    ...       ...    ...        ...\n",
      "27598  10  942.700  428.0  0.786363      0  Cool down\n",
      "27599  10  943.124  424.0  0.786363      0  Cool down\n",
      "27600  10  943.552  428.0  0.786363      0  Cool down\n",
      "27601  10  943.976  424.0  0.786363      0  Cool down\n",
      "27602  10  944.404  428.0  0.786363      0  Cool down\n",
      "\n",
      "[52062 rows x 6 columns]\n"
     ]
    }
   ],
   "source": [
    "conditions=[\n",
    "    (combined['time']<0),\n",
    "    (combined['time']>0) & (combined['power']>0),\n",
    "    (combined['time']>0) & (combined['power']==0)\n",
    "]\n",
    "choices=['Warm up','Get','Cool down']\n",
    "combined['stage']=np.select(conditions,choices,default='cool down')\n",
    "print(combined)     "
   ]
  },
  {
   "cell_type": "code",
   "execution_count": null,
   "id": "a01a7eb5-8607-4606-a615-957dcc122eb1",
   "metadata": {},
   "outputs": [],
   "source": [
    "#3)What was the average time each tested lasted excluding warm up for all athletes?"
   ]
  },
  {
   "cell_type": "code",
   "execution_count": 25,
   "id": "f981b7ca-2812-4968-ae35-23d9801eb971",
   "metadata": {},
   "outputs": [
    {
     "name": "stdout",
     "output_type": "stream",
     "text": [
      "       ID     time     RR       VO2  power stage\n",
      "239    11    0.704  704.0  0.820300     50   Get\n",
      "240    11    1.452  748.0  0.622244     50   Get\n",
      "241    11    2.184  732.0  0.622244     50   Get\n",
      "242    11    2.864  680.0  0.622244     50   Get\n",
      "243    11    3.508  644.0  0.766708     50   Get\n",
      "...    ..      ...    ...       ...    ...   ...\n",
      "27080  10  750.688  316.0  1.903905    200   Get\n",
      "27081  10  751.004  316.0  1.903905    200   Get\n",
      "27082  10  751.324  320.0  1.966324    200   Get\n",
      "27083  10  751.640  316.0  1.966324    200   Get\n",
      "27084  10  751.956  316.0  1.993441    200   Get\n",
      "\n",
      "[38715 rows x 6 columns]\n",
      "The average time each test lasted excluding warmup for all athelets is 512.73 minutes\n"
     ]
    }
   ],
   "source": [
    "test_combined=combined[combined['stage']=='Get']\n",
    "#print(test_combined)\n",
    "avg_time=test_combined['time'].mean()\n",
    "print(f'The average time each test lasted excluding warmup for all athelets is {avg_time:.2f} minutes')\n"
   ]
  },
  {
   "cell_type": "code",
   "execution_count": null,
   "id": "fd9f5ea6-4945-42e7-9f5a-f7f9ce8d1e0b",
   "metadata": {},
   "outputs": [],
   "source": [
    "#5)What was the average time each test lasted (including warm up) for all athletes?"
   ]
  },
  {
   "cell_type": "code",
   "execution_count": 27,
   "id": "4a38f2b3-869b-4628-86db-f414ca0ca845",
   "metadata": {},
   "outputs": [
    {
     "name": "stdout",
     "output_type": "stream",
     "text": [
      "Empty DataFrame\n",
      "Columns: [ID, time, RR, VO2, power, stage]\n",
      "Index: []\n",
      "The average time each test lasted including warmup for all athelets is 512.73 minutes\n"
     ]
    }
   ],
   "source": [
    "Test_Warmup=combined[(combined['stage']=='Get') & (combined['stage']=='Warm up')]\n",
    "print(Test_Warmup)\n",
    "avg_time_warmup=Test_Warmup['time'].mean()\n",
    "print(f'The average time each test lasted including warmup for all athelets is {avg_time:.2f} minutes')\n"
   ]
  },
  {
   "cell_type": "code",
   "execution_count": null,
   "id": "6fc94880-8356-442a-a5d3-33b1ae84747c",
   "metadata": {},
   "outputs": [],
   "source": [
    "#4)Athletes from which sport had the highest average cardiorespiratory fitness in terms of HRV?"
   ]
  },
  {
   "cell_type": "code",
   "execution_count": 37,
   "id": "be512025-285c-44dc-bd36-a399e4731a05",
   "metadata": {},
   "outputs": [
    {
     "name": "stdout",
     "output_type": "stream",
     "text": [
      "The sport with highest average cadiorespiratory fitness in terms of HRV (RR interval) is triathlon with an average HRV of 448.37\n"
     ]
    }
   ],
   "source": [
    "\n",
    "avg_HRV_sport=merged.groupby('sport')['RR'].mean()\n",
    "#print(avg_HRV_sport)\n",
    "Highest_avg_HRV_sport=avg_HRV_sport.idxmax()\n",
    "#print(Highest_avg_HRV_sport)\n",
    "Highest_HRV_value=avg_HRV_sport.max()\n",
    "#print(Highest_HRV_value)\n",
    "print(f'The sport with highest average cadiorespiratory fitness in terms of HRV (RR interval) is {Highest_avg_HRV_sport} with an average HRV of {Highest_HRV_value:.2f}')"
   ]
  },
  {
   "cell_type": "code",
   "execution_count": null,
   "id": "31671ea0-308d-472e-8227-325595a29a92",
   "metadata": {},
   "outputs": [],
   "source": [
    "#6)What was the most common  wattage (above 0) achieved by participants and for how many seconds (average time)? You may choose to show averages based on any one/all sports. "
   ]
  },
  {
   "cell_type": "code",
   "execution_count": 49,
   "id": "06fd3ff3-f56e-41ee-9c3a-d2bab33bcbd4",
   "metadata": {},
   "outputs": [
    {
     "name": "stdout",
     "output_type": "stream",
     "text": [
      "common wattage50.00average time:92.24\n"
     ]
    }
   ],
   "source": [
    "\n",
    "merged=merged[merged['power']>0]\n",
    "wattage=merged['power'].mode()[0]\n",
    "common_wattage=merged[merged['power'] == wattage]\n",
    "average_time=common_wattage['time'].mean()\n",
    "print(f'common wattage{wattage:.2f}average time:{average_time:.2f}')"
   ]
  },
  {
   "cell_type": "code",
   "execution_count": null,
   "id": "bba91f72-9919-43a9-8dd2-2a08da44361a",
   "metadata": {},
   "outputs": [],
   "source": []
  }
 ],
 "metadata": {
  "kernelspec": {
   "display_name": "Python 3 (ipykernel)",
   "language": "python",
   "name": "python3"
  },
  "language_info": {
   "codemirror_mode": {
    "name": "ipython",
    "version": 3
   },
   "file_extension": ".py",
   "mimetype": "text/x-python",
   "name": "python",
   "nbconvert_exporter": "python",
   "pygments_lexer": "ipython3",
   "version": "3.11.7"
  }
 },
 "nbformat": 4,
 "nbformat_minor": 5
}
