{
 "cells": [
  {
   "cell_type": "code",
   "execution_count": 65,
   "id": "0567e618-c49b-46b7-9b19-514d7b4d4176",
   "metadata": {},
   "outputs": [
    {
     "name": "stderr",
     "output_type": "stream",
     "text": [
      "C:\\Users\\vidhy\\anaconda3\\Lib\\site-packages\\openpyxl\\worksheet\\_read_only.py:79: UserWarning: Unknown extension is not supported and will be removed\n",
      "  for idx, row in parser.parse():\n",
      "C:\\Users\\vidhy\\anaconda3\\Lib\\site-packages\\openpyxl\\worksheet\\_read_only.py:79: UserWarning: Unknown extension is not supported and will be removed\n",
      "  for idx, row in parser.parse():\n",
      "C:\\Users\\vidhy\\anaconda3\\Lib\\site-packages\\openpyxl\\worksheet\\_read_only.py:79: UserWarning: Unknown extension is not supported and will be removed\n",
      "  for idx, row in parser.parse():\n"
     ]
    }
   ],
   "source": [
    "import pandas as pd\n",
    "import numpy as np\n",
    "from datetime import datetime\n",
    "dataset = pd.ExcelFile(r\"C:\\Users\\vidhy\\Downloads\\V02Max_Combined.xlsx\")\n",
    "\n",
    "Athletes = pd.read_excel(dataset, sheet_name = 'Athletes')\n",
    "Kayaking = pd.read_excel(dataset, sheet_name = 'Kayaking')\n",
    "Triathlon = pd.read_excel(dataset, sheet_name = 'Triathlon')\n",
    "Fencing = pd.read_excel(dataset, sheet_name = 'Fencing')"
   ]
  },
  {
   "cell_type": "code",
   "execution_count": null,
   "id": "262ae88a-56af-4951-af2d-4cbcdc0e2238",
   "metadata": {},
   "outputs": [],
   "source": [
    "#1)Join all sport-related tables to produce one dataframe that has all athletes values. The final table should only have the same 5 columns: ID, time,power,RR, vo2, power. Write this dataframe to an excel file?"
   ]
  },
  {
   "cell_type": "code",
   "execution_count": 66,
   "id": "7ac3b529-bf08-46fc-a378-07f54a1a7222",
   "metadata": {},
   "outputs": [
    {
     "name": "stdout",
     "output_type": "stream",
     "text": [
      "       ID     time     RR       VO2  power\n",
      "0      11 -168.600  727.0  0.287147      0\n",
      "1      11 -167.872  728.0  0.287147      0\n",
      "2      11 -167.148  724.0  0.287147      0\n",
      "3      11 -166.484  664.0  0.320580      0\n",
      "4      11 -165.836  648.0  0.320580      0\n",
      "...    ..      ...    ...       ...    ...\n",
      "27598  10  942.700  428.0  0.786363      0\n",
      "27599  10  943.124  424.0  0.786363      0\n",
      "27600  10  943.552  428.0  0.786363      0\n",
      "27601  10  943.976  424.0  0.786363      0\n",
      "27602  10  944.404  428.0  0.786363      0\n",
      "\n",
      "[52062 rows x 5 columns]\n"
     ]
    }
   ],
   "source": [
    "combined=pd.concat([Kayaking,Triathlon,Fencing])\n",
    "print(combined)"
   ]
  },
  {
   "cell_type": "code",
   "execution_count": 24,
   "id": "e2ca3b45-7377-4bbf-ba02-b83d3e112787",
   "metadata": {},
   "outputs": [
    {
     "name": "stdout",
     "output_type": "stream",
     "text": [
      "       ID     time     RR       VO2  power\n",
      "0      11 -168.600  727.0  0.287147      0\n",
      "1      11 -167.872  728.0  0.287147      0\n",
      "2      11 -167.148  724.0  0.287147      0\n",
      "3      11 -166.484  664.0  0.320580      0\n",
      "4      11 -165.836  648.0  0.320580      0\n",
      "...    ..      ...    ...       ...    ...\n",
      "27598  10  942.700  428.0  0.786363      0\n",
      "27599  10  943.124  424.0  0.786363      0\n",
      "27600  10  943.552  428.0  0.786363      0\n",
      "27601  10  943.976  424.0  0.786363      0\n",
      "27602  10  944.404  428.0  0.786363      0\n",
      "\n",
      "[52062 rows x 5 columns]\n",
      "       ID     time     RR       VO2  power      HR                     HR_Zone\n",
      "0      11 -168.600  727.0  0.287147      0   82.53      Zone 1 (recovery/easy)\n",
      "1      11 -167.872  728.0  0.287147      0   82.42      Zone 1 (recovery/easy)\n",
      "2      11 -167.148  724.0  0.287147      0   82.87      Zone 1 (recovery/easy)\n",
      "3      11 -166.484  664.0  0.320580      0   90.36      Zone 1 (recovery/easy)\n",
      "4      11 -165.836  648.0  0.320580      0   92.59      Zone 1 (recovery/easy)\n",
      "...    ..      ...    ...       ...    ...     ...                         ...\n",
      "27598  10  942.700  428.0  0.786363      0  140.19  Zone 4 (Lactate threshold)\n",
      "27599  10  943.124  424.0  0.786363      0  141.51  Zone 4 (Lactate threshold)\n",
      "27600  10  943.552  428.0  0.786363      0  140.19  Zone 4 (Lactate threshold)\n",
      "27601  10  943.976  424.0  0.786363      0  141.51  Zone 4 (Lactate threshold)\n",
      "27602  10  944.404  428.0  0.786363      0  140.19  Zone 4 (Lactate threshold)\n",
      "\n",
      "[52062 rows x 7 columns]\n"
     ]
    }
   ],
   "source": [
    "combined=pd.concat([Kayaking,Triathlon,Fencing])\n",
    "print(combined)\n",
    "\n",
    "def Heart_Rate(rr):\n",
    "    return round(60*1000/rr,2)\n",
    "def Heartrate_Zone(hr):\n",
    "    if hr<100:\n",
    "        return 'Zone 1 (recovery/easy)'\n",
    "    elif hr>=100 and hr<120:\n",
    "        return 'Zone 2 (Aerobic/base)'\n",
    "    elif hr>=120 and hr<135:\n",
    "        return 'Zone 3 (tempo)'\n",
    "    elif hr>=135 and hr<155:\n",
    "        return 'Zone 4 (Lactate threshold)'\n",
    "    else:\n",
    "        return 'Zone 5(AnAerobic)'\n",
    "combined['HR']=combined['RR'].apply(Heart_Rate)\n",
    "combined['HR_Zone']=combined['HR'].apply(Heartrate_Zone)\n",
    "#pd.set_option('display.max_rows',1000)\n",
    "print(combined)"
   ]
  },
  {
   "cell_type": "code",
   "execution_count": null,
   "id": "5c32b9b5-86e7-484b-ab6e-07d1d2cca19f",
   "metadata": {},
   "outputs": [],
   "source": [
    "#2)Divide the rows into 3 parts: Warm up, GET(graded exercise test) and cool down using the data def. Label each row accordingly?"
   ]
  },
  {
   "cell_type": "code",
   "execution_count": 88,
   "id": "8577a6eb-20cb-489c-b46d-b1e1ea05de9d",
   "metadata": {},
   "outputs": [
    {
     "name": "stdout",
     "output_type": "stream",
     "text": [
      "       ID     time     RR       VO2  power      stage\n",
      "0      11 -168.600  727.0  0.287147      0    Warm up\n",
      "1      11 -167.872  728.0  0.287147      0    Warm up\n",
      "2      11 -167.148  724.0  0.287147      0    Warm up\n",
      "3      11 -166.484  664.0  0.320580      0    Warm up\n",
      "4      11 -165.836  648.0  0.320580      0    Warm up\n",
      "...    ..      ...    ...       ...    ...        ...\n",
      "27598  10  942.700  428.0  0.786363      0  Cool down\n",
      "27599  10  943.124  424.0  0.786363      0  Cool down\n",
      "27600  10  943.552  428.0  0.786363      0  Cool down\n",
      "27601  10  943.976  424.0  0.786363      0  Cool down\n",
      "27602  10  944.404  428.0  0.786363      0  Cool down\n",
      "\n",
      "[52062 rows x 6 columns]\n"
     ]
    }
   ],
   "source": [
    "conditions=[\n",
    "    (combined['time']<0),\n",
    "    (combined['time']>0) & (combined['power']>0),\n",
    "    (combined['time']>0) & (combined['power']==0)\n",
    "]\n",
    "choices=['Warm up','Get','Cool down']\n",
    "combined['stage']=np.select(conditions,choices,default='cool down')\n",
    "print(combined)   "
   ]
  },
  {
   "cell_type": "code",
   "execution_count": 97,
   "id": "7a3cafb9-49cd-405b-8765-a4e9ff11e91f",
   "metadata": {},
   "outputs": [
    {
     "name": "stdout",
     "output_type": "stream",
     "text": [
      "       ID      time     RR       VO2  power  age  Weight  Height  P_vt1  \\\n",
      "0      11  -168.600  727.0  0.287147      0   18    84.8     182    174   \n",
      "1      11  -167.872  728.0  0.287147      0   18    84.8     182    174   \n",
      "2      11  -167.148  724.0  0.287147      0   18    84.8     182    174   \n",
      "3      11  -166.484  664.0  0.320580      0   18    84.8     182    174   \n",
      "4      11  -165.836  648.0  0.320580      0   18    84.8     182    174   \n",
      "...    ..       ...    ...       ...    ...  ...     ...     ...    ...   \n",
      "19473  16  1118.404  548.0  0.671957      0   16    70.4     182     79   \n",
      "19474  16  1118.944  540.0  0.671957      0   16    70.4     182     79   \n",
      "19475  16  1119.484  540.0  0.671957      0   16    70.4     182     79   \n",
      "19476  16  1120.016  532.0  0.671957      0   16    70.4     182     79   \n",
      "19477  16  1120.544  528.0  0.671957      0   16    70.4     182     79   \n",
      "\n",
      "       P_vt2  sport  Gender Ethnicity First Name Last Name  \n",
      "0        268  kayak  Female   African   Isabella   Griffin  \n",
      "1        268  kayak  Female   African   Isabella   Griffin  \n",
      "2        268  kayak  Female   African   Isabella   Griffin  \n",
      "3        268  kayak  Female   African   Isabella   Griffin  \n",
      "4        268  kayak  Female   African   Isabella   Griffin  \n",
      "...      ...    ...     ...       ...        ...       ...  \n",
      "19473    175  kayak    Male    Latino      Logan  Anderson  \n",
      "19474    175  kayak    Male    Latino      Logan  Anderson  \n",
      "19475    175  kayak    Male    Latino      Logan  Anderson  \n",
      "19476    175  kayak    Male    Latino      Logan  Anderson  \n",
      "19477    175  kayak    Male    Latino      Logan  Anderson  \n",
      "\n",
      "[19478 rows x 15 columns]\n"
     ]
    }
   ],
   "source": [
    "merged=pd.merge(Kayaking,Athletes, on='ID')\n",
    "print(merged)"
   ]
  },
  {
   "cell_type": "code",
   "execution_count": null,
   "id": "af8d3f1a-c114-4694-a229-84a334a58b15",
   "metadata": {},
   "outputs": [],
   "source": [
    "#3)What was the average time each tested lasted excluding warm up for all athletes?"
   ]
  },
  {
   "cell_type": "code",
   "execution_count": 70,
   "id": "e4eb5780-656f-4a67-9f54-be3d3a2b0f00",
   "metadata": {},
   "outputs": [
    {
     "name": "stdout",
     "output_type": "stream",
     "text": [
      "The average time each test lasted excluding warmup for all athelets is: 604.00 seconds\n"
     ]
    }
   ],
   "source": [
    "test_combined=combined[combined['stage']!='Warm up'] \n",
    "avg_time=test_combined['time'].mean()\n",
    "print(f'The average time each test lasted excluding warmup for all athelets is: {avg_time:.2f} seconds')"
   ]
  },
  {
   "cell_type": "code",
   "execution_count": null,
   "id": "02c28733-956d-49ae-b4fd-c7bc51af7c31",
   "metadata": {},
   "outputs": [],
   "source": [
    "#4)Athletes from which sport had the highest average cardiorespiratory fitness in terms of HRV?"
   ]
  },
  {
   "cell_type": "code",
   "execution_count": 86,
   "id": "6b079575-6ac2-4c5c-9abf-98a2784ded97",
   "metadata": {},
   "outputs": [
    {
     "name": "stdout",
     "output_type": "stream",
     "text": [
      "sport\n",
      "fencing      193.056530\n",
      "kayak        251.279363\n",
      "triathlon    138.401081\n",
      "Name: RR, dtype: float64\n"
     ]
    }
   ],
   "source": [
    "avg_HRV_sport=merged.groupby('sport')['RR'].std()\n",
    "print(avg_HRV_sport)\n",
    "#avg_hr=avg_HRV_sport.groupby('sport')\n",
    "#Highest_avg_HRV_sport=avg_hr.idxmax()\n",
    "#Highest_HRV_value=avg_hr.max()\n",
    "#print(f'The sport with highest average cadiorespiratory fitness in terms of HRV (RR interval) is {Highest_avg_HRV_sport} with an average HRV of {Highest_HRV_value:.2f}')"
   ]
  },
  {
   "cell_type": "code",
   "execution_count": null,
   "id": "04719dd7-d1f1-424c-a0d4-c07d41a508bc",
   "metadata": {},
   "outputs": [],
   "source": [
    "#5)What was the average time each test lasted (including warm up) for all athletes?"
   ]
  },
  {
   "cell_type": "code",
   "execution_count": 99,
   "id": "cd0f2c3c-46b4-41ac-b1e6-83786237c6c2",
   "metadata": {},
   "outputs": [
    {
     "name": "stdout",
     "output_type": "stream",
     "text": [
      "Empty DataFrame\n",
      "Columns: [ID, time, RR, VO2, power, age, Weight, Height, P_vt1, P_vt2, sport, Gender, Ethnicity, First Name, Last Name]\n",
      "Index: []\n",
      "The average time each test lasted including warmup for all athelets is nan minutes\n"
     ]
    },
    {
     "name": "stderr",
     "output_type": "stream",
     "text": [
      "C:\\Users\\vidhy\\AppData\\Local\\Temp\\ipykernel_14904\\543884635.py:2: UserWarning: Boolean Series key will be reindexed to match DataFrame index.\n",
      "  Test_Warmup=merged[(combined['stage']=='Get') & (combined['stage']=='Warm up')]\n"
     ]
    }
   ],
   "source": [
    "\n",
    "#print(combined) \n",
    "Test_Warmup=merged[(combined['stage']=='Get') & (combined['stage']=='Warm up')]\n",
    "print(Test_Warmup)\n",
    "avg_time_warmup=Test_Warmup['time'].mean()\n",
    "print(f'The average time each test lasted including warmup for all athelets is {avg_time_warmup:.2f} minutes')"
   ]
  },
  {
   "cell_type": "code",
   "execution_count": null,
   "id": "422d9061-b182-4fc4-a9cd-d565030918e8",
   "metadata": {},
   "outputs": [],
   "source": [
    "#6)What was the most common  wattage (above 0) achieved by participants and for how many seconds (average time)? You may choose to show averages based on any one/all sports. "
   ]
  },
  {
   "cell_type": "code",
   "execution_count": 29,
   "id": "0d794a12-e794-45d7-b322-990e5d7ac570",
   "metadata": {},
   "outputs": [
    {
     "name": "stdout",
     "output_type": "stream",
     "text": [
      "common wattage50.00average time:94.53\n"
     ]
    }
   ],
   "source": [
    "merged=merged[merged['power']>0]\n",
    "wattage=merged['power'].mode()[0]\n",
    "common_wattage=merged[merged['power'] == wattage]\n",
    "average_time=common_wattage['time'].mean()\n",
    "print(f'common wattage{wattage:.2f}average time:{average_time:.2f}')"
   ]
  },
  {
   "cell_type": "code",
   "execution_count": null,
   "id": "d0fbb65f-e185-4ef7-a603-bca10664a3ed",
   "metadata": {},
   "outputs": [],
   "source": [
    "#7)Create a correlation matrix to show the relationship between HR, BMI and sport?"
   ]
  },
  {
   "cell_type": "code",
   "execution_count": 49,
   "id": "e871e790-3b18-46e9-b805-94c0fb7ddc85",
   "metadata": {},
   "outputs": [],
   "source": [
    "combined=pd.concat([Kayaking,Triathlon,Fencing])\n",
    "#print(combined)\n",
    "\n",
    "def Heart_Rate(rr):\n",
    "    return round(60*1000/rr,2)\n",
    "def Heartrate_Zone(hr):\n",
    "    if hr<100:\n",
    "        return 'Zone 1 (recovery/easy)'\n",
    "    elif hr>=100 and hr<120:\n",
    "        return 'Zone 2 (Aerobic/base)'\n",
    "    elif hr>=120 and hr<135:\n",
    "        return 'Zone 3 (tempo)'\n",
    "    elif hr>=135 and hr<155:\n",
    "        return 'Zone 4 (Lactate threshold)'\n",
    "    else:\n",
    "        return 'Zone 5(AnAerobic)'\n",
    "combined['HR']=combined['RR'].apply(Heart_Rate)\n",
    "combined['HR_Zone']=combined['HR'].apply(Heartrate_Zone)\n",
    "#pd.set_option('display.max_rows',1000)\n",
    "#print(combined)"
   ]
  },
  {
   "cell_type": "code",
   "execution_count": 47,
   "id": "7f6456d8-cab7-4dc3-be5d-bd95157e0933",
   "metadata": {},
   "outputs": [],
   "source": [
    "Athletes['BMI']=Athletes['Weight']/(Athletes['Height']**2)\n",
    "#print(Athletes)"
   ]
  },
  {
   "cell_type": "code",
   "execution_count": 46,
   "id": "85eb281c-daa0-4da2-b2f3-0b25d9daf701",
   "metadata": {},
   "outputs": [],
   "source": [
    "merged=pd.merge(combined,Athletes,on='ID')\n",
    "#print(merged)"
   ]
  },
  {
   "cell_type": "code",
   "execution_count": 35,
   "id": "ca0190e5-995f-41fb-9aca-0a5b3a574810",
   "metadata": {},
   "outputs": [
    {
     "name": "stdout",
     "output_type": "stream",
     "text": [
      "                BMI  sport_num        HR\n",
      "BMI        1.000000  -0.346155 -0.056931\n",
      "sport_num -0.346155   1.000000  0.039016\n",
      "HR        -0.056931   0.039016  1.000000\n"
     ]
    }
   ],
   "source": [
    "merged['sport_num']=pd.factorize(merged['sport'])[0]\n",
    "correlation_matrix=merged[['BMI','sport_num','HR']].corr()\n",
    "print(correlation_matrix)"
   ]
  },
  {
   "cell_type": "code",
   "execution_count": null,
   "id": "1aa67504-eea3-4d1a-984d-e24d4dbaf088",
   "metadata": {},
   "outputs": [],
   "source": [
    "#8) What are the names of the kayaking athletes?"
   ]
  },
  {
   "cell_type": "code",
   "execution_count": 21,
   "id": "2b6401bf-7581-4bb1-9254-7026be02a918",
   "metadata": {},
   "outputs": [
    {
     "name": "stdout",
     "output_type": "stream",
     "text": [
      "       ID      time     RR       VO2  power  age  Weight  Height  P_vt1  \\\n",
      "0      11  -168.600  727.0  0.287147      0   18    84.8     182    174   \n",
      "1      11  -167.872  728.0  0.287147      0   18    84.8     182    174   \n",
      "2      11  -167.148  724.0  0.287147      0   18    84.8     182    174   \n",
      "3      11  -166.484  664.0  0.320580      0   18    84.8     182    174   \n",
      "4      11  -165.836  648.0  0.320580      0   18    84.8     182    174   \n",
      "...    ..       ...    ...       ...    ...  ...     ...     ...    ...   \n",
      "19473  16  1118.404  548.0  0.671957      0   16    70.4     182     79   \n",
      "19474  16  1118.944  540.0  0.671957      0   16    70.4     182     79   \n",
      "19475  16  1119.484  540.0  0.671957      0   16    70.4     182     79   \n",
      "19476  16  1120.016  532.0  0.671957      0   16    70.4     182     79   \n",
      "19477  16  1120.544  528.0  0.671957      0   16    70.4     182     79   \n",
      "\n",
      "       P_vt2  sport  Gender Ethnicity First Name Last Name       BMI  \n",
      "0        268  kayak  Female   African   Isabella   Griffin  0.002560  \n",
      "1        268  kayak  Female   African   Isabella   Griffin  0.002560  \n",
      "2        268  kayak  Female   African   Isabella   Griffin  0.002560  \n",
      "3        268  kayak  Female   African   Isabella   Griffin  0.002560  \n",
      "4        268  kayak  Female   African   Isabella   Griffin  0.002560  \n",
      "...      ...    ...     ...       ...        ...       ...       ...  \n",
      "19473    175  kayak    Male    Latino      Logan  Anderson  0.002125  \n",
      "19474    175  kayak    Male    Latino      Logan  Anderson  0.002125  \n",
      "19475    175  kayak    Male    Latino      Logan  Anderson  0.002125  \n",
      "19476    175  kayak    Male    Latino      Logan  Anderson  0.002125  \n",
      "19477    175  kayak    Male    Latino      Logan  Anderson  0.002125  \n",
      "\n",
      "[19478 rows x 16 columns]\n"
     ]
    }
   ],
   "source": [
    "merged=pd.merge(Kayaking,Athletes, on='ID')\n",
    "print(merged)"
   ]
  },
  {
   "cell_type": "code",
   "execution_count": null,
   "id": "c7aaf5c9-dece-4141-ad1b-421263eb0f51",
   "metadata": {},
   "outputs": [],
   "source": [
    "#9)What was the average HRV of the triathletes?"
   ]
  },
  {
   "cell_type": "code",
   "execution_count": 37,
   "id": "0cbef609-e4d4-440b-a7d2-c94a862bc418",
   "metadata": {},
   "outputs": [
    {
     "name": "stdout",
     "output_type": "stream",
     "text": [
      "The average HRV of the Triathlon is 138.40\n"
     ]
    }
   ],
   "source": [
    "triathlon=merged[merged['sport']=='triathlon']\n",
    "HRV=triathlon['RR'].std()\n",
    "print(f\"The average HRV of the Triathlon is {HRV:.2f}\")"
   ]
  },
  {
   "cell_type": "code",
   "execution_count": null,
   "id": "1b235e05-ef9a-49cd-bfb1-6f61ec264813",
   "metadata": {},
   "outputs": [],
   "source": [
    "#10)How long was athlete 12 in HR Zone 5?"
   ]
  },
  {
   "cell_type": "code",
   "execution_count": 38,
   "id": "3b4283e5-214a-4ec0-bd0c-3f4270577557",
   "metadata": {},
   "outputs": [
    {
     "name": "stdout",
     "output_type": "stream",
     "text": [
      "Empty DataFrame\n",
      "Columns: [ID, time, RR, VO2, power, HR, HR_Zone, age, Weight, Height, P_vt1, P_vt2, sport, Gender, Ethnicity, First Name, Last Name, BMI, sport_num]\n",
      "Index: []\n",
      "0.0\n"
     ]
    }
   ],
   "source": [
    "Athelet_12= merged[merged['ID']==12]\n",
    "Athelet_12_Zone5= Athelet_12[Athelet_12['HR_Zone']==5]\n",
    "print(Athelet_12_Zone5)\n",
    "Total_time=Athelet_12_Zone5['time'].sum()\n",
    "print(Total_time)\n"
   ]
  },
  {
   "cell_type": "code",
   "execution_count": null,
   "id": "f22adc10-11ec-4170-8a7a-12e2e64e33ce",
   "metadata": {},
   "outputs": [],
   "source": [
    "#11)Create any 3d plot using any data. Values do not have to be from the dataset given?"
   ]
  },
  {
   "cell_type": "code",
   "execution_count": 39,
   "id": "0dd30664-95e0-4c13-a27a-f1ecb98e7c3c",
   "metadata": {},
   "outputs": [
    {
     "data": {
      "image/png": "[encoded data removed]",
      "text/plain": [
       "<Figure size 640x480 with 1 Axes>"
      ]
     },
     "metadata": {},
     "output_type": "display_data"
    }
   ],
   "source": [
    "import matplotlib.pyplot as plt\n",
    "x=[5,7,9,22,3,89,10,95,33,55]\n",
    "y=[100,133,244,550,670,900,890,567,987,300]\n",
    "plt.scatter(x,y,c='red')\n",
    "plt.show()"
   ]
  },
  {
   "cell_type": "code",
   "execution_count": 54,
   "id": "b4fbe212-4b30-4ba4-ad63-af0f177eb730",
   "metadata": {},
   "outputs": [
    {
     "name": "stdout",
     "output_type": "stream",
     "text": [
      "       ID     time     RR       VO2  power      HR  \\\n",
      "0      11 -168.600  727.0  0.287147      0   82.53   \n",
      "1      11 -167.872  728.0  0.287147      0   82.42   \n",
      "2      11 -167.148  724.0  0.287147      0   82.87   \n",
      "3      11 -166.484  664.0  0.320580      0   90.36   \n",
      "4      11 -165.836  648.0  0.320580      0   92.59   \n",
      "...    ..      ...    ...       ...    ...     ...   \n",
      "52057  10  942.700  428.0  0.786363      0  140.19   \n",
      "52058  10  943.124  424.0  0.786363      0  141.51   \n",
      "52059  10  943.552  428.0  0.786363      0  140.19   \n",
      "52060  10  943.976  424.0  0.786363      0  141.51   \n",
      "52061  10  944.404  428.0  0.786363      0  140.19   \n",
      "\n",
      "                          HR_Zone  age  Weight  Height  P_vt1  P_vt2    sport  \\\n",
      "0          Zone 1 (recovery/easy)   18    84.8     182    174    268    kayak   \n",
      "1          Zone 1 (recovery/easy)   18    84.8     182    174    268    kayak   \n",
      "2          Zone 1 (recovery/easy)   18    84.8     182    174    268    kayak   \n",
      "3          Zone 1 (recovery/easy)   18    84.8     182    174    268    kayak   \n",
      "4          Zone 1 (recovery/easy)   18    84.8     182    174    268    kayak   \n",
      "...                           ...  ...     ...     ...    ...    ...      ...   \n",
      "52057  Zone 4 (Lactate threshold)   14    58.8     177    101    162  fencing   \n",
      "52058  Zone 4 (Lactate threshold)   14    58.8     177    101    162  fencing   \n",
      "52059  Zone 4 (Lactate threshold)   14    58.8     177    101    162  fencing   \n",
      "52060  Zone 4 (Lactate threshold)   14    58.8     177    101    162  fencing   \n",
      "52061  Zone 4 (Lactate threshold)   14    58.8     177    101    162  fencing   \n",
      "\n",
      "       Gender Ethnicity First Name Last Name   DOB       BMI   vo2_max  \n",
      "0      Female   African   Isabella   Griffin  2006  0.002560  0.003386  \n",
      "1      Female   African   Isabella   Griffin  2006  0.002560  0.003386  \n",
      "2      Female   African   Isabella   Griffin  2006  0.002560  0.003386  \n",
      "3      Female   African   Isabella   Griffin  2006  0.002560  0.003780  \n",
      "4      Female   African   Isabella   Griffin  2006  0.002560  0.003780  \n",
      "...       ...       ...        ...       ...   ...       ...       ...  \n",
      "52057  Female   African       Lily    Jordan  2010  0.001877  0.013374  \n",
      "52058  Female   African       Lily    Jordan  2010  0.001877  0.013374  \n",
      "52059  Female   African       Lily    Jordan  2010  0.001877  0.013374  \n",
      "52060  Female   African       Lily    Jordan  2010  0.001877  0.013374  \n",
      "52061  Female   African       Lily    Jordan  2010  0.001877  0.013374  \n",
      "\n",
      "[52062 rows x 20 columns]\n"
     ]
    }
   ],
   "source": [
    "merged['vo2_max']=merged['VO2']/merged['Weight']\n",
    "print(merged)"
   ]
  },
  {
   "cell_type": "code",
   "execution_count": null,
   "id": "39f460bb-c765-42a1-b836-b347d4ddac24",
   "metadata": {},
   "outputs": [],
   "source": [
    "#12)What were the Highest 3 V02 Maxes recorded. Display all 3 names, sport and personal V02 Maxes?"
   ]
  },
  {
   "cell_type": "code",
   "execution_count": 55,
   "id": "b987088d-5889-45d7-9099-b853d2dbbcef",
   "metadata": {},
   "outputs": [
    {
     "data": {
      "text/html": [
       "<div>\n",
       "<style scoped>\n",
       "    .dataframe tbody tr th:only-of-type {\n",
       "        vertical-align: middle;\n",
       "    }\n",
       "\n",
       "    .dataframe tbody tr th {\n",
       "        vertical-align: top;\n",
       "    }\n",
       "\n",
       "    .dataframe thead th {\n",
       "        text-align: right;\n",
       "    }\n",
       "</style>\n",
       "<table border=\"1\" class=\"dataframe\">\n",
       "  <thead>\n",
       "    <tr style=\"text-align: right;\">\n",
       "      <th></th>\n",
       "      <th>ID</th>\n",
       "      <th>time</th>\n",
       "      <th>RR</th>\n",
       "      <th>VO2</th>\n",
       "      <th>power</th>\n",
       "      <th>HR</th>\n",
       "      <th>HR_Zone</th>\n",
       "      <th>age</th>\n",
       "      <th>Weight</th>\n",
       "      <th>Height</th>\n",
       "      <th>P_vt1</th>\n",
       "      <th>P_vt2</th>\n",
       "      <th>sport</th>\n",
       "      <th>Gender</th>\n",
       "      <th>Ethnicity</th>\n",
       "      <th>First Name</th>\n",
       "      <th>Last Name</th>\n",
       "      <th>DOB</th>\n",
       "      <th>BMI</th>\n",
       "      <th>vo2_max</th>\n",
       "    </tr>\n",
       "  </thead>\n",
       "  <tbody>\n",
       "    <tr>\n",
       "      <th>23834</th>\n",
       "      <td>18</td>\n",
       "      <td>694.860</td>\n",
       "      <td>320.0</td>\n",
       "      <td>2.204238</td>\n",
       "      <td>185</td>\n",
       "      <td>187.50</td>\n",
       "      <td>Zone 5(AnAerobic)</td>\n",
       "      <td>12</td>\n",
       "      <td>39.7</td>\n",
       "      <td>158</td>\n",
       "      <td>65</td>\n",
       "      <td>168</td>\n",
       "      <td>triathlon</td>\n",
       "      <td>Male</td>\n",
       "      <td>Latino</td>\n",
       "      <td>Owen</td>\n",
       "      <td>Myers</td>\n",
       "      <td>2012</td>\n",
       "      <td>0.00159</td>\n",
       "      <td>0.055522</td>\n",
       "    </tr>\n",
       "    <tr>\n",
       "      <th>23835</th>\n",
       "      <td>18</td>\n",
       "      <td>695.176</td>\n",
       "      <td>316.0</td>\n",
       "      <td>2.204238</td>\n",
       "      <td>185</td>\n",
       "      <td>189.87</td>\n",
       "      <td>Zone 5(AnAerobic)</td>\n",
       "      <td>12</td>\n",
       "      <td>39.7</td>\n",
       "      <td>158</td>\n",
       "      <td>65</td>\n",
       "      <td>168</td>\n",
       "      <td>triathlon</td>\n",
       "      <td>Male</td>\n",
       "      <td>Latino</td>\n",
       "      <td>Owen</td>\n",
       "      <td>Myers</td>\n",
       "      <td>2012</td>\n",
       "      <td>0.00159</td>\n",
       "      <td>0.055522</td>\n",
       "    </tr>\n",
       "    <tr>\n",
       "      <th>23917</th>\n",
       "      <td>18</td>\n",
       "      <td>721.308</td>\n",
       "      <td>316.0</td>\n",
       "      <td>2.200426</td>\n",
       "      <td>200</td>\n",
       "      <td>189.87</td>\n",
       "      <td>Zone 5(AnAerobic)</td>\n",
       "      <td>12</td>\n",
       "      <td>39.7</td>\n",
       "      <td>158</td>\n",
       "      <td>65</td>\n",
       "      <td>168</td>\n",
       "      <td>triathlon</td>\n",
       "      <td>Male</td>\n",
       "      <td>Latino</td>\n",
       "      <td>Owen</td>\n",
       "      <td>Myers</td>\n",
       "      <td>2012</td>\n",
       "      <td>0.00159</td>\n",
       "      <td>0.055426</td>\n",
       "    </tr>\n",
       "  </tbody>\n",
       "</table>\n",
       "</div>"
      ],
      "text/plain": [
       "       ID     time     RR       VO2  power      HR            HR_Zone  age  \\\n",
       "23834  18  694.860  320.0  2.204238    185  187.50  Zone 5(AnAerobic)   12   \n",
       "23835  18  695.176  316.0  2.204238    185  189.87  Zone 5(AnAerobic)   12   \n",
       "23917  18  721.308  316.0  2.200426    200  189.87  Zone 5(AnAerobic)   12   \n",
       "\n",
       "       Weight  Height  P_vt1  P_vt2      sport Gender Ethnicity First Name  \\\n",
       "23834    39.7     158     65    168  triathlon   Male    Latino       Owen   \n",
       "23835    39.7     158     65    168  triathlon   Male    Latino       Owen   \n",
       "23917    39.7     158     65    168  triathlon   Male    Latino       Owen   \n",
       "\n",
       "      Last Name   DOB      BMI   vo2_max  \n",
       "23834     Myers  2012  0.00159  0.055522  \n",
       "23835     Myers  2012  0.00159  0.055522  \n",
       "23917     Myers  2012  0.00159  0.055426  "
      ]
     },
     "execution_count": 55,
     "metadata": {},
     "output_type": "execute_result"
    }
   ],
   "source": [
    "Sorted_Combined=merged.sort_values(by =\"vo2_max\", ascending=False)\n",
    "Sorted_Combined.head(3)"
   ]
  },
  {
   "cell_type": "code",
   "execution_count": null,
   "id": "466c85e7-f4d0-459b-a197-08ec0723097e",
   "metadata": {},
   "outputs": [],
   "source": [
    "#13)Calculate the year of birth of each athlete and store it as a column in the tables."
   ]
  },
  {
   "cell_type": "code",
   "execution_count": 43,
   "id": "89e44d84-dcf5-4ca4-9ec1-b78617f2f12c",
   "metadata": {},
   "outputs": [
    {
     "name": "stdout",
     "output_type": "stream",
     "text": [
      "    ID  age  Weight  Height  P_vt1  P_vt2      sport  Gender Ethnicity  \\\n",
      "0    1   15    53.7     161     50    140    fencing  Female   African   \n",
      "1    2   15    56.2     162     80    127    fencing    Male   African   \n",
      "2    3   16    89.9     191    155    300    fencing    Male     White   \n",
      "3    4   16    76.5     180    215    275    fencing    Male     White   \n",
      "4    5   17    76.4     186    110    172    fencing  Female     White   \n",
      "5    6   17    65.6     169    131    186    fencing  Female     White   \n",
      "6    7   15    49.8     165     65    108    fencing  Female     White   \n",
      "7    8   15    51.2     165     80    133    fencing  Female     White   \n",
      "8    9   14    57.1     176     50    125    fencing  Female   African   \n",
      "9   10   14    58.8     177    101    162    fencing  Female   African   \n",
      "10  11   18    84.8     182    174    268      kayak  Female   African   \n",
      "11  12   18    86.0     183    170    294      kayak    Male   African   \n",
      "12  13   18    83.9     183    144    267      kayak  Female     Asian   \n",
      "13  14   13    62.3     171    140    170      kayak  Female     Asian   \n",
      "14  15   13    63.5     172    125    156      kayak    Male    Latino   \n",
      "15  16   16    70.4     182     79    175      kayak    Male    Latino   \n",
      "16  17   12    39.9     156    101    145  triathlon    Male    Latino   \n",
      "17  18   12    39.7     158     65    168  triathlon    Male    Latino   \n",
      "\n",
      "   First Name  Last Name   DOB  \n",
      "0      Olivia   Martinez  2009  \n",
      "1       Ethan   Reynolds  2009  \n",
      "2     Jackson     Harper  2008  \n",
      "3        Liam    Sanchez  2008  \n",
      "4         Ava   Thompson  2007  \n",
      "5      Sophia  Rodriguez  2007  \n",
      "6       Grace    Simmons  2009  \n",
      "7       Aiden    Bennett  2009  \n",
      "8       Chloe      Price  2010  \n",
      "9        Lily     Jordan  2010  \n",
      "10   Isabella    Griffin  2006  \n",
      "11      Caleb      Dixon  2006  \n",
      "12        Mia  Carpenter  2006  \n",
      "13     Harper   Mitchell  2011  \n",
      "14      Mason    Wallace  2011  \n",
      "15      Logan   Anderson  2008  \n",
      "16      Lucas     Foster  2012  \n",
      "17       Owen      Myers  2012  \n"
     ]
    }
   ],
   "source": [
    "Athletes['DOB']=datetime.now().year-Athletes['age']\n",
    "print(Athletes)"
   ]
  },
  {
   "cell_type": "code",
   "execution_count": null,
   "id": "6f75065c-20fc-400f-98a8-b55ec5dcabd3",
   "metadata": {},
   "outputs": [],
   "source": [
    "#14)What were the lowest 3 V02 Maxes recorded. Display all 3 names, sport and personal V02 Maxes."
   ]
  },
  {
   "cell_type": "code",
   "execution_count": 57,
   "id": "095dc92e-f105-4d83-8abc-00a59302f824",
   "metadata": {},
   "outputs": [
    {
     "data": {
      "text/html": [
       "<div>\n",
       "<style scoped>\n",
       "    .dataframe tbody tr th:only-of-type {\n",
       "        vertical-align: middle;\n",
       "    }\n",
       "\n",
       "    .dataframe tbody tr th {\n",
       "        vertical-align: top;\n",
       "    }\n",
       "\n",
       "    .dataframe thead th {\n",
       "        text-align: right;\n",
       "    }\n",
       "</style>\n",
       "<table border=\"1\" class=\"dataframe\">\n",
       "  <thead>\n",
       "    <tr style=\"text-align: right;\">\n",
       "      <th></th>\n",
       "      <th>ID</th>\n",
       "      <th>time</th>\n",
       "      <th>RR</th>\n",
       "      <th>VO2</th>\n",
       "      <th>power</th>\n",
       "      <th>HR</th>\n",
       "      <th>HR_Zone</th>\n",
       "      <th>age</th>\n",
       "      <th>Weight</th>\n",
       "      <th>Height</th>\n",
       "      <th>P_vt1</th>\n",
       "      <th>P_vt2</th>\n",
       "      <th>sport</th>\n",
       "      <th>Gender</th>\n",
       "      <th>Ethnicity</th>\n",
       "      <th>First Name</th>\n",
       "      <th>Last Name</th>\n",
       "      <th>DOB</th>\n",
       "      <th>BMI</th>\n",
       "      <th>vo2_max</th>\n",
       "    </tr>\n",
       "  </thead>\n",
       "  <tbody>\n",
       "    <tr>\n",
       "      <th>46781</th>\n",
       "      <td>9</td>\n",
       "      <td>-82.760</td>\n",
       "      <td>536.0</td>\n",
       "      <td>0.069354</td>\n",
       "      <td>0</td>\n",
       "      <td>111.94</td>\n",
       "      <td>Zone 2 (Aerobic/base)</td>\n",
       "      <td>14</td>\n",
       "      <td>57.1</td>\n",
       "      <td>176</td>\n",
       "      <td>50</td>\n",
       "      <td>125</td>\n",
       "      <td>fencing</td>\n",
       "      <td>Female</td>\n",
       "      <td>African</td>\n",
       "      <td>Chloe</td>\n",
       "      <td>Price</td>\n",
       "      <td>2010</td>\n",
       "      <td>0.001843</td>\n",
       "      <td>0.001215</td>\n",
       "    </tr>\n",
       "    <tr>\n",
       "      <th>46779</th>\n",
       "      <td>9</td>\n",
       "      <td>-83.824</td>\n",
       "      <td>532.0</td>\n",
       "      <td>0.069354</td>\n",
       "      <td>0</td>\n",
       "      <td>112.78</td>\n",
       "      <td>Zone 2 (Aerobic/base)</td>\n",
       "      <td>14</td>\n",
       "      <td>57.1</td>\n",
       "      <td>176</td>\n",
       "      <td>50</td>\n",
       "      <td>125</td>\n",
       "      <td>fencing</td>\n",
       "      <td>Female</td>\n",
       "      <td>African</td>\n",
       "      <td>Chloe</td>\n",
       "      <td>Price</td>\n",
       "      <td>2010</td>\n",
       "      <td>0.001843</td>\n",
       "      <td>0.001215</td>\n",
       "    </tr>\n",
       "    <tr>\n",
       "      <th>46780</th>\n",
       "      <td>9</td>\n",
       "      <td>-83.296</td>\n",
       "      <td>528.0</td>\n",
       "      <td>0.069354</td>\n",
       "      <td>0</td>\n",
       "      <td>113.64</td>\n",
       "      <td>Zone 2 (Aerobic/base)</td>\n",
       "      <td>14</td>\n",
       "      <td>57.1</td>\n",
       "      <td>176</td>\n",
       "      <td>50</td>\n",
       "      <td>125</td>\n",
       "      <td>fencing</td>\n",
       "      <td>Female</td>\n",
       "      <td>African</td>\n",
       "      <td>Chloe</td>\n",
       "      <td>Price</td>\n",
       "      <td>2010</td>\n",
       "      <td>0.001843</td>\n",
       "      <td>0.001215</td>\n",
       "    </tr>\n",
       "  </tbody>\n",
       "</table>\n",
       "</div>"
      ],
      "text/plain": [
       "       ID    time     RR       VO2  power      HR                HR_Zone  age  \\\n",
       "46781   9 -82.760  536.0  0.069354      0  111.94  Zone 2 (Aerobic/base)   14   \n",
       "46779   9 -83.824  532.0  0.069354      0  112.78  Zone 2 (Aerobic/base)   14   \n",
       "46780   9 -83.296  528.0  0.069354      0  113.64  Zone 2 (Aerobic/base)   14   \n",
       "\n",
       "       Weight  Height  P_vt1  P_vt2    sport  Gender Ethnicity First Name  \\\n",
       "46781    57.1     176     50    125  fencing  Female   African      Chloe   \n",
       "46779    57.1     176     50    125  fencing  Female   African      Chloe   \n",
       "46780    57.1     176     50    125  fencing  Female   African      Chloe   \n",
       "\n",
       "      Last Name   DOB       BMI   vo2_max  \n",
       "46781     Price  2010  0.001843  0.001215  \n",
       "46779     Price  2010  0.001843  0.001215  \n",
       "46780     Price  2010  0.001843  0.001215  "
      ]
     },
     "execution_count": 57,
     "metadata": {},
     "output_type": "execute_result"
    }
   ],
   "source": [
    "Sorted_Combined=merged.sort_values(by =\"vo2_max\", ascending=True)\n",
    "Sorted_Combined.head(3)"
   ]
  },
  {
   "cell_type": "code",
   "execution_count": null,
   "id": "c1a2f90e-4248-4c7c-9ea5-f244e59b6cce",
   "metadata": {},
   "outputs": [],
   "source": [
    "#15) Assign 1 of the following 5 heart rate zones for every record for all sports and athletes and add this as a column to every table:\n",
    "#Zone 1 (recovery/easy)       <100 HR max\n",
    "#Zone 2 (aerobic/base)        100-120 HR max\n",
    "#Zone 3 (tempo)        120-135 HR max\n",
    "#Zone 4 (lactate threshold)        135-155 HR max\n",
    "#Zone 5 (anaerobic)        155+ HR max and above"
   ]
  },
  {
   "cell_type": "code",
   "execution_count": 44,
   "id": "2d78fbf8-7726-4c74-b4a6-e22fc382f7f5",
   "metadata": {},
   "outputs": [
    {
     "name": "stdout",
     "output_type": "stream",
     "text": [
      "       ID     time     RR       VO2  power\n",
      "0      11 -168.600  727.0  0.287147      0\n",
      "1      11 -167.872  728.0  0.287147      0\n",
      "2      11 -167.148  724.0  0.287147      0\n",
      "3      11 -166.484  664.0  0.320580      0\n",
      "4      11 -165.836  648.0  0.320580      0\n",
      "...    ..      ...    ...       ...    ...\n",
      "27598  10  942.700  428.0  0.786363      0\n",
      "27599  10  943.124  424.0  0.786363      0\n",
      "27600  10  943.552  428.0  0.786363      0\n",
      "27601  10  943.976  424.0  0.786363      0\n",
      "27602  10  944.404  428.0  0.786363      0\n",
      "\n",
      "[52062 rows x 5 columns]\n",
      "       ID     time     RR       VO2  power      HR                     HR_Zone\n",
      "0      11 -168.600  727.0  0.287147      0   82.53      Zone 1 (recovery/easy)\n",
      "1      11 -167.872  728.0  0.287147      0   82.42      Zone 1 (recovery/easy)\n",
      "2      11 -167.148  724.0  0.287147      0   82.87      Zone 1 (recovery/easy)\n",
      "3      11 -166.484  664.0  0.320580      0   90.36      Zone 1 (recovery/easy)\n",
      "4      11 -165.836  648.0  0.320580      0   92.59      Zone 1 (recovery/easy)\n",
      "...    ..      ...    ...       ...    ...     ...                         ...\n",
      "27598  10  942.700  428.0  0.786363      0  140.19  Zone 4 (Lactate threshold)\n",
      "27599  10  943.124  424.0  0.786363      0  141.51  Zone 4 (Lactate threshold)\n",
      "27600  10  943.552  428.0  0.786363      0  140.19  Zone 4 (Lactate threshold)\n",
      "27601  10  943.976  424.0  0.786363      0  141.51  Zone 4 (Lactate threshold)\n",
      "27602  10  944.404  428.0  0.786363      0  140.19  Zone 4 (Lactate threshold)\n",
      "\n",
      "[52062 rows x 7 columns]\n"
     ]
    }
   ],
   "source": [
    "combined=pd.concat([Kayaking,Triathlon,Fencing])\n",
    "print(combined)\n",
    "\n",
    "def Heart_Rate(rr):\n",
    "    return round(60*1000/rr,2)\n",
    "def Heartrate_Zone(hr):\n",
    "    if hr<100:\n",
    "        return 'Zone 1 (recovery/easy)'\n",
    "    elif hr>=100 and hr<120:\n",
    "        return 'Zone 2 (Aerobic/base)'\n",
    "    elif hr>=120 and hr<135:\n",
    "        return 'Zone 3 (tempo)'\n",
    "    elif hr>=135 and hr<155:\n",
    "        return 'Zone 4 (Lactate threshold)'\n",
    "    else:\n",
    "        return 'Zone 5(AnAerobic)'\n",
    "combined['HR']=combined['RR'].apply(Heart_Rate)\n",
    "combined['HR_Zone']=combined['HR'].apply(Heartrate_Zone)\n",
    "#pd.set_option('display.max_rows',1000)\n",
    "print(combined)"
   ]
  },
  {
   "cell_type": "code",
   "execution_count": 63,
   "id": "1a61e058-1bc9-4e5d-98dc-3b49557c441e",
   "metadata": {},
   "outputs": [
    {
     "name": "stdout",
     "output_type": "stream",
     "text": [
      "       ID     time     RR       VO2  power      HR  \\\n",
      "0      11 -168.600  727.0  0.287147      0   82.53   \n",
      "1      11 -167.872  728.0  0.287147      0   82.42   \n",
      "2      11 -167.148  724.0  0.287147      0   82.87   \n",
      "3      11 -166.484  664.0  0.320580      0   90.36   \n",
      "4      11 -165.836  648.0  0.320580      0   92.59   \n",
      "...    ..      ...    ...       ...    ...     ...   \n",
      "52057  10  942.700  428.0  0.786363      0  140.19   \n",
      "52058  10  943.124  424.0  0.786363      0  141.51   \n",
      "52059  10  943.552  428.0  0.786363      0  140.19   \n",
      "52060  10  943.976  424.0  0.786363      0  141.51   \n",
      "52061  10  944.404  428.0  0.786363      0  140.19   \n",
      "\n",
      "                          HR_Zone  age  Weight  Height  ...  P_vt2    sport  \\\n",
      "0          Zone 1 (recovery/easy)   18    84.8     182  ...    268    kayak   \n",
      "1          Zone 1 (recovery/easy)   18    84.8     182  ...    268    kayak   \n",
      "2          Zone 1 (recovery/easy)   18    84.8     182  ...    268    kayak   \n",
      "3          Zone 1 (recovery/easy)   18    84.8     182  ...    268    kayak   \n",
      "4          Zone 1 (recovery/easy)   18    84.8     182  ...    268    kayak   \n",
      "...                           ...  ...     ...     ...  ...    ...      ...   \n",
      "52057  Zone 4 (Lactate threshold)   14    58.8     177  ...    162  fencing   \n",
      "52058  Zone 4 (Lactate threshold)   14    58.8     177  ...    162  fencing   \n",
      "52059  Zone 4 (Lactate threshold)   14    58.8     177  ...    162  fencing   \n",
      "52060  Zone 4 (Lactate threshold)   14    58.8     177  ...    162  fencing   \n",
      "52061  Zone 4 (Lactate threshold)   14    58.8     177  ...    162  fencing   \n",
      "\n",
      "       Gender Ethnicity First Name Last Name   DOB       BMI   vo2_max  HR_MAX  \n",
      "0      Female   African   Isabella   Griffin  2006  0.002560  0.003386     202  \n",
      "1      Female   African   Isabella   Griffin  2006  0.002560  0.003386     202  \n",
      "2      Female   African   Isabella   Griffin  2006  0.002560  0.003386     202  \n",
      "3      Female   African   Isabella   Griffin  2006  0.002560  0.003780     202  \n",
      "4      Female   African   Isabella   Griffin  2006  0.002560  0.003780     202  \n",
      "...       ...       ...        ...       ...   ...       ...       ...     ...  \n",
      "52057  Female   African       Lily    Jordan  2010  0.001877  0.013374     206  \n",
      "52058  Female   African       Lily    Jordan  2010  0.001877  0.013374     206  \n",
      "52059  Female   African       Lily    Jordan  2010  0.001877  0.013374     206  \n",
      "52060  Female   African       Lily    Jordan  2010  0.001877  0.013374     206  \n",
      "52061  Female   African       Lily    Jordan  2010  0.001877  0.013374     206  \n",
      "\n",
      "[52062 rows x 21 columns]\n"
     ]
    }
   ],
   "source": [
    "merged['HR_MAX']=220-merged['age']\n",
    "print(merged)"
   ]
  },
  {
   "cell_type": "code",
   "execution_count": null,
   "id": "3df4d03b-374c-4ab4-80cb-8bffd4c92af2",
   "metadata": {},
   "outputs": [],
   "source": []
  },
  {
   "cell_type": "code",
   "execution_count": null,
   "id": "6fd3bcaf-c728-4346-820c-c212f7632e05",
   "metadata": {},
   "outputs": [],
   "source": [
    "#16)Calculate the BMI of every athlete and display it as a list?"
   ]
  },
  {
   "cell_type": "code",
   "execution_count": 45,
   "id": "18edaabb-9e9c-47ba-aa35-bf58ea030b4b",
   "metadata": {},
   "outputs": [
    {
     "name": "stdout",
     "output_type": "stream",
     "text": [
      "    ID  age  Weight  Height  P_vt1  P_vt2      sport  Gender Ethnicity  \\\n",
      "0    1   15    53.7     161     50    140    fencing  Female   African   \n",
      "1    2   15    56.2     162     80    127    fencing    Male   African   \n",
      "2    3   16    89.9     191    155    300    fencing    Male     White   \n",
      "3    4   16    76.5     180    215    275    fencing    Male     White   \n",
      "4    5   17    76.4     186    110    172    fencing  Female     White   \n",
      "5    6   17    65.6     169    131    186    fencing  Female     White   \n",
      "6    7   15    49.8     165     65    108    fencing  Female     White   \n",
      "7    8   15    51.2     165     80    133    fencing  Female     White   \n",
      "8    9   14    57.1     176     50    125    fencing  Female   African   \n",
      "9   10   14    58.8     177    101    162    fencing  Female   African   \n",
      "10  11   18    84.8     182    174    268      kayak  Female   African   \n",
      "11  12   18    86.0     183    170    294      kayak    Male   African   \n",
      "12  13   18    83.9     183    144    267      kayak  Female     Asian   \n",
      "13  14   13    62.3     171    140    170      kayak  Female     Asian   \n",
      "14  15   13    63.5     172    125    156      kayak    Male    Latino   \n",
      "15  16   16    70.4     182     79    175      kayak    Male    Latino   \n",
      "16  17   12    39.9     156    101    145  triathlon    Male    Latino   \n",
      "17  18   12    39.7     158     65    168  triathlon    Male    Latino   \n",
      "\n",
      "   First Name  Last Name   DOB       BMI  \n",
      "0      Olivia   Martinez  2009  0.002072  \n",
      "1       Ethan   Reynolds  2009  0.002141  \n",
      "2     Jackson     Harper  2008  0.002464  \n",
      "3        Liam    Sanchez  2008  0.002361  \n",
      "4         Ava   Thompson  2007  0.002208  \n",
      "5      Sophia  Rodriguez  2007  0.002297  \n",
      "6       Grace    Simmons  2009  0.001829  \n",
      "7       Aiden    Bennett  2009  0.001881  \n",
      "8       Chloe      Price  2010  0.001843  \n",
      "9        Lily     Jordan  2010  0.001877  \n",
      "10   Isabella    Griffin  2006  0.002560  \n",
      "11      Caleb      Dixon  2006  0.002568  \n",
      "12        Mia  Carpenter  2006  0.002505  \n",
      "13     Harper   Mitchell  2011  0.002131  \n",
      "14      Mason    Wallace  2011  0.002146  \n",
      "15      Logan   Anderson  2008  0.002125  \n",
      "16      Lucas     Foster  2012  0.001640  \n",
      "17       Owen      Myers  2012  0.001590  \n"
     ]
    }
   ],
   "source": [
    "Athletes['BMI']=Athletes['Weight']/(Athletes['Height']**2)\n",
    "print(Athletes)"
   ]
  },
  {
   "cell_type": "code",
   "execution_count": 58,
   "id": "600881c5-8bf4-471c-b965-2c8c3950d089",
   "metadata": {},
   "outputs": [],
   "source": [
    "#print(merged)\n",
    "merged['vo2_max']=merged['VO2']/merged['Weight']\n",
    "Sorted_Combined=merged.sort_values(by =\"vo2_max\", ascending=True)\n",
    "#Sorted_Combined.head(3)\n",
    "#print(merged)"
   ]
  },
  {
   "cell_type": "code",
   "execution_count": null,
   "id": "b5f0054d-ced2-41b1-b92e-9524b11fc3fe",
   "metadata": {},
   "outputs": [],
   "source": []
  }
 ],
 "metadata": {
  "kernelspec": {
   "display_name": "Python 3 (ipykernel)",
   "language": "python",
   "name": "python3"
  },
  "language_info": {
   "codemirror_mode": {
    "name": "ipython",
    "version": 3
   },
   "file_extension": ".py",
   "mimetype": "text/x-python",
   "name": "python",
   "nbconvert_exporter": "python",
   "pygments_lexer": "ipython3",
   "version": "3.11.7"
  }
 },
 "nbformat": 4,
 "nbformat_minor": 5
}
