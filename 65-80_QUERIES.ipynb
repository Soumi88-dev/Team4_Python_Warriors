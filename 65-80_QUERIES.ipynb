{
 "cells": [
  {
   "cell_type": "code",
   "execution_count": 1,
   "id": "80dcace7-2cfd-48e8-9e2a-89a03aa9132a",
   "metadata": {},
   "outputs": [],
   "source": [
    "import pandas as pd\n",
    "import numpy as np\n",
    "import pandas as pd\n",
    "import matplotlib\n",
    "import matplotlib.pyplot as plt\n",
    "import seaborn as sns\n",
    "import plotly.graph_objects as go"
   ]
  },
  {
   "cell_type": "code",
   "execution_count": 3,
   "id": "005484ec-d115-48e2-bbf5-aab4aed1f4c2",
   "metadata": {},
   "outputs": [],
   "source": [
    "dataset=pd.ExcelFile(\"C:/Users/NagarjunaPujala/Downloads/python_hackathon/V02Max_Combined.xlsx\")"
   ]
  },
  {
   "cell_type": "code",
   "execution_count": 5,
   "id": "e10b78cc-d615-4e88-bfea-26dfd9c438d3",
   "metadata": {},
   "outputs": [
    {
     "name": "stderr",
     "output_type": "stream",
     "text": [
      "C:\\Users\\NagarjunaPujala\\anaconda3\\Lib\\site-packages\\openpyxl\\worksheet\\_read_only.py:81: UserWarning: Unknown extension is not supported and will be removed\n",
      "  for idx, row in parser.parse():\n",
      "C:\\Users\\NagarjunaPujala\\anaconda3\\Lib\\site-packages\\openpyxl\\worksheet\\_read_only.py:81: UserWarning: Unknown extension is not supported and will be removed\n",
      "  for idx, row in parser.parse():\n",
      "C:\\Users\\NagarjunaPujala\\anaconda3\\Lib\\site-packages\\openpyxl\\worksheet\\_read_only.py:81: UserWarning: Unknown extension is not supported and will be removed\n",
      "  for idx, row in parser.parse():\n"
     ]
    }
   ],
   "source": [
    "Athletes=pd.read_excel(dataset, sheet_name='Athletes')\n",
    "Kayaking=pd.read_excel(dataset, sheet_name='Kayaking')\n",
    "Triathlon=pd.read_excel(dataset, sheet_name='Triathlon')\n",
    "Fencing=pd.read_excel(dataset, sheet_name='Fencing')"
   ]
  },
  {
   "cell_type": "code",
   "execution_count": 7,
   "id": "2182d104-fd7e-4871-8a90-22d92fc62f77",
   "metadata": {},
   "outputs": [
    {
     "name": "stdout",
     "output_type": "stream",
     "text": [
      "       ID     time     RR       VO2  power\n",
      "0      11 -168.600  727.0  0.287147      0\n",
      "1      11 -167.872  728.0  0.287147      0\n",
      "2      11 -167.148  724.0  0.287147      0\n",
      "3      11 -166.484  664.0  0.320580      0\n",
      "4      11 -165.836  648.0  0.320580      0\n",
      "...    ..      ...    ...       ...    ...\n",
      "27598  10  942.700  428.0  0.786363      0\n",
      "27599  10  943.124  424.0  0.786363      0\n",
      "27600  10  943.552  428.0  0.786363      0\n",
      "27601  10  943.976  424.0  0.786363      0\n",
      "27602  10  944.404  428.0  0.786363      0\n",
      "\n",
      "[52062 rows x 5 columns]\n"
     ]
    }
   ],
   "source": [
    "combined=pd.concat([Kayaking,Triathlon,Fencing])\n",
    "print(combined)"
   ]
  },
  {
   "cell_type": "code",
   "execution_count": 9,
   "id": "316583fd-53d7-470a-915d-0c6ab2663eb6",
   "metadata": {},
   "outputs": [
    {
     "name": "stdout",
     "output_type": "stream",
     "text": [
      "       ID     time     RR       VO2  power  age  Weight  Height  P_vt1  P_vt2  \\\n",
      "0      11 -168.600  727.0  0.287147      0   18    84.8     182    174    268   \n",
      "1      11 -167.872  728.0  0.287147      0   18    84.8     182    174    268   \n",
      "2      11 -167.148  724.0  0.287147      0   18    84.8     182    174    268   \n",
      "3      11 -166.484  664.0  0.320580      0   18    84.8     182    174    268   \n",
      "4      11 -165.836  648.0  0.320580      0   18    84.8     182    174    268   \n",
      "...    ..      ...    ...       ...    ...  ...     ...     ...    ...    ...   \n",
      "52057  10  942.700  428.0  0.786363      0   14    58.8     177    101    162   \n",
      "52058  10  943.124  424.0  0.786363      0   14    58.8     177    101    162   \n",
      "52059  10  943.552  428.0  0.786363      0   14    58.8     177    101    162   \n",
      "52060  10  943.976  424.0  0.786363      0   14    58.8     177    101    162   \n",
      "52061  10  944.404  428.0  0.786363      0   14    58.8     177    101    162   \n",
      "\n",
      "         sport  Gender Ethnicity First Name Last Name  \n",
      "0        kayak  Female   African   Isabella   Griffin  \n",
      "1        kayak  Female   African   Isabella   Griffin  \n",
      "2        kayak  Female   African   Isabella   Griffin  \n",
      "3        kayak  Female   African   Isabella   Griffin  \n",
      "4        kayak  Female   African   Isabella   Griffin  \n",
      "...        ...     ...       ...        ...       ...  \n",
      "52057  fencing  Female   African       Lily    Jordan  \n",
      "52058  fencing  Female   African       Lily    Jordan  \n",
      "52059  fencing  Female   African       Lily    Jordan  \n",
      "52060  fencing  Female   African       Lily    Jordan  \n",
      "52061  fencing  Female   African       Lily    Jordan  \n",
      "\n",
      "[52062 rows x 15 columns]\n"
     ]
    }
   ],
   "source": [
    "merged=pd.merge(combined,Athletes,on='ID')\n",
    "print(merged)"
   ]
  },
  {
   "cell_type": "markdown",
   "id": "a039bca5-6acf-4c17-8a8c-1c5f812a79a4",
   "metadata": {},
   "source": [
    "#### 65.Query:\n",
    "   [ 1,  2,  3,  4,  5],\n",
    "   [ 6,  7,  8,  9, 10],\n",
    "   [11, 12, 13, 14, 15],\n",
    "   [16, 17, 18, 19, 20],\n",
    "   [21, 22, 23, 24, 25],\n",
    "   [26, 27, 28, 29, 30]  Use array slicing to display elements 4,7,10,17."
   ]
  },
  {
   "cell_type": "code",
   "execution_count": 14,
   "id": "34cba652-0ab4-464f-bfa1-6ba7aae9bf2b",
   "metadata": {},
   "outputs": [
    {
     "name": "stdout",
     "output_type": "stream",
     "text": [
      "4 , 7 , 10 , 17\n"
     ]
    }
   ],
   "source": [
    "# solution:\n",
    "fived_array=np.array([ [ 1,  2,  3,  4,  5],\n",
    "   [ 6,  7,  8,  9, 10],\n",
    "   [11, 12, 13, 14, 15],\n",
    "   [16, 17, 18, 19, 20],\n",
    "   [21, 22, 23, 24, 25],\n",
    "   [26, 27, 28, 29, 30] ])\n",
    "print(fived_array[0][3],\",\",fived_array[1][1],\",\",fived_array[1][4],\",\",fived_array[3][1])"
   ]
  },
  {
   "cell_type": "markdown",
   "id": "5272a747-0048-4941-b3d2-a9dfa20940aa",
   "metadata": {},
   "source": [
    "#### 66.Query: On average, how long did each participant spend at 200 watts?¶"
   ]
  },
  {
   "cell_type": "code",
   "execution_count": 97,
   "id": "078b6407-4022-4a4c-a040-ab9a577154b9",
   "metadata": {},
   "outputs": [
    {
     "name": "stdout",
     "output_type": "stream",
     "text": [
      "ID\n",
      "3     3.247333\n",
      "4     3.313333\n",
      "5     3.282667\n",
      "6     3.278444\n",
      "9     0.301111\n",
      "10    1.753778\n",
      "11    3.312000\n",
      "12    3.254889\n",
      "13    3.374667\n",
      "14    3.315778\n",
      "15    3.319333\n",
      "16    3.314444\n",
      "18    1.465333\n",
      "Name: time, dtype: float64\n"
     ]
    }
   ],
   "source": [
    "#solution:\n",
    "#giving condition to filter participants for power 200 watts\n",
    "df = combined.loc[combined['power'] == 200]\n",
    "#finding the total time of each participants\n",
    "result=df.groupby(['ID'])['time'].max()-df.groupby(['ID'])['time'].min()\n",
    "#finding number of unique ids present\n",
    "A=len(pd.unique(combined['ID']))\n",
    "#printing average time  of each participant\n",
    "print(result/A)"
   ]
  },
  {
   "cell_type": "markdown",
   "id": "a4b0a3be-c2e4-4c2e-82b6-549acd5d773c",
   "metadata": {},
   "source": [
    "#### 67.Query:Athletes from which sport had the highest average cardiorespiratory fitness in terms of v02 max?"
   ]
  },
  {
   "cell_type": "code",
   "execution_count": 162,
   "id": "bc1ed14f-fa9c-400c-95c4-4621ed910252",
   "metadata": {},
   "outputs": [
    {
     "name": "stdout",
     "output_type": "stream",
     "text": [
      "triathlon sport had the highest average cardiorespiratory fitness in terms of vo2 max with value: 0.03111222646055009\n"
     ]
    }
   ],
   "source": [
    "#solution:\n",
    "sum_vo2=merged.groupby(['ID'])['VO2'].sum()\n",
    "#df1=pd.merge(sum_vo2,Athletes,on='ID',how='inner')[['ID','VO2','sport','Weight']]\n",
    "for index,row in df1.iterrows():\n",
    "     merged.at[index,'max_vo2']=round(merged.at[index,'VO2']/merged.at[index,'Weight'],2)\n",
    "     df1=merged.groupby('sport')['max_vo2'].mean()\n",
    "print(df1.idxmax(),\"sport had the highest average cardiorespiratory fitness in terms of vo2 max with value:\",df1.max())"
   ]
  },
  {
   "cell_type": "markdown",
   "id": "aae3d218-6606-4c53-99eb-e35b3530ad94",
   "metadata": {},
   "source": [
    "#### 68.Query: What % of athletes exceeded 90% of max HR? (Max HR is calculated as 220-Age)"
   ]
  },
  {
   "cell_type": "code",
   "execution_count": 57,
   "id": "ece6fbc9-72e1-4004-8fed-f80488d461f1",
   "metadata": {},
   "outputs": [
    {
     "name": "stdout",
     "output_type": "stream",
     "text": [
      "solution\n",
      "Exceeds 90%        94.44%\n",
      "not Exceeds 90%     5.56%\n",
      "Name: proportion, dtype: object\n"
     ]
    }
   ],
   "source": [
    "#solution:\n",
    "merged['HR']= (60000/merged['RR']).round(2)\n",
    "R_11= merged.groupby(['sport','ID'])['HR'].max()\n",
    "df1=pd.merge(R_11,Athletes,on='ID',how='inner')[['ID','HR','sport','age']]\n",
    "for index,row in df1.iterrows():\n",
    "    df1['max_HR']= abs(df1['age'].subtract(220))\n",
    "df1.loc[df1['HR']>0.9*df1['max_HR'],\"solution\"]=\"Exceeds 90%\"\n",
    "df1.loc[df1['HR']<=0.9*df1['max_HR'],\"solution\"]=\"not Exceeds 90%\"\n",
    "print(df1['solution'].value_counts(normalize=True).mul(100).round(2).astype(str)+'%')"
   ]
  },
  {
   "cell_type": "markdown",
   "id": "9c1eabce-b4ac-405b-ad46-9369682907cc",
   "metadata": {},
   "source": [
    "#### 69.Query:What was the lowest heart rate recorded at a power wattage of 200\n"
   ]
  },
  {
   "cell_type": "code",
   "execution_count": 77,
   "id": "33dda884-b96e-49b5-8e14-706d53e244a9",
   "metadata": {},
   "outputs": [
    {
     "name": "stdout",
     "output_type": "stream",
     "text": [
      "HR    71.77\n",
      "dtype: float64 was the lowest heart rate recorded at a power wattage of 200\n"
     ]
    }
   ],
   "source": [
    "#solution:\n",
    "df = merged.loc[merged['power'] == 200]\n",
    "print(df[['HR']].min(),\"was the lowest heart rate recorded at a power wattage of 200\")"
   ]
  },
  {
   "cell_type": "markdown",
   "id": "208d3158-5123-4cb8-a1d5-42807b782401",
   "metadata": {},
   "source": [
    "#### 70.Query: On Average how long did most athletes spend at 75% of MaxHR (Max HR is calculated as 220-Age)"
   ]
  },
  {
   "cell_type": "code",
   "execution_count": 130,
   "id": "9572e7df-0e6b-4b7e-b071-4216215349a9",
   "metadata": {},
   "outputs": [
    {
     "data": {
      "text/plain": [
       "515.1886666666667"
      ]
     },
     "execution_count": 130,
     "metadata": {},
     "output_type": "execute_result"
    }
   ],
   "source": [
    "#solution:\n",
    "merged['75%Max_HR']=round(merged['Max_HR']*0.75,0)\n",
    "df1=merged.loc[merged['75%Max_HR']==merged['HR']].reset_index()\n",
    "df2=df1.groupby('ID')['time'].max()-df1.groupby('ID')['time'].min()\n",
    "df2.mean()"
   ]
  },
  {
   "cell_type": "markdown",
   "id": "0b3fb102-db3a-4365-a32a-da2dc3d70253",
   "metadata": {},
   "source": [
    "#### 71.Query: Create a crosstab to show each sport as a column and each heart rate zone as rows with counts of rows that satisfy each condition as values"
   ]
  },
  {
   "cell_type": "code",
   "execution_count": 128,
   "id": "d7d0a82f-16ab-4404-834f-8948ff481adf",
   "metadata": {},
   "outputs": [
    {
     "name": "stdout",
     "output_type": "stream",
     "text": [
      "HR ZONE    ZONE_1  ZONE_2  ZONE_3  ZONE_4  ZONE_5\n",
      "sport                                            \n",
      "fencing      2258    3433    4269    5833   11810\n",
      "kayak        1456    2621    3434    4127    7128\n",
      "triathlon     464     318    1089     813    1861\n"
     ]
    }
   ],
   "source": [
    "merged.loc[(merged['HR']<=100),\"HR ZONE\"]=\"ZONE_1\"    \n",
    "merged.loc[(merged['HR']>=100) & (merged['HR']<=120),\"HR ZONE\"]=\"ZONE_2\"\n",
    "merged.loc[(merged['HR']>=120) & (merged['HR']<=135),\"HR ZONE\"]=\"ZONE_3\"\n",
    "merged.loc[(merged['HR']>=135) & (merged['HR']<=155),\"HR ZONE\"]=\"ZONE_4\"\n",
    "merged.loc[(merged['HR']>=155) ,\"HR ZONE\"]=\"ZONE_5\"\n",
    "#sol as per query\n",
    "result = pd.crosstab(merged['sport'], merged['HR ZONE'])\n",
    "print(result)\n"
   ]
  },
  {
   "cell_type": "markdown",
   "id": "ad4d5abe-0480-4b1e-80a4-4a098f4abbd9",
   "metadata": {},
   "source": [
    "#### 72.Query: Provide an example of a lambda function that multiplies any 2 input values."
   ]
  },
  {
   "cell_type": "code",
   "execution_count": 121,
   "id": "aa560297-f987-46c8-9721-65d28e8f98b9",
   "metadata": {},
   "outputs": [
    {
     "name": "stdin",
     "output_type": "stream",
     "text": [
      "Enter X value:  20\n",
      "Enter Y value:  30\n"
     ]
    },
    {
     "name": "stdout",
     "output_type": "stream",
     "text": [
      "The multipliaction of the X & Y values: 600.0\n"
     ]
    }
   ],
   "source": [
    "#solution:\n",
    "multi=lambda X,Y:X*Y\n",
    "X = float(input('Enter X value: '))\n",
    "Y = float(input('Enter Y value: '))\n",
    "result = multi(X, Y)\n",
    "print(\"The multipliaction of the X & Y values:\", result)"
   ]
  },
  {
   "cell_type": "markdown",
   "id": "7556288f-ccb1-4efa-beae-3b9328605b40",
   "metadata": {},
   "source": [
    "#### 73.Query:How long was athlete 17s warm up\n"
   ]
  },
  {
   "cell_type": "code",
   "execution_count": 124,
   "id": "4d2b9453-a1d9-4a1e-bbb1-74780d98cc87",
   "metadata": {},
   "outputs": [
    {
     "name": "stdout",
     "output_type": "stream",
     "text": [
      "182.408 Seconds long was athlete 17s warm up\n"
     ]
    }
   ],
   "source": [
    "#solution:\n",
    "df1=merged.loc[(merged['time']<=0)&(merged['ID']==17)].reset_index()\n",
    "df2=df1['time'].max()-df1['time'].min()\n",
    "print(df2,\"Seconds long was athlete 17s warm up\")"
   ]
  },
  {
   "cell_type": "markdown",
   "id": "32a40f57-b323-4598-bb53-18949cfd1a93",
   "metadata": {},
   "source": [
    "#### 74 Query: Take a students full name and reverse it using a for loop"
   ]
  },
  {
   "cell_type": "code",
   "execution_count": 138,
   "id": "b5e3cfa7-6ff8-4d87-8113-a33727304d49",
   "metadata": {},
   "outputs": [
    {
     "name": "stdout",
     "output_type": "stream",
     "text": [
      "    ID         full_name           reverse\n",
      "0    1   Olivia Martinez   zenitraM aivilO\n",
      "1    2    Ethan Reynolds    sdlonyeR nahtE\n",
      "2    3    Jackson Harper    repraH noskcaJ\n",
      "3    4      Liam Sanchez      zehcnaS maiL\n",
      "4    5      Ava Thompson      nospmohT avA\n",
      "5    6  Sophia Rodriguez  zeugirdoR aihpoS\n",
      "6    7     Grace Simmons     snommiS ecarG\n",
      "7    8     Aiden Bennett     ttenneB nediA\n",
      "8    9       Chloe Price       ecirP eolhC\n",
      "9   10       Lily Jordan       nadroJ yliL\n",
      "10  11  Isabella Griffin  niffirG allebasI\n",
      "11  12       Caleb Dixon       noxiD belaC\n",
      "12  13     Mia Carpenter     retnepraC aiM\n",
      "13  14   Harper Mitchell   llehctiM repraH\n",
      "14  15     Mason Wallace     ecallaW nosaM\n",
      "15  16    Logan Anderson    nosrednA nagoL\n",
      "16  17      Lucas Foster      retsoF sacuL\n",
      "17  18        Owen Myers        sreyM newO\n"
     ]
    }
   ],
   "source": [
    "#solution:\n",
    "Athletes['full_name'] = Athletes['First Name'] + ' ' + Athletes['Last Name']\n",
    "reverse_list=[]\n",
    "for names in Athletes['full_name']:\n",
    "    reverse_name=\"\"\n",
    "    for char in names:\n",
    "         reverse_name= char + reverse_name\n",
    "    reverse_list.append(reverse_name)\n",
    "Athletes['reverse']=reverse_list     \n",
    "print(Athletes[['ID','full_name','reverse']])     "
   ]
  },
  {
   "cell_type": "markdown",
   "id": "2f28c3f6-2f47-43e7-80cb-281862c735e0",
   "metadata": {},
   "source": [
    "#### 75 Query:What was the maximum heart rate recorded during the test. Which athlete did it belong to? Display name, sport and HR"
   ]
  },
  {
   "cell_type": "code",
   "execution_count": 146,
   "id": "1d721f13-fb9d-4019-adde-004e91dd5a6a",
   "metadata": {},
   "outputs": [
    {
     "name": "stdout",
     "output_type": "stream",
     "text": [
      "   index  ID      full_name    sport     HR\n",
      "0  44041   7  Grace Simmons  fencing  238.0\n"
     ]
    }
   ],
   "source": [
    "#solution:\n",
    "df1=pd.merge(combined,Athletes,on='ID',how='inner')[['ID','full_name','sport','HR']]\n",
    "df2=df1.loc[(df1['HR']==df1['HR'].max())].reset_index()\n",
    "print(df2)\n"
   ]
  },
  {
   "cell_type": "markdown",
   "id": "ceb84ed1-c13a-41e1-9951-5032ec964029",
   "metadata": {},
   "source": [
    "#### 76 Query: np.arange(1,31).reshape(6,5),find array slicing to get the elements 2,5,13,25,30."
   ]
  },
  {
   "cell_type": "code",
   "execution_count": 149,
   "id": "59af11c0-afbf-4f26-b65e-8bede71c5874",
   "metadata": {},
   "outputs": [
    {
     "name": "stdout",
     "output_type": "stream",
     "text": [
      "[[ 1  2  3  4  5]\n",
      " [ 6  7  8  9 10]\n",
      " [11 12 13 14 15]\n",
      " [16 17 18 19 20]\n",
      " [21 22 23 24 25]\n",
      " [26 27 28 29 30]]\n",
      "2 , 5 , 13 , 25 , 30\n"
     ]
    }
   ],
   "source": [
    "#solution:\n",
    "x= np.arange(1,31).reshape(6,5)\n",
    "print(x)\n",
    "print(x[0][1],\",\",x[0][4],\",\",x[2][2],\",\",x[4][4],\",\",x[5][4])"
   ]
  },
  {
   "cell_type": "markdown",
   "id": "0e89ec2e-490b-4e26-859e-a625c15d7d01",
   "metadata": {},
   "source": [
    "#### 77 Query: Display a violin chart to show distribution of VO2Max against age."
   ]
  },
  {
   "cell_type": "code",
   "execution_count": 158,
   "id": "c3276a63-b5fb-4732-aa3c-79786c261bd7",
   "metadata": {},
   "outputs": [
    {
     "ename": "KeyError",
     "evalue": "'max_vo2'",
     "output_type": "error",
     "traceback": [
      "\u001b[1;31m---------------------------------------------------------------------------\u001b[0m",
      "\u001b[1;31mKeyError\u001b[0m                                  Traceback (most recent call last)",
      "File \u001b[1;32m~\\anaconda3\\Lib\\site-packages\\pandas\\core\\indexes\\base.py:3805\u001b[0m, in \u001b[0;36mIndex.get_loc\u001b[1;34m(self, key)\u001b[0m\n\u001b[0;32m   3804\u001b[0m \u001b[38;5;28;01mtry\u001b[39;00m:\n\u001b[1;32m-> 3805\u001b[0m     \u001b[38;5;28;01mreturn\u001b[39;00m \u001b[38;5;28mself\u001b[39m\u001b[38;5;241m.\u001b[39m_engine\u001b[38;5;241m.\u001b[39mget_loc(casted_key)\n\u001b[0;32m   3806\u001b[0m \u001b[38;5;28;01mexcept\u001b[39;00m \u001b[38;5;167;01mKeyError\u001b[39;00m \u001b[38;5;28;01mas\u001b[39;00m err:\n",
      "File \u001b[1;32mindex.pyx:167\u001b[0m, in \u001b[0;36mpandas._libs.index.IndexEngine.get_loc\u001b[1;34m()\u001b[0m\n",
      "File \u001b[1;32mindex.pyx:196\u001b[0m, in \u001b[0;36mpandas._libs.index.IndexEngine.get_loc\u001b[1;34m()\u001b[0m\n",
      "File \u001b[1;32mpandas\\\\_libs\\\\hashtable_class_helper.pxi:7081\u001b[0m, in \u001b[0;36mpandas._libs.hashtable.PyObjectHashTable.get_item\u001b[1;34m()\u001b[0m\n",
      "File \u001b[1;32mpandas\\\\_libs\\\\hashtable_class_helper.pxi:7089\u001b[0m, in \u001b[0;36mpandas._libs.hashtable.PyObjectHashTable.get_item\u001b[1;34m()\u001b[0m\n",
      "\u001b[1;31mKeyError\u001b[0m: 'max_vo2'",
      "\nThe above exception was the direct cause of the following exception:\n",
      "\u001b[1;31mKeyError\u001b[0m                                  Traceback (most recent call last)",
      "Cell \u001b[1;32mIn[158], line 7\u001b[0m\n\u001b[0;32m      1\u001b[0m \u001b[38;5;66;03m#solution:\u001b[39;00m\n\u001b[0;32m      2\u001b[0m \u001b[38;5;66;03m#sum_vo2=All_sports.groupby(['sport','ID'])['VO2'].sum()\u001b[39;00m\n\u001b[0;32m      3\u001b[0m \u001b[38;5;66;03m#df1=pd.merge(sum_vo2,Athletes,on='ID',how='inner')[['ID','age','VO2','sport','Weight']]\u001b[39;00m\n\u001b[0;32m      4\u001b[0m \u001b[38;5;66;03m#for index,row in df1.iterrows():\u001b[39;00m\n\u001b[0;32m      5\u001b[0m    \u001b[38;5;66;03m#   df1.at[index,'max_vo2']=round(df1.at[index,'VO2']/df1.at[index,'Weight'],2)\u001b[39;00m\n\u001b[0;32m      6\u001b[0m plt\u001b[38;5;241m.\u001b[39mtitle(\u001b[38;5;124m\"\u001b[39m\u001b[38;5;124mDistribution of VO2Max against age.\u001b[39m\u001b[38;5;124m\"\u001b[39m)\n\u001b[1;32m----> 7\u001b[0m sns\u001b[38;5;241m.\u001b[39mviolinplot(x\u001b[38;5;241m=\u001b[39mmerged[\u001b[38;5;124m'\u001b[39m\u001b[38;5;124mage\u001b[39m\u001b[38;5;124m'\u001b[39m],y\u001b[38;5;241m=\u001b[39mmerged[\u001b[38;5;124m'\u001b[39m\u001b[38;5;124mmax_vo2\u001b[39m\u001b[38;5;124m'\u001b[39m],hue\u001b[38;5;241m=\u001b[39mmerged[\u001b[38;5;124m'\u001b[39m\u001b[38;5;124mage\u001b[39m\u001b[38;5;124m'\u001b[39m],palette\u001b[38;5;241m=\u001b[39m\u001b[38;5;124m\"\u001b[39m\u001b[38;5;124mRdPu\u001b[39m\u001b[38;5;124m\"\u001b[39m,data\u001b[38;5;241m=\u001b[39mdf1)\n",
      "File \u001b[1;32m~\\anaconda3\\Lib\\site-packages\\pandas\\core\\frame.py:4102\u001b[0m, in \u001b[0;36mDataFrame.__getitem__\u001b[1;34m(self, key)\u001b[0m\n\u001b[0;32m   4100\u001b[0m \u001b[38;5;28;01mif\u001b[39;00m \u001b[38;5;28mself\u001b[39m\u001b[38;5;241m.\u001b[39mcolumns\u001b[38;5;241m.\u001b[39mnlevels \u001b[38;5;241m>\u001b[39m \u001b[38;5;241m1\u001b[39m:\n\u001b[0;32m   4101\u001b[0m     \u001b[38;5;28;01mreturn\u001b[39;00m \u001b[38;5;28mself\u001b[39m\u001b[38;5;241m.\u001b[39m_getitem_multilevel(key)\n\u001b[1;32m-> 4102\u001b[0m indexer \u001b[38;5;241m=\u001b[39m \u001b[38;5;28mself\u001b[39m\u001b[38;5;241m.\u001b[39mcolumns\u001b[38;5;241m.\u001b[39mget_loc(key)\n\u001b[0;32m   4103\u001b[0m \u001b[38;5;28;01mif\u001b[39;00m is_integer(indexer):\n\u001b[0;32m   4104\u001b[0m     indexer \u001b[38;5;241m=\u001b[39m [indexer]\n",
      "File \u001b[1;32m~\\anaconda3\\Lib\\site-packages\\pandas\\core\\indexes\\base.py:3812\u001b[0m, in \u001b[0;36mIndex.get_loc\u001b[1;34m(self, key)\u001b[0m\n\u001b[0;32m   3807\u001b[0m     \u001b[38;5;28;01mif\u001b[39;00m \u001b[38;5;28misinstance\u001b[39m(casted_key, \u001b[38;5;28mslice\u001b[39m) \u001b[38;5;129;01mor\u001b[39;00m (\n\u001b[0;32m   3808\u001b[0m         \u001b[38;5;28misinstance\u001b[39m(casted_key, abc\u001b[38;5;241m.\u001b[39mIterable)\n\u001b[0;32m   3809\u001b[0m         \u001b[38;5;129;01mand\u001b[39;00m \u001b[38;5;28many\u001b[39m(\u001b[38;5;28misinstance\u001b[39m(x, \u001b[38;5;28mslice\u001b[39m) \u001b[38;5;28;01mfor\u001b[39;00m x \u001b[38;5;129;01min\u001b[39;00m casted_key)\n\u001b[0;32m   3810\u001b[0m     ):\n\u001b[0;32m   3811\u001b[0m         \u001b[38;5;28;01mraise\u001b[39;00m InvalidIndexError(key)\n\u001b[1;32m-> 3812\u001b[0m     \u001b[38;5;28;01mraise\u001b[39;00m \u001b[38;5;167;01mKeyError\u001b[39;00m(key) \u001b[38;5;28;01mfrom\u001b[39;00m \u001b[38;5;21;01merr\u001b[39;00m\n\u001b[0;32m   3813\u001b[0m \u001b[38;5;28;01mexcept\u001b[39;00m \u001b[38;5;167;01mTypeError\u001b[39;00m:\n\u001b[0;32m   3814\u001b[0m     \u001b[38;5;66;03m# If we have a listlike key, _check_indexing_error will raise\u001b[39;00m\n\u001b[0;32m   3815\u001b[0m     \u001b[38;5;66;03m#  InvalidIndexError. Otherwise we fall through and re-raise\u001b[39;00m\n\u001b[0;32m   3816\u001b[0m     \u001b[38;5;66;03m#  the TypeError.\u001b[39;00m\n\u001b[0;32m   3817\u001b[0m     \u001b[38;5;28mself\u001b[39m\u001b[38;5;241m.\u001b[39m_check_indexing_error(key)\n",
      "\u001b[1;31mKeyError\u001b[0m: 'max_vo2'"
     ]
    },
    {
     "data": {
      "image/png": "[encoded data removed]",
      "text/plain": [
       "<Figure size 640x480 with 1 Axes>"
      ]
     },
     "metadata": {},
     "output_type": "display_data"
    }
   ],
   "source": [
    "#solution:\n",
    "#sum_vo2=All_sports.groupby(['sport','ID'])['VO2'].sum()\n",
    "#df1=pd.merge(sum_vo2,Athletes,on='ID',how='inner')[['ID','age','VO2','sport','Weight']]\n",
    "#for index,row in df1.iterrows():\n",
    "   #   df1.at[index,'max_vo2']=round(df1.at[index,'VO2']/df1.at[index,'Weight'],2)\n",
    "plt.title(\"Distribution of VO2Max against age.\")\n",
    "sns.violinplot(x=merged['age'],y=merged['max_vo2'],hue=merged['age'],palette=\"RdPu\",data=df1) "
   ]
  },
  {
   "cell_type": "code",
   "execution_count": 163,
   "id": "d1b6daf6-712f-4748-8d8e-8e312bb0d10a",
   "metadata": {},
   "outputs": [],
   "source": [
    "#### 78."
   ]
  },
  {
   "cell_type": "code",
   "execution_count": 164,
   "id": "2b62d4b2-dc5e-416b-a275-73dc6ae37bce",
   "metadata": {},
   "outputs": [],
   "source": [
    "#solution:"
   ]
  },
  {
   "cell_type": "markdown",
   "id": "51b9aec3-d9d7-4acc-975f-a920274ddff1",
   "metadata": {},
   "source": [
    "#### 79 Query: Plot the Donut chart athlete distrubution by Gender"
   ]
  },
  {
   "cell_type": "code",
   "execution_count": null,
   "id": "a7aa5eb4-c3a7-48b5-ada6-d4a5aedbdf4c",
   "metadata": {},
   "outputs": [],
   "source": [
    "#solutiuon:#solution:\n",
    "gender=(Athletes['Gender']).value_counts()\n",
    "x=('female 10','male 8')\n",
    "plt.title(\"Distrubution by Gender\")\n",
    "plt.pie(gender,autopct = '%0.2f%%',labels=x,pctdistance=0.85,explode=(0.02, 0.02))\n",
    "my_circle=plt.Circle((0,0),0.6,color='white')\n",
    "plt.gca().add_artist(my_circle) and plt.show()"
   ]
  },
  {
   "cell_type": "markdown",
   "id": "e8a4b09b-0d38-4102-947c-cd0f82d3323c",
   "metadata": {
    "jp-MarkdownHeadingCollapsed": true
   },
   "source": [
    "#### 80 Query:find the size of a Tuple for any given input"
   ]
  },
  {
   "cell_type": "code",
   "execution_count": null,
   "id": "ea68b83d-a70d-4780-bc3c-1e332534bada",
   "metadata": {},
   "outputs": [],
   "source": [
    "#solution:(80 Q)\n",
    "#for integer input\n",
    "result_tuple = tuple(int(item) for item in (input('Enter integers: ')).split())\n",
    "print(result_tuple)\n",
    "print(len(result_tuple),\"is the tuple length of given input\" )"
   ]
  },
  {
   "cell_type": "code",
   "execution_count": null,
   "id": "9a6c681f-42bd-4bcb-8e0c-a792517de492",
   "metadata": {},
   "outputs": [],
   "source": [
    "# for any input(80 Q)\n",
    "result_tuple = tuple((input('Enter integers: ')).split())\n",
    "print(result_tuple)\n",
    "print(len(result_tuple),\"is the tuple length of given input\" )"
   ]
  },
  {
   "cell_type": "code",
   "execution_count": null,
   "id": "2a60469b-8732-4375-94c3-fae69777eb54",
   "metadata": {},
   "outputs": [],
   "source": []
  }
 ],
 "metadata": {
  "kernelspec": {
   "display_name": "Python 3 (ipykernel)",
   "language": "python",
   "name": "python3"
  },
  "language_info": {
   "codemirror_mode": {
    "name": "ipython",
    "version": 3
   },
   "file_extension": ".py",
   "mimetype": "text/x-python",
   "name": "python",
   "nbconvert_exporter": "python",
   "pygments_lexer": "ipython3",
   "version": "3.12.4"
  }
 },
 "nbformat": 4,
 "nbformat_minor": 5
}
