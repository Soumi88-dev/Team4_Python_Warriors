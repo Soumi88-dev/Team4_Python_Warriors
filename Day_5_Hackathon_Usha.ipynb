{
 "cells": [
  {
   "cell_type": "markdown",
   "id": "e9448825-a617-4065-a364-7c68eda39697",
   "metadata": {},
   "source": [
    "Importing needed Packages"
   ]
  },
  {
   "cell_type": "code",
   "execution_count": 580,
   "id": "bde13c05-2126-4714-b032-9259a8192302",
   "metadata": {},
   "outputs": [],
   "source": [
    "import pandas as pd\n",
    "import numpy as np\n",
    "import matplotlib\n",
    "import matplotlib.pyplot as plt\n",
    "%matplotlib inline \n",
    "import plotly.graph_objects as go"
   ]
  },
  {
   "cell_type": "markdown",
   "id": "b90a73a7-ae05-4539-9d2b-ee391da42cd3",
   "metadata": {},
   "source": [
    "Creating dataframes for each sheet by reading the excel file -'V02Max_Combined'"
   ]
  },
  {
   "cell_type": "code",
   "execution_count": 618,
   "id": "b43d35ed-6bb5-4123-9558-286c445e1c48",
   "metadata": {},
   "outputs": [
    {
     "name": "stderr",
     "output_type": "stream",
     "text": [
      "C:\\Users\\Sailu\\anaconda3\\Lib\\site-packages\\openpyxl\\worksheet\\_read_only.py:81: UserWarning: Unknown extension is not supported and will be removed\n",
      "  for idx, row in parser.parse():\n",
      "C:\\Users\\Sailu\\anaconda3\\Lib\\site-packages\\openpyxl\\worksheet\\_read_only.py:81: UserWarning: Unknown extension is not supported and will be removed\n",
      "  for idx, row in parser.parse():\n",
      "C:\\Users\\Sailu\\anaconda3\\Lib\\site-packages\\openpyxl\\worksheet\\_read_only.py:81: UserWarning: Unknown extension is not supported and will be removed\n",
      "  for idx, row in parser.parse():\n"
     ]
    }
   ],
   "source": [
    "file_path='Hackathon_Aug24/V02Max_Combined.xlsx'\n",
    "Kayaking=pd.read_excel(file_path,sheet_name='Kayaking')\n",
    "Athletes=pd.read_excel(file_path,sheet_name='Athletes')\n",
    "Triathlon=pd.read_excel(file_path,sheet_name='Triathlon')\n",
    "Fencing=pd.read_excel(file_path,sheet_name='Fencing')\n"
   ]
  },
  {
   "cell_type": "code",
   "execution_count": 18,
   "id": "ea00139c-cbd5-4344-b50a-ba3af6bb1b78",
   "metadata": {},
   "outputs": [
    {
     "name": "stdout",
     "output_type": "stream",
     "text": [
      "       ID      time     RR       VO2  power\n",
      "0      11  -168.600  727.0  0.287147      0\n",
      "1      11  -167.872  728.0  0.287147      0\n",
      "2      11  -167.148  724.0  0.287147      0\n",
      "3      11  -166.484  664.0  0.320580      0\n",
      "4      11  -165.836  648.0  0.320580      0\n",
      "...    ..       ...    ...       ...    ...\n",
      "19473  16  1118.404  548.0  0.671957      0\n",
      "19474  16  1118.944  540.0  0.671957      0\n",
      "19475  16  1119.484  540.0  0.671957      0\n",
      "19476  16  1120.016  532.0  0.671957      0\n",
      "19477  16  1120.544  528.0  0.671957      0\n",
      "\n",
      "[19478 rows x 5 columns]\n"
     ]
    }
   ],
   "source": [
    "print(Kayaking)"
   ]
  },
  {
   "cell_type": "markdown",
   "id": "bbd13258-c37a-405a-947a-0d2eba0e950c",
   "metadata": {},
   "source": [
    "Creating a column called 'Sport' into the dataframes"
   ]
  },
  {
   "cell_type": "markdown",
   "id": "36df8b30-2313-4ad5-b6bd-945705b9a4a4",
   "metadata": {},
   "source": [
    "Concatenating all the dataframes (all the sheets into one)"
   ]
  },
  {
   "cell_type": "code",
   "execution_count": 1080,
   "id": "f71a5e35-6c97-481f-b561-44d3e406d1aa",
   "metadata": {},
   "outputs": [],
   "source": [
    "combined=pd.concat([Kayaking,Triathlon,Fencing])"
   ]
  },
  {
   "cell_type": "code",
   "execution_count": 39,
   "id": "ec08ebf2-d257-4824-99cc-cf4dfdb39a3b",
   "metadata": {},
   "outputs": [
    {
     "data": {
      "text/html": [
       "<div>\n",
       "<style scoped>\n",
       "    .dataframe tbody tr th:only-of-type {\n",
       "        vertical-align: middle;\n",
       "    }\n",
       "\n",
       "    .dataframe tbody tr th {\n",
       "        vertical-align: top;\n",
       "    }\n",
       "\n",
       "    .dataframe thead th {\n",
       "        text-align: right;\n",
       "    }\n",
       "</style>\n",
       "<table border=\"1\" class=\"dataframe\">\n",
       "  <thead>\n",
       "    <tr style=\"text-align: right;\">\n",
       "      <th></th>\n",
       "      <th>ID</th>\n",
       "      <th>time</th>\n",
       "      <th>RR</th>\n",
       "      <th>VO2</th>\n",
       "      <th>power</th>\n",
       "      <th>sport</th>\n",
       "    </tr>\n",
       "  </thead>\n",
       "  <tbody>\n",
       "    <tr>\n",
       "      <th>0</th>\n",
       "      <td>11</td>\n",
       "      <td>-168.600</td>\n",
       "      <td>727.0</td>\n",
       "      <td>0.287147</td>\n",
       "      <td>0</td>\n",
       "      <td>Kayaking</td>\n",
       "    </tr>\n",
       "    <tr>\n",
       "      <th>1</th>\n",
       "      <td>11</td>\n",
       "      <td>-167.872</td>\n",
       "      <td>728.0</td>\n",
       "      <td>0.287147</td>\n",
       "      <td>0</td>\n",
       "      <td>Kayaking</td>\n",
       "    </tr>\n",
       "    <tr>\n",
       "      <th>2</th>\n",
       "      <td>11</td>\n",
       "      <td>-167.148</td>\n",
       "      <td>724.0</td>\n",
       "      <td>0.287147</td>\n",
       "      <td>0</td>\n",
       "      <td>Kayaking</td>\n",
       "    </tr>\n",
       "    <tr>\n",
       "      <th>3</th>\n",
       "      <td>11</td>\n",
       "      <td>-166.484</td>\n",
       "      <td>664.0</td>\n",
       "      <td>0.320580</td>\n",
       "      <td>0</td>\n",
       "      <td>Kayaking</td>\n",
       "    </tr>\n",
       "    <tr>\n",
       "      <th>4</th>\n",
       "      <td>11</td>\n",
       "      <td>-165.836</td>\n",
       "      <td>648.0</td>\n",
       "      <td>0.320580</td>\n",
       "      <td>0</td>\n",
       "      <td>Kayaking</td>\n",
       "    </tr>\n",
       "  </tbody>\n",
       "</table>\n",
       "</div>"
      ],
      "text/plain": [
       "   ID     time     RR       VO2  power     sport\n",
       "0  11 -168.600  727.0  0.287147      0  Kayaking\n",
       "1  11 -167.872  728.0  0.287147      0  Kayaking\n",
       "2  11 -167.148  724.0  0.287147      0  Kayaking\n",
       "3  11 -166.484  664.0  0.320580      0  Kayaking\n",
       "4  11 -165.836  648.0  0.320580      0  Kayaking"
      ]
     },
     "execution_count": 39,
     "metadata": {},
     "output_type": "execute_result"
    }
   ],
   "source": [
    "combined.head()"
   ]
  },
  {
   "cell_type": "code",
   "execution_count": 622,
   "id": "611adee4-eed1-4f10-b73b-e3355043cf2a",
   "metadata": {},
   "outputs": [
    {
     "data": {
      "text/html": [
       "<div>\n",
       "<style scoped>\n",
       "    .dataframe tbody tr th:only-of-type {\n",
       "        vertical-align: middle;\n",
       "    }\n",
       "\n",
       "    .dataframe tbody tr th {\n",
       "        vertical-align: top;\n",
       "    }\n",
       "\n",
       "    .dataframe thead th {\n",
       "        text-align: right;\n",
       "    }\n",
       "</style>\n",
       "<table border=\"1\" class=\"dataframe\">\n",
       "  <thead>\n",
       "    <tr style=\"text-align: right;\">\n",
       "      <th></th>\n",
       "      <th>ID</th>\n",
       "      <th>time</th>\n",
       "      <th>RR</th>\n",
       "      <th>VO2</th>\n",
       "      <th>power</th>\n",
       "    </tr>\n",
       "  </thead>\n",
       "  <tbody>\n",
       "    <tr>\n",
       "      <th>27598</th>\n",
       "      <td>10</td>\n",
       "      <td>942.700</td>\n",
       "      <td>428.0</td>\n",
       "      <td>0.786363</td>\n",
       "      <td>0</td>\n",
       "    </tr>\n",
       "    <tr>\n",
       "      <th>27599</th>\n",
       "      <td>10</td>\n",
       "      <td>943.124</td>\n",
       "      <td>424.0</td>\n",
       "      <td>0.786363</td>\n",
       "      <td>0</td>\n",
       "    </tr>\n",
       "    <tr>\n",
       "      <th>27600</th>\n",
       "      <td>10</td>\n",
       "      <td>943.552</td>\n",
       "      <td>428.0</td>\n",
       "      <td>0.786363</td>\n",
       "      <td>0</td>\n",
       "    </tr>\n",
       "    <tr>\n",
       "      <th>27601</th>\n",
       "      <td>10</td>\n",
       "      <td>943.976</td>\n",
       "      <td>424.0</td>\n",
       "      <td>0.786363</td>\n",
       "      <td>0</td>\n",
       "    </tr>\n",
       "    <tr>\n",
       "      <th>27602</th>\n",
       "      <td>10</td>\n",
       "      <td>944.404</td>\n",
       "      <td>428.0</td>\n",
       "      <td>0.786363</td>\n",
       "      <td>0</td>\n",
       "    </tr>\n",
       "  </tbody>\n",
       "</table>\n",
       "</div>"
      ],
      "text/plain": [
       "       ID     time     RR       VO2  power\n",
       "27598  10  942.700  428.0  0.786363      0\n",
       "27599  10  943.124  424.0  0.786363      0\n",
       "27600  10  943.552  428.0  0.786363      0\n",
       "27601  10  943.976  424.0  0.786363      0\n",
       "27602  10  944.404  428.0  0.786363      0"
      ]
     },
     "execution_count": 622,
     "metadata": {},
     "output_type": "execute_result"
    }
   ],
   "source": [
    "combined.tail()"
   ]
  },
  {
   "cell_type": "markdown",
   "id": "bdd2502b-a5a8-4f79-91cb-ce63f0693523",
   "metadata": {},
   "source": [
    "### Q17 ) What is the maximum ventilatory threshold for triathletes."
   ]
  },
  {
   "cell_type": "code",
   "execution_count": 624,
   "id": "6ce82ae5-91d3-476e-b63b-581b469f0a0d",
   "metadata": {},
   "outputs": [
    {
     "data": {
      "text/html": [
       "<div>\n",
       "<style scoped>\n",
       "    .dataframe tbody tr th:only-of-type {\n",
       "        vertical-align: middle;\n",
       "    }\n",
       "\n",
       "    .dataframe tbody tr th {\n",
       "        vertical-align: top;\n",
       "    }\n",
       "\n",
       "    .dataframe thead th {\n",
       "        text-align: right;\n",
       "    }\n",
       "</style>\n",
       "<table border=\"1\" class=\"dataframe\">\n",
       "  <thead>\n",
       "    <tr style=\"text-align: right;\">\n",
       "      <th></th>\n",
       "      <th>ID</th>\n",
       "      <th>age</th>\n",
       "      <th>Weight</th>\n",
       "      <th>Height</th>\n",
       "      <th>P_vt1</th>\n",
       "      <th>P_vt2</th>\n",
       "      <th>sport</th>\n",
       "      <th>Gender</th>\n",
       "      <th>Ethnicity</th>\n",
       "      <th>First Name</th>\n",
       "      <th>Last Name</th>\n",
       "    </tr>\n",
       "  </thead>\n",
       "  <tbody>\n",
       "    <tr>\n",
       "      <th>16</th>\n",
       "      <td>17</td>\n",
       "      <td>12</td>\n",
       "      <td>39.9</td>\n",
       "      <td>156</td>\n",
       "      <td>101</td>\n",
       "      <td>145</td>\n",
       "      <td>triathlon</td>\n",
       "      <td>Male</td>\n",
       "      <td>Latino</td>\n",
       "      <td>Lucas</td>\n",
       "      <td>Foster</td>\n",
       "    </tr>\n",
       "    <tr>\n",
       "      <th>17</th>\n",
       "      <td>18</td>\n",
       "      <td>12</td>\n",
       "      <td>39.7</td>\n",
       "      <td>158</td>\n",
       "      <td>65</td>\n",
       "      <td>168</td>\n",
       "      <td>triathlon</td>\n",
       "      <td>Male</td>\n",
       "      <td>Latino</td>\n",
       "      <td>Owen</td>\n",
       "      <td>Myers</td>\n",
       "    </tr>\n",
       "  </tbody>\n",
       "</table>\n",
       "</div>"
      ],
      "text/plain": [
       "    ID  age  Weight  Height  P_vt1  P_vt2      sport Gender Ethnicity  \\\n",
       "16  17   12    39.9     156    101    145  triathlon   Male    Latino   \n",
       "17  18   12    39.7     158     65    168  triathlon   Male    Latino   \n",
       "\n",
       "   First Name Last Name  \n",
       "16      Lucas    Foster  \n",
       "17       Owen     Myers  "
      ]
     },
     "execution_count": 624,
     "metadata": {},
     "output_type": "execute_result"
    }
   ],
   "source": [
    "#Athletes.describe()\n",
    "Triathletes=Athletes[(Athletes['sport']=='triathlon')]\n",
    "Triathletes\n"
   ]
  },
  {
   "cell_type": "code",
   "execution_count": 632,
   "id": "ced95006-f725-495d-aa08-60f6975e3f97",
   "metadata": {},
   "outputs": [
    {
     "data": {
      "text/plain": [
       "P_vt1    101.0\n",
       "P_vt2    168.0\n",
       "Name: max, dtype: float64"
      ]
     },
     "execution_count": 632,
     "metadata": {},
     "output_type": "execute_result"
    }
   ],
   "source": [
    "Max_Ventilatory_threshold=Triathletes[['P_vt1','P_vt2']].describe()\n",
    "Max_Ventilatory_threshold.loc['max']"
   ]
  },
  {
   "cell_type": "code",
   "execution_count": 640,
   "id": "d3d36088-1411-45bd-b66e-cfa126453492",
   "metadata": {},
   "outputs": [],
   "source": [
    "#For individual IDs\n",
    "#df1=Triathletes.groupby('ID')['P_vt1'].max() \n",
    "#df2=Triathletes.groupby('ID')['P_vt2'].max()"
   ]
  },
  {
   "cell_type": "markdown",
   "id": "a3713816-c20d-424b-8f48-e3c4e591aa75",
   "metadata": {},
   "source": [
    "Q18)Display the number of athletes in every sport against the name of the sport."
   ]
  },
  {
   "cell_type": "code",
   "execution_count": 642,
   "id": "d24ab57d-7253-4a0c-8926-70369041fe9d",
   "metadata": {},
   "outputs": [
    {
     "data": {
      "text/plain": [
       "sport\n",
       "fencing      10\n",
       "kayak         6\n",
       "triathlon     2\n",
       "Name: count, dtype: int64"
      ]
     },
     "execution_count": 642,
     "metadata": {},
     "output_type": "execute_result"
    }
   ],
   "source": [
    "Athletes['sport'].value_counts()"
   ]
  },
  {
   "cell_type": "markdown",
   "id": "eb7d321d-989e-4bdf-b8ed-a7802f911d62",
   "metadata": {},
   "source": [
    "### Q22)Using any 10 HR values print even if the value is an even number and odd if its an odd number"
   ]
  },
  {
   "cell_type": "code",
   "execution_count": 840,
   "id": "dd7020f2-e008-4c31-b31b-a309a862f9d0",
   "metadata": {},
   "outputs": [
    {
     "name": "stdout",
     "output_type": "stream",
     "text": [
      "83.0  - odd \n",
      "82.0  - even \n",
      "90.0  - even \n",
      "93.0  - odd \n",
      "97.0  - odd \n",
      "86.0  - even \n",
      "75.0  - odd \n",
      "76.0  - even \n",
      "78.0  - even \n",
      "77.0  - odd \n"
     ]
    }
   ],
   "source": [
    "combined['HR']=round(60000/combined['RR'])\n",
    "HR_random=combined['HR']\n",
    "HR_random=HR_random.drop_duplicates()\n",
    "HR_random=HR_random.head(10)\n",
    "for i in HR_random:\n",
    "    if i%2==0:\n",
    "        print(i,\" - even \")\n",
    "    else:\n",
    "        print(i,\" - odd \")\n"
   ]
  },
  {
   "cell_type": "markdown",
   "id": "d4704f05-cf6b-4a37-8eaa-7388e7616cc2",
   "metadata": {},
   "source": [
    "### Q24)Store athlete name and sport in a dictionary as a pair of values."
   ]
  },
  {
   "cell_type": "code",
   "execution_count": 666,
   "id": "74b84293-39ef-40c5-a86d-328953c50055",
   "metadata": {},
   "outputs": [
    {
     "data": {
      "text/plain": [
       "{'Olivia Martinez': 'fencing',\n",
       " 'Ethan Reynolds': 'fencing',\n",
       " 'Jackson Harper': 'fencing',\n",
       " 'Liam Sanchez': 'fencing',\n",
       " 'Ava Thompson': 'fencing',\n",
       " 'Sophia Rodriguez': 'fencing',\n",
       " 'Grace Simmons': 'fencing',\n",
       " 'Aiden Bennett': 'fencing',\n",
       " 'Chloe Price': 'fencing',\n",
       " 'Lily Jordan': 'fencing',\n",
       " 'Isabella Griffin': 'kayak',\n",
       " 'Caleb Dixon': 'kayak',\n",
       " 'Mia Carpenter': 'kayak',\n",
       " 'Harper Mitchell': 'kayak',\n",
       " 'Mason Wallace': 'kayak',\n",
       " 'Logan Anderson': 'kayak',\n",
       " 'Lucas Foster': 'triathlon',\n",
       " 'Owen Myers': 'triathlon'}"
      ]
     },
     "execution_count": 666,
     "metadata": {},
     "output_type": "execute_result"
    }
   ],
   "source": [
    "fname=Athletes['First Name']\n",
    "lname=Athletes['Last Name']\n",
    "full_name=fname+' '+lname\n",
    "Name_sport_dict=Athletes.set_index(full_name)['sport'].to_dict()\n",
    "Name_sport_dict"
   ]
  },
  {
   "cell_type": "markdown",
   "id": "8a52503b-2d8e-43f0-b6cb-9e0987a7c8b2",
   "metadata": {},
   "source": [
    "### Q25) Using arrays and loops, find the count of athletes based on gender."
   ]
  },
  {
   "cell_type": "code",
   "execution_count": 670,
   "id": "18140c59-ae94-4541-a348-5f275147bd1a",
   "metadata": {},
   "outputs": [
    {
     "name": "stdout",
     "output_type": "stream",
     "text": [
      "Male:  8\n",
      "Female:  10\n"
     ]
    }
   ],
   "source": [
    "athletes_male=[]\n",
    "athletes_female=[]\n",
    "\n",
    "for fname,gender in zip(Athletes['First Name'],Athletes['Gender']):\n",
    "    if gender == 'Male':\n",
    "        athletes_male.append(fname)      \n",
    "    else:\n",
    "        athletes_female.append(fname)\n",
    "        \n",
    "print('Male: ',len(athletes_male))\n",
    "print('Female: ',len(athletes_female))\n",
    "\n"
   ]
  },
  {
   "cell_type": "markdown",
   "id": "d9e9a7f2-a289-4847-8cae-dd4f0d10de2c",
   "metadata": {},
   "source": [
    "### Q31)Return the count of athletes for any sport that the user inputs."
   ]
  },
  {
   "cell_type": "code",
   "execution_count": 676,
   "id": "82e89901-9a02-4bfe-91ee-68838b40cdd7",
   "metadata": {},
   "outputs": [
    {
     "name": "stdin",
     "output_type": "stream",
     "text": [
      "Enter any sport from the following - fencing/triathlon/kayak triathlon\n"
     ]
    },
    {
     "name": "stdout",
     "output_type": "stream",
     "text": [
      "2\n"
     ]
    }
   ],
   "source": [
    "sport_in=input(\"Enter any sport from the following - fencing/triathlon/kayak\")\n",
    "df=dict(Athletes['sport'].value_counts())\n",
    "for i in df:\n",
    "        if i ==sport_in:\n",
    "            print(df[sport_in])\n",
    "        else:\n",
    "            continue"
   ]
  },
  {
   "cell_type": "markdown",
   "id": "f82cd46e-d8e7-4ad1-bbc1-e169fc98144d",
   "metadata": {},
   "source": [
    "### Q28) Print athlete 15s Age and Pvt1 using the format() function"
   ]
  },
  {
   "cell_type": "code",
   "execution_count": 927,
   "id": "15086ffb-7172-41be-b7e3-763e23a7ef6b",
   "metadata": {},
   "outputs": [
    {
     "name": "stdout",
     "output_type": "stream",
     "text": [
      "Athlete ID is [15], His age is [13] and his P_vt1 is [125]\n"
     ]
    }
   ],
   "source": [
    "df=Athletes[(Athletes['ID'] == 15)]\n",
    "df_dict=df.to_dict('list')\n",
    "\n",
    "athlete_details=\"Athlete ID is {ID}, His age is {age} and his P_vt1 is {pvt1}\".format(ID=df_dict['ID'],age=df_dict['age'],pvt1=df_dict['P_vt1'])\n",
    "print(athlete_details)\n"
   ]
  },
  {
   "cell_type": "markdown",
   "id": "cc79a60f-2d2b-4abc-9e27-e7047dded639",
   "metadata": {},
   "source": [
    "### Q32)Insert the name of every athlete into an array and display the length of that array."
   ]
  },
  {
   "cell_type": "code",
   "execution_count": 696,
   "id": "4a8e27dd-7332-4c2c-94c6-dfa565d5e012",
   "metadata": {},
   "outputs": [
    {
     "name": "stdout",
     "output_type": "stream",
     "text": [
      "18\n"
     ]
    }
   ],
   "source": [
    "arr=[]\n",
    "fname=Athletes['First Name']\n",
    "lname=Athletes['Last Name']\n",
    "full_name=fname+' '+lname\n",
    "\n",
    "for i in full_name:\n",
    "    arr.append(i)\n",
    "print(len(arr))\n"
   ]
  },
  {
   "cell_type": "markdown",
   "id": "121411c1-18ed-43e1-94d5-7a8bb9439b2b",
   "metadata": {},
   "source": [
    "### Q21) Display a pie chart of number of athletes by sport."
   ]
  },
  {
   "cell_type": "code",
   "execution_count": 831,
   "id": "cd30e9a6-c681-4562-9b7f-6dbf25624b29",
   "metadata": {},
   "outputs": [
    {
     "data": {
      "image/png": "[encoded data removed]",
      "text/plain": [
       "<Figure size 300x300 with 1 Axes>"
      ]
     },
     "metadata": {},
     "output_type": "display_data"
    }
   ],
   "source": [
    "df=dict(Athletes['sport'].value_counts())\n",
    "\n",
    "sport=[]\n",
    "No_of_athletes=[]\n",
    "\n",
    "for key in df.keys():\n",
    "    sport.append(key)\n",
    "    No_of_athletes.append(df[key])\n",
    "\n",
    "\n",
    "colors = ['gold', 'yellowgreen','skyblue']\n",
    "\n",
    "plt.figure(figsize=(len(sport),len(No_of_athletes)) ) # if we don't use it, default size of the figure will be shown.\n",
    "plt.title( 'Percentage of Athletes by Sport')\n",
    "\n",
    "plt.pie(No_of_athletes,colors=colors,autopct='%1.1f%%', shadow=True, startangle=90, center = (-2,0))\n",
    "\n",
    "plt.legend(labels = sport)\n",
    "#plt.axis('equal')\n",
    "plt.show()"
   ]
  },
  {
   "cell_type": "markdown",
   "id": "62c56933-2049-4c01-847d-2095e1c9fa66",
   "metadata": {},
   "source": [
    "##### "
   ]
  },
  {
   "cell_type": "markdown",
   "id": "333da858-828b-4510-844a-03d83c27ac49",
   "metadata": {},
   "source": [
    "### Q19) Display a bar chart showing the average V02 Max by sport."
   ]
  },
  {
   "cell_type": "code",
   "execution_count": 925,
   "id": "e4296c70-8b52-4ada-8b58-6f2ca6f1b850",
   "metadata": {},
   "outputs": [
    {
     "data": {
      "text/plain": [
       "<BarContainer object of 3 artists>"
      ]
     },
     "execution_count": 925,
     "metadata": {},
     "output_type": "execute_result"
    },
    {
     "data": {
      "image/png": "[encoded data removed]",
      "text/plain": [
       "<Figure size 640x480 with 1 Axes>"
      ]
     },
     "metadata": {},
     "output_type": "display_data"
    }
   ],
   "source": [
    "#for calculating the average VO2\n",
    "sum_vo2=merged.groupby(['sport','ID'])['VO2'].sum()\n",
    "#print(sum_vo2)\n",
    "df1=pd.merge(sum_vo2,Athletes,on='ID',how='inner')[['ID','VO2','sport','Weight']]\n",
    "#print(df1)\n",
    "for index,row in df1.iterrows():\n",
    "      df1.at[index,'max_vo2']=round(df1.at[index,'VO2']/df1.at[index,'Weight'],2)\n",
    "      df2=df1.groupby('sport')['max_vo2'].mean()\n",
    "#print(df2)\n",
    "\n",
    "sport=[]\n",
    "avg_vo2_max=[]\n",
    "\n",
    "for key in df2.keys():\n",
    "    sport.append(key)\n",
    "    avg_vo2_max.append(df2[key])\n",
    "    \n",
    "#print(sport)\n",
    "#print(avg_vo2_max)\n",
    "\n",
    "font1 = {'family':'serif', 'color':'green', 'size':20}\n",
    "font2 = { 'family':'serif', 'color':'blue', 'size':12}\n",
    "\n",
    "plt.xlabel(\"Sport\", fontdict = font2, loc = \"right\")\n",
    "plt.ylabel(\"VO2_Max\", fontdict = font2, loc='center') # top, center, bottom\n",
    "plt.title(\"Bar chart showing average VO2_Max by Sport\", fontdict = font1, loc = 'left')\n",
    "\n",
    "plt. grid(axis = 'y',color ='g', linestyle = 'dashdot', linewidth=1) # dashed, solid, dottedd, dashdot, '-' ':', 'None', \" \", '','-.'\n",
    "plt.bar(sport,avg_vo2_max)\n"
   ]
  },
  {
   "cell_type": "markdown",
   "id": "03383df4-fa8b-4ead-85df-2c898fc5534b",
   "metadata": {},
   "source": [
    "### Q20) Analyze the trend of HR at the start of the test vs the middle and the end.What is the overall trend? "
   ]
  },
  {
   "cell_type": "code",
   "execution_count": 739,
   "id": "c32737d9-f840-449a-b862-f77442eff039",
   "metadata": {},
   "outputs": [
    {
     "data": {
      "text/html": [
       "<div>\n",
       "<style scoped>\n",
       "    .dataframe tbody tr th:only-of-type {\n",
       "        vertical-align: middle;\n",
       "    }\n",
       "\n",
       "    .dataframe tbody tr th {\n",
       "        vertical-align: top;\n",
       "    }\n",
       "\n",
       "    .dataframe thead th {\n",
       "        text-align: right;\n",
       "    }\n",
       "</style>\n",
       "<table border=\"1\" class=\"dataframe\">\n",
       "  <thead>\n",
       "    <tr style=\"text-align: right;\">\n",
       "      <th></th>\n",
       "      <th>ID</th>\n",
       "      <th>time</th>\n",
       "      <th>RR</th>\n",
       "      <th>VO2</th>\n",
       "      <th>power</th>\n",
       "      <th>HR</th>\n",
       "    </tr>\n",
       "  </thead>\n",
       "  <tbody>\n",
       "    <tr>\n",
       "      <th>count</th>\n",
       "      <td>52062.000000</td>\n",
       "      <td>52062.00000</td>\n",
       "      <td>50914.000000</td>\n",
       "      <td>52062.000000</td>\n",
       "      <td>52062.000000</td>\n",
       "      <td>50914.000000</td>\n",
       "    </tr>\n",
       "    <tr>\n",
       "      <th>mean</th>\n",
       "      <td>9.518766</td>\n",
       "      <td>547.45914</td>\n",
       "      <td>443.583808</td>\n",
       "      <td>1.539104</td>\n",
       "      <td>106.528754</td>\n",
       "      <td>143.914876</td>\n",
       "    </tr>\n",
       "    <tr>\n",
       "      <th>std</th>\n",
       "      <td>5.043902</td>\n",
       "      <td>386.29623</td>\n",
       "      <td>212.585991</td>\n",
       "      <td>0.799706</td>\n",
       "      <td>88.603627</td>\n",
       "      <td>30.762980</td>\n",
       "    </tr>\n",
       "    <tr>\n",
       "      <th>min</th>\n",
       "      <td>1.000000</td>\n",
       "      <td>-219.87200</td>\n",
       "      <td>252.000000</td>\n",
       "      <td>0.069354</td>\n",
       "      <td>0.000000</td>\n",
       "      <td>2.000000</td>\n",
       "    </tr>\n",
       "    <tr>\n",
       "      <th>25%</th>\n",
       "      <td>5.000000</td>\n",
       "      <td>244.29500</td>\n",
       "      <td>352.000000</td>\n",
       "      <td>0.972290</td>\n",
       "      <td>0.000000</td>\n",
       "      <td>124.000000</td>\n",
       "    </tr>\n",
       "    <tr>\n",
       "      <th>50%</th>\n",
       "      <td>10.000000</td>\n",
       "      <td>542.03800</td>\n",
       "      <td>412.000000</td>\n",
       "      <td>1.419143</td>\n",
       "      <td>95.000000</td>\n",
       "      <td>146.000000</td>\n",
       "    </tr>\n",
       "    <tr>\n",
       "      <th>75%</th>\n",
       "      <td>14.000000</td>\n",
       "      <td>822.13900</td>\n",
       "      <td>484.000000</td>\n",
       "      <td>2.043474</td>\n",
       "      <td>170.000000</td>\n",
       "      <td>170.000000</td>\n",
       "    </tr>\n",
       "    <tr>\n",
       "      <th>max</th>\n",
       "      <td>18.000000</td>\n",
       "      <td>1504.05600</td>\n",
       "      <td>30500.000000</td>\n",
       "      <td>4.576774</td>\n",
       "      <td>335.000000</td>\n",
       "      <td>238.000000</td>\n",
       "    </tr>\n",
       "  </tbody>\n",
       "</table>\n",
       "</div>"
      ],
      "text/plain": [
       "                 ID         time            RR           VO2         power  \\\n",
       "count  52062.000000  52062.00000  50914.000000  52062.000000  52062.000000   \n",
       "mean       9.518766    547.45914    443.583808      1.539104    106.528754   \n",
       "std        5.043902    386.29623    212.585991      0.799706     88.603627   \n",
       "min        1.000000   -219.87200    252.000000      0.069354      0.000000   \n",
       "25%        5.000000    244.29500    352.000000      0.972290      0.000000   \n",
       "50%       10.000000    542.03800    412.000000      1.419143     95.000000   \n",
       "75%       14.000000    822.13900    484.000000      2.043474    170.000000   \n",
       "max       18.000000   1504.05600  30500.000000      4.576774    335.000000   \n",
       "\n",
       "                 HR  \n",
       "count  50914.000000  \n",
       "mean     143.914876  \n",
       "std       30.762980  \n",
       "min        2.000000  \n",
       "25%      124.000000  \n",
       "50%      146.000000  \n",
       "75%      170.000000  \n",
       "max      238.000000  "
      ]
     },
     "execution_count": 739,
     "metadata": {},
     "output_type": "execute_result"
    }
   ],
   "source": [
    "combined.describe()"
   ]
  },
  {
   "cell_type": "markdown",
   "id": "e38f25c8-b92d-425a-8073-8f92197fa3a6",
   "metadata": {},
   "source": [
    "### Q27)Calculate the average heart rate for every minute for every athlete and add it as a column in the same dataframe."
   ]
  },
  {
   "cell_type": "code",
   "execution_count": 1047,
   "id": "e3dde15e-38b1-4927-af19-5129e9977178",
   "metadata": {},
   "outputs": [
    {
     "data": {
      "text/html": [
       "<div>\n",
       "<style scoped>\n",
       "    .dataframe tbody tr th:only-of-type {\n",
       "        vertical-align: middle;\n",
       "    }\n",
       "\n",
       "    .dataframe tbody tr th {\n",
       "        vertical-align: top;\n",
       "    }\n",
       "\n",
       "    .dataframe thead th {\n",
       "        text-align: right;\n",
       "    }\n",
       "</style>\n",
       "<table border=\"1\" class=\"dataframe\">\n",
       "  <thead>\n",
       "    <tr style=\"text-align: right;\">\n",
       "      <th></th>\n",
       "      <th>ID</th>\n",
       "      <th>time</th>\n",
       "      <th>RR</th>\n",
       "      <th>VO2</th>\n",
       "      <th>power</th>\n",
       "      <th>HR</th>\n",
       "      <th>Avg_HR</th>\n",
       "      <th>stage</th>\n",
       "      <th>vo2_max</th>\n",
       "      <th>HR_Zone</th>\n",
       "    </tr>\n",
       "  </thead>\n",
       "  <tbody>\n",
       "    <tr>\n",
       "      <th>0</th>\n",
       "      <td>11</td>\n",
       "      <td>-168.600</td>\n",
       "      <td>727.0</td>\n",
       "      <td>0.287147</td>\n",
       "      <td>0</td>\n",
       "      <td>82.53</td>\n",
       "      <td>NaN</td>\n",
       "      <td>Warm up</td>\n",
       "      <td>NaN</td>\n",
       "      <td>Zone 1 (recovery/easy)</td>\n",
       "    </tr>\n",
       "    <tr>\n",
       "      <th>1</th>\n",
       "      <td>11</td>\n",
       "      <td>-167.872</td>\n",
       "      <td>728.0</td>\n",
       "      <td>0.287147</td>\n",
       "      <td>0</td>\n",
       "      <td>82.42</td>\n",
       "      <td>155.069988</td>\n",
       "      <td>Warm up</td>\n",
       "      <td>1.789775</td>\n",
       "      <td>Zone 1 (recovery/easy)</td>\n",
       "    </tr>\n",
       "    <tr>\n",
       "      <th>2</th>\n",
       "      <td>11</td>\n",
       "      <td>-167.148</td>\n",
       "      <td>724.0</td>\n",
       "      <td>0.287147</td>\n",
       "      <td>0</td>\n",
       "      <td>82.87</td>\n",
       "      <td>139.276885</td>\n",
       "      <td>Warm up</td>\n",
       "      <td>1.959791</td>\n",
       "      <td>Zone 1 (recovery/easy)</td>\n",
       "    </tr>\n",
       "    <tr>\n",
       "      <th>3</th>\n",
       "      <td>11</td>\n",
       "      <td>-166.484</td>\n",
       "      <td>664.0</td>\n",
       "      <td>0.320580</td>\n",
       "      <td>0</td>\n",
       "      <td>90.36</td>\n",
       "      <td>136.646738</td>\n",
       "      <td>Warm up</td>\n",
       "      <td>3.455253</td>\n",
       "      <td>Zone 1 (recovery/easy)</td>\n",
       "    </tr>\n",
       "    <tr>\n",
       "      <th>4</th>\n",
       "      <td>11</td>\n",
       "      <td>-165.836</td>\n",
       "      <td>648.0</td>\n",
       "      <td>0.320580</td>\n",
       "      <td>0</td>\n",
       "      <td>92.59</td>\n",
       "      <td>149.006684</td>\n",
       "      <td>Warm up</td>\n",
       "      <td>3.437170</td>\n",
       "      <td>Zone 1 (recovery/easy)</td>\n",
       "    </tr>\n",
       "    <tr>\n",
       "      <th>...</th>\n",
       "      <td>...</td>\n",
       "      <td>...</td>\n",
       "      <td>...</td>\n",
       "      <td>...</td>\n",
       "      <td>...</td>\n",
       "      <td>...</td>\n",
       "      <td>...</td>\n",
       "      <td>...</td>\n",
       "      <td>...</td>\n",
       "      <td>...</td>\n",
       "    </tr>\n",
       "    <tr>\n",
       "      <th>27598</th>\n",
       "      <td>10</td>\n",
       "      <td>942.700</td>\n",
       "      <td>428.0</td>\n",
       "      <td>0.786363</td>\n",
       "      <td>0</td>\n",
       "      <td>140.19</td>\n",
       "      <td>NaN</td>\n",
       "      <td>Cool down</td>\n",
       "      <td>NaN</td>\n",
       "      <td>Zone 4 (Lactate threshold)</td>\n",
       "    </tr>\n",
       "    <tr>\n",
       "      <th>27599</th>\n",
       "      <td>10</td>\n",
       "      <td>943.124</td>\n",
       "      <td>424.0</td>\n",
       "      <td>0.786363</td>\n",
       "      <td>0</td>\n",
       "      <td>141.51</td>\n",
       "      <td>NaN</td>\n",
       "      <td>Cool down</td>\n",
       "      <td>NaN</td>\n",
       "      <td>Zone 4 (Lactate threshold)</td>\n",
       "    </tr>\n",
       "    <tr>\n",
       "      <th>27600</th>\n",
       "      <td>10</td>\n",
       "      <td>943.552</td>\n",
       "      <td>428.0</td>\n",
       "      <td>0.786363</td>\n",
       "      <td>0</td>\n",
       "      <td>140.19</td>\n",
       "      <td>NaN</td>\n",
       "      <td>Cool down</td>\n",
       "      <td>NaN</td>\n",
       "      <td>Zone 4 (Lactate threshold)</td>\n",
       "    </tr>\n",
       "    <tr>\n",
       "      <th>27601</th>\n",
       "      <td>10</td>\n",
       "      <td>943.976</td>\n",
       "      <td>424.0</td>\n",
       "      <td>0.786363</td>\n",
       "      <td>0</td>\n",
       "      <td>141.51</td>\n",
       "      <td>NaN</td>\n",
       "      <td>Cool down</td>\n",
       "      <td>NaN</td>\n",
       "      <td>Zone 4 (Lactate threshold)</td>\n",
       "    </tr>\n",
       "    <tr>\n",
       "      <th>27602</th>\n",
       "      <td>10</td>\n",
       "      <td>944.404</td>\n",
       "      <td>428.0</td>\n",
       "      <td>0.786363</td>\n",
       "      <td>0</td>\n",
       "      <td>140.19</td>\n",
       "      <td>NaN</td>\n",
       "      <td>Cool down</td>\n",
       "      <td>NaN</td>\n",
       "      <td>Zone 4 (Lactate threshold)</td>\n",
       "    </tr>\n",
       "  </tbody>\n",
       "</table>\n",
       "<p>52062 rows × 10 columns</p>\n",
       "</div>"
      ],
      "text/plain": [
       "       ID     time     RR       VO2  power      HR      Avg_HR      stage  \\\n",
       "0      11 -168.600  727.0  0.287147      0   82.53         NaN    Warm up   \n",
       "1      11 -167.872  728.0  0.287147      0   82.42  155.069988    Warm up   \n",
       "2      11 -167.148  724.0  0.287147      0   82.87  139.276885    Warm up   \n",
       "3      11 -166.484  664.0  0.320580      0   90.36  136.646738    Warm up   \n",
       "4      11 -165.836  648.0  0.320580      0   92.59  149.006684    Warm up   \n",
       "...    ..      ...    ...       ...    ...     ...         ...        ...   \n",
       "27598  10  942.700  428.0  0.786363      0  140.19         NaN  Cool down   \n",
       "27599  10  943.124  424.0  0.786363      0  141.51         NaN  Cool down   \n",
       "27600  10  943.552  428.0  0.786363      0  140.19         NaN  Cool down   \n",
       "27601  10  943.976  424.0  0.786363      0  141.51         NaN  Cool down   \n",
       "27602  10  944.404  428.0  0.786363      0  140.19         NaN  Cool down   \n",
       "\n",
       "        vo2_max                     HR_Zone  \n",
       "0           NaN      Zone 1 (recovery/easy)  \n",
       "1      1.789775      Zone 1 (recovery/easy)  \n",
       "2      1.959791      Zone 1 (recovery/easy)  \n",
       "3      3.455253      Zone 1 (recovery/easy)  \n",
       "4      3.437170      Zone 1 (recovery/easy)  \n",
       "...         ...                         ...  \n",
       "27598       NaN  Zone 4 (Lactate threshold)  \n",
       "27599       NaN  Zone 4 (Lactate threshold)  \n",
       "27600       NaN  Zone 4 (Lactate threshold)  \n",
       "27601       NaN  Zone 4 (Lactate threshold)  \n",
       "27602       NaN  Zone 4 (Lactate threshold)  \n",
       "\n",
       "[52062 rows x 10 columns]"
      ]
     },
     "execution_count": 1047,
     "metadata": {},
     "output_type": "execute_result"
    }
   ],
   "source": [
    "combined['Avg_HR']=combined.groupby(['ID'])['HR'].mean()\n",
    "combined"
   ]
  },
  {
   "cell_type": "markdown",
   "id": "8f96ef14-1d19-4d9b-9d02-dbef25403f9a",
   "metadata": {},
   "source": [
    "### Q30) Display the HRV of each athlete?"
   ]
  },
  {
   "cell_type": "code",
   "execution_count": 859,
   "id": "f0f743c6-0302-46ff-b7c5-a6f7b25efc79",
   "metadata": {},
   "outputs": [
    {
     "name": "stdout",
     "output_type": "stream",
     "text": [
      "ID\n",
      "1     121.157152\n",
      "2     180.730679\n",
      "3     115.570278\n",
      "4      96.588612\n",
      "5     140.756819\n",
      "6     347.787239\n",
      "7     121.684478\n",
      "8     387.432612\n",
      "9     115.715009\n",
      "10    133.765589\n",
      "11     99.785372\n",
      "12    110.027812\n",
      "13    100.119653\n",
      "14    172.115157\n",
      "15    137.059986\n",
      "16    575.089786\n",
      "17    130.962202\n",
      "18    143.344855\n",
      "Name: RR, dtype: float64\n"
     ]
    }
   ],
   "source": [
    "HRV_athlete=combined.groupby(['ID'])['RR'].std()\n",
    "print(HRV_athlete)"
   ]
  },
  {
   "cell_type": "code",
   "execution_count": 861,
   "id": "a304b3c3-52d7-4867-832f-420feb0f3b62",
   "metadata": {},
   "outputs": [
    {
     "name": "stdout",
     "output_type": "stream",
     "text": [
      "       ID     time     RR       VO2  power     HR      Avg_HR      stage\n",
      "0      11 -168.600  727.0  0.287147      0   83.0         NaN    Warm up\n",
      "1      11 -167.872  728.0  0.287147      0   82.0  155.113608    Warm up\n",
      "2      11 -167.148  724.0  0.287147      0   83.0  139.278000    Warm up\n",
      "3      11 -166.484  664.0  0.320580      0   90.0  136.631136    Warm up\n",
      "4      11 -165.836  648.0  0.320580      0   93.0  149.045479    Warm up\n",
      "...    ..      ...    ...       ...    ...    ...         ...        ...\n",
      "27598  10  942.700  428.0  0.786363      0  140.0         NaN  Cool down\n",
      "27599  10  943.124  424.0  0.786363      0  142.0         NaN  Cool down\n",
      "27600  10  943.552  428.0  0.786363      0  140.0         NaN  Cool down\n",
      "27601  10  943.976  424.0  0.786363      0  142.0         NaN  Cool down\n",
      "27602  10  944.404  428.0  0.786363      0  140.0         NaN  Cool down\n",
      "\n",
      "[52062 rows x 8 columns]\n"
     ]
    }
   ],
   "source": [
    "conditions=[\n",
    "    (combined['time']<0),\n",
    "    (combined['time']>0) & (combined['power']>0),\n",
    "    (combined['power']<=0)\n",
    "]\n",
    "choices=['Warm up','Get','Cool down']\n",
    "combined['stage']=np.select(conditions,choices,default='cool down')\n",
    "print(combined)   "
   ]
  },
  {
   "cell_type": "code",
   "execution_count": 923,
   "id": "8bb462a9-7688-482d-a99f-d1ca2b90ec0b",
   "metadata": {},
   "outputs": [
    {
     "data": {
      "text/plain": [
       "<BarContainer object of 3 artists>"
      ]
     },
     "execution_count": 923,
     "metadata": {},
     "output_type": "execute_result"
    },
    {
     "data": {
      "image/png": "[encoded data removed]",
      "text/plain": [
       "<Figure size 640x480 with 1 Axes>"
      ]
     },
     "metadata": {},
     "output_type": "display_data"
    }
   ],
   "source": [
    "#for calculating the average VO2\n",
    "sum_vo2=merged.groupby(['sport','ID'])['VO2'].sum()\n",
    "#print(sum_vo2)\n",
    "df1=pd.merge(sum_vo2,Athletes,on='ID',how='inner')[['ID','VO2','sport','Weight']]\n",
    "#print(df1)\n",
    "for index,row in df1.iterrows():\n",
    "      df1.at[index,'max_vo2']=round(df1.at[index,'VO2']/df1.at[index,'Weight'],2)\n",
    "      df2=df1.groupby('sport')['max_vo2'].mean()\n",
    "#print(df2)\n",
    "\n",
    "sport=[]\n",
    "avg_vo2_max=[]\n",
    "\n",
    "for key in df2.keys():\n",
    "    sport.append(key)\n",
    "    avg_vo2_max.append(df2[key])\n",
    "    \n",
    "#print(sport)\n",
    "#print(avg_vo2_max)\n",
    "\n",
    "font1 = {'family':'serif', 'color':'green', 'size':20}\n",
    "font2 = { 'family':'serif', 'color':'blue', 'size':12}\n",
    "\n",
    "plt.xlabel(\"Sport\", fontdict = font2, loc = \"right\")\n",
    "plt.ylabel(\"VO2_Max\", fontdict = font2, loc='center') # top, center, bottom\n",
    "plt.title(\"Bar chart showing average VO2_Max by Sport\", fontdict = font1, loc = 'left')\n",
    "\n",
    "plt. grid(axis = 'y',color ='g', linestyle = 'dashdot', linewidth=1) # dashed, solid, dottedd, dashdot, '-' ':', 'None', \" \", '','-.'\n",
    "plt.bar(sport,avg_vo2_max)\n"
   ]
  },
  {
   "cell_type": "markdown",
   "id": "25edc4e5-7e3a-48db-b21b-a32d1d7c71af",
   "metadata": {},
   "source": [
    "### Q29) On average how long was each participants’ warm up?"
   ]
  },
  {
   "cell_type": "code",
   "execution_count": 1038,
   "id": "12977245-e039-47f1-834b-7171d72664c6",
   "metadata": {},
   "outputs": [
    {
     "name": "stdout",
     "output_type": "stream",
     "text": [
      "ID       Time in Minutes \n",
      "1        2.18            \n",
      "2        3.66            \n",
      "3        3.04            \n",
      "4        3.06            \n",
      "5        3.01            \n",
      "6        3.07            \n",
      "7        3.04            \n",
      "8        3.04            \n",
      "9        3.6             \n",
      "10       3.04            \n",
      "11       2.81            \n",
      "12       3.05            \n",
      "13       3.07            \n",
      "14       2.68            \n",
      "15       3.08            \n",
      "16       2.75            \n",
      "17       3.04            \n",
      "18       3.02            \n"
     ]
    }
   ],
   "source": [
    "def Heart_Rate(rr):\n",
    "    return round(60*1000/rr,2)\n",
    "def Heartrate_Zone(hr):\n",
    "    if hr<100:\n",
    "        return 'Zone 1 (recovery/easy)'\n",
    "    elif hr>=100 and hr<120:\n",
    "        return 'Zone 2 (Aerobic/base)'\n",
    "    elif hr>=120 and hr<135:\n",
    "        return 'Zone 3 (tempo)'\n",
    "    elif hr>=135 and hr<155:\n",
    "        return 'Zone 4 (Lactate threshold)'\n",
    "    else:\n",
    "        return 'Zone 5(AnAerobic)'\n",
    "combined['HR']=combined['RR'].apply(Heart_Rate)\n",
    "combined['HR_Zone']=combined['HR'].apply(Heartrate_Zone)\n",
    "#pd.set_option('display.max_rows',1000)\n",
    "#print(combined)\n",
    " \n",
    "conditions=[\n",
    "    (combined['time']<0),\n",
    "    (combined['time']>=0) & (combined['power']>0),\n",
    "    (combined['time']>0) & (combined['power']<=0)\n",
    "]\n",
    "choices=['Warm up','Get','Cool down']\n",
    "combined['stage']=np.select(conditions,choices,default='cool down')\n",
    "#print(combined)\n",
    "\n",
    "Stage_ID_HR_counts=combined.groupby(['ID','HR_Zone'])['stage'].value_counts()\n",
    "#print(Stage_ID_HR_counts.head(25))\n",
    "\n",
    "Stage_df=combined[(combined['stage'] == 'Warm up')]\n",
    "#print(Stage_df)\n",
    "\n",
    "ID_wrt_time=Stage_df.groupby(['ID'])['time'].min()\n",
    "ID_wrt_time.to_dict()\n",
    "\n",
    "for key in ID_wrt_time.keys():\n",
    "    ID_wrt_time[key]=round(abs(ID_wrt_time[key])/60,2)\n",
    "\n",
    "# For adding label to time in minutes - used below formatting technique\n",
    "print(\"{:<8} {:<15} \".format('ID','Time in Minutes'))\n",
    "for k, v in ID_wrt_time.items():\n",
    "    label = v\n",
    "    print(\"{:<8} {:<15} \".format(k, label))\n"
   ]
  },
  {
   "cell_type": "markdown",
   "id": "16469498-e8d8-44e0-8fd7-105dd70bd060",
   "metadata": {},
   "source": [
    "### Q27) Create a sankey diagram to show the groups of race within each sport"
   ]
  },
  {
   "cell_type": "code",
   "execution_count": 1156,
   "id": "928cacdb-f590-4ea2-a69d-a94374481eb6",
   "metadata": {},
   "outputs": [
    {
     "name": "stdout",
     "output_type": "stream",
     "text": [
      "[['fencing', 'White'], ['fencing', 'African'], ['kayak', 'African'], ['kayak', 'Asian'], ['kayak', 'Latino'], ['triathlon', 'Latino']]\n",
      "[6, 4, 2, 2, 2, 2]\n"
     ]
    }
   ],
   "source": [
    "#Stage_ID_HR_counts=combined.groupby(['ID','HR_Zone'])['stage'].value_counts()\n",
    "df=Athletes.groupby(['sport'])['Ethnicity'].value_counts()\n",
    "#print(df)\n",
    "dict=df.to_dict()\n",
    "#print(dict)\n",
    "list1=[]\n",
    "cnt=[]\n",
    "sport=[]\n",
    "race=[]\n",
    "\n",
    "for key in dict:\n",
    "    list1.append(list(key))\n",
    "print(list1)\n",
    "for key in dict:\n",
    "    cnt.append(dict[key])\n",
    "print(cnt)\n",
    "\n",
    "for i in range(0,2):\n",
    "    for j in range(0,2):\n",
    "        \n",
    "\n"
   ]
  },
  {
   "cell_type": "code",
   "execution_count": null,
   "id": "90703df4-ada7-47b9-b62e-f0b3dbfd6635",
   "metadata": {},
   "outputs": [],
   "source": []
  }
 ],
 "metadata": {
  "kernelspec": {
   "display_name": "Python 3 (ipykernel)",
   "language": "python",
   "name": "python3"
  },
  "language_info": {
   "codemirror_mode": {
    "name": "ipython",
    "version": 3
   },
   "file_extension": ".py",
   "mimetype": "text/x-python",
   "name": "python",
   "nbconvert_exporter": "python",
   "pygments_lexer": "ipython3",
   "version": "3.12.4"
  }
 },
 "nbformat": 4,
 "nbformat_minor": 5
}
