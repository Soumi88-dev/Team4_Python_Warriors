{
 "cells": [
  {
   "cell_type": "code",
   "execution_count": 1,
   "id": "513411ef-468c-4783-89fb-a972965bc07f",
   "metadata": {},
   "outputs": [],
   "source": [
    "import pandas as pd\n",
    "import numpy as np\n"
   ]
  },
  {
   "cell_type": "code",
   "execution_count": 2,
   "id": "eb5a7edd-3453-4456-9092-57ead11719e4",
   "metadata": {},
   "outputs": [
    {
     "name": "stderr",
     "output_type": "stream",
     "text": [
      "C:\\Users\\vidhy\\anaconda3\\Lib\\site-packages\\openpyxl\\worksheet\\_read_only.py:79: UserWarning: Unknown extension is not supported and will be removed\n",
      "  for idx, row in parser.parse():\n",
      "C:\\Users\\vidhy\\anaconda3\\Lib\\site-packages\\openpyxl\\worksheet\\_read_only.py:79: UserWarning: Unknown extension is not supported and will be removed\n",
      "  for idx, row in parser.parse():\n",
      "C:\\Users\\vidhy\\anaconda3\\Lib\\site-packages\\openpyxl\\worksheet\\_read_only.py:79: UserWarning: Unknown extension is not supported and will be removed\n",
      "  for idx, row in parser.parse():\n"
     ]
    }
   ],
   "source": [
    "dataset = pd.ExcelFile(r\"C:\\Users\\vidhy\\Downloads\\V02Max_Combined.xlsx\")\n",
    "\n",
    "Athletes = pd.read_excel(dataset, sheet_name = 'Athletes')\n",
    "Kayaking = pd.read_excel(dataset, sheet_name = 'Kayaking')\n",
    "Triathlon = pd.read_excel(dataset, sheet_name = 'Triathlon')\n",
    "Fencing = pd.read_excel(dataset, sheet_name = 'Fencing')\n"
   ]
  },
  {
   "cell_type": "code",
   "execution_count": 3,
   "id": "4c720a30-7bdc-485b-bccf-ade677970831",
   "metadata": {},
   "outputs": [
    {
     "name": "stdout",
     "output_type": "stream",
     "text": [
      "       ID      time     RR       VO2  power\n",
      "0      11  -168.600  727.0  0.287147      0\n",
      "1      11  -167.872  728.0  0.287147      0\n",
      "2      11  -167.148  724.0  0.287147      0\n",
      "3      11  -166.484  664.0  0.320580      0\n",
      "4      11  -165.836  648.0  0.320580      0\n",
      "...    ..       ...    ...       ...    ...\n",
      "19473  16  1118.404  548.0  0.671957      0\n",
      "19474  16  1118.944  540.0  0.671957      0\n",
      "19475  16  1119.484  540.0  0.671957      0\n",
      "19476  16  1120.016  532.0  0.671957      0\n",
      "19477  16  1120.544  528.0  0.671957      0\n",
      "\n",
      "[19478 rows x 5 columns]\n"
     ]
    }
   ],
   "source": [
    "print(Kayaking)"
   ]
  },
  {
   "cell_type": "code",
   "execution_count": 6,
   "id": "3437865a-5111-4761-b144-f4ad7bcbd346",
   "metadata": {},
   "outputs": [
    {
     "name": "stdout",
     "output_type": "stream",
     "text": [
      "    ID  age  Weight  Height  P_vt1  P_vt2      sport  Gender Ethnicity  \\\n",
      "0    1   15    53.7     161     50    140    fencing  Female   African   \n",
      "1    2   15    56.2     162     80    127    fencing    Male   African   \n",
      "2    3   16    89.9     191    155    300    fencing    Male     White   \n",
      "3    4   16    76.5     180    215    275    fencing    Male     White   \n",
      "4    5   17    76.4     186    110    172    fencing  Female     White   \n",
      "5    6   17    65.6     169    131    186    fencing  Female     White   \n",
      "6    7   15    49.8     165     65    108    fencing  Female     White   \n",
      "7    8   15    51.2     165     80    133    fencing  Female     White   \n",
      "8    9   14    57.1     176     50    125    fencing  Female   African   \n",
      "9   10   14    58.8     177    101    162    fencing  Female   African   \n",
      "10  11   18    84.8     182    174    268      kayak  Female   African   \n",
      "11  12   18    86.0     183    170    294      kayak    Male   African   \n",
      "12  13   18    83.9     183    144    267      kayak  Female     Asian   \n",
      "13  14   13    62.3     171    140    170      kayak  Female     Asian   \n",
      "14  15   13    63.5     172    125    156      kayak    Male    Latino   \n",
      "15  16   16    70.4     182     79    175      kayak    Male    Latino   \n",
      "16  17   12    39.9     156    101    145  triathlon    Male    Latino   \n",
      "17  18   12    39.7     158     65    168  triathlon    Male    Latino   \n",
      "\n",
      "   First Name  Last Name  \n",
      "0      Olivia   Martinez  \n",
      "1       Ethan   Reynolds  \n",
      "2     Jackson     Harper  \n",
      "3        Liam    Sanchez  \n",
      "4         Ava   Thompson  \n",
      "5      Sophia  Rodriguez  \n",
      "6       Grace    Simmons  \n",
      "7       Aiden    Bennett  \n",
      "8       Chloe      Price  \n",
      "9        Lily     Jordan  \n",
      "10   Isabella    Griffin  \n",
      "11      Caleb      Dixon  \n",
      "12        Mia  Carpenter  \n",
      "13     Harper   Mitchell  \n",
      "14      Mason    Wallace  \n",
      "15      Logan   Anderson  \n",
      "16      Lucas     Foster  \n",
      "17       Owen      Myers  \n"
     ]
    }
   ],
   "source": [
    "print(Athletes)"
   ]
  },
  {
   "cell_type": "code",
   "execution_count": 7,
   "id": "e7a72d2a-3500-4c07-9a20-a8179eb8cf83",
   "metadata": {},
   "outputs": [
    {
     "name": "stdout",
     "output_type": "stream",
     "text": [
      "      ID     time     RR       VO2  power\n",
      "0     17 -182.408  736.0  0.363762      0\n",
      "1     17 -181.672  736.0  0.363762      0\n",
      "2     17 -180.968  704.0  0.363762      0\n",
      "3     17 -180.268  700.0  0.363762      0\n",
      "4     17 -179.616  652.0  0.363762      0\n",
      "...   ..      ...    ...       ...    ...\n",
      "4976  18  947.288  536.0  0.507071      0\n",
      "4977  18  947.816  528.0  0.507071      0\n",
      "4978  18  948.344  528.0  0.507071      0\n",
      "4979  18  948.884  540.0  0.507071      0\n",
      "4980  18  949.424  540.0  0.507071      0\n",
      "\n",
      "[4981 rows x 5 columns]\n"
     ]
    }
   ],
   "source": [
    "print(Triathlon)"
   ]
  },
  {
   "cell_type": "code",
   "execution_count": null,
   "id": "d5e3a568-4ddd-47a4-a7d7-1dd930d39f63",
   "metadata": {},
   "outputs": [],
   "source": []
  },
  {
   "cell_type": "code",
   "execution_count": 8,
   "id": "94aac63e-d0c4-493e-b684-50825c75ec4e",
   "metadata": {},
   "outputs": [
    {
     "name": "stdout",
     "output_type": "stream",
     "text": [
      "       ID     time   RR       VO2  power\n",
      "0       1 -130.840  672  0.302008      0\n",
      "1       1 -130.168  672  0.302008      0\n",
      "2       1 -129.536  632  0.301336      0\n",
      "3       1 -128.824  712  0.301336      0\n",
      "4       1 -127.948  876  0.301336      0\n",
      "...    ..      ...  ...       ...    ...\n",
      "27598  10  942.700  428  0.786363      0\n",
      "27599  10  943.124  424  0.786363      0\n",
      "27600  10  943.552  428  0.786363      0\n",
      "27601  10  943.976  424  0.786363      0\n",
      "27602  10  944.404  428  0.786363      0\n",
      "\n",
      "[27603 rows x 5 columns]\n"
     ]
    }
   ],
   "source": [
    "print(Fencing)"
   ]
  },
  {
   "cell_type": "code",
   "execution_count": null,
   "id": "153dc855-673b-42a0-91ed-b9fe46f3d870",
   "metadata": {},
   "outputs": [],
   "source": [
    "#8) What are the names of the kayaking athletes?"
   ]
  },
  {
   "cell_type": "code",
   "execution_count": 10,
   "id": "0b8a7509-db1f-4278-b104-28dd435088de",
   "metadata": {},
   "outputs": [
    {
     "name": "stdout",
     "output_type": "stream",
     "text": [
      "       ID      time     RR       VO2  power  age  Weight  Height  P_vt1  \\\n",
      "0      11  -168.600  727.0  0.287147      0   18    84.8     182    174   \n",
      "1      11  -167.872  728.0  0.287147      0   18    84.8     182    174   \n",
      "2      11  -167.148  724.0  0.287147      0   18    84.8     182    174   \n",
      "3      11  -166.484  664.0  0.320580      0   18    84.8     182    174   \n",
      "4      11  -165.836  648.0  0.320580      0   18    84.8     182    174   \n",
      "...    ..       ...    ...       ...    ...  ...     ...     ...    ...   \n",
      "19473  16  1118.404  548.0  0.671957      0   16    70.4     182     79   \n",
      "19474  16  1118.944  540.0  0.671957      0   16    70.4     182     79   \n",
      "19475  16  1119.484  540.0  0.671957      0   16    70.4     182     79   \n",
      "19476  16  1120.016  532.0  0.671957      0   16    70.4     182     79   \n",
      "19477  16  1120.544  528.0  0.671957      0   16    70.4     182     79   \n",
      "\n",
      "       P_vt2  sport  Gender Ethnicity First Name Last Name  \n",
      "0        268  kayak  Female   African   Isabella   Griffin  \n",
      "1        268  kayak  Female   African   Isabella   Griffin  \n",
      "2        268  kayak  Female   African   Isabella   Griffin  \n",
      "3        268  kayak  Female   African   Isabella   Griffin  \n",
      "4        268  kayak  Female   African   Isabella   Griffin  \n",
      "...      ...    ...     ...       ...        ...       ...  \n",
      "19473    175  kayak    Male    Latino      Logan  Anderson  \n",
      "19474    175  kayak    Male    Latino      Logan  Anderson  \n",
      "19475    175  kayak    Male    Latino      Logan  Anderson  \n",
      "19476    175  kayak    Male    Latino      Logan  Anderson  \n",
      "19477    175  kayak    Male    Latino      Logan  Anderson  \n",
      "\n",
      "[19478 rows x 15 columns]\n"
     ]
    }
   ],
   "source": [
    "merged=pd.merge(Kayaking,Athletes, on='ID')\n",
    "print(merged)"
   ]
  },
  {
   "cell_type": "code",
   "execution_count": 12,
   "id": "d6a9a9db-29b9-4791-b8d2-c5b3d53e44d0",
   "metadata": {},
   "outputs": [
    {
     "name": "stdout",
     "output_type": "stream",
     "text": [
      "       ID First Name Last Name\n",
      "0      11   Isabella   Griffin\n",
      "1      11   Isabella   Griffin\n",
      "2      11   Isabella   Griffin\n",
      "3      11   Isabella   Griffin\n",
      "4      11   Isabella   Griffin\n",
      "...    ..        ...       ...\n",
      "19473  16      Logan  Anderson\n",
      "19474  16      Logan  Anderson\n",
      "19475  16      Logan  Anderson\n",
      "19476  16      Logan  Anderson\n",
      "19477  16      Logan  Anderson\n",
      "\n",
      "[19478 rows x 3 columns]\n"
     ]
    }
   ],
   "source": [
    "result=merged[['ID','First Name','Last Name']]\n",
    "print(result)\n"
   ]
  },
  {
   "cell_type": "code",
   "execution_count": null,
   "id": "6ff82419-3454-4f45-bf8d-59de01c2af4a",
   "metadata": {},
   "outputs": [],
   "source": [
    " \n",
    " \t\n",
    "#16)Calculate the BMI of every athlete and display it as a list."
   ]
  },
  {
   "cell_type": "code",
   "execution_count": null,
   "id": "6d61a3ac-f54e-44ea-b7ac-d1b54f15f3a2",
   "metadata": {},
   "outputs": [],
   "source": []
  }
 ],
 "metadata": {
  "kernelspec": {
   "display_name": "Python 3 (ipykernel)",
   "language": "python",
   "name": "python3"
  },
  "language_info": {
   "codemirror_mode": {
    "name": "ipython",
    "version": 3
   },
   "file_extension": ".py",
   "mimetype": "text/x-python",
   "name": "python",
   "nbconvert_exporter": "python",
   "pygments_lexer": "ipython3",
   "version": "3.11.7"
  }
 },
 "nbformat": 4,
 "nbformat_minor": 5
}
