{
 "cells": [
  {
   "cell_type": "code",
   "execution_count": 24,
   "id": "71517763-0a65-4852-9ee5-ed4740852656",
   "metadata": {},
   "outputs": [
    {
     "name": "stderr",
     "output_type": "stream",
     "text": [
      "C:\\Users\\vidhy\\anaconda3\\Lib\\site-packages\\openpyxl\\worksheet\\_read_only.py:79: UserWarning: Unknown extension is not supported and will be removed\n",
      "  for idx, row in parser.parse():\n",
      "C:\\Users\\vidhy\\anaconda3\\Lib\\site-packages\\openpyxl\\worksheet\\_read_only.py:79: UserWarning: Unknown extension is not supported and will be removed\n",
      "  for idx, row in parser.parse():\n",
      "C:\\Users\\vidhy\\anaconda3\\Lib\\site-packages\\openpyxl\\worksheet\\_read_only.py:79: UserWarning: Unknown extension is not supported and will be removed\n",
      "  for idx, row in parser.parse():\n"
     ]
    }
   ],
   "source": [
    "import pandas as pd\n",
    "import numpy as np\n",
    "from datetime import datetime\n",
    "dataset = pd.ExcelFile(r\"C:\\Users\\vidhy\\Downloads\\V02Max_Combined.xlsx\")\n",
    "\n",
    "Athletes = pd.read_excel(dataset, sheet_name = 'Athletes')\n",
    "Kayaking = pd.read_excel(dataset, sheet_name = 'Kayaking')\n",
    "Triathlon = pd.read_excel(dataset, sheet_name = 'Triathlon')\n",
    "Fencing = pd.read_excel(dataset, sheet_name = 'Fencing')\n"
   ]
  },
  {
   "cell_type": "code",
   "execution_count": null,
   "id": "45e6d16c-6f88-4c8b-b4f8-6839929cf86d",
   "metadata": {},
   "outputs": [],
   "source": [
    "#16)Calculate the BMI of every athlete and display it as a list?"
   ]
  },
  {
   "cell_type": "code",
   "execution_count": 14,
   "id": "d731cc10-d5e1-4869-9d3a-943d580da1c2",
   "metadata": {
    "scrolled": true
   },
   "outputs": [
    {
     "name": "stdout",
     "output_type": "stream",
     "text": [
      "    ID  age  Weight  Height  P_vt1  P_vt2      sport  Gender Ethnicity  \\\n",
      "0    1   15    53.7     161     50    140    fencing  Female   African   \n",
      "1    2   15    56.2     162     80    127    fencing    Male   African   \n",
      "2    3   16    89.9     191    155    300    fencing    Male     White   \n",
      "3    4   16    76.5     180    215    275    fencing    Male     White   \n",
      "4    5   17    76.4     186    110    172    fencing  Female     White   \n",
      "5    6   17    65.6     169    131    186    fencing  Female     White   \n",
      "6    7   15    49.8     165     65    108    fencing  Female     White   \n",
      "7    8   15    51.2     165     80    133    fencing  Female     White   \n",
      "8    9   14    57.1     176     50    125    fencing  Female   African   \n",
      "9   10   14    58.8     177    101    162    fencing  Female   African   \n",
      "10  11   18    84.8     182    174    268      kayak  Female   African   \n",
      "11  12   18    86.0     183    170    294      kayak    Male   African   \n",
      "12  13   18    83.9     183    144    267      kayak  Female     Asian   \n",
      "13  14   13    62.3     171    140    170      kayak  Female     Asian   \n",
      "14  15   13    63.5     172    125    156      kayak    Male    Latino   \n",
      "15  16   16    70.4     182     79    175      kayak    Male    Latino   \n",
      "16  17   12    39.9     156    101    145  triathlon    Male    Latino   \n",
      "17  18   12    39.7     158     65    168  triathlon    Male    Latino   \n",
      "\n",
      "   First Name  Last Name       BMI  \n",
      "0      Olivia   Martinez  0.002072  \n",
      "1       Ethan   Reynolds  0.002141  \n",
      "2     Jackson     Harper  0.002464  \n",
      "3        Liam    Sanchez  0.002361  \n",
      "4         Ava   Thompson  0.002208  \n",
      "5      Sophia  Rodriguez  0.002297  \n",
      "6       Grace    Simmons  0.001829  \n",
      "7       Aiden    Bennett  0.001881  \n",
      "8       Chloe      Price  0.001843  \n",
      "9        Lily     Jordan  0.001877  \n",
      "10   Isabella    Griffin  0.002560  \n",
      "11      Caleb      Dixon  0.002568  \n",
      "12        Mia  Carpenter  0.002505  \n",
      "13     Harper   Mitchell  0.002131  \n",
      "14      Mason    Wallace  0.002146  \n",
      "15      Logan   Anderson  0.002125  \n",
      "16      Lucas     Foster  0.001640  \n",
      "17       Owen      Myers  0.001590  \n"
     ]
    }
   ],
   "source": [
    "\n",
    "Athletes['BMI']=Athletes['Weight']/(Athletes['Height']**2)\n",
    "print(Athletes)"
   ]
  },
  {
   "cell_type": "code",
   "execution_count": 15,
   "id": "d285b861-f345-4496-aef6-9ebde8208daf",
   "metadata": {},
   "outputs": [
    {
     "name": "stdout",
     "output_type": "stream",
     "text": [
      "Athletes BMI [0.0021, 0.0021, 0.0025, 0.0024, 0.0022, 0.0023, 0.0018, 0.0019, 0.0018, 0.0019, 0.0026, 0.0026, 0.0025, 0.0021, 0.0021, 0.0021, 0.0016, 0.0016]\n"
     ]
    }
   ],
   "source": [
    "Athletes['BMI']=Athletes['BMI'].round(4)\n",
    "Athletes_bmi_list=Athletes['BMI'].tolist()\n",
    "print(\"Athletes BMI\",Athletes_bmi_list)"
   ]
  },
  {
   "cell_type": "code",
   "execution_count": null,
   "id": "ef035e5d-0f9d-424f-bfd5-7ef06a3bc397",
   "metadata": {},
   "outputs": [],
   "source": [
    "#15)Assign 1 of the following 5 heart rate zones for every record for all sports and athletes and add this as a column to every table:\n",
    "#Zone 1 (recovery/easy)       <100 HR max\n",
    "#Zone 2 (aerobic/base)        100-120 HR max\n",
    "#Zone 3 (tempo)        120-135 HR max\n",
    "#Zone 4 (lactate threshold)        135-155 HR max\n",
    "#Zone 5 (anaerobic)        155+ HR max and above"
   ]
  },
  {
   "cell_type": "code",
   "execution_count": 21,
   "id": "34ef96f7-d800-4d15-99d3-4dfdab427c44",
   "metadata": {},
   "outputs": [
    {
     "name": "stdout",
     "output_type": "stream",
     "text": [
      "       ID      time     RR       VO2  power      HR                 HR_Zone\n",
      "0      11  -168.600  727.0  0.287147      0   82.53  Zone 1 (recovery/easy)\n",
      "1      11  -167.872  728.0  0.287147      0   82.42  Zone 1 (recovery/easy)\n",
      "2      11  -167.148  724.0  0.287147      0   82.87  Zone 1 (recovery/easy)\n",
      "3      11  -166.484  664.0  0.320580      0   90.36  Zone 1 (recovery/easy)\n",
      "4      11  -165.836  648.0  0.320580      0   92.59  Zone 1 (recovery/easy)\n",
      "...    ..       ...    ...       ...    ...     ...                     ...\n",
      "19473  16  1118.404  548.0  0.671957      0  109.49   Zone 2 (Aerobic/base)\n",
      "19474  16  1118.944  540.0  0.671957      0  111.11   Zone 2 (Aerobic/base)\n",
      "19475  16  1119.484  540.0  0.671957      0  111.11   Zone 2 (Aerobic/base)\n",
      "19476  16  1120.016  532.0  0.671957      0  112.78   Zone 2 (Aerobic/base)\n",
      "19477  16  1120.544  528.0  0.671957      0  113.64   Zone 2 (Aerobic/base)\n",
      "\n",
      "[19478 rows x 7 columns]\n"
     ]
    }
   ],
   "source": [
    "def Heart_Rate(rr):\n",
    "    return round(60*1000/rr,2)\n",
    "def Heartrate_Zone(hr):\n",
    "    if hr<100:\n",
    "        return 'Zone 1 (recovery/easy)'\n",
    "    elif hr>=100 and hr<120:\n",
    "        return 'Zone 2 (Aerobic/base)'\n",
    "    elif hr>=120 and hr<135:\n",
    "        return 'Zone 3 (tempo)'\n",
    "    elif hr>=135 and hr<155:\n",
    "        return 'Zone 4 (Lactate threshold)'\n",
    "    else:\n",
    "        return 'Zone 5(AnAerobic)'\n",
    "Kayaking['HR']=Kayaking['RR'].apply(Heart_Rate)\n",
    "Kayaking['HR_Zone']=Kayaking['HR'].apply(Heartrate_Zone)\n",
    "print(Kayaking)\n",
    "        \n",
    "        \n",
    "\n"
   ]
  },
  {
   "cell_type": "code",
   "execution_count": null,
   "id": "e9cc15e1-b070-4d5d-b657-399bfd73f517",
   "metadata": {},
   "outputs": [],
   "source": [
    "#14)Calculate the year of birth of each athlete and store it as a column in the tables."
   ]
  },
  {
   "cell_type": "code",
   "execution_count": 27,
   "id": "80e89f77-86a7-4ee5-b8df-dffcef98b134",
   "metadata": {},
   "outputs": [
    {
     "name": "stdout",
     "output_type": "stream",
     "text": [
      "    ID  age  Weight  Height  P_vt1  P_vt2      sport  Gender Ethnicity  \\\n",
      "0    1   15    53.7     161     50    140    fencing  Female   African   \n",
      "1    2   15    56.2     162     80    127    fencing    Male   African   \n",
      "2    3   16    89.9     191    155    300    fencing    Male     White   \n",
      "3    4   16    76.5     180    215    275    fencing    Male     White   \n",
      "4    5   17    76.4     186    110    172    fencing  Female     White   \n",
      "5    6   17    65.6     169    131    186    fencing  Female     White   \n",
      "6    7   15    49.8     165     65    108    fencing  Female     White   \n",
      "7    8   15    51.2     165     80    133    fencing  Female     White   \n",
      "8    9   14    57.1     176     50    125    fencing  Female   African   \n",
      "9   10   14    58.8     177    101    162    fencing  Female   African   \n",
      "10  11   18    84.8     182    174    268      kayak  Female   African   \n",
      "11  12   18    86.0     183    170    294      kayak    Male   African   \n",
      "12  13   18    83.9     183    144    267      kayak  Female     Asian   \n",
      "13  14   13    62.3     171    140    170      kayak  Female     Asian   \n",
      "14  15   13    63.5     172    125    156      kayak    Male    Latino   \n",
      "15  16   16    70.4     182     79    175      kayak    Male    Latino   \n",
      "16  17   12    39.9     156    101    145  triathlon    Male    Latino   \n",
      "17  18   12    39.7     158     65    168  triathlon    Male    Latino   \n",
      "\n",
      "   First Name  Last Name   DOB  \n",
      "0      Olivia   Martinez  2009  \n",
      "1       Ethan   Reynolds  2009  \n",
      "2     Jackson     Harper  2008  \n",
      "3        Liam    Sanchez  2008  \n",
      "4         Ava   Thompson  2007  \n",
      "5      Sophia  Rodriguez  2007  \n",
      "6       Grace    Simmons  2009  \n",
      "7       Aiden    Bennett  2009  \n",
      "8       Chloe      Price  2010  \n",
      "9        Lily     Jordan  2010  \n",
      "10   Isabella    Griffin  2006  \n",
      "11      Caleb      Dixon  2006  \n",
      "12        Mia  Carpenter  2006  \n",
      "13     Harper   Mitchell  2011  \n",
      "14      Mason    Wallace  2011  \n",
      "15      Logan   Anderson  2008  \n",
      "16      Lucas     Foster  2012  \n",
      "17       Owen      Myers  2012  \n"
     ]
    }
   ],
   "source": [
    "#current_year=datetime.now().year\n",
    "Athletes['DOB']=datetime.now().year-Athletes['age']\n",
    "print(Athletes)\n"
   ]
  },
  {
   "cell_type": "code",
   "execution_count": null,
   "id": "f3dca69c-0f3c-45f7-9a33-fd71808ab9db",
   "metadata": {},
   "outputs": [],
   "source": [
    "#1)Join all sport-related tables to produce one dataframe that has all athletes values. The final table should only have the same 5 columns: ID, time,power,RR, vo2, power. Write this dataframe to an excel file?"
   ]
  },
  {
   "cell_type": "code",
   "execution_count": 31,
   "id": "3928b722-3582-44a8-99e7-8761c67b950a",
   "metadata": {},
   "outputs": [
    {
     "name": "stdout",
     "output_type": "stream",
     "text": [
      "       ID     time     RR       VO2  power\n",
      "0      11 -168.600  727.0  0.287147      0\n",
      "1      11 -167.872  728.0  0.287147      0\n",
      "2      11 -167.148  724.0  0.287147      0\n",
      "3      11 -166.484  664.0  0.320580      0\n",
      "4      11 -165.836  648.0  0.320580      0\n",
      "...    ..      ...    ...       ...    ...\n",
      "27598  10  942.700  428.0  0.786363      0\n",
      "27599  10  943.124  424.0  0.786363      0\n",
      "27600  10  943.552  428.0  0.786363      0\n",
      "27601  10  943.976  424.0  0.786363      0\n",
      "27602  10  944.404  428.0  0.786363      0\n",
      "\n",
      "[52062 rows x 5 columns]\n"
     ]
    }
   ],
   "source": [
    "combined=pd.concat([Kayaking,Triathlon,Fencing])\n",
    "print(combined)"
   ]
  },
  {
   "cell_type": "code",
   "execution_count": null,
   "id": "c30462c1-b1a6-480d-919c-7f06bc18c7c6",
   "metadata": {},
   "outputs": [],
   "source": []
  }
 ],
 "metadata": {
  "kernelspec": {
   "display_name": "Python 3 (ipykernel)",
   "language": "python",
   "name": "python3"
  },
  "language_info": {
   "codemirror_mode": {
    "name": "ipython",
    "version": 3
   },
   "file_extension": ".py",
   "mimetype": "text/x-python",
   "name": "python",
   "nbconvert_exporter": "python",
   "pygments_lexer": "ipython3",
   "version": "3.11.7"
  }
 },
 "nbformat": 4,
 "nbformat_minor": 5
}
