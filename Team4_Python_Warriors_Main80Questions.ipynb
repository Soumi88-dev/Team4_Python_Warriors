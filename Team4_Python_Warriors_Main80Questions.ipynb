{
 "cells": [
  {
   "cell_type": "code",
   "execution_count": 929,
   "metadata": {
    "executionInfo": {
     "elapsed": 319,
     "status": "ok",
     "timestamp": 1724304313367,
     "user": {
      "displayName": "Soumi Sen",
      "userId": "06561516563240062837"
     },
     "user_tz": 420
    },
    "id": "TKectaqkylAq"
   },
   "outputs": [],
   "source": [
    "#import all the libraries\n",
    "\n",
    "import pandas as pd\n",
    "import numpy as np\n",
    "import matplotlib.pyplot as plt\n",
    "import seaborn as sns\n",
    "import wordcloud as wc\n",
    "import re\n",
    "from datetime import datetime\n",
    "import warnings\n",
    "warnings.filterwarnings('ignore')\n",
    "import plotly.graph_objects as go\n",
    "import operator"
   ]
  },
  {
   "cell_type": "code",
   "execution_count": 930,
   "metadata": {
    "executionInfo": {
     "elapsed": 332,
     "status": "ok",
     "timestamp": 1724303718137,
     "user": {
      "displayName": "Soumi Sen",
      "userId": "06561516563240062837"
     },
     "user_tz": 420
    },
    "id": "tQsm4KPc0IzS"
   },
   "outputs": [],
   "source": [
    "#from google.colab import drive\n",
    "#drive.mount('/content/drive')\n"
   ]
  },
  {
   "cell_type": "code",
   "execution_count": 931,
   "metadata": {
    "executionInfo": {
     "elapsed": 5048,
     "status": "ok",
     "timestamp": 1724303731541,
     "user": {
      "displayName": "Soumi Sen",
      "userId": "06561516563240062837"
     },
     "user_tz": 420
    },
    "id": "jtCL096k0Vxi"
   },
   "outputs": [],
   "source": [
    "#Read the excel file and store the sheets into dataframes.\n",
    "#dataset = pd.ExcelFile('/content/drive/MyDrive/Google Colab Practice Folder/Python_hackathon_Aug2024/V02Max_Combined.xlsx')\n",
    "dataset='Hackathon_Aug24/V02Max_Combined.xlsx'\n",
    "\n",
    "Athletes = pd.read_excel(dataset, sheet_name = 'Athletes')\n",
    "Kayaking = pd.read_excel(dataset, sheet_name = 'Kayaking')\n",
    "Triathlon = pd.read_excel(dataset, sheet_name = 'Triathlon')\n",
    "Fencing = pd.read_excel(dataset, sheet_name = 'Fencing')"
   ]
  },
  {
   "cell_type": "markdown",
   "metadata": {
    "id": "PDP-btzS1Yks"
   },
   "source": [
    "### Qs1: Join all sport-related tables to produce one dataframe that has all athletes values. The final table should only have the same 5 columns: ID, time,power,RR, vo2, power. Write this dataframe to an excel file."
   ]
  },
  {
   "cell_type": "code",
   "execution_count": 933,
   "metadata": {
    "executionInfo": {
     "elapsed": 326,
     "status": "ok",
     "timestamp": 1724303735182,
     "user": {
      "displayName": "Soumi Sen",
      "userId": "06561516563240062837"
     },
     "user_tz": 420
    },
    "id": "pEUTuMTk1aQv"
   },
   "outputs": [],
   "source": [
    "# Concatenate sports DataFrames\n",
    "All_sports=pd.concat([Kayaking, Triathlon, Fencing])\n",
    "\n",
    "\n",
    "# write the dataframe in excel\n",
    "#All_sports.to_excel('/content/drive/MyDrive/Google Colab Practice Folder/Python_hackathon_Aug2024/All_sports.xlsx')\n",
    "All_sports.to_excel('Hackathon_Aug24/All_sports.xlsx')"
   ]
  },
  {
   "cell_type": "markdown",
   "metadata": {
    "id": "HkFrn3ib1pir"
   },
   "source": [
    "### Qs2: Divide the rows into 3 parts: Warm up, GET(graded exercise test) and cool down using the data def. Label each row accordingly"
   ]
  },
  {
   "cell_type": "code",
   "execution_count": 935,
   "metadata": {
    "executionInfo": {
     "elapsed": 340,
     "status": "ok",
     "timestamp": 1724303745450,
     "user": {
      "displayName": "Soumi Sen",
      "userId": "06561516563240062837"
     },
     "user_tz": 420
    },
    "id": "Cz17KF3p1qa0"
   },
   "outputs": [],
   "source": [
    "# three conditions\n",
    "conditions=[\n",
    "    (All_sports['time']<0),\n",
    "    (All_sports['time']>0) & (All_sports['power']>0),\n",
    "    (All_sports['time']>0) & (All_sports['power']<=0)\n",
    "]\n",
    "choices=['Warm up','Get','Cool down']\n",
    "\n",
    "All_sports['stage']=np.select(conditions,choices,default='cool down')\n",
    "\n",
    "# create a new column stage for 3 parts\n",
    "All_sports['stage']=np.select(conditions,choices,default='cool down')"
   ]
  },
  {
   "cell_type": "code",
   "execution_count": 936,
   "metadata": {
    "colab": {
     "base_uri": "https://localhost:8080/"
    },
    "executionInfo": {
     "elapsed": 347,
     "status": "ok",
     "timestamp": 1724303748312,
     "user": {
      "displayName": "Soumi Sen",
      "userId": "06561516563240062837"
     },
     "user_tz": 420
    },
    "id": "8DwoJQ682BZe",
    "outputId": "e2402415-3319-4d90-d893-6796900c31a5"
   },
   "outputs": [
    {
     "name": "stdout",
     "output_type": "stream",
     "text": [
      "       ID     time     RR       VO2  power      stage  age  Weight  Height  \\\n",
      "0      11 -168.600  727.0  0.287147      0    Warm up   18    84.8     182   \n",
      "1      11 -167.872  728.0  0.287147      0    Warm up   18    84.8     182   \n",
      "2      11 -167.148  724.0  0.287147      0    Warm up   18    84.8     182   \n",
      "3      11 -166.484  664.0  0.320580      0    Warm up   18    84.8     182   \n",
      "4      11 -165.836  648.0  0.320580      0    Warm up   18    84.8     182   \n",
      "...    ..      ...    ...       ...    ...        ...  ...     ...     ...   \n",
      "52057  10  942.700  428.0  0.786363      0  Cool down   14    58.8     177   \n",
      "52058  10  943.124  424.0  0.786363      0  Cool down   14    58.8     177   \n",
      "52059  10  943.552  428.0  0.786363      0  Cool down   14    58.8     177   \n",
      "52060  10  943.976  424.0  0.786363      0  Cool down   14    58.8     177   \n",
      "52061  10  944.404  428.0  0.786363      0  Cool down   14    58.8     177   \n",
      "\n",
      "       P_vt1  P_vt2    sport  Gender Ethnicity First Name Last Name  \n",
      "0        174    268    kayak  Female   African   Isabella   Griffin  \n",
      "1        174    268    kayak  Female   African   Isabella   Griffin  \n",
      "2        174    268    kayak  Female   African   Isabella   Griffin  \n",
      "3        174    268    kayak  Female   African   Isabella   Griffin  \n",
      "4        174    268    kayak  Female   African   Isabella   Griffin  \n",
      "...      ...    ...      ...     ...       ...        ...       ...  \n",
      "52057    101    162  fencing  Female   African       Lily    Jordan  \n",
      "52058    101    162  fencing  Female   African       Lily    Jordan  \n",
      "52059    101    162  fencing  Female   African       Lily    Jordan  \n",
      "52060    101    162  fencing  Female   African       Lily    Jordan  \n",
      "52061    101    162  fencing  Female   African       Lily    Jordan  \n",
      "\n",
      "[52062 rows x 16 columns]\n"
     ]
    }
   ],
   "source": [
    "# merege the All_sports dataframe with Athletes table\n",
    "merged_sports=pd.merge(All_sports,Athletes,on='ID',how='inner')\n",
    "print(merged_sports)"
   ]
  },
  {
   "cell_type": "code",
   "execution_count": 937,
   "metadata": {
    "executionInfo": {
     "elapsed": 315,
     "status": "ok",
     "timestamp": 1724305511248,
     "user": {
      "displayName": "Soumi Sen",
      "userId": "06561516563240062837"
     },
     "user_tz": 420
    },
    "id": "m4-2N8Ii2Vo1"
   },
   "outputs": [],
   "source": [
    "# Function for create HeartRate\n",
    "def Heart_Rate(rr):\n",
    "    return round(60*1000/rr,2)\n",
    "# Function for create HeartRate_Zones\n",
    "def Heartrate_Zone(hr):\n",
    "    if hr<100:\n",
    "        return 'Zone 1 (recovery/easy)'\n",
    "    elif hr>=100 and hr<120:\n",
    "        return 'Zone 2 (Aerobic/base)'\n",
    "    elif hr>=120 and hr<135:\n",
    "        return 'Zone 3 (tempo)'\n",
    "    elif hr>=135 and hr<155:\n",
    "        return 'Zone 4 (Lactate threshold)'\n",
    "    else:\n",
    "        return 'Zone 5(AnAerobic)'\n",
    "# Add HR and HR_Zone in the merged dataset\n",
    "merged_sports['HR']=merged_sports['RR'].apply(Heart_Rate)\n",
    "merged_sports['HR_Zone']=merged_sports['HR'].apply(Heartrate_Zone)"
   ]
  },
  {
   "cell_type": "code",
   "execution_count": 938,
   "metadata": {
    "id": "l386fHjVQkNL"
   },
   "outputs": [
    {
     "name": "stdout",
     "output_type": "stream",
     "text": [
      "       ID     time     RR       VO2  power      stage  age  Weight  Height  \\\n",
      "0      11 -168.600  727.0  0.287147      0    Warm up   18    84.8     182   \n",
      "1      11 -167.872  728.0  0.287147      0    Warm up   18    84.8     182   \n",
      "2      11 -167.148  724.0  0.287147      0    Warm up   18    84.8     182   \n",
      "3      11 -166.484  664.0  0.320580      0    Warm up   18    84.8     182   \n",
      "4      11 -165.836  648.0  0.320580      0    Warm up   18    84.8     182   \n",
      "...    ..      ...    ...       ...    ...        ...  ...     ...     ...   \n",
      "52057  10  942.700  428.0  0.786363      0  Cool down   14    58.8     177   \n",
      "52058  10  943.124  424.0  0.786363      0  Cool down   14    58.8     177   \n",
      "52059  10  943.552  428.0  0.786363      0  Cool down   14    58.8     177   \n",
      "52060  10  943.976  424.0  0.786363      0  Cool down   14    58.8     177   \n",
      "52061  10  944.404  428.0  0.786363      0  Cool down   14    58.8     177   \n",
      "\n",
      "       P_vt1  P_vt2    sport  Gender Ethnicity First Name Last Name      HR  \\\n",
      "0        174    268    kayak  Female   African   Isabella   Griffin   82.53   \n",
      "1        174    268    kayak  Female   African   Isabella   Griffin   82.42   \n",
      "2        174    268    kayak  Female   African   Isabella   Griffin   82.87   \n",
      "3        174    268    kayak  Female   African   Isabella   Griffin   90.36   \n",
      "4        174    268    kayak  Female   African   Isabella   Griffin   92.59   \n",
      "...      ...    ...      ...     ...       ...        ...       ...     ...   \n",
      "52057    101    162  fencing  Female   African       Lily    Jordan  140.19   \n",
      "52058    101    162  fencing  Female   African       Lily    Jordan  141.51   \n",
      "52059    101    162  fencing  Female   African       Lily    Jordan  140.19   \n",
      "52060    101    162  fencing  Female   African       Lily    Jordan  141.51   \n",
      "52061    101    162  fencing  Female   African       Lily    Jordan  140.19   \n",
      "\n",
      "                          HR_Zone  \n",
      "0          Zone 1 (recovery/easy)  \n",
      "1          Zone 1 (recovery/easy)  \n",
      "2          Zone 1 (recovery/easy)  \n",
      "3          Zone 1 (recovery/easy)  \n",
      "4          Zone 1 (recovery/easy)  \n",
      "...                           ...  \n",
      "52057  Zone 4 (Lactate threshold)  \n",
      "52058  Zone 4 (Lactate threshold)  \n",
      "52059  Zone 4 (Lactate threshold)  \n",
      "52060  Zone 4 (Lactate threshold)  \n",
      "52061  Zone 4 (Lactate threshold)  \n",
      "\n",
      "[52062 rows x 18 columns]\n"
     ]
    }
   ],
   "source": [
    "print(merged_sports)"
   ]
  },
  {
   "cell_type": "markdown",
   "metadata": {
    "id": "wDDjz5TYQ1Ge"
   },
   "source": [
    "### Qs3 What was the average time each tested lasted excluding warm up for all athletes?"
   ]
  },
  {
   "cell_type": "code",
   "execution_count": 940,
   "metadata": {
    "colab": {
     "base_uri": "https://localhost:8080/"
    },
    "executionInfo": {
     "elapsed": 323,
     "status": "ok",
     "timestamp": 1724303764229,
     "user": {
      "displayName": "Soumi Sen",
      "userId": "06561516563240062837"
     },
     "user_tz": 420
    },
    "id": "EcKc7iBZQt1a",
    "outputId": "3c39d7b9-61d5-4d28-9ea1-6e0e864f9827"
   },
   "outputs": [
    {
     "name": "stdout",
     "output_type": "stream",
     "text": [
      "The average time each test lasted excluding warmup for all athelets is: 604.00 seconds\n"
     ]
    }
   ],
   "source": [
    "test_combined=All_sports[All_sports['stage']!='Warm up']\n",
    "avg_time=test_combined['time'].mean()\n",
    "print(f'The average time each test lasted excluding warmup for all athelets is: {avg_time:.2f} seconds')"
   ]
  },
  {
   "cell_type": "markdown",
   "metadata": {
    "id": "7krwRNixQ9ez"
   },
   "source": [
    "### Qs4 Athletes from which sport had the highest average cardiorespiratory fitness in terms of HRV?"
   ]
  },
  {
   "cell_type": "code",
   "execution_count": 942,
   "metadata": {
    "colab": {
     "base_uri": "https://localhost:8080/"
    },
    "executionInfo": {
     "elapsed": 334,
     "status": "ok",
     "timestamp": 1724303912626,
     "user": {
      "displayName": "Soumi Sen",
      "userId": "06561516563240062837"
     },
     "user_tz": 420
    },
    "id": "Ji2xglSWQQ2C",
    "outputId": "69d9dbe5-c88c-4751-d8c7-caf49bd88cad"
   },
   "outputs": [
    {
     "name": "stdout",
     "output_type": "stream",
     "text": [
      "sport\n",
      "fencing      193.056530\n",
      "kayak        251.279363\n",
      "triathlon    138.401081\n",
      "Name: RR, dtype: float64\n",
      "The sport with highest average cadiorespiratory fitness in terms of HRV (RR interval) is kayak with an average HRV of 251.28\n"
     ]
    }
   ],
   "source": [
    "avg_HRV_sport=merged_sports.groupby('sport')['RR'].std()\n",
    "print(avg_HRV_sport)\n",
    "#avg_hr=avg_HRV_sport.groupby('sport')\n",
    "Highest_avg_HRV_sport=avg_HRV_sport.idxmax()\n",
    "Highest_HRV_value=avg_HRV_sport.max()\n",
    "print(f'The sport with highest average cadiorespiratory fitness in terms of HRV (RR interval) is {Highest_avg_HRV_sport} with an average HRV of {Highest_HRV_value:.2f}')"
   ]
  },
  {
   "cell_type": "markdown",
   "metadata": {
    "id": "UCxW8I_-Ubte"
   },
   "source": [
    "### Qs5 What was the average time each test lasted (including warm up) for all athletes?"
   ]
  },
  {
   "cell_type": "code",
   "execution_count": 944,
   "metadata": {
    "colab": {
     "base_uri": "https://localhost:8080/"
    },
    "executionInfo": {
     "elapsed": 321,
     "status": "ok",
     "timestamp": 1724303967832,
     "user": {
      "displayName": "Soumi Sen",
      "userId": "06561516563240062837"
     },
     "user_tz": 420
    },
    "id": "OHovNCOlUen1",
    "outputId": "27b2e3cf-5ee0-4301-e3b1-75a00f357ea8"
   },
   "outputs": [
    {
     "name": "stdout",
     "output_type": "stream",
     "text": [
      "       ID     time     RR       VO2  power    stage\n",
      "0      11 -168.600  727.0  0.287147      0  Warm up\n",
      "1      11 -167.872  728.0  0.287147      0  Warm up\n",
      "2      11 -167.148  724.0  0.287147      0  Warm up\n",
      "3      11 -166.484  664.0  0.320580      0  Warm up\n",
      "4      11 -165.836  648.0  0.320580      0  Warm up\n",
      "...    ..      ...    ...       ...    ...      ...\n",
      "27080  10  750.688  316.0  1.903905    200      Get\n",
      "27081  10  751.004  316.0  1.903905    200      Get\n",
      "27082  10  751.324  320.0  1.966324    200      Get\n",
      "27083  10  751.640  316.0  1.966324    200      Get\n",
      "27084  10  751.956  316.0  1.993441    200      Get\n",
      "\n",
      "[42974 rows x 6 columns]\n",
      "The average time each test lasted including warmup for all athelets is 453.03 minutes\n"
     ]
    }
   ],
   "source": [
    "#print(combined)\n",
    "Test_Warmup=All_sports[(All_sports['stage'] !='Cool down')]\n",
    "print(Test_Warmup)\n",
    "avg_time_warmup=Test_Warmup['time'].mean()\n",
    "print(f'The average time each test lasted including warmup for all athelets is {avg_time_warmup:.2f} minutes')"
   ]
  },
  {
   "cell_type": "markdown",
   "metadata": {
    "id": "hszUq0ESU_6v"
   },
   "source": [
    "### Qs6 What was the most common  wattage (above 0) achieved by participants and for how many seconds (average time)? You may choose to show averages based on any one/all sports."
   ]
  },
  {
   "cell_type": "code",
   "execution_count": 946,
   "metadata": {
    "colab": {
     "base_uri": "https://localhost:8080/"
    },
    "executionInfo": {
     "elapsed": 5,
     "status": "ok",
     "timestamp": 1724304000059,
     "user": {
      "displayName": "Soumi Sen",
      "userId": "06561516563240062837"
     },
     "user_tz": 420
    },
    "id": "WZdhO8_dVDV1",
    "outputId": "5c73d24e-7e18-44a4-dab9-9d9eb5371920"
   },
   "outputs": [
    {
     "name": "stdout",
     "output_type": "stream",
     "text": [
      "common wattage: 50.00 average time: 92.24\n"
     ]
    }
   ],
   "source": [
    "merged_sports1=merged_sports[merged_sports['power']>0]\n",
    "wattage=merged_sports1['power'].mode()[0]\n",
    "common_wattage=merged_sports[merged_sports['power'] == wattage]\n",
    "average_time=common_wattage['time'].mean()\n",
    "print(f'common wattage: {wattage:.2f} average time: {average_time:.2f}')"
   ]
  },
  {
   "cell_type": "markdown",
   "metadata": {
    "id": "cKWhOEo9V2Dz"
   },
   "source": [
    "### Qs7 Create a correlation matrix to show the relationship between HR, BMI and sport?"
   ]
  },
  {
   "cell_type": "code",
   "execution_count": 948,
   "metadata": {
    "colab": {
     "base_uri": "https://localhost:8080/",
     "height": 339
    },
    "executionInfo": {
     "elapsed": 315,
     "status": "error",
     "timestamp": 1724304004609,
     "user": {
      "displayName": "Soumi Sen",
      "userId": "06561516563240062837"
     },
     "user_tz": 420
    },
    "id": "CePc6zUbV4fY",
    "outputId": "ac8e428a-d040-40cf-ca98-ca21e4087de9"
   },
   "outputs": [
    {
     "name": "stdout",
     "output_type": "stream",
     "text": [
      "                BMI  sport_num        HR\n",
      "BMI        1.000000        NaN -0.224625\n",
      "sport_num       NaN   1.000000  0.039016\n",
      "HR        -0.224625   0.039016  1.000000\n"
     ]
    }
   ],
   "source": [
    "merged_sports['BMI']=Athletes['Weight']/(Athletes['Height']**2)\n",
    "#print(Athletes)\n",
    "merged_sports['sport_num']=pd.factorize(merged_sports['sport'])[0]\n",
    "\n",
    "correlation_matrix=merged_sports[['BMI','sport_num','HR']].corr()\n",
    "print(correlation_matrix)"
   ]
  },
  {
   "cell_type": "markdown",
   "metadata": {
    "id": "KkXILZYtXho1"
   },
   "source": [
    "### Qs8  What are the names of the kayaking athletes?"
   ]
  },
  {
   "cell_type": "code",
   "execution_count": 950,
   "metadata": {
    "colab": {
     "base_uri": "https://localhost:8080/"
    },
    "executionInfo": {
     "elapsed": 369,
     "status": "ok",
     "timestamp": 1724304028118,
     "user": {
      "displayName": "Soumi Sen",
      "userId": "06561516563240062837"
     },
     "user_tz": 420
    },
    "id": "d88MSeXyXkUA",
    "outputId": "54cf6d64-6824-4efb-f63f-9fad7fa8d8d7"
   },
   "outputs": [
    {
     "name": "stdout",
     "output_type": "stream",
     "text": [
      "   First Name  Last Name\n",
      "10   Isabella    Griffin\n",
      "11      Caleb      Dixon\n",
      "12        Mia  Carpenter\n",
      "13     Harper   Mitchell\n",
      "14      Mason    Wallace\n",
      "15      Logan   Anderson\n"
     ]
    }
   ],
   "source": [
    "merged_kayaking=pd.merge(Kayaking,Athletes, on='ID')\n",
    "#print(merged_kayaking[['First Name','Last Name']])\n",
    "Athletes_1=Athletes[Athletes['sport']=='kayak']\n",
    "print(Athletes_1[['First Name','Last Name']])\n"
   ]
  },
  {
   "cell_type": "markdown",
   "metadata": {
    "id": "ZqYu138JZl1Y"
   },
   "source": [
    "### Qs9 What was the average HRV of the triathletes?"
   ]
  },
  {
   "cell_type": "code",
   "execution_count": 952,
   "metadata": {
    "colab": {
     "base_uri": "https://localhost:8080/"
    },
    "executionInfo": {
     "elapsed": 156,
     "status": "ok",
     "timestamp": 1724285338778,
     "user": {
      "displayName": "Soumi Sen",
      "userId": "06561516563240062837"
     },
     "user_tz": 420
    },
    "id": "gnjGs9ASZs0E",
    "outputId": "545be7db-398a-4ea7-9b66-a38edf9d1387"
   },
   "outputs": [
    {
     "name": "stdout",
     "output_type": "stream",
     "text": [
      "The average HRV of the Triathlon is 138.40\n"
     ]
    }
   ],
   "source": [
    "triathlon_1=merged_sports[merged_sports['sport']=='triathlon']\n",
    "HRV=triathlon_1['RR'].std()\n",
    "print(f\"The average HRV of the Triathlon is {HRV:.2f}\")"
   ]
  },
  {
   "cell_type": "markdown",
   "metadata": {
    "id": "IjYeobPLa08P"
   },
   "source": [
    "### Qs.10 How long was athlete 12 in HR Zone 5?"
   ]
  },
  {
   "cell_type": "code",
   "execution_count": 954,
   "metadata": {
    "colab": {
     "base_uri": "https://localhost:8080/"
    },
    "executionInfo": {
     "elapsed": 165,
     "status": "ok",
     "timestamp": 1724285775175,
     "user": {
      "displayName": "Soumi Sen",
      "userId": "06561516563240062837"
     },
     "user_tz": 420
    },
    "id": "vm0OF2q2azve",
    "outputId": "61efcdc8-c318-45a0-bc19-85f66e2b10f4"
   },
   "outputs": [
    {
     "name": "stdout",
     "output_type": "stream",
     "text": [
      "1406708.02\n"
     ]
    }
   ],
   "source": [
    "Athelet_12= merged_sports[merged_sports['ID']==12]\n",
    "#print(Athelet_12)\n",
    "Athelet_12_Zone5= Athelet_12[Athelet_12['HR_Zone']=='Zone 5(AnAerobic)']\n",
    "#print(Athelet_12_Zone5)\n",
    "Total_time=Athelet_12_Zone5['time'].sum()\n",
    "print(round(Total_time,2))"
   ]
  },
  {
   "cell_type": "markdown",
   "metadata": {
    "id": "1NU7EuYXbtAH"
   },
   "source": [
    "### Qs.11 Create any 3d plot using any data. Values do not have to be from the dataset given?"
   ]
  },
  {
   "cell_type": "code",
   "execution_count": 956,
   "metadata": {
    "colab": {
     "base_uri": "https://localhost:8080/",
     "height": 452
    },
    "executionInfo": {
     "elapsed": 386,
     "status": "ok",
     "timestamp": 1724285736828,
     "user": {
      "displayName": "Soumi Sen",
      "userId": "06561516563240062837"
     },
     "user_tz": 420
    },
    "id": "kBvcLNsFbvJs",
    "outputId": "3371d36c-5477-45bd-b620-2862ac7e33d0"
   },
   "outputs": [
    {
     "data": {
      "image/png": "[encoded data removed]",
      "text/plain": [
       "<Figure size 640x480 with 1 Axes>"
      ]
     },
     "metadata": {},
     "output_type": "display_data"
    }
   ],
   "source": [
    "\n",
    "x=[5,7,9,22,3,89,10,95,33,55]\n",
    "y=[100,133,244,550,670,900,890,567,987,300]\n",
    "plt.scatter(x,y,c='red')\n",
    "plt.title('Scatter Plot')\n",
    "\n",
    "plt.show()"
   ]
  },
  {
   "cell_type": "markdown",
   "metadata": {
    "id": "pCmoN9p_cWTV"
   },
   "source": [
    "### Qs.12 What were the Highest 3 V02 Maxes recorded. Display all 3 names, sport and personal V02 Maxes?"
   ]
  },
  {
   "cell_type": "code",
   "execution_count": 958,
   "metadata": {
    "colab": {
     "base_uri": "https://localhost:8080/"
    },
    "executionInfo": {
     "elapsed": 397,
     "status": "ok",
     "timestamp": 1724305078737,
     "user": {
      "displayName": "Soumi Sen",
      "userId": "06561516563240062837"
     },
     "user_tz": 420
    },
    "id": "4kWuZ7KsceZi",
    "outputId": "855fada3-f948-46e1-8b8d-443ba7942d7d"
   },
   "outputs": [
    {
     "name": "stdout",
     "output_type": "stream",
     "text": [
      "    ID First Name  Last Name  Weight  Height  sport          VO2  VO2mlperkg\n",
      "11  12      Caleb      Dixon    86.0     183  kayak  7934.206192   92.258212\n",
      "12  13        Mia  Carpenter    83.9     183  kayak  7614.654355   90.758693\n",
      "10  11   Isabella    Griffin    84.8     182  kayak  7596.969334   89.586903\n"
     ]
    }
   ],
   "source": [
    "\n",
    "\n",
    "# Adding all VO2 values for each athlete\n",
    "vO2_sum=All_sports.groupby(['ID'])['VO2'].sum()\n",
    "#print(vO2_sum_df)\n",
    "\n",
    "#Inner join on VO2sum and athletes based on ID and writing the specific values to a new dataframe\n",
    "athletenew_df=pd.merge(Athletes,vO2_sum, on='ID', how='inner')[['ID','First Name','Last Name','Weight','Height','sport','VO2']]\n",
    "#print(athletenew_df)\n",
    "\n",
    "\n",
    "#Calculating VO2ml/kg for each athlete and writing it to the dataframe\n",
    "athletenew_df['VO2mlperkg']=(athletenew_df['VO2']/athletenew_df['Weight'])\n",
    "print(athletenew_df.sort_values(by='VO2mlperkg',ascending=False).head(3))"
   ]
  },
  {
   "cell_type": "markdown",
   "metadata": {
    "id": "jcb9ZdwGeMP3"
   },
   "source": [
    "### Qs.13 Calculate the year of birth of each athlete and store it as a column in the tables."
   ]
  },
  {
   "cell_type": "code",
   "execution_count": 960,
   "metadata": {
    "colab": {
     "base_uri": "https://localhost:8080/"
    },
    "executionInfo": {
     "elapsed": 222,
     "status": "ok",
     "timestamp": 1724286475842,
     "user": {
      "displayName": "Soumi Sen",
      "userId": "06561516563240062837"
     },
     "user_tz": 420
    },
    "id": "CwhUxua4eeIH",
    "outputId": "aacc888d-163b-43e4-9953-99cb9da62c77"
   },
   "outputs": [
    {
     "name": "stdout",
     "output_type": "stream",
     "text": [
      "    ID  age  Weight  Height  P_vt1  P_vt2      sport  Gender Ethnicity  \\\n",
      "0    1   15    53.7     161     50    140    fencing  Female   African   \n",
      "1    2   15    56.2     162     80    127    fencing    Male   African   \n",
      "2    3   16    89.9     191    155    300    fencing    Male     White   \n",
      "3    4   16    76.5     180    215    275    fencing    Male     White   \n",
      "4    5   17    76.4     186    110    172    fencing  Female     White   \n",
      "5    6   17    65.6     169    131    186    fencing  Female     White   \n",
      "6    7   15    49.8     165     65    108    fencing  Female     White   \n",
      "7    8   15    51.2     165     80    133    fencing  Female     White   \n",
      "8    9   14    57.1     176     50    125    fencing  Female   African   \n",
      "9   10   14    58.8     177    101    162    fencing  Female   African   \n",
      "10  11   18    84.8     182    174    268      kayak  Female   African   \n",
      "11  12   18    86.0     183    170    294      kayak    Male   African   \n",
      "12  13   18    83.9     183    144    267      kayak  Female     Asian   \n",
      "13  14   13    62.3     171    140    170      kayak  Female     Asian   \n",
      "14  15   13    63.5     172    125    156      kayak    Male    Latino   \n",
      "15  16   16    70.4     182     79    175      kayak    Male    Latino   \n",
      "16  17   12    39.9     156    101    145  triathlon    Male    Latino   \n",
      "17  18   12    39.7     158     65    168  triathlon    Male    Latino   \n",
      "\n",
      "   First Name  Last Name   DOB  \n",
      "0      Olivia   Martinez  2009  \n",
      "1       Ethan   Reynolds  2009  \n",
      "2     Jackson     Harper  2008  \n",
      "3        Liam    Sanchez  2008  \n",
      "4         Ava   Thompson  2007  \n",
      "5      Sophia  Rodriguez  2007  \n",
      "6       Grace    Simmons  2009  \n",
      "7       Aiden    Bennett  2009  \n",
      "8       Chloe      Price  2010  \n",
      "9        Lily     Jordan  2010  \n",
      "10   Isabella    Griffin  2006  \n",
      "11      Caleb      Dixon  2006  \n",
      "12        Mia  Carpenter  2006  \n",
      "13     Harper   Mitchell  2011  \n",
      "14      Mason    Wallace  2011  \n",
      "15      Logan   Anderson  2008  \n",
      "16      Lucas     Foster  2012  \n",
      "17       Owen      Myers  2012  \n"
     ]
    }
   ],
   "source": [
    "Athletes['DOB']=datetime.now().year-Athletes['age']\n",
    "print(Athletes)"
   ]
  },
  {
   "cell_type": "markdown",
   "metadata": {
    "id": "WnfGrLiOfC28"
   },
   "source": [
    "### Qs.14 What were the lowest 3 V02 Maxes recorded. Display all 3 names, sport and personal V02 Maxes."
   ]
  },
  {
   "cell_type": "code",
   "execution_count": 962,
   "metadata": {
    "colab": {
     "base_uri": "https://localhost:8080/"
    },
    "executionInfo": {
     "elapsed": 186,
     "status": "ok",
     "timestamp": 1724286551346,
     "user": {
      "displayName": "Soumi Sen",
      "userId": "06561516563240062837"
     },
     "user_tz": 420
    },
    "id": "mwrk5XUjfF47",
    "outputId": "3821e81a-d225-4cdc-e35b-428bbb7e54b7"
   },
   "outputs": [
    {
     "name": "stdout",
     "output_type": "stream",
     "text": [
      "   ID First Name Last Name  Weight  Height    sport          VO2  VO2mlperkg\n",
      "6   7      Grace   Simmons    49.8     165  fencing  1912.518617   38.403988\n",
      "1   2      Ethan  Reynolds    56.2     162  fencing  2171.152256   38.632602\n",
      "0   1     Olivia  Martinez    53.7     161  fencing  2298.775092   42.807730\n"
     ]
    }
   ],
   "source": [
    "print(athletenew_df.sort_values(by='VO2mlperkg').head(3))"
   ]
  },
  {
   "cell_type": "markdown",
   "metadata": {
    "id": "nC4nRUQHfZVJ"
   },
   "source": [
    "### Qs.15 Assign 1 of the following 5 heart rate zones for every record for all sports and athletes and add this as a column to every table:\n",
    "#Zone 1 (recovery/easy)       <100 HR max\n",
    "#Zone 2 (aerobic/base)        100-120 HR max\n",
    "#Zone 3 (tempo)        120-135 HR max\n",
    "#Zone 4 (lactate threshold)        135-155 HR max\n",
    "#Zone 5 (anaerobic)        155+ HR max and above"
   ]
  },
  {
   "cell_type": "code",
   "execution_count": 964,
   "metadata": {
    "colab": {
     "base_uri": "https://localhost:8080/"
    },
    "executionInfo": {
     "elapsed": 189,
     "status": "ok",
     "timestamp": 1724286817322,
     "user": {
      "displayName": "Soumi Sen",
      "userId": "06561516563240062837"
     },
     "user_tz": 420
    },
    "id": "nUMnJgL1fcLX",
    "outputId": "efcc66bf-3008-4dd9-cffe-b10aae9c7c14"
   },
   "outputs": [
    {
     "name": "stdout",
     "output_type": "stream",
     "text": [
      "                          HR_Zone      HR\n",
      "0          Zone 1 (recovery/easy)   82.53\n",
      "1          Zone 1 (recovery/easy)   82.42\n",
      "2          Zone 1 (recovery/easy)   82.87\n",
      "3          Zone 1 (recovery/easy)   90.36\n",
      "4          Zone 1 (recovery/easy)   92.59\n",
      "...                           ...     ...\n",
      "52057  Zone 4 (Lactate threshold)  140.19\n",
      "52058  Zone 4 (Lactate threshold)  141.51\n",
      "52059  Zone 4 (Lactate threshold)  140.19\n",
      "52060  Zone 4 (Lactate threshold)  141.51\n",
      "52061  Zone 4 (Lactate threshold)  140.19\n",
      "\n",
      "[52062 rows x 2 columns]\n"
     ]
    }
   ],
   "source": [
    "#pd.set_option('display.max_rows',1000)\n",
    "print(merged_sports[['HR_Zone','HR']])"
   ]
  },
  {
   "cell_type": "markdown",
   "metadata": {
    "id": "kHRU-1R5gTEr"
   },
   "source": [
    "### Qs16 Calculate the BMI of every athlete and display it as a list?"
   ]
  },
  {
   "cell_type": "code",
   "execution_count": 966,
   "metadata": {
    "colab": {
     "base_uri": "https://localhost:8080/"
    },
    "executionInfo": {
     "elapsed": 171,
     "status": "ok",
     "timestamp": 1724287444779,
     "user": {
      "displayName": "Soumi Sen",
      "userId": "06561516563240062837"
     },
     "user_tz": 420
    },
    "id": "6DUBlkqugVRj",
    "outputId": "7a95fc22-8155-448d-9802-4e60d27fc708"
   },
   "outputs": [
    {
     "name": "stdout",
     "output_type": "stream",
     "text": [
      "[20.72, 21.41, 24.64, 23.61, 22.08, 22.97, 18.29, 18.81, 18.43, 18.77, 25.6, 25.68, 25.05, 21.31, 21.46, 21.25, 16.4, 15.9]\n"
     ]
    }
   ],
   "source": [
    "Athletes['BMI']=Athletes['Weight']/((Athletes['Height']/100)**2)\n",
    "BMI_list=Athletes['BMI'].to_list()\n",
    "for i in range(0,len(BMI_list)):\n",
    "  BMI_list[i]=round(BMI_list[i],2)\n",
    "\n",
    "print(BMI_list)"
   ]
  },
  {
   "cell_type": "markdown",
   "metadata": {
    "id": "hfEpPC0igbzy"
   },
   "source": [
    "### Qs17. What is the maximum ventilatory threshold for triathletes."
   ]
  },
  {
   "cell_type": "code",
   "execution_count": 968,
   "metadata": {
    "id": "KGYAKRNogbzy",
    "outputId": "1e14813c-aa6a-4575-afa1-b753f04b57b5"
   },
   "outputs": [
    {
     "data": {
      "text/plain": [
       "P_vt1    101.0\n",
       "P_vt2    168.0\n",
       "Name: max, dtype: float64"
      ]
     },
     "execution_count": 968,
     "metadata": {},
     "output_type": "execute_result"
    }
   ],
   "source": [
    "Triathletes=Athletes[(Athletes['sport']=='triathlon')]\n",
    "#Triathletes\n",
    "\n",
    "Max_Ventilatory_threshold=Triathletes[['P_vt1','P_vt2']].describe()\n",
    "Max_Ventilatory_threshold.loc['max']\n",
    "\n",
    "#Another Solution\n",
    "#Max_Ventilatory_threshold=Triathletes[['P_vt1','P_vt2']].max()\n",
    "#Max_Ventilatory_threshold\n"
   ]
  },
  {
   "cell_type": "markdown",
   "metadata": {
    "id": "_QhLdnPygbzy"
   },
   "source": [
    "### Qs18. Display the number of athletes in every sport against the name of the sport."
   ]
  },
  {
   "cell_type": "code",
   "execution_count": 970,
   "metadata": {
    "id": "f7-CLGLggbzy",
    "outputId": "5c4d9af8-4d29-4f5c-8463-9b3d50ca6060"
   },
   "outputs": [
    {
     "data": {
      "text/plain": [
       "sport\n",
       "fencing      10\n",
       "kayak         6\n",
       "triathlon     2\n",
       "Name: count, dtype: int64"
      ]
     },
     "execution_count": 970,
     "metadata": {},
     "output_type": "execute_result"
    }
   ],
   "source": [
    "Athletes['sport'].value_counts()"
   ]
  },
  {
   "cell_type": "markdown",
   "metadata": {
    "id": "XW4XBq5ygbzz"
   },
   "source": [
    "### Qs19. Display a bar chart showing the average V02 Max by sport."
   ]
  },
  {
   "cell_type": "code",
   "execution_count": 972,
   "metadata": {
    "id": "05hVMkB5gbzz",
    "outputId": "c8cfeae3-bd35-4689-dbfc-ca0042f2fe8c"
   },
   "outputs": [
    {
     "data": {
      "text/plain": [
       "<BarContainer object of 3 artists>"
      ]
     },
     "execution_count": 972,
     "metadata": {},
     "output_type": "execute_result"
    },
    {
     "data": {
      "image/png": "[encoded data removed]",
      "text/plain": [
       "<Figure size 640x480 with 1 Axes>"
      ]
     },
     "metadata": {},
     "output_type": "display_data"
    }
   ],
   "source": [
    "#for calculating the average VO2\n",
    "sum_vo2=merged_sports.groupby(['ID'])['VO2'].sum()\n",
    "#print(sum_vo2)\n",
    "df1=pd.merge(sum_vo2,Athletes,on='ID',how='inner')[['ID','VO2','sport','Weight']]\n",
    "#print(df1)\n",
    "\n",
    "\n",
    "for index,row in df1.iterrows():\n",
    "      df1.at[index,'max_vo2']=round(df1.at[index,'VO2']/df1.at[index,'Weight'],2)\n",
    "      df2=df1.groupby('sport')['max_vo2'].mean()\n",
    "#print(df2)\n",
    "\n",
    "sport=[]\n",
    "avg_vo2_max=[]\n",
    "\n",
    "for key in df2.keys():\n",
    "    sport.append(key)\n",
    "    avg_vo2_max.append(df2[key])\n",
    "\n",
    "#print(sport)\n",
    "#print(avg_vo2_max)\n",
    "\n",
    "font1 = {'family':'serif', 'color':'green', 'size':15}\n",
    "font2 = { 'family':'serif', 'color':'green', 'size':14}\n",
    "\n",
    "plt.xlabel(\"Sport\", fontdict = font2, loc = \"right\")\n",
    "plt.ylabel(\"Average VO2_Max\", fontdict = font2, loc='center') # top, center, bottom\n",
    "plt.title(\"Bar chart showing average VO2_Max by Sport\", fontdict = font1, loc = 'left')\n",
    "\n",
    "plt. grid(axis = 'y',color ='g', linestyle = 'dashdot', linewidth=1) # dashed, solid, dottedd, dashdot, '-' ':', 'None', \" \", '','-.'\n",
    "plt.bar(sport,avg_vo2_max)\n"
   ]
  },
  {
   "cell_type": "markdown",
   "metadata": {
    "id": "GU29GMclgbzz"
   },
   "source": [
    "### Qs20. Analyze the trend of HR at the start of the test vs the middle and the end.What is the overall trend?"
   ]
  },
  {
   "cell_type": "code",
   "execution_count": 974,
   "metadata": {
    "id": "O4i_qBQCgbzz",
    "outputId": "b8a0253a-0b3f-4b3f-c997-c4b874aa5382"
   },
   "outputs": [
    {
     "name": "stdout",
     "output_type": "stream",
     "text": [
      "\n",
      "\n",
      " Based on the analysis - As the Graded Exercise Test is done for a longer time,  we can see that the trend of Heart Rate is also increasing\n",
      "\n",
      "\n"
     ]
    },
    {
     "data": {
      "image/png": "[encoded data removed]",
      "text/plain": [
       "<Figure size 640x480 with 1 Axes>"
      ]
     },
     "metadata": {},
     "output_type": "display_data"
    }
   ],
   "source": [
    "\n",
    "Stage_df=merged_sports[(merged_sports['stage'] == 'Get')]\n",
    "#print(Stage_df)\n",
    "\n",
    "start_test=Stage_df.groupby('ID')['time'].min().reset_index(name='start_time')\n",
    "middle_test=Stage_df.groupby('ID')['time'].median().reset_index(name='mid_time')\n",
    "end_test=Stage_df.groupby('ID')['time'].max().reset_index(name='end_time')\n",
    "#print(start_test)\n",
    "#print(middle_test)\n",
    "#print(end_test)\n",
    "\n",
    "start_test_HR =pd.merge(start_test,Stage_df,left_on=['ID','start_time'],right_on=['ID','time'], how='inner')[['ID','start_time','HR']].sort_values(by='start_time')\n",
    "#print(start_test_HR)\n",
    "\n",
    "middle_test_HR =pd.merge(middle_test,Stage_df,left_on=['ID','mid_time'],right_on=['ID','time'], how='inner')[['ID','mid_time','HR']].sort_values(by='mid_time')\n",
    "#print(middle_test_HR)\n",
    "\n",
    "end_test_HR =pd.merge(end_test,Stage_df,left_on=['ID','end_time'],right_on=['ID','time'], how='inner')[['ID','end_time','HR']].sort_values(by='end_time')\n",
    "#print(end_test_HR)\n",
    "\n",
    "merge_test=pd.merge(pd.merge(start_test_HR,middle_test_HR, on='ID', how='left'),end_test_HR,on='ID', how='right')\n",
    "#print(merge_test)\n",
    "\n",
    "#name_list = df['Name'].values.tolist()\n",
    "ID_list=start_test_HR['ID'].values.tolist()\n",
    "#print(ID_list)\n",
    "HR_list_st=start_test_HR['HR'].values.tolist()\n",
    "#print(HR_list_st)\n",
    "Time_st=start_test_HR['start_time'].values.tolist()\n",
    "#print(Time_st)\n",
    "\n",
    "HR_list_md=middle_test_HR['HR'].values.tolist()\n",
    "#print(HR_list_md)\n",
    "Time_md=middle_test_HR['mid_time'].values.tolist()\n",
    "#print(Time_md)\n",
    "\n",
    "HR_list_end=end_test_HR['HR'].values.tolist()\n",
    "#print(HR_list_end)\n",
    "Time_end=end_test_HR['end_time'].values.tolist()\n",
    "#print(Time_end)\n",
    "\n",
    "HR_list=HR_list_st+HR_list_md+HR_list_end\n",
    "Time_list=Time_st+Time_md+Time_end\n",
    "#print(HR_list)\n",
    "#print(Time_list)\n",
    "\n",
    "a = HR_list\n",
    "b = Time_list\n",
    "\n",
    "plt.plot(b,a, marker ='H',lw=2, mec = 'g')\n",
    "\n",
    "plt.xlabel(\"Start of test               Mid  of test            End  of test\", fontsize=14)\n",
    "plt.ylabel(\"Heart Rate\", fontsize= 14)\n",
    "print()\n",
    "print()\n",
    "print(\" Based on the analysis - As the Graded Exercise Test is done for a longer time,  we can see that the trend of Heart Rate is also increasing\")\n",
    "print()\n",
    "print()"
   ]
  },
  {
   "cell_type": "markdown",
   "metadata": {
    "id": "4BD6J4p8gbzz"
   },
   "source": [
    "### Qs.21 Display a pie chart of number of athletes by sport."
   ]
  },
  {
   "cell_type": "code",
   "execution_count": 976,
   "metadata": {
    "id": "pnalUxswgbz0",
    "outputId": "20389606-7799-4369-b86f-8ff4687f3bc8"
   },
   "outputs": [
    {
     "data": {
      "text/plain": [
       "<matplotlib.legend.Legend at 0x1e766865ac0>"
      ]
     },
     "execution_count": 976,
     "metadata": {},
     "output_type": "execute_result"
    },
    {
     "data": {
      "image/png": "[encoded data removed]",
      "text/plain": [
       "<Figure size 300x300 with 1 Axes>"
      ]
     },
     "metadata": {},
     "output_type": "display_data"
    }
   ],
   "source": [
    "df=Athletes['sport'].value_counts()\n",
    "df=df.to_dict()\n",
    "\n",
    "sport=[]\n",
    "No_of_athletes=[]\n",
    "\n",
    "for key in df.keys():\n",
    "    sport.append(key)\n",
    "    No_of_athletes.append(df[key])\n",
    "\n",
    "#print(sport)\n",
    "#print(No_of_athletes)\n",
    "\n",
    "colors = ['gold', 'yellowgreen','skyblue']\n",
    "\n",
    "plt.figure(figsize=(len(sport),len(No_of_athletes)))\n",
    "plt.pie(No_of_athletes, labels = No_of_athletes,colors=colors,shadow=True,startangle=90, center = (-2,0))\n",
    "plt.title(\"No of athletes by Sport\", fontsize=15)\n",
    "plt.legend(labels = sport)\n",
    "\n"
   ]
  },
  {
   "cell_type": "markdown",
   "metadata": {
    "id": "G0qipbh6gbz0"
   },
   "source": [
    "### Qs.22 Using any 10 HR values print even if the value is an even number and odd if its an odd number"
   ]
  },
  {
   "cell_type": "code",
   "execution_count": 978,
   "metadata": {
    "id": "ox4Tp07ugbz0",
    "outputId": "97e81a72-4f59-4ef9-c382-f3414456b49d"
   },
   "outputs": [
    {
     "name": "stdout",
     "output_type": "stream",
     "text": [
      "83.0  - odd \n",
      "82.0  - even \n",
      "90.0  - even \n",
      "93.0  - odd \n",
      "97.0  - odd \n",
      "86.0  - even \n",
      "75.0  - odd \n",
      "76.0  - even \n",
      "78.0  - even \n",
      "77.0  - odd \n"
     ]
    }
   ],
   "source": [
    "All_sports['HR']=round(60000/All_sports['RR'])\n",
    "HR_random=All_sports['HR']\n",
    "HR_random=HR_random.drop_duplicates().head(10)\n",
    "\n",
    "for i in HR_random:\n",
    "    if i%2==0:\n",
    "        print(i,\" - even \")\n",
    "    else:\n",
    "        print(i,\" - odd \")"
   ]
  },
  {
   "cell_type": "markdown",
   "metadata": {
    "id": "YYNS6FNLgbz0"
   },
   "source": [
    "### Qs.23 Which heart rate zone did most participants spend the longest duration of time in?"
   ]
  },
  {
   "cell_type": "code",
   "execution_count": 980,
   "metadata": {
    "id": "4uBwvGsDgbz0"
   },
   "outputs": [
    {
     "name": "stdout",
     "output_type": "stream",
     "text": [
      "Zone                           Total Time in Minutes          \n",
      "Zone 2 (Aerobic/base)          25.3                           \n",
      "Zone 1 (recovery/easy)         23.92                          \n",
      "Zone 4 (Lactate threshold)     28.79                          \n",
      "Zone 3 (tempo)                 27.03                          \n",
      "Zone 5(AnAerobic)              34.71                          \n",
      "\n",
      "Zone 5(AnAerobic)  was the Zone with longest duration of time spent by most pariticpants.\n",
      "\n"
     ]
    }
   ],
   "source": [
    "#print(merged_sports)\n",
    "Stage_ID_HR_counts=merged_sports.groupby(['ID','HR_Zone'])['stage'].value_counts()\n",
    "#print(Stage_ID_HR_counts.head(25))\n",
    "\n",
    "warm_up_df=merged_sports[(merged_sports['stage'] == 'Warm up')]\n",
    "get_df=merged_sports[(merged_sports['stage'] == 'Get')]\n",
    "cool_down_df=merged_sports[(merged_sports['stage'] == 'Cool down')]\n",
    "#print(warm_up_df)\n",
    "\n",
    "######################     Warm UP     ##############################\n",
    "\n",
    "warm_time=warm_up_df.groupby(['HR_Zone'])['time'].min()\n",
    "warm_time=warm_time.to_dict()\n",
    "\n",
    "\n",
    "for key in warm_time.keys():\n",
    "    warm_time[key]=round(abs(warm_time[key])/60,2)\n",
    "\n",
    "warm_time['Zone 4 (Lactate threshold)']=0\n",
    "warm_time['Zone 5(AnAerobic)']=0\n",
    "#print(warm_time)\n",
    "# For adding label to time in minutes - used below formatting technique\n",
    "#print(\"{:<30} {:<30} \".format('Zone','WU Time Minutes'))\n",
    "for k, v in warm_time.items():\n",
    "    label = v\n",
    "    #print(\"{:<30} {:<30} \".format(k, label))\n",
    "    \n",
    "##########################   GET       ###################################\n",
    "get_time=get_df.groupby(['HR_Zone'])['time'].max()\n",
    "#print(get_time)\n",
    "get_time=get_time.to_dict()\n",
    "\n",
    "for key in get_time.keys():\n",
    "    get_time[key]=round(abs(get_time[key])/60,2)\n",
    "\n",
    "#print(get_time)\n",
    "# For adding label to time in minutes - used below formatting technique\n",
    "#print(\"{:<30} {:<30} \".format('Zone','GET Time Minutes'))\n",
    "for k, v in get_time.items():\n",
    "    label = v\n",
    "    #print(\"{:<30} {:<30} \".format(k, label))\n",
    "\n",
    "\n",
    "#################################  Cool Min    ############################\n",
    "cool_min_time=cool_down_df.groupby(['HR_Zone'])['time'].min()\n",
    "#print(cool_min_time)\n",
    "cool_min_time=cool_min_time.to_dict()\n",
    "\n",
    "for key in cool_min_time.keys():\n",
    "    cool_min_time[key]=round(abs(cool_min_time[key])/60,2)\n",
    "\n",
    "#print(cool_min_time)\n",
    "# For adding label to time in minutes - used below formatting technique\n",
    "#print(\"{:<30} {:<30} \".format('Zone','CoolMin Time Minutes'))\n",
    "for k, v in cool_min_time.items():\n",
    "    label = v\n",
    "    #print(\"{:<30} {:<30} \".format(k, label))\n",
    "\n",
    "#####################################  Cool Max   ####################################\n",
    "cool_max_time=cool_down_df.groupby(['HR_Zone'])['time'].max()\n",
    "#print(cool_max_time)\n",
    "cool_max_time=cool_max_time.to_dict()\n",
    "\n",
    "for key in cool_max_time.keys():\n",
    "    cool_max_time[key]=round(abs(cool_max_time[key])/60,2)\n",
    "\n",
    "#print(cool_max_time)\n",
    "# For adding label to time in minutes - used below formatting technique\n",
    "#print(\"{:<30} {:<30} \".format('Zone','CoolMax Time Minutes'))\n",
    "for k, v in cool_max_time.items():\n",
    "    label = v\n",
    "    #print(\"{:<30} {:<30} \".format(k, label))\n",
    "\n",
    "####################################  Cool_time (Max-Min)  #########################\n",
    "cool_time={}\n",
    "######   res = {key: test_dict2[key] - test_dict1[key] for key in set(test_dict1) & set(test_dict2)}\n",
    "cool_time={key: cool_max_time[key] - cool_min_time[key] for key in set(cool_min_time) & set(cool_max_time)}\n",
    "#print(type(cool_time))\n",
    "#print(cool_time)\n",
    "\n",
    "for key in cool_time.keys():\n",
    "    cool_time[key]=round(abs(cool_time[key]),2)\n",
    "\n",
    "#print(cool_time)\n",
    "# For adding label to time in minutes - used below formatting technique\n",
    "#print(\"{:<30} {:<30} \".format('Zone','Cool Time Minutes'))\n",
    "for k, v in cool_time.items():\n",
    "    label = v\n",
    "    #print(\"{:<30} {:<30} \".format(k, label))\n",
    "\n",
    "####################   Now, add Warm-up, GET and Cool down time to get total time spent Zone wise  ################################\n",
    "\n",
    "\n",
    "\n",
    "Total_time={key: warm_time[key] + get_time[key] + cool_time[key] for key in set(warm_time) & set(get_time) & set(cool_time)}\n",
    "\n",
    "\n",
    "# For adding label to time in minutes - used below formatting technique\n",
    "print(\"{:<30} {:<30} \".format('Zone','Total Time in Minutes'))\n",
    "for k, v in Total_time.items():\n",
    "    label = v\n",
    "    print(\"{:<30} {:<30} \".format(k, label))\n",
    "\n",
    "##########     Now, Find the Zone with maximum number of minutes spent    ##################\n",
    "\n",
    "str=max(Total_time.items(), key=operator.itemgetter(1))[0]\n",
    "print()\n",
    "print(str,\" was the Zone with longest duration of time spent by most pariticpants.\")\n",
    "print()"
   ]
  },
  {
   "cell_type": "markdown",
   "metadata": {
    "id": "-6L-kJsLgbz0"
   },
   "source": [
    "### Qs.24 Store athlete name and sport in a dictionary as a pair of values."
   ]
  },
  {
   "cell_type": "code",
   "execution_count": 982,
   "metadata": {
    "id": "h-XXzq_agbz0",
    "outputId": "fbb06485-2835-48c1-ac18-c4d3f544140b"
   },
   "outputs": [
    {
     "data": {
      "text/plain": [
       "{'Olivia Martinez': 'fencing',\n",
       " 'Ethan Reynolds': 'fencing',\n",
       " 'Jackson Harper': 'fencing',\n",
       " 'Liam Sanchez': 'fencing',\n",
       " 'Ava Thompson': 'fencing',\n",
       " 'Sophia Rodriguez': 'fencing',\n",
       " 'Grace Simmons': 'fencing',\n",
       " 'Aiden Bennett': 'fencing',\n",
       " 'Chloe Price': 'fencing',\n",
       " 'Lily Jordan': 'fencing',\n",
       " 'Isabella Griffin': 'kayak',\n",
       " 'Caleb Dixon': 'kayak',\n",
       " 'Mia Carpenter': 'kayak',\n",
       " 'Harper Mitchell': 'kayak',\n",
       " 'Mason Wallace': 'kayak',\n",
       " 'Logan Anderson': 'kayak',\n",
       " 'Lucas Foster': 'triathlon',\n",
       " 'Owen Myers': 'triathlon'}"
      ]
     },
     "execution_count": 982,
     "metadata": {},
     "output_type": "execute_result"
    }
   ],
   "source": [
    "fname=Athletes['First Name']\n",
    "lname=Athletes['Last Name']\n",
    "full_name=fname+' '+lname\n",
    "Name_sport_dict=Athletes.set_index(full_name)['sport'].to_dict()\n",
    "Name_sport_dict"
   ]
  },
  {
   "cell_type": "markdown",
   "metadata": {
    "id": "3PFHoaeVgbz0"
   },
   "source": [
    "### Qs.25 Using arrays and loops, find the count of athletes based on gender."
   ]
  },
  {
   "cell_type": "code",
   "execution_count": 984,
   "metadata": {
    "id": "oDD_rXfygbz1",
    "outputId": "2445fe5f-8d31-46b1-897f-43e240a6e1a9"
   },
   "outputs": [
    {
     "name": "stdout",
     "output_type": "stream",
     "text": [
      "Male:  8\n",
      "Female:  10\n"
     ]
    }
   ],
   "source": [
    "athletes_male=[]\n",
    "athletes_female=[]\n",
    "\n",
    "for fname,gender in zip(Athletes['First Name'],Athletes['Gender']):\n",
    "    if gender == 'Male':\n",
    "        athletes_male.append(fname)\n",
    "    else:\n",
    "        athletes_female.append(fname)\n",
    "\n",
    "print('Male: ',len(athletes_male))\n",
    "print('Female: ',len(athletes_female))\n"
   ]
  },
  {
   "cell_type": "markdown",
   "metadata": {
    "id": "x6dmXIXngbz1"
   },
   "source": [
    "### Qs.26 Create a sankey diagram to show the groups of race within each sport"
   ]
  },
  {
   "cell_type": "code",
   "execution_count": 986,
   "metadata": {
    "id": "toaabqmXgbz2",
    "outputId": "f307dd40-2814-4d96-cf14-e19b7cd94fda"
   },
   "outputs": [
    {
     "data": {
      "application/javascript": [
       "(function(root) {\n",
       "  function now() {\n",
       "    return new Date();\n",
       "  }\n",
       "\n",
       "  var force = true;\n",
       "  var py_version = '3.4.1'.replace('rc', '-rc.').replace('.dev', '-dev.');\n",
       "  var reloading = false;\n",
       "  var Bokeh = root.Bokeh;\n",
       "\n",
       "  if (typeof (root._bokeh_timeout) === \"undefined\" || force) {\n",
       "    root._bokeh_timeout = Date.now() + 5000;\n",
       "    root._bokeh_failed_load = false;\n",
       "  }\n",
       "\n",
       "  function run_callbacks() {\n",
       "    try {\n",
       "      root._bokeh_onload_callbacks.forEach(function(callback) {\n",
       "        if (callback != null)\n",
       "          callback();\n",
       "      });\n",
       "    } finally {\n",
       "      delete root._bokeh_onload_callbacks;\n",
       "    }\n",
       "    console.debug(\"Bokeh: all callbacks have finished\");\n",
       "  }\n",
       "\n",
       "  function load_libs(css_urls, js_urls, js_modules, js_exports, callback) {\n",
       "    if (css_urls == null) css_urls = [];\n",
       "    if (js_urls == null) js_urls = [];\n",
       "    if (js_modules == null) js_modules = [];\n",
       "    if (js_exports == null) js_exports = {};\n",
       "\n",
       "    root._bokeh_onload_callbacks.push(callback);\n",
       "\n",
       "    if (root._bokeh_is_loading > 0) {\n",
       "      console.debug(\"Bokeh: BokehJS is being loaded, scheduling callback at\", now());\n",
       "      return null;\n",
       "    }\n",
       "    if (js_urls.length === 0 && js_modules.length === 0 && Object.keys(js_exports).length === 0) {\n",
       "      run_callbacks();\n",
       "      return null;\n",
       "    }\n",
       "    if (!reloading) {\n",
       "      console.debug(\"Bokeh: BokehJS not loaded, scheduling load and callback at\", now());\n",
       "    }\n",
       "\n",
       "    function on_load() {\n",
       "      root._bokeh_is_loading--;\n",
       "      if (root._bokeh_is_loading === 0) {\n",
       "        console.debug(\"Bokeh: all BokehJS libraries/stylesheets loaded\");\n",
       "        run_callbacks()\n",
       "      }\n",
       "    }\n",
       "    window._bokeh_on_load = on_load\n",
       "\n",
       "    function on_error() {\n",
       "      console.error(\"failed to load \" + url);\n",
       "    }\n",
       "\n",
       "    var skip = [];\n",
       "    if (window.requirejs) {\n",
       "      window.requirejs.config({'packages': {}, 'paths': {}, 'shim': {}});\n",
       "      root._bokeh_is_loading = css_urls.length + 0;\n",
       "    } else {\n",
       "      root._bokeh_is_loading = css_urls.length + js_urls.length + js_modules.length + Object.keys(js_exports).length;\n",
       "    }\n",
       "\n",
       "    var existing_stylesheets = []\n",
       "    var links = document.getElementsByTagName('link')\n",
       "    for (var i = 0; i < links.length; i++) {\n",
       "      var link = links[i]\n",
       "      if (link.href != null) {\n",
       "\texisting_stylesheets.push(link.href)\n",
       "      }\n",
       "    }\n",
       "    for (var i = 0; i < css_urls.length; i++) {\n",
       "      var url = css_urls[i];\n",
       "      if (existing_stylesheets.indexOf(url) !== -1) {\n",
       "\ton_load()\n",
       "\tcontinue;\n",
       "      }\n",
       "      const element = document.createElement(\"link\");\n",
       "      element.onload = on_load;\n",
       "      element.onerror = on_error;\n",
       "      element.rel = \"stylesheet\";\n",
       "      element.type = \"text/css\";\n",
       "      element.href = url;\n",
       "      console.debug(\"Bokeh: injecting link tag for BokehJS stylesheet: \", url);\n",
       "      document.body.appendChild(element);\n",
       "    }    var existing_scripts = []\n",
       "    var scripts = document.getElementsByTagName('script')\n",
       "    for (var i = 0; i < scripts.length; i++) {\n",
       "      var script = scripts[i]\n",
       "      if (script.src != null) {\n",
       "\texisting_scripts.push(script.src)\n",
       "      }\n",
       "    }\n",
       "    for (var i = 0; i < js_urls.length; i++) {\n",
       "      var url = js_urls[i];\n",
       "      if (skip.indexOf(url) !== -1 || existing_scripts.indexOf(url) !== -1) {\n",
       "\tif (!window.requirejs) {\n",
       "\t  on_load();\n",
       "\t}\n",
       "\tcontinue;\n",
       "      }\n",
       "      var element = document.createElement('script');\n",
       "      element.onload = on_load;\n",
       "      element.onerror = on_error;\n",
       "      element.async = false;\n",
       "      element.src = url;\n",
       "      console.debug(\"Bokeh: injecting script tag for BokehJS library: \", url);\n",
       "      document.head.appendChild(element);\n",
       "    }\n",
       "    for (var i = 0; i < js_modules.length; i++) {\n",
       "      var url = js_modules[i];\n",
       "      if (skip.indexOf(url) !== -1 || existing_scripts.indexOf(url) !== -1) {\n",
       "\tif (!window.requirejs) {\n",
       "\t  on_load();\n",
       "\t}\n",
       "\tcontinue;\n",
       "      }\n",
       "      var element = document.createElement('script');\n",
       "      element.onload = on_load;\n",
       "      element.onerror = on_error;\n",
       "      element.async = false;\n",
       "      element.src = url;\n",
       "      element.type = \"module\";\n",
       "      console.debug(\"Bokeh: injecting script tag for BokehJS library: \", url);\n",
       "      document.head.appendChild(element);\n",
       "    }\n",
       "    for (const name in js_exports) {\n",
       "      var url = js_exports[name];\n",
       "      if (skip.indexOf(url) >= 0 || root[name] != null) {\n",
       "\tif (!window.requirejs) {\n",
       "\t  on_load();\n",
       "\t}\n",
       "\tcontinue;\n",
       "      }\n",
       "      var element = document.createElement('script');\n",
       "      element.onerror = on_error;\n",
       "      element.async = false;\n",
       "      element.type = \"module\";\n",
       "      console.debug(\"Bokeh: injecting script tag for BokehJS library: \", url);\n",
       "      element.textContent = `\n",
       "      import ${name} from \"${url}\"\n",
       "      window.${name} = ${name}\n",
       "      window._bokeh_on_load()\n",
       "      `\n",
       "      document.head.appendChild(element);\n",
       "    }\n",
       "    if (!js_urls.length && !js_modules.length) {\n",
       "      on_load()\n",
       "    }\n",
       "  };\n",
       "\n",
       "  function inject_raw_css(css) {\n",
       "    const element = document.createElement(\"style\");\n",
       "    element.appendChild(document.createTextNode(css));\n",
       "    document.body.appendChild(element);\n",
       "  }\n",
       "\n",
       "  var js_urls = [\"https://cdn.bokeh.org/bokeh/release/bokeh-3.4.1.min.js\", \"https://cdn.bokeh.org/bokeh/release/bokeh-gl-3.4.1.min.js\", \"https://cdn.bokeh.org/bokeh/release/bokeh-widgets-3.4.1.min.js\", \"https://cdn.bokeh.org/bokeh/release/bokeh-tables-3.4.1.min.js\", \"https://cdn.holoviz.org/panel/1.4.4/dist/panel.min.js\"];\n",
       "  var js_modules = [];\n",
       "  var js_exports = {};\n",
       "  var css_urls = [];\n",
       "  var inline_js = [    function(Bokeh) {\n",
       "      Bokeh.set_log_level(\"info\");\n",
       "    },\n",
       "function(Bokeh) {} // ensure no trailing comma for IE\n",
       "  ];\n",
       "\n",
       "  function run_inline_js() {\n",
       "    if ((root.Bokeh !== undefined) || (force === true)) {\n",
       "      for (var i = 0; i < inline_js.length; i++) {\n",
       "\ttry {\n",
       "          inline_js[i].call(root, root.Bokeh);\n",
       "\t} catch(e) {\n",
       "\t  if (!reloading) {\n",
       "\t    throw e;\n",
       "\t  }\n",
       "\t}\n",
       "      }\n",
       "      // Cache old bokeh versions\n",
       "      if (Bokeh != undefined && !reloading) {\n",
       "\tvar NewBokeh = root.Bokeh;\n",
       "\tif (Bokeh.versions === undefined) {\n",
       "\t  Bokeh.versions = new Map();\n",
       "\t}\n",
       "\tif (NewBokeh.version !== Bokeh.version) {\n",
       "\t  Bokeh.versions.set(NewBokeh.version, NewBokeh)\n",
       "\t}\n",
       "\troot.Bokeh = Bokeh;\n",
       "      }} else if (Date.now() < root._bokeh_timeout) {\n",
       "      setTimeout(run_inline_js, 100);\n",
       "    } else if (!root._bokeh_failed_load) {\n",
       "      console.log(\"Bokeh: BokehJS failed to load within specified timeout.\");\n",
       "      root._bokeh_failed_load = true;\n",
       "    }\n",
       "    root._bokeh_is_initializing = false\n",
       "  }\n",
       "\n",
       "  function load_or_wait() {\n",
       "    // Implement a backoff loop that tries to ensure we do not load multiple\n",
       "    // versions of Bokeh and its dependencies at the same time.\n",
       "    // In recent versions we use the root._bokeh_is_initializing flag\n",
       "    // to determine whether there is an ongoing attempt to initialize\n",
       "    // bokeh, however for backward compatibility we also try to ensure\n",
       "    // that we do not start loading a newer (Panel>=1.0 and Bokeh>3) version\n",
       "    // before older versions are fully initialized.\n",
       "    if (root._bokeh_is_initializing && Date.now() > root._bokeh_timeout) {\n",
       "      root._bokeh_is_initializing = false;\n",
       "      root._bokeh_onload_callbacks = undefined;\n",
       "      console.log(\"Bokeh: BokehJS was loaded multiple times but one version failed to initialize.\");\n",
       "      load_or_wait();\n",
       "    } else if (root._bokeh_is_initializing || (typeof root._bokeh_is_initializing === \"undefined\" && root._bokeh_onload_callbacks !== undefined)) {\n",
       "      setTimeout(load_or_wait, 100);\n",
       "    } else {\n",
       "      root._bokeh_is_initializing = true\n",
       "      root._bokeh_onload_callbacks = []\n",
       "      var bokeh_loaded = Bokeh != null && (Bokeh.version === py_version || (Bokeh.versions !== undefined && Bokeh.versions.has(py_version)));\n",
       "      if (!reloading && !bokeh_loaded) {\n",
       "\troot.Bokeh = undefined;\n",
       "      }\n",
       "      load_libs(css_urls, js_urls, js_modules, js_exports, function() {\n",
       "\tconsole.debug(\"Bokeh: BokehJS plotting callback run at\", now());\n",
       "\trun_inline_js();\n",
       "      });\n",
       "    }\n",
       "  }\n",
       "  // Give older versions of the autoload script a head-start to ensure\n",
       "  // they initialize before we start loading newer version.\n",
       "  setTimeout(load_or_wait, 100)\n",
       "}(window));"
      ],
      "application/vnd.holoviews_load.v0+json": "(function(root) {\n  function now() {\n    return new Date();\n  }\n\n  var force = true;\n  var py_version = '3.4.1'.replace('rc', '-rc.').replace('.dev', '-dev.');\n  var reloading = false;\n  var Bokeh = root.Bokeh;\n\n  if (typeof (root._bokeh_timeout) === \"undefined\" || force) {\n    root._bokeh_timeout = Date.now() + 5000;\n    root._bokeh_failed_load = false;\n  }\n\n  function run_callbacks() {\n    try {\n      root._bokeh_onload_callbacks.forEach(function(callback) {\n        if (callback != null)\n          callback();\n      });\n    } finally {\n      delete root._bokeh_onload_callbacks;\n    }\n    console.debug(\"Bokeh: all callbacks have finished\");\n  }\n\n  function load_libs(css_urls, js_urls, js_modules, js_exports, callback) {\n    if (css_urls == null) css_urls = [];\n    if (js_urls == null) js_urls = [];\n    if (js_modules == null) js_modules = [];\n    if (js_exports == null) js_exports = {};\n\n    root._bokeh_onload_callbacks.push(callback);\n\n    if (root._bokeh_is_loading > 0) {\n      console.debug(\"Bokeh: BokehJS is being loaded, scheduling callback at\", now());\n      return null;\n    }\n    if (js_urls.length === 0 && js_modules.length === 0 && Object.keys(js_exports).length === 0) {\n      run_callbacks();\n      return null;\n    }\n    if (!reloading) {\n      console.debug(\"Bokeh: BokehJS not loaded, scheduling load and callback at\", now());\n    }\n\n    function on_load() {\n      root._bokeh_is_loading--;\n      if (root._bokeh_is_loading === 0) {\n        console.debug(\"Bokeh: all BokehJS libraries/stylesheets loaded\");\n        run_callbacks()\n      }\n    }\n    window._bokeh_on_load = on_load\n\n    function on_error() {\n      console.error(\"failed to load \" + url);\n    }\n\n    var skip = [];\n    if (window.requirejs) {\n      window.requirejs.config({'packages': {}, 'paths': {}, 'shim': {}});\n      root._bokeh_is_loading = css_urls.length + 0;\n    } else {\n      root._bokeh_is_loading = css_urls.length + js_urls.length + js_modules.length + Object.keys(js_exports).length;\n    }\n\n    var existing_stylesheets = []\n    var links = document.getElementsByTagName('link')\n    for (var i = 0; i < links.length; i++) {\n      var link = links[i]\n      if (link.href != null) {\n\texisting_stylesheets.push(link.href)\n      }\n    }\n    for (var i = 0; i < css_urls.length; i++) {\n      var url = css_urls[i];\n      if (existing_stylesheets.indexOf(url) !== -1) {\n\ton_load()\n\tcontinue;\n      }\n      const element = document.createElement(\"link\");\n      element.onload = on_load;\n      element.onerror = on_error;\n      element.rel = \"stylesheet\";\n      element.type = \"text/css\";\n      element.href = url;\n      console.debug(\"Bokeh: injecting link tag for BokehJS stylesheet: \", url);\n      document.body.appendChild(element);\n    }    var existing_scripts = []\n    var scripts = document.getElementsByTagName('script')\n    for (var i = 0; i < scripts.length; i++) {\n      var script = scripts[i]\n      if (script.src != null) {\n\texisting_scripts.push(script.src)\n      }\n    }\n    for (var i = 0; i < js_urls.length; i++) {\n      var url = js_urls[i];\n      if (skip.indexOf(url) !== -1 || existing_scripts.indexOf(url) !== -1) {\n\tif (!window.requirejs) {\n\t  on_load();\n\t}\n\tcontinue;\n      }\n      var element = document.createElement('script');\n      element.onload = on_load;\n      element.onerror = on_error;\n      element.async = false;\n      element.src = url;\n      console.debug(\"Bokeh: injecting script tag for BokehJS library: \", url);\n      document.head.appendChild(element);\n    }\n    for (var i = 0; i < js_modules.length; i++) {\n      var url = js_modules[i];\n      if (skip.indexOf(url) !== -1 || existing_scripts.indexOf(url) !== -1) {\n\tif (!window.requirejs) {\n\t  on_load();\n\t}\n\tcontinue;\n      }\n      var element = document.createElement('script');\n      element.onload = on_load;\n      element.onerror = on_error;\n      element.async = false;\n      element.src = url;\n      element.type = \"module\";\n      console.debug(\"Bokeh: injecting script tag for BokehJS library: \", url);\n      document.head.appendChild(element);\n    }\n    for (const name in js_exports) {\n      var url = js_exports[name];\n      if (skip.indexOf(url) >= 0 || root[name] != null) {\n\tif (!window.requirejs) {\n\t  on_load();\n\t}\n\tcontinue;\n      }\n      var element = document.createElement('script');\n      element.onerror = on_error;\n      element.async = false;\n      element.type = \"module\";\n      console.debug(\"Bokeh: injecting script tag for BokehJS library: \", url);\n      element.textContent = `\n      import ${name} from \"${url}\"\n      window.${name} = ${name}\n      window._bokeh_on_load()\n      `\n      document.head.appendChild(element);\n    }\n    if (!js_urls.length && !js_modules.length) {\n      on_load()\n    }\n  };\n\n  function inject_raw_css(css) {\n    const element = document.createElement(\"style\");\n    element.appendChild(document.createTextNode(css));\n    document.body.appendChild(element);\n  }\n\n  var js_urls = [\"https://cdn.bokeh.org/bokeh/release/bokeh-3.4.1.min.js\", \"https://cdn.bokeh.org/bokeh/release/bokeh-gl-3.4.1.min.js\", \"https://cdn.bokeh.org/bokeh/release/bokeh-widgets-3.4.1.min.js\", \"https://cdn.bokeh.org/bokeh/release/bokeh-tables-3.4.1.min.js\", \"https://cdn.holoviz.org/panel/1.4.4/dist/panel.min.js\"];\n  var js_modules = [];\n  var js_exports = {};\n  var css_urls = [];\n  var inline_js = [    function(Bokeh) {\n      Bokeh.set_log_level(\"info\");\n    },\nfunction(Bokeh) {} // ensure no trailing comma for IE\n  ];\n\n  function run_inline_js() {\n    if ((root.Bokeh !== undefined) || (force === true)) {\n      for (var i = 0; i < inline_js.length; i++) {\n\ttry {\n          inline_js[i].call(root, root.Bokeh);\n\t} catch(e) {\n\t  if (!reloading) {\n\t    throw e;\n\t  }\n\t}\n      }\n      // Cache old bokeh versions\n      if (Bokeh != undefined && !reloading) {\n\tvar NewBokeh = root.Bokeh;\n\tif (Bokeh.versions === undefined) {\n\t  Bokeh.versions = new Map();\n\t}\n\tif (NewBokeh.version !== Bokeh.version) {\n\t  Bokeh.versions.set(NewBokeh.version, NewBokeh)\n\t}\n\troot.Bokeh = Bokeh;\n      }} else if (Date.now() < root._bokeh_timeout) {\n      setTimeout(run_inline_js, 100);\n    } else if (!root._bokeh_failed_load) {\n      console.log(\"Bokeh: BokehJS failed to load within specified timeout.\");\n      root._bokeh_failed_load = true;\n    }\n    root._bokeh_is_initializing = false\n  }\n\n  function load_or_wait() {\n    // Implement a backoff loop that tries to ensure we do not load multiple\n    // versions of Bokeh and its dependencies at the same time.\n    // In recent versions we use the root._bokeh_is_initializing flag\n    // to determine whether there is an ongoing attempt to initialize\n    // bokeh, however for backward compatibility we also try to ensure\n    // that we do not start loading a newer (Panel>=1.0 and Bokeh>3) version\n    // before older versions are fully initialized.\n    if (root._bokeh_is_initializing && Date.now() > root._bokeh_timeout) {\n      root._bokeh_is_initializing = false;\n      root._bokeh_onload_callbacks = undefined;\n      console.log(\"Bokeh: BokehJS was loaded multiple times but one version failed to initialize.\");\n      load_or_wait();\n    } else if (root._bokeh_is_initializing || (typeof root._bokeh_is_initializing === \"undefined\" && root._bokeh_onload_callbacks !== undefined)) {\n      setTimeout(load_or_wait, 100);\n    } else {\n      root._bokeh_is_initializing = true\n      root._bokeh_onload_callbacks = []\n      var bokeh_loaded = Bokeh != null && (Bokeh.version === py_version || (Bokeh.versions !== undefined && Bokeh.versions.has(py_version)));\n      if (!reloading && !bokeh_loaded) {\n\troot.Bokeh = undefined;\n      }\n      load_libs(css_urls, js_urls, js_modules, js_exports, function() {\n\tconsole.debug(\"Bokeh: BokehJS plotting callback run at\", now());\n\trun_inline_js();\n      });\n    }\n  }\n  // Give older versions of the autoload script a head-start to ensure\n  // they initialize before we start loading newer version.\n  setTimeout(load_or_wait, 100)\n}(window));"
     },
     "metadata": {},
     "output_type": "display_data"
    },
    {
     "data": {
      "application/javascript": [
       "\n",
       "if ((window.PyViz === undefined) || (window.PyViz instanceof HTMLElement)) {\n",
       "  window.PyViz = {comms: {}, comm_status:{}, kernels:{}, receivers: {}, plot_index: []}\n",
       "}\n",
       "\n",
       "\n",
       "    function JupyterCommManager() {\n",
       "    }\n",
       "\n",
       "    JupyterCommManager.prototype.register_target = function(plot_id, comm_id, msg_handler) {\n",
       "      if (window.comm_manager || ((window.Jupyter !== undefined) && (Jupyter.notebook.kernel != null))) {\n",
       "        var comm_manager = window.comm_manager || Jupyter.notebook.kernel.comm_manager;\n",
       "        comm_manager.register_target(comm_id, function(comm) {\n",
       "          comm.on_msg(msg_handler);\n",
       "        });\n",
       "      } else if ((plot_id in window.PyViz.kernels) && (window.PyViz.kernels[plot_id])) {\n",
       "        window.PyViz.kernels[plot_id].registerCommTarget(comm_id, function(comm) {\n",
       "          comm.onMsg = msg_handler;\n",
       "        });\n",
       "      } else if (typeof google != 'undefined' && google.colab.kernel != null) {\n",
       "        google.colab.kernel.comms.registerTarget(comm_id, (comm) => {\n",
       "          var messages = comm.messages[Symbol.asyncIterator]();\n",
       "          function processIteratorResult(result) {\n",
       "            var message = result.value;\n",
       "            console.log(message)\n",
       "            var content = {data: message.data, comm_id};\n",
       "            var buffers = []\n",
       "            for (var buffer of message.buffers || []) {\n",
       "              buffers.push(new DataView(buffer))\n",
       "            }\n",
       "            var metadata = message.metadata || {};\n",
       "            var msg = {content, buffers, metadata}\n",
       "            msg_handler(msg);\n",
       "            return messages.next().then(processIteratorResult);\n",
       "          }\n",
       "          return messages.next().then(processIteratorResult);\n",
       "        })\n",
       "      }\n",
       "    }\n",
       "\n",
       "    JupyterCommManager.prototype.get_client_comm = function(plot_id, comm_id, msg_handler) {\n",
       "      if (comm_id in window.PyViz.comms) {\n",
       "        return window.PyViz.comms[comm_id];\n",
       "      } else if (window.comm_manager || ((window.Jupyter !== undefined) && (Jupyter.notebook.kernel != null))) {\n",
       "        var comm_manager = window.comm_manager || Jupyter.notebook.kernel.comm_manager;\n",
       "        var comm = comm_manager.new_comm(comm_id, {}, {}, {}, comm_id);\n",
       "        if (msg_handler) {\n",
       "          comm.on_msg(msg_handler);\n",
       "        }\n",
       "      } else if ((plot_id in window.PyViz.kernels) && (window.PyViz.kernels[plot_id])) {\n",
       "        var comm = window.PyViz.kernels[plot_id].connectToComm(comm_id);\n",
       "        comm.open();\n",
       "        if (msg_handler) {\n",
       "          comm.onMsg = msg_handler;\n",
       "        }\n",
       "      } else if (typeof google != 'undefined' && google.colab.kernel != null) {\n",
       "        var comm_promise = google.colab.kernel.comms.open(comm_id)\n",
       "        comm_promise.then((comm) => {\n",
       "          window.PyViz.comms[comm_id] = comm;\n",
       "          if (msg_handler) {\n",
       "            var messages = comm.messages[Symbol.asyncIterator]();\n",
       "            function processIteratorResult(result) {\n",
       "              var message = result.value;\n",
       "              var content = {data: message.data};\n",
       "              var metadata = message.metadata || {comm_id};\n",
       "              var msg = {content, metadata}\n",
       "              msg_handler(msg);\n",
       "              return messages.next().then(processIteratorResult);\n",
       "            }\n",
       "            return messages.next().then(processIteratorResult);\n",
       "          }\n",
       "        }) \n",
       "        var sendClosure = (data, metadata, buffers, disposeOnDone) => {\n",
       "          return comm_promise.then((comm) => {\n",
       "            comm.send(data, metadata, buffers, disposeOnDone);\n",
       "          });\n",
       "        };\n",
       "        var comm = {\n",
       "          send: sendClosure\n",
       "        };\n",
       "      }\n",
       "      window.PyViz.comms[comm_id] = comm;\n",
       "      return comm;\n",
       "    }\n",
       "    window.PyViz.comm_manager = new JupyterCommManager();\n",
       "    \n",
       "\n",
       "\n",
       "var JS_MIME_TYPE = 'application/javascript';\n",
       "var HTML_MIME_TYPE = 'text/html';\n",
       "var EXEC_MIME_TYPE = 'application/vnd.holoviews_exec.v0+json';\n",
       "var CLASS_NAME = 'output';\n",
       "\n",
       "/**\n",
       " * Render data to the DOM node\n",
       " */\n",
       "function render(props, node) {\n",
       "  var div = document.createElement(\"div\");\n",
       "  var script = document.createElement(\"script\");\n",
       "  node.appendChild(div);\n",
       "  node.appendChild(script);\n",
       "}\n",
       "\n",
       "/**\n",
       " * Handle when a new output is added\n",
       " */\n",
       "function handle_add_output(event, handle) {\n",
       "  var output_area = handle.output_area;\n",
       "  var output = handle.output;\n",
       "  if ((output.data == undefined) || (!output.data.hasOwnProperty(EXEC_MIME_TYPE))) {\n",
       "    return\n",
       "  }\n",
       "  var id = output.metadata[EXEC_MIME_TYPE][\"id\"];\n",
       "  var toinsert = output_area.element.find(\".\" + CLASS_NAME.split(' ')[0]);\n",
       "  if (id !== undefined) {\n",
       "    var nchildren = toinsert.length;\n",
       "    var html_node = toinsert[nchildren-1].children[0];\n",
       "    html_node.innerHTML = output.data[HTML_MIME_TYPE];\n",
       "    var scripts = [];\n",
       "    var nodelist = html_node.querySelectorAll(\"script\");\n",
       "    for (var i in nodelist) {\n",
       "      if (nodelist.hasOwnProperty(i)) {\n",
       "        scripts.push(nodelist[i])\n",
       "      }\n",
       "    }\n",
       "\n",
       "    scripts.forEach( function (oldScript) {\n",
       "      var newScript = document.createElement(\"script\");\n",
       "      var attrs = [];\n",
       "      var nodemap = oldScript.attributes;\n",
       "      for (var j in nodemap) {\n",
       "        if (nodemap.hasOwnProperty(j)) {\n",
       "          attrs.push(nodemap[j])\n",
       "        }\n",
       "      }\n",
       "      attrs.forEach(function(attr) { newScript.setAttribute(attr.name, attr.value) });\n",
       "      newScript.appendChild(document.createTextNode(oldScript.innerHTML));\n",
       "      oldScript.parentNode.replaceChild(newScript, oldScript);\n",
       "    });\n",
       "    if (JS_MIME_TYPE in output.data) {\n",
       "      toinsert[nchildren-1].children[1].textContent = output.data[JS_MIME_TYPE];\n",
       "    }\n",
       "    output_area._hv_plot_id = id;\n",
       "    if ((window.Bokeh !== undefined) && (id in Bokeh.index)) {\n",
       "      window.PyViz.plot_index[id] = Bokeh.index[id];\n",
       "    } else {\n",
       "      window.PyViz.plot_index[id] = null;\n",
       "    }\n",
       "  } else if (output.metadata[EXEC_MIME_TYPE][\"server_id\"] !== undefined) {\n",
       "    var bk_div = document.createElement(\"div\");\n",
       "    bk_div.innerHTML = output.data[HTML_MIME_TYPE];\n",
       "    var script_attrs = bk_div.children[0].attributes;\n",
       "    for (var i = 0; i < script_attrs.length; i++) {\n",
       "      toinsert[toinsert.length - 1].childNodes[1].setAttribute(script_attrs[i].name, script_attrs[i].value);\n",
       "    }\n",
       "    // store reference to server id on output_area\n",
       "    output_area._bokeh_server_id = output.metadata[EXEC_MIME_TYPE][\"server_id\"];\n",
       "  }\n",
       "}\n",
       "\n",
       "/**\n",
       " * Handle when an output is cleared or removed\n",
       " */\n",
       "function handle_clear_output(event, handle) {\n",
       "  var id = handle.cell.output_area._hv_plot_id;\n",
       "  var server_id = handle.cell.output_area._bokeh_server_id;\n",
       "  if (((id === undefined) || !(id in PyViz.plot_index)) && (server_id !== undefined)) { return; }\n",
       "  var comm = window.PyViz.comm_manager.get_client_comm(\"hv-extension-comm\", \"hv-extension-comm\", function () {});\n",
       "  if (server_id !== null) {\n",
       "    comm.send({event_type: 'server_delete', 'id': server_id});\n",
       "    return;\n",
       "  } else if (comm !== null) {\n",
       "    comm.send({event_type: 'delete', 'id': id});\n",
       "  }\n",
       "  delete PyViz.plot_index[id];\n",
       "  if ((window.Bokeh !== undefined) & (id in window.Bokeh.index)) {\n",
       "    var doc = window.Bokeh.index[id].model.document\n",
       "    doc.clear();\n",
       "    const i = window.Bokeh.documents.indexOf(doc);\n",
       "    if (i > -1) {\n",
       "      window.Bokeh.documents.splice(i, 1);\n",
       "    }\n",
       "  }\n",
       "}\n",
       "\n",
       "/**\n",
       " * Handle kernel restart event\n",
       " */\n",
       "function handle_kernel_cleanup(event, handle) {\n",
       "  delete PyViz.comms[\"hv-extension-comm\"];\n",
       "  window.PyViz.plot_index = {}\n",
       "}\n",
       "\n",
       "/**\n",
       " * Handle update_display_data messages\n",
       " */\n",
       "function handle_update_output(event, handle) {\n",
       "  handle_clear_output(event, {cell: {output_area: handle.output_area}})\n",
       "  handle_add_output(event, handle)\n",
       "}\n",
       "\n",
       "function register_renderer(events, OutputArea) {\n",
       "  function append_mime(data, metadata, element) {\n",
       "    // create a DOM node to render to\n",
       "    var toinsert = this.create_output_subarea(\n",
       "    metadata,\n",
       "    CLASS_NAME,\n",
       "    EXEC_MIME_TYPE\n",
       "    );\n",
       "    this.keyboard_manager.register_events(toinsert);\n",
       "    // Render to node\n",
       "    var props = {data: data, metadata: metadata[EXEC_MIME_TYPE]};\n",
       "    render(props, toinsert[0]);\n",
       "    element.append(toinsert);\n",
       "    return toinsert\n",
       "  }\n",
       "\n",
       "  events.on('output_added.OutputArea', handle_add_output);\n",
       "  events.on('output_updated.OutputArea', handle_update_output);\n",
       "  events.on('clear_output.CodeCell', handle_clear_output);\n",
       "  events.on('delete.Cell', handle_clear_output);\n",
       "  events.on('kernel_ready.Kernel', handle_kernel_cleanup);\n",
       "\n",
       "  OutputArea.prototype.register_mime_type(EXEC_MIME_TYPE, append_mime, {\n",
       "    safe: true,\n",
       "    index: 0\n",
       "  });\n",
       "}\n",
       "\n",
       "if (window.Jupyter !== undefined) {\n",
       "  try {\n",
       "    var events = require('base/js/events');\n",
       "    var OutputArea = require('notebook/js/outputarea').OutputArea;\n",
       "    if (OutputArea.prototype.mime_types().indexOf(EXEC_MIME_TYPE) == -1) {\n",
       "      register_renderer(events, OutputArea);\n",
       "    }\n",
       "  } catch(err) {\n",
       "  }\n",
       "}\n"
      ],
      "application/vnd.holoviews_load.v0+json": "\nif ((window.PyViz === undefined) || (window.PyViz instanceof HTMLElement)) {\n  window.PyViz = {comms: {}, comm_status:{}, kernels:{}, receivers: {}, plot_index: []}\n}\n\n\n    function JupyterCommManager() {\n    }\n\n    JupyterCommManager.prototype.register_target = function(plot_id, comm_id, msg_handler) {\n      if (window.comm_manager || ((window.Jupyter !== undefined) && (Jupyter.notebook.kernel != null))) {\n        var comm_manager = window.comm_manager || Jupyter.notebook.kernel.comm_manager;\n        comm_manager.register_target(comm_id, function(comm) {\n          comm.on_msg(msg_handler);\n        });\n      } else if ((plot_id in window.PyViz.kernels) && (window.PyViz.kernels[plot_id])) {\n        window.PyViz.kernels[plot_id].registerCommTarget(comm_id, function(comm) {\n          comm.onMsg = msg_handler;\n        });\n      } else if (typeof google != 'undefined' && google.colab.kernel != null) {\n        google.colab.kernel.comms.registerTarget(comm_id, (comm) => {\n          var messages = comm.messages[Symbol.asyncIterator]();\n          function processIteratorResult(result) {\n            var message = result.value;\n            console.log(message)\n            var content = {data: message.data, comm_id};\n            var buffers = []\n            for (var buffer of message.buffers || []) {\n              buffers.push(new DataView(buffer))\n            }\n            var metadata = message.metadata || {};\n            var msg = {content, buffers, metadata}\n            msg_handler(msg);\n            return messages.next().then(processIteratorResult);\n          }\n          return messages.next().then(processIteratorResult);\n        })\n      }\n    }\n\n    JupyterCommManager.prototype.get_client_comm = function(plot_id, comm_id, msg_handler) {\n      if (comm_id in window.PyViz.comms) {\n        return window.PyViz.comms[comm_id];\n      } else if (window.comm_manager || ((window.Jupyter !== undefined) && (Jupyter.notebook.kernel != null))) {\n        var comm_manager = window.comm_manager || Jupyter.notebook.kernel.comm_manager;\n        var comm = comm_manager.new_comm(comm_id, {}, {}, {}, comm_id);\n        if (msg_handler) {\n          comm.on_msg(msg_handler);\n        }\n      } else if ((plot_id in window.PyViz.kernels) && (window.PyViz.kernels[plot_id])) {\n        var comm = window.PyViz.kernels[plot_id].connectToComm(comm_id);\n        comm.open();\n        if (msg_handler) {\n          comm.onMsg = msg_handler;\n        }\n      } else if (typeof google != 'undefined' && google.colab.kernel != null) {\n        var comm_promise = google.colab.kernel.comms.open(comm_id)\n        comm_promise.then((comm) => {\n          window.PyViz.comms[comm_id] = comm;\n          if (msg_handler) {\n            var messages = comm.messages[Symbol.asyncIterator]();\n            function processIteratorResult(result) {\n              var message = result.value;\n              var content = {data: message.data};\n              var metadata = message.metadata || {comm_id};\n              var msg = {content, metadata}\n              msg_handler(msg);\n              return messages.next().then(processIteratorResult);\n            }\n            return messages.next().then(processIteratorResult);\n          }\n        }) \n        var sendClosure = (data, metadata, buffers, disposeOnDone) => {\n          return comm_promise.then((comm) => {\n            comm.send(data, metadata, buffers, disposeOnDone);\n          });\n        };\n        var comm = {\n          send: sendClosure\n        };\n      }\n      window.PyViz.comms[comm_id] = comm;\n      return comm;\n    }\n    window.PyViz.comm_manager = new JupyterCommManager();\n    \n\n\nvar JS_MIME_TYPE = 'application/javascript';\nvar HTML_MIME_TYPE = 'text/html';\nvar EXEC_MIME_TYPE = 'application/vnd.holoviews_exec.v0+json';\nvar CLASS_NAME = 'output';\n\n/**\n * Render data to the DOM node\n */\nfunction render(props, node) {\n  var div = document.createElement(\"div\");\n  var script = document.createElement(\"script\");\n  node.appendChild(div);\n  node.appendChild(script);\n}\n\n/**\n * Handle when a new output is added\n */\nfunction handle_add_output(event, handle) {\n  var output_area = handle.output_area;\n  var output = handle.output;\n  if ((output.data == undefined) || (!output.data.hasOwnProperty(EXEC_MIME_TYPE))) {\n    return\n  }\n  var id = output.metadata[EXEC_MIME_TYPE][\"id\"];\n  var toinsert = output_area.element.find(\".\" + CLASS_NAME.split(' ')[0]);\n  if (id !== undefined) {\n    var nchildren = toinsert.length;\n    var html_node = toinsert[nchildren-1].children[0];\n    html_node.innerHTML = output.data[HTML_MIME_TYPE];\n    var scripts = [];\n    var nodelist = html_node.querySelectorAll(\"script\");\n    for (var i in nodelist) {\n      if (nodelist.hasOwnProperty(i)) {\n        scripts.push(nodelist[i])\n      }\n    }\n\n    scripts.forEach( function (oldScript) {\n      var newScript = document.createElement(\"script\");\n      var attrs = [];\n      var nodemap = oldScript.attributes;\n      for (var j in nodemap) {\n        if (nodemap.hasOwnProperty(j)) {\n          attrs.push(nodemap[j])\n        }\n      }\n      attrs.forEach(function(attr) { newScript.setAttribute(attr.name, attr.value) });\n      newScript.appendChild(document.createTextNode(oldScript.innerHTML));\n      oldScript.parentNode.replaceChild(newScript, oldScript);\n    });\n    if (JS_MIME_TYPE in output.data) {\n      toinsert[nchildren-1].children[1].textContent = output.data[JS_MIME_TYPE];\n    }\n    output_area._hv_plot_id = id;\n    if ((window.Bokeh !== undefined) && (id in Bokeh.index)) {\n      window.PyViz.plot_index[id] = Bokeh.index[id];\n    } else {\n      window.PyViz.plot_index[id] = null;\n    }\n  } else if (output.metadata[EXEC_MIME_TYPE][\"server_id\"] !== undefined) {\n    var bk_div = document.createElement(\"div\");\n    bk_div.innerHTML = output.data[HTML_MIME_TYPE];\n    var script_attrs = bk_div.children[0].attributes;\n    for (var i = 0; i < script_attrs.length; i++) {\n      toinsert[toinsert.length - 1].childNodes[1].setAttribute(script_attrs[i].name, script_attrs[i].value);\n    }\n    // store reference to server id on output_area\n    output_area._bokeh_server_id = output.metadata[EXEC_MIME_TYPE][\"server_id\"];\n  }\n}\n\n/**\n * Handle when an output is cleared or removed\n */\nfunction handle_clear_output(event, handle) {\n  var id = handle.cell.output_area._hv_plot_id;\n  var server_id = handle.cell.output_area._bokeh_server_id;\n  if (((id === undefined) || !(id in PyViz.plot_index)) && (server_id !== undefined)) { return; }\n  var comm = window.PyViz.comm_manager.get_client_comm(\"hv-extension-comm\", \"hv-extension-comm\", function () {});\n  if (server_id !== null) {\n    comm.send({event_type: 'server_delete', 'id': server_id});\n    return;\n  } else if (comm !== null) {\n    comm.send({event_type: 'delete', 'id': id});\n  }\n  delete PyViz.plot_index[id];\n  if ((window.Bokeh !== undefined) & (id in window.Bokeh.index)) {\n    var doc = window.Bokeh.index[id].model.document\n    doc.clear();\n    const i = window.Bokeh.documents.indexOf(doc);\n    if (i > -1) {\n      window.Bokeh.documents.splice(i, 1);\n    }\n  }\n}\n\n/**\n * Handle kernel restart event\n */\nfunction handle_kernel_cleanup(event, handle) {\n  delete PyViz.comms[\"hv-extension-comm\"];\n  window.PyViz.plot_index = {}\n}\n\n/**\n * Handle update_display_data messages\n */\nfunction handle_update_output(event, handle) {\n  handle_clear_output(event, {cell: {output_area: handle.output_area}})\n  handle_add_output(event, handle)\n}\n\nfunction register_renderer(events, OutputArea) {\n  function append_mime(data, metadata, element) {\n    // create a DOM node to render to\n    var toinsert = this.create_output_subarea(\n    metadata,\n    CLASS_NAME,\n    EXEC_MIME_TYPE\n    );\n    this.keyboard_manager.register_events(toinsert);\n    // Render to node\n    var props = {data: data, metadata: metadata[EXEC_MIME_TYPE]};\n    render(props, toinsert[0]);\n    element.append(toinsert);\n    return toinsert\n  }\n\n  events.on('output_added.OutputArea', handle_add_output);\n  events.on('output_updated.OutputArea', handle_update_output);\n  events.on('clear_output.CodeCell', handle_clear_output);\n  events.on('delete.Cell', handle_clear_output);\n  events.on('kernel_ready.Kernel', handle_kernel_cleanup);\n\n  OutputArea.prototype.register_mime_type(EXEC_MIME_TYPE, append_mime, {\n    safe: true,\n    index: 0\n  });\n}\n\nif (window.Jupyter !== undefined) {\n  try {\n    var events = require('base/js/events');\n    var OutputArea = require('notebook/js/outputarea').OutputArea;\n    if (OutputArea.prototype.mime_types().indexOf(EXEC_MIME_TYPE) == -1) {\n      register_renderer(events, OutputArea);\n    }\n  } catch(err) {\n  }\n}\n"
     },
     "metadata": {},
     "output_type": "display_data"
    },
    {
     "data": {
      "text/html": [
       "<style>*[data-root-id],\n",
       "*[data-root-id] > * {\n",
       "  box-sizing: border-box;\n",
       "  font-family: var(--jp-ui-font-family);\n",
       "  font-size: var(--jp-ui-font-size1);\n",
       "  color: var(--vscode-editor-foreground, var(--jp-ui-font-color1));\n",
       "}\n",
       "\n",
       "/* Override VSCode background color */\n",
       ".cell-output-ipywidget-background:has(\n",
       "    > .cell-output-ipywidget-background > .lm-Widget > *[data-root-id]\n",
       "  ),\n",
       ".cell-output-ipywidget-background:has(> .lm-Widget > *[data-root-id]) {\n",
       "  background-color: transparent !important;\n",
       "}\n",
       "</style>"
      ]
     },
     "metadata": {},
     "output_type": "display_data"
    },
    {
     "data": {
      "application/vnd.holoviews_exec.v0+json": "",
      "text/html": [
       "<div id='p2010'>\n",
       "  <div id=\"cb55473a-210b-4030-b3fe-d5bf093d6ad5\" data-root-id=\"p2010\" style=\"display: contents;\"></div>\n",
       "</div>\n",
       "<script type=\"application/javascript\">(function(root) {\n",
       "  var docs_json = {\"8a8d0ef8-cb8d-41de-9e8a-4be710efa576\":{\"version\":\"3.4.1\",\"title\":\"Bokeh Application\",\"roots\":[{\"type\":\"object\",\"name\":\"panel.models.browser.BrowserInfo\",\"id\":\"p2010\"},{\"type\":\"object\",\"name\":\"panel.models.comm_manager.CommManager\",\"id\":\"p2011\",\"attributes\":{\"plot_id\":\"p2010\",\"comm_id\":\"b7c6dddff78e41cdbb2523ff3e05fe87\",\"client_comm_id\":\"321ebdbaee66491c93d258d9dfd6e239\"}}],\"defs\":[{\"type\":\"model\",\"name\":\"ReactiveHTML1\"},{\"type\":\"model\",\"name\":\"FlexBox1\",\"properties\":[{\"name\":\"align_content\",\"kind\":\"Any\",\"default\":\"flex-start\"},{\"name\":\"align_items\",\"kind\":\"Any\",\"default\":\"flex-start\"},{\"name\":\"flex_direction\",\"kind\":\"Any\",\"default\":\"row\"},{\"name\":\"flex_wrap\",\"kind\":\"Any\",\"default\":\"wrap\"},{\"name\":\"gap\",\"kind\":\"Any\",\"default\":\"\"},{\"name\":\"justify_content\",\"kind\":\"Any\",\"default\":\"flex-start\"}]},{\"type\":\"model\",\"name\":\"FloatPanel1\",\"properties\":[{\"name\":\"config\",\"kind\":\"Any\",\"default\":{\"type\":\"map\"}},{\"name\":\"contained\",\"kind\":\"Any\",\"default\":true},{\"name\":\"position\",\"kind\":\"Any\",\"default\":\"right-top\"},{\"name\":\"offsetx\",\"kind\":\"Any\",\"default\":null},{\"name\":\"offsety\",\"kind\":\"Any\",\"default\":null},{\"name\":\"theme\",\"kind\":\"Any\",\"default\":\"primary\"},{\"name\":\"status\",\"kind\":\"Any\",\"default\":\"normalized\"}]},{\"type\":\"model\",\"name\":\"GridStack1\",\"properties\":[{\"name\":\"mode\",\"kind\":\"Any\",\"default\":\"warn\"},{\"name\":\"ncols\",\"kind\":\"Any\",\"default\":null},{\"name\":\"nrows\",\"kind\":\"Any\",\"default\":null},{\"name\":\"allow_resize\",\"kind\":\"Any\",\"default\":true},{\"name\":\"allow_drag\",\"kind\":\"Any\",\"default\":true},{\"name\":\"state\",\"kind\":\"Any\",\"default\":[]}]},{\"type\":\"model\",\"name\":\"drag1\",\"properties\":[{\"name\":\"slider_width\",\"kind\":\"Any\",\"default\":5},{\"name\":\"slider_color\",\"kind\":\"Any\",\"default\":\"black\"},{\"name\":\"value\",\"kind\":\"Any\",\"default\":50}]},{\"type\":\"model\",\"name\":\"click1\",\"properties\":[{\"name\":\"terminal_output\",\"kind\":\"Any\",\"default\":\"\"},{\"name\":\"debug_name\",\"kind\":\"Any\",\"default\":\"\"},{\"name\":\"clears\",\"kind\":\"Any\",\"default\":0}]},{\"type\":\"model\",\"name\":\"FastWrapper1\",\"properties\":[{\"name\":\"object\",\"kind\":\"Any\",\"default\":null},{\"name\":\"style\",\"kind\":\"Any\",\"default\":null}]},{\"type\":\"model\",\"name\":\"NotificationAreaBase1\",\"properties\":[{\"name\":\"js_events\",\"kind\":\"Any\",\"default\":{\"type\":\"map\"}},{\"name\":\"position\",\"kind\":\"Any\",\"default\":\"bottom-right\"},{\"name\":\"_clear\",\"kind\":\"Any\",\"default\":0}]},{\"type\":\"model\",\"name\":\"NotificationArea1\",\"properties\":[{\"name\":\"js_events\",\"kind\":\"Any\",\"default\":{\"type\":\"map\"}},{\"name\":\"notifications\",\"kind\":\"Any\",\"default\":[]},{\"name\":\"position\",\"kind\":\"Any\",\"default\":\"bottom-right\"},{\"name\":\"_clear\",\"kind\":\"Any\",\"default\":0},{\"name\":\"types\",\"kind\":\"Any\",\"default\":[{\"type\":\"map\",\"entries\":[[\"type\",\"warning\"],[\"background\",\"#ffc107\"],[\"icon\",{\"type\":\"map\",\"entries\":[[\"className\",\"fas fa-exclamation-triangle\"],[\"tagName\",\"i\"],[\"color\",\"white\"]]}]]},{\"type\":\"map\",\"entries\":[[\"type\",\"info\"],[\"background\",\"#007bff\"],[\"icon\",{\"type\":\"map\",\"entries\":[[\"className\",\"fas fa-info-circle\"],[\"tagName\",\"i\"],[\"color\",\"white\"]]}]]}]}]},{\"type\":\"model\",\"name\":\"Notification\",\"properties\":[{\"name\":\"background\",\"kind\":\"Any\",\"default\":null},{\"name\":\"duration\",\"kind\":\"Any\",\"default\":3000},{\"name\":\"icon\",\"kind\":\"Any\",\"default\":null},{\"name\":\"message\",\"kind\":\"Any\",\"default\":\"\"},{\"name\":\"notification_type\",\"kind\":\"Any\",\"default\":null},{\"name\":\"_destroyed\",\"kind\":\"Any\",\"default\":false}]},{\"type\":\"model\",\"name\":\"TemplateActions1\",\"properties\":[{\"name\":\"open_modal\",\"kind\":\"Any\",\"default\":0},{\"name\":\"close_modal\",\"kind\":\"Any\",\"default\":0}]},{\"type\":\"model\",\"name\":\"BootstrapTemplateActions1\",\"properties\":[{\"name\":\"open_modal\",\"kind\":\"Any\",\"default\":0},{\"name\":\"close_modal\",\"kind\":\"Any\",\"default\":0}]},{\"type\":\"model\",\"name\":\"TemplateEditor1\",\"properties\":[{\"name\":\"layout\",\"kind\":\"Any\",\"default\":[]}]},{\"type\":\"model\",\"name\":\"MaterialTemplateActions1\",\"properties\":[{\"name\":\"open_modal\",\"kind\":\"Any\",\"default\":0},{\"name\":\"close_modal\",\"kind\":\"Any\",\"default\":0}]},{\"type\":\"model\",\"name\":\"copy_to_clipboard1\",\"properties\":[{\"name\":\"fill\",\"kind\":\"Any\",\"default\":\"none\"},{\"name\":\"value\",\"kind\":\"Any\",\"default\":null}]}]}};\n",
       "  var render_items = [{\"docid\":\"8a8d0ef8-cb8d-41de-9e8a-4be710efa576\",\"roots\":{\"p2010\":\"cb55473a-210b-4030-b3fe-d5bf093d6ad5\"},\"root_ids\":[\"p2010\"]}];\n",
       "  var docs = Object.values(docs_json)\n",
       "  if (!docs) {\n",
       "    return\n",
       "  }\n",
       "  const py_version = docs[0].version.replace('rc', '-rc.').replace('.dev', '-dev.')\n",
       "  async function embed_document(root) {\n",
       "    var Bokeh = get_bokeh(root)\n",
       "    await Bokeh.embed.embed_items_notebook(docs_json, render_items);\n",
       "    for (const render_item of render_items) {\n",
       "      for (const root_id of render_item.root_ids) {\n",
       "\tconst id_el = document.getElementById(root_id)\n",
       "\tif (id_el.children.length && id_el.children[0].hasAttribute('data-root-id')) {\n",
       "\t  const root_el = id_el.children[0]\n",
       "\t  root_el.id = root_el.id + '-rendered'\n",
       "\t  for (const child of root_el.children) {\n",
       "            // Ensure JupyterLab does not capture keyboard shortcuts\n",
       "            // see: https://jupyterlab.readthedocs.io/en/4.1.x/extension/notebook.html#keyboard-interaction-model\n",
       "\t    child.setAttribute('data-lm-suppress-shortcuts', 'true')\n",
       "\t  }\n",
       "\t}\n",
       "      }\n",
       "    }\n",
       "  }\n",
       "  function get_bokeh(root) {\n",
       "    if (root.Bokeh === undefined) {\n",
       "      return null\n",
       "    } else if (root.Bokeh.version !== py_version) {\n",
       "      if (root.Bokeh.versions === undefined || !root.Bokeh.versions.has(py_version)) {\n",
       "\treturn null\n",
       "      }\n",
       "      return root.Bokeh.versions.get(py_version);\n",
       "    } else if (root.Bokeh.version === py_version) {\n",
       "      return root.Bokeh\n",
       "    }\n",
       "    return null\n",
       "  }\n",
       "  function is_loaded(root) {\n",
       "    var Bokeh = get_bokeh(root)\n",
       "    return (Bokeh != null && Bokeh.Panel !== undefined)\n",
       "  }\n",
       "  if (is_loaded(root)) {\n",
       "    embed_document(root);\n",
       "  } else {\n",
       "    var attempts = 0;\n",
       "    var timer = setInterval(function(root) {\n",
       "      if (is_loaded(root)) {\n",
       "        clearInterval(timer);\n",
       "        embed_document(root);\n",
       "      } else if (document.readyState == \"complete\") {\n",
       "        attempts++;\n",
       "        if (attempts > 200) {\n",
       "          clearInterval(timer);\n",
       "\t  var Bokeh = get_bokeh(root)\n",
       "\t  if (Bokeh == null || Bokeh.Panel == null) {\n",
       "            console.warn(\"Panel: ERROR: Unable to run Panel code because Bokeh or Panel library is missing\");\n",
       "\t  } else {\n",
       "\t    console.warn(\"Panel: WARNING: Attempting to render but not all required libraries could be resolved.\")\n",
       "\t    embed_document(root)\n",
       "\t  }\n",
       "        }\n",
       "      }\n",
       "    }, 25, root)\n",
       "  }\n",
       "})(window);</script>"
      ]
     },
     "metadata": {
      "application/vnd.holoviews_exec.v0+json": {
       "id": "p2010"
      }
     },
     "output_type": "display_data"
    },
    {
     "data": {
      "text/html": [
       "\n",
       "<div class=\"logo-block\">\n",
       "<img src='data:image/png;base64,iVBORw0KGgoAAAANSUhEUgAAAEAAAABACAYAAACqaXHeAAAABHNCSVQICAgIfAhkiAAAAAlwSFlz\n",
       "AAAB+wAAAfsBxc2miwAAABl0RVh0U29mdHdhcmUAd3d3Lmlua3NjYXBlLm9yZ5vuPBoAAA6zSURB\n",
       "VHic7ZtpeFRVmsf/5966taWqUlUJ2UioBBJiIBAwCZtog9IOgjqACsogKtqirT2ttt069nQ/zDzt\n",
       "tI4+CrJIREFaFgWhBXpUNhHZQoKBkIUASchWla1S+3ar7r1nPkDaCAnZKoQP/D7mnPOe9/xy76n3\n",
       "nFSAW9ziFoPFNED2LLK5wcyBDObkb8ZkxuaoSYlI6ZcOKq1eWFdedqNzGHQBk9RMEwFAASkk0Xw3\n",
       "ETacDNi2vtvc7L0ROdw0AjoSotQVkKSvHQz/wRO1lScGModBFbDMaNRN1A4tUBCS3lk7BWhQkgpD\n",
       "lG4852/+7DWr1R3uHAZVQDsbh6ZPN7CyxUrCzJMRouusj0ipRwD2uKm0Zn5d2dFwzX1TCGhnmdGo\n",
       "G62Nna+isiUqhkzuKrkQaJlPEv5mFl2fvGg2t/VnzkEV8F5ioioOEWkLG86fvbpthynjdhXYZziQ\n",
       "x1hC9J2NFyi8vCTt91Fh04KGip0AaG9zuCk2wQCVyoNU3Hjezee9bq92duzzTmxsRJoy+jEZZZYo\n",
       "GTKJ6SJngdJqAfRzpze0+jHreUtPc7gpBLQnIYK6BYp/uGhw9YK688eu7v95ysgshcg9qSLMo3JC\n",
       "4jqLKQFBgdKDPoQ+Pltb8dUyQLpeDjeVgI6EgLIQFT5tEl3rn2losHVsexbZ3EyT9wE1uGdkIPcy\n",
       "BGxn8QUq1QrA5nqW5i2tLqvrrM9NK6AdkVIvL9E9bZL/oyfMVd/jqvc8LylzRBKDJSzIExwhQzuL\n",
       "QYGQj4rHfFTc8mUdu3E7yoLtbTe9gI4EqVgVkug2i5+uXGo919ixbRog+3fTbQ8qJe4ZOYNfMoTI\n",
       "OoshUNosgO60AisX15aeI2PSIp5KiFLI9ubb1vV3Qb2ltwLakUCDAkWX7/nHKRmmGIl9VgYsUhJm\n",
       "2NXjKYADtM1ygne9QQDIXlk49FBstMKx66D1v4+XuQr7vqTe0VcBHQlRWiOCbmmSYe2SqtL6q5rJ\n",
       "zsTb7lKx3FKOYC4DoqyS/B5bvLPxvD9Qtf6saxYLQGJErmDOdOMr/zo96km1nElr8bmPOBwI9COv\n",
       "HnFPRIwmkSOv9kcAS4heRsidOkpeWBgZM+UBrTFAXNYL5Vf2ii9c1trNzpYdaoVil3WIc+wdk+gQ\n",
       "noie3ecCcxt9ITcLAPWt/laGEO/9U6PmzZkenTtsSMQ8uYywJVW+grCstAvCIaAdArAsIWkRDDs/\n",
       "KzLm2YcjY1Lv0UdW73HabE9n6V66cxSzfEmuJssTpKGVp+0vHq73FwL46eOjpMpbRAnNmJFrGJNu\n",
       "Ukf9Yrz+3rghiumCKNXXWPhLYcjxGsIpoCMsIRoFITkW8AuyM8jC1+/QLx4bozCEJIq38+1rtpR6\n",
       "V/yzb8eBlRb3fo5l783N0CWolAzJHaVNzkrTzlEp2bQ2q3TC5gn6wpnoQAmwSiGh2GitnTmVMc5O\n",
       "UyfKWUKCIsU7+fZDKwqdT6DDpvkzAX4/+AMFjk0tDp5GRXLpQ2MUmhgDp5gxQT8+Y7hyPsMi8uxF\n",
       "71H0oebujHALECjFKaW9Lm68n18wXp2kVzIcABytD5iXFzg+WVXkegpAsOOYziqo0OkK76GyquC3\n",
       "ltZAzMhhqlSNmmWTE5T6e3IN05ITFLM4GdN0vtZ3ob8Jh1NAKXFbm5PtLU/eqTSlGjkNAJjdgn/N\n",
       "aedXa0tdi7+t9G0FIF49rtMSEgAs1kDLkTPO7ebm4IUWeyh1bKomXqlgMG6kJmHcSM0clYLJ8XtR\n",
       "1GTnbV3F6I5wCGikAb402npp1h1s7LQUZZSMIfALFOuL3UUrfnS8+rez7v9qcold5tilgHbO1fjK\n",
       "9ubb17u9oshxzMiUBKXWqJNxd+fqb0tLVs4lILFnK71H0Ind7uiPgACVcFJlrb0tV6DzxqqTIhUM\n",
       "CwDf1/rrVhTa33/3pGPxJYdQ2l2cbgVcQSosdx8uqnDtbGjh9SlDVSMNWhlnilfqZk42Th2ZpLpf\n",
       "xrHec5e815zrr0dfBZSwzkZfqsv+1FS1KUknUwPARVvItfKUY+cn57yP7qv07UE3p8B2uhUwLk09\n",
       "e0SCOrK+hbdYHYLjRIl71wWzv9jpEoeOHhGRrJAzyEyNiJuUqX0g2sBN5kGK6y2Blp5M3lsB9Qh4\n",
       "y2Ja6x6+i0ucmKgwMATwhSjdUu49tKrQ/pvN5d53ml2CGwCmJipmKjgmyuaXzNeL2a0AkQ01Th5j\n",
       "2DktO3Jyk8f9vcOBQHV94OK+fPumJmvQHxJoWkaKWq9Vs+yUsbq0zGT1I4RgeH2b5wef7+c7bl8F\n",
       "eKgoHVVZa8ZPEORzR6sT1BzDUAD/d9F78e2Tzv99v8D+fLVTqAKAsbGamKey1Mt9Ann4eH3gTXTz\n",
       "idWtAJ8PQWOk7NzSeQn/OTHDuEikVF1R4z8BQCy+6D1aWRfY0tTGG2OM8rRoPaeIj5ZHzJxszElN\n",
       "VM8K8JS5WOfv8mzRnQAKoEhmt8gyPM4lU9SmBK1MCQBnW4KONT86v1hZ1PbwSXPw4JWussVjtH9Y\n",
       "NCoiL9UoH/6PSu8jFrfY2t36erQHXLIEakMi1SydmzB31h3GGXFDFNPaK8Rme9B79Ixrd0WN+1ij\n",
       "NRQ/doRmuFLBkHSTOm5GruG+pFjFdAmorG4IXH1Qua6ASniclfFtDYt+oUjKipPrCQB7QBQ2lrgP\n",
       "fFzm+9XWUtcqJ3/5vDLDpJ79XHZk3u8nGZ42qlj1+ydtbxysCezrydp6ugmipNJ7WBPB5tydY0jP\n",
       "HaVNzs3QzeE4ZpTbI+ZbnSFPbVOw9vsfnVvqWnirPyCNGD08IlqtYkh2hjZ5dErEQzoNm+6ykyOt\n",
       "Lt5/PQEuSRRKo22VkydK+vvS1XEKlhCJAnsqvcVvH7f/ZU2R67eXbMEGAMiIV5oWZWiWvz5Fv2xG\n",
       "sjqNJQRvn3Rs2lji/lNP19VjAQDgD7FHhujZB9OGqYxRkZxixgRDVlqS6uEOFaJUVu0rPFzctrnF\n",
       "JqijImVp8dEKVWyUXDk92zAuMZ6bFwpBU1HrOw6AdhQgUooChb0+ItMbWJitSo5Ws3IAOGEOtL53\n",
       "0vHZih9sC4vtofZ7Qu6523V/fmGcds1TY3V36pUsBwAbSlxnVh2xLfAD/IAIMDf7XYIkNmXfpp2l\n",
       "18rkAJAy9HKFaIr/qULkeQQKy9zf1JgDB2uaeFNGijo5QsUyacNUUTOnGO42xSnv4oOwpDi1zYkc\n",
       "efUc3I5Gk6PhyTuVKaOGyLUAYPGIoY9Pu/atL/L92+4q9wbflRJ2Trpm/jPjdBtfnqB/dIThcl8A\n",
       "KG7hbRuKnb8qsQsVvVlTrwQAQMUlf3kwJI24Z4JhPMtcfng5GcH49GsrxJpGvvHIaeem2ma+KSjQ\n",
       "lIwUdYyCY8j4dE1KzijNnIP2llF2wcXNnsoapw9XxsgYAl6k+KzUXbi2yP3KR2ecf6z3BFsBICdW\n",
       "nvnIaG3eHybqX7vbpEqUMT+9OL4Qpe8VON7dXuFd39v19FoAABRVePbGGuXTszO0P7tu6lghUonE\n",
       "llRdrhArLvmKdh9u29jcFiRRkfLUxBiFNiqSU9icoZQHo5mYBI1MBgBH6wMNb+U7Pnw337H4gi1Y\n",
       "ciWs+uks3Z9fztUvfzxTm9Ne8XXkvQLHNytOOZeiD4e0PgkAIAYCYknKUNUDSXEKzdWNpnil7r4p\n",
       "xqkjTarZMtk/K8TQ6Qve78qqvXurGwIJqcOUKfUWHsm8KGvxSP68YudXq4pcj39X49uOK2X142O0\n",
       "Tz5/u/7TVybqH0rSya6ZBwD21/gubbrgWdDgEOx9WUhfBaC2ibcEBYm7a7x+ukrBMNcEZggyR0TE\n",
       "T8zUPjikQ4VosQZbTpS4vqizBKvqmvjsqnpfzaZyx9JPiz1/bfGKdgD45XB1zoIMzYbfTdS/NClB\n",
       "Gct0USiY3YL/g0LHy/uq/Ef6uo5+n0R/vyhp17Klpge763f8rMu6YU/zrn2nml+2WtH+Z+5IAAFc\n",
       "2bUTdTDOSNa9+cQY7YLsOIXhevEkCvzph7a8laecz/Un/z4/Ae04XeL3UQb57IwU9ZDr9UuKVajv\n",
       "nxp1+1UVIo/LjztZkKH59fO3G/JemqCfmaCRqbqbd90ZZ8FfjtkfAyD0J/9+C2h1hDwsSxvGjNDc\n",
       "b4zk5NfrSwiQblLHzZhg+Jf4aPlUwpDqkQqa9nimbt1/TDH8OitGMaQnj+RJS6B1fbF7SY1TqO5v\n",
       "/v0WAADl1f7zokgS7s7VT2DZ7pegUjBM7mjtiDZbcN4j0YrHH0rXpCtY0qPX0cVL0rv5jv/ZXend\n",
       "0u/EESYBAFBU4T4Qa5TflZOhTe7pmKpaP8kCVUVw1+yhXfJWvn1P3hnXi33JsTN6PnP3hHZ8Z3/h\n",
       "aLHzmkNPuPj7Bc/F/Q38CwjTpSwQXgE4Vmwry9tpfq/ZFgqFMy4AVDtCvi8rvMvOmv0N4YwbVgEA\n",
       "sPM72/KVnzfspmH7HQGCRLG2yL1+z8XwvPcdCbsAANh+xPzstgMtxeGKt+6MK3/tacfvwhWvIwMi\n",
       "oKEBtm0H7W+UVfkc/Y1V0BhoPlDr/w1w/eu1vjIgAgDg22OtX6/eYfnEz/focrZTHAFR+PSs56/7\n",
       "q32nwpjazxgwAQCwcU/T62t3WL7r6/jVRa6/byp1rei+Z98ZUAEAhEPHPc8fKnTU9nbgtnOe8h0l\n",
       "9hcGIqmODLQAHCy2Xti6v/XNRivf43f4fFvIteu854+VHnR7q9tfBlwAAGz+pnndB9vM26UebAe8\n",
       "SLHujPOTPVW+rwY+sxskAAC2HrA8t2Vvc7ffP1r9o+vwR2dcr92InIAbKKC1FZ5tB1tf+/G8p8sv\n",
       "N/9Q5zd/XR34LYCwV5JdccMEAMDBk45DH243r/X4xGvqxFa/GNpS7n6rwOwNWwHVE26oAADYurf1\n",
       "zx/utOzt+DMKYM0p17YtZZ5VNzqfsB2HewG1WXE8PoZ7gOclbTIvynZf9JV+fqZtfgs/8F/Nu5rB\n",
       "EIBmJ+8QRMmpU7EzGRsf2FzuePqYRbzh/zE26EwdrT10f6r6o8HOYzCJB9Dpff8tbnGLG8L/A/WE\n",
       "roTBs2RqAAAAAElFTkSuQmCC'\n",
       "     style='height:25px; border-radius:12px; display: inline-block; float: left; vertical-align: middle'></img>\n",
       "\n",
       "\n",
       "  <img src='data:image/png;base64,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'\n",
       "       style='height:15px; border-radius:12px; display: inline-block; float: left'></img>\n",
       "  \n",
       "\n",
       "\n",
       "\n",
       "\n",
       "</div>\n"
      ]
     },
     "metadata": {},
     "output_type": "display_data"
    },
    {
     "data": {},
     "metadata": {},
     "output_type": "display_data"
    },
    {
     "data": {
      "application/vnd.holoviews_exec.v0+json": "",
      "text/html": [
       "<div id='p2012'>\n",
       "  <div id=\"f4469d66-f2f7-4d09-a216-f72fa889e015\" data-root-id=\"p2012\" style=\"display: contents;\"></div>\n",
       "</div>\n",
       "<script type=\"application/javascript\">(function(root) {\n",
       "  var docs_json = {\"b2f351ed-a5e4-45fe-bb7e-e79d47211edf\":{\"version\":\"3.4.1\",\"title\":\"Bokeh Application\",\"roots\":[{\"type\":\"object\",\"name\":\"Row\",\"id\":\"p2012\",\"attributes\":{\"name\":\"Row03740\",\"tags\":[\"embedded\"],\"stylesheets\":[\"\\n:host(.pn-loading):before, .pn-loading:before {\\n  background-color: #c3c3c3;\\n  mask-size: auto calc(min(50%, 400px));\\n  -webkit-mask-size: auto calc(min(50%, 400px));\\n}\",{\"type\":\"object\",\"name\":\"ImportedStyleSheet\",\"id\":\"p2015\",\"attributes\":{\"url\":\"https://cdn.holoviz.org/panel/1.4.4/dist/css/loading.css\"}},{\"type\":\"object\",\"name\":\"ImportedStyleSheet\",\"id\":\"p2135\",\"attributes\":{\"url\":\"https://cdn.holoviz.org/panel/1.4.4/dist/css/listpanel.css\"}},{\"type\":\"object\",\"name\":\"ImportedStyleSheet\",\"id\":\"p2013\",\"attributes\":{\"url\":\"https://cdn.holoviz.org/panel/1.4.4/dist/bundled/theme/default.css\"}},{\"type\":\"object\",\"name\":\"ImportedStyleSheet\",\"id\":\"p2014\",\"attributes\":{\"url\":\"https://cdn.holoviz.org/panel/1.4.4/dist/bundled/theme/native.css\"}}],\"min_width\":1000,\"margin\":0,\"sizing_mode\":\"stretch_width\",\"align\":\"start\",\"children\":[{\"type\":\"object\",\"name\":\"Spacer\",\"id\":\"p2016\",\"attributes\":{\"name\":\"HSpacer03747\",\"stylesheets\":[\"\\n:host(.pn-loading):before, .pn-loading:before {\\n  background-color: #c3c3c3;\\n  mask-size: auto calc(min(50%, 400px));\\n  -webkit-mask-size: auto calc(min(50%, 400px));\\n}\",{\"id\":\"p2015\"},{\"id\":\"p2013\"},{\"id\":\"p2014\"}],\"margin\":0,\"sizing_mode\":\"stretch_width\",\"align\":\"start\"}},{\"type\":\"object\",\"name\":\"Figure\",\"id\":\"p2024\",\"attributes\":{\"width\":1000,\"margin\":[5,10],\"sizing_mode\":\"fixed\",\"align\":\"start\",\"x_range\":{\"type\":\"object\",\"name\":\"Range1d\",\"id\":\"p2017\",\"attributes\":{\"tags\":[[[\"x\",null]],[]],\"start\":-238.75,\"end\":1041.75,\"reset_start\":-238.75,\"reset_end\":1041.75}},\"y_range\":{\"type\":\"object\",\"name\":\"Range1d\",\"id\":\"p2018\",\"attributes\":{\"tags\":[[[\"y\",null]],{\"type\":\"map\",\"entries\":[[\"invert_yaxis\",false],[\"autorange\",false]]}],\"start\":-25.000000000000007,\"end\":525.0000000000001,\"reset_start\":-25.000000000000007,\"reset_end\":525.0000000000001}},\"x_scale\":{\"type\":\"object\",\"name\":\"LinearScale\",\"id\":\"p2034\"},\"y_scale\":{\"type\":\"object\",\"name\":\"LinearScale\",\"id\":\"p2035\"},\"title\":{\"type\":\"object\",\"name\":\"Title\",\"id\":\"p2027\",\"attributes\":{\"text\":\"Demographics by Sport\",\"text_color\":\"black\",\"text_font_size\":\"12pt\"}},\"outline_line_alpha\":0,\"renderers\":[{\"type\":\"object\",\"name\":\"GraphRenderer\",\"id\":\"p2081\",\"attributes\":{\"layout_provider\":{\"type\":\"object\",\"name\":\"StaticLayoutProvider\",\"id\":\"p2064\",\"attributes\":{\"graph_layout\":{\"type\":\"map\",\"entries\":[[0,[7.5,125.94840095723818]],[1,[7.5,357.5080945900554]],[2,[7.5,475.55555555555554]],[3,[992.5,73.3333335]],[4,[992.5,239.99999983333333]],[5,[992.5,357.7777776666667]],[6,[992.5,451.1111111111111]]]}}},\"node_renderer\":{\"type\":\"object\",\"name\":\"GlyphRenderer\",\"id\":\"p2070\",\"attributes\":{\"data_source\":{\"type\":\"object\",\"name\":\"ColumnDataSource\",\"id\":\"p2057\",\"attributes\":{\"selected\":{\"type\":\"object\",\"name\":\"Selection\",\"id\":\"p2058\",\"attributes\":{\"indices\":[],\"line_indices\":[]}},\"selection_policy\":{\"type\":\"object\",\"name\":\"UnionRenderers\",\"id\":\"p2059\"},\"data\":{\"type\":\"map\",\"entries\":[[\"index\",[\"fencing\",\"kayak\",\"triathlon\",\"White\",\"African\",\"Asian\",\"Latino\"]],[\"x0\",[0.0,0.0,0.0,985.0,985.0,985.0,985.0]],[\"x1\",[15.0,15.0,15.0,1000.0,1000.0,1000.0,1000.0]],[\"y0\",[3.7261789144763613,284.17476118011086,451.1111111111111,0.0,166.66666666666669,333.33333333333337,402.22222222222223]],[\"y1\",[248.170623,430.841428,500.0,146.666667,313.333333,382.222222,500.0]]]}}},\"view\":{\"type\":\"object\",\"name\":\"CDSView\",\"id\":\"p2071\",\"attributes\":{\"filter\":{\"type\":\"object\",\"name\":\"AllIndices\",\"id\":\"p2072\"}}},\"glyph\":{\"type\":\"object\",\"name\":\"Scatter\",\"id\":\"p2065\",\"attributes\":{\"size\":{\"type\":\"value\",\"value\":10},\"fill_color\":{\"type\":\"field\",\"field\":\"index\",\"transform\":{\"type\":\"object\",\"name\":\"CategoricalColorMapper\",\"id\":\"p2056\",\"attributes\":{\"palette\":[\"#1f77b4\",\"#aec7e8\",\"#ff7f0e\",\"#ffbb78\",\"#2ca02c\",\"#98df8a\",\"#d62728\"],\"factors\":[\"fencing\",\"kayak\",\"triathlon\",\"White\",\"African\",\"Asian\",\"Latino\"]}}}}},\"selection_glyph\":{\"type\":\"object\",\"name\":\"Scatter\",\"id\":\"p2067\",\"attributes\":{\"size\":{\"type\":\"value\",\"value\":10},\"fill_color\":{\"type\":\"field\",\"field\":\"index\",\"transform\":{\"id\":\"p2056\"}}}},\"nonselection_glyph\":{\"type\":\"object\",\"name\":\"Scatter\",\"id\":\"p2066\",\"attributes\":{\"size\":{\"type\":\"value\",\"value\":10},\"line_alpha\":{\"type\":\"value\",\"value\":0.2},\"fill_color\":{\"type\":\"field\",\"field\":\"index\",\"transform\":{\"id\":\"p2056\"}},\"fill_alpha\":{\"type\":\"value\",\"value\":0.2},\"hatch_alpha\":{\"type\":\"value\",\"value\":0.2}}},\"hover_glyph\":{\"type\":\"object\",\"name\":\"Scatter\",\"id\":\"p2068\",\"attributes\":{\"size\":{\"type\":\"value\",\"value\":10},\"fill_color\":{\"type\":\"field\",\"field\":\"index\",\"transform\":{\"id\":\"p2056\"}}}},\"muted_glyph\":{\"type\":\"object\",\"name\":\"Scatter\",\"id\":\"p2069\",\"attributes\":{\"size\":{\"type\":\"value\",\"value\":10},\"line_alpha\":{\"type\":\"value\",\"value\":0.2},\"fill_color\":{\"type\":\"field\",\"field\":\"index\",\"transform\":{\"id\":\"p2056\"}},\"fill_alpha\":{\"type\":\"value\",\"value\":0.2},\"hatch_alpha\":{\"type\":\"value\",\"value\":0.2}}}}},\"edge_renderer\":{\"type\":\"object\",\"name\":\"GlyphRenderer\",\"id\":\"p2078\",\"attributes\":{\"data_source\":{\"type\":\"object\",\"name\":\"ColumnDataSource\",\"id\":\"p2061\",\"attributes\":{\"selected\":{\"type\":\"object\",\"name\":\"Selection\",\"id\":\"p2062\",\"attributes\":{\"indices\":[],\"line_indices\":[]}},\"selection_policy\":{\"type\":\"object\",\"name\":\"UnionRenderers\",\"id\":\"p2063\"},\"data\":{\"type\":\"map\",\"entries\":[[\"start\",{\"type\":\"ndarray\",\"array\":{\"type\":\"bytes\",\"data\":\"AAAAAAAAAAABAAAAAQAAAAEAAAACAAAA\"},\"shape\":[6],\"dtype\":\"int32\",\"order\":\"little\"}],[\"end\",{\"type\":\"ndarray\",\"array\":{\"type\":\"bytes\",\"data\":\"AwAAAAQAAAAEAAAABQAAAAYAAAAGAAAA\"},\"shape\":[6],\"dtype\":\"int32\",\"order\":\"little\"}],[\"xs\",[{\"type\":\"ndarray\",\"array\":{\"type\":\"bytes\",\"data\":\"AAAAAAAALkAAAAAAAAAuQAAAAAAAAC5AaNk40k0MRkAkPIj/5gFSQBQID8RqtlhAQ2p8t9wmX0A6/k2tM6tiQDOsHJcapGVA8QuQWbh/aEBQ6g01oj9rQDQU/Glt5W1APCtgnFc5cEAEP+BwfnRxQN0rsdL1pHJAOdgFYojLc0CLKhG/AOl0QEAJBoop/nVAyFoXY80Ld0CXBXjqthJ4QBnwWsCwE3lAwgDzhIUPekD/HXPY/wZ7QEYuDlvq+ntAARj3rA/sfEClwWBuOtt9QKARfj81yX5AYu6BwMq2f0Atn8/IYlKAQP9zhCn4yYBA3eh40opCgUAAccYTgLyBQJ5/hj09OIJA84fSnye2gkA0/cOKpDaDQJxSdE4ZuoNAYPv8OutAhEC6anegf8uEQOIT/c47WoVAEGqnFoXthUB+4I/HwIWGQGDqzzFUI4dA8vqApaTGh0BshbxyF3CIQAT9m+kRIIlA89Q4WvnWiUBwgKwUM5WKQLdyEGkkW4tA/R5+pzIpjEB7+A4gw/+MQGly3CI7341AAAAAAADIjkAAAAAAAMiOQAAAAAAAyI5AAAAAAADIjkBqctwiO9+NQHv4DiDD/4xA/h5+pzIpjEC4chBpJFuLQHKArBQzlYpA89Q4WvnWiUAF/ZvpESCJQG2FvHIXcIhA9PqApaTGh0Bh6s8xVCOHQH7gj8fAhYZAEGqnFoXthUDiE/3OO1qFQLtqd6B/y4RAYfv8OutAhECdUnROGbqDQDX9w4qkNoNA84fSnye2gkCff4Y9PTiCQP9wxhOAvIFA3eh40opCgUAAdIQp+MmAQC6fz8hiUoBAY+6BwMq2f0CfEX4/Ncl+QKXBYG46231AAxj3rA/sfEBGLg5b6vp7QAEec9j/BntAxADzhIUPekAb8FrAsBN5QJcFeOq2EnhAyVoXY80Ld0A/CQaKKf51QI0qEb8A6XRAPNgFYojLc0DfK7HS9aRyQAU/4HB+dHFAQCtgnFc5cEA3FPxpbeVtQFPqDTWiP2tA8guQWbh/aEA1rByXGqRlQD/+Ta0zq2JATGp8t9wmX0AaCA/EarZYQCk8iP/mAVJAbNk40k0MRkAAAAAAAAAuQA==\"},\"shape\":[104],\"dtype\":\"float64\",\"order\":\"little\"},{\"type\":\"ndarray\",\"array\":{\"type\":\"bytes\",\"data\":\"AAAAAAAALkAAAAAAAAAuQAAAAAAAAC5AaNk40k0MRkAkPIj/5gFSQBQID8RqtlhAQ2p8t9wmX0A6/k2tM6tiQDOsHJcapGVA8QuQWbh/aEBQ6g01oj9rQDQU/Glt5W1APCtgnFc5cEAEP+BwfnRxQN0rsdL1pHJAOdgFYojLc0CLKhG/AOl0QEAJBoop/nVAyFoXY80Ld0CXBXjqthJ4QBnwWsCwE3lAwgDzhIUPekD/HXPY/wZ7QEYuDlvq+ntAARj3rA/sfEClwWBuOtt9QKARfj81yX5AYu6BwMq2f0Atn8/IYlKAQP9zhCn4yYBA3eh40opCgUAAccYTgLyBQJ5/hj09OIJA84fSnye2gkA0/cOKpDaDQJxSdE4ZuoNAYPv8OutAhEC6anegf8uEQOIT/c47WoVAEGqnFoXthUB+4I/HwIWGQGDqzzFUI4dA8vqApaTGh0BshbxyF3CIQAT9m+kRIIlA89Q4WvnWiUBwgKwUM5WKQLdyEGkkW4tA/R5+pzIpjEB7+A4gw/+MQGly3CI7341AAAAAAADIjkAAAAAAAMiOQAAAAAAAyI5AAAAAAADIjkBqctwiO9+NQHv4DiDD/4xA/h5+pzIpjEC4chBpJFuLQHKArBQzlYpA89Q4WvnWiUAF/ZvpESCJQG2FvHIXcIhA9PqApaTGh0Bh6s8xVCOHQH7gj8fAhYZAEGqnFoXthUDiE/3OO1qFQLtqd6B/y4RAYfv8OutAhECdUnROGbqDQDX9w4qkNoNA84fSnye2gkCff4Y9PTiCQP9wxhOAvIFA3eh40opCgUAAdIQp+MmAQC6fz8hiUoBAY+6BwMq2f0CfEX4/Ncl+QKXBYG46231AAxj3rA/sfEBGLg5b6vp7QAEec9j/BntAxADzhIUPekAb8FrAsBN5QJcFeOq2EnhAyVoXY80Ld0A/CQaKKf51QI0qEb8A6XRAPNgFYojLc0DfK7HS9aRyQAU/4HB+dHFAQCtgnFc5cEA3FPxpbeVtQFPqDTWiP2tA8guQWbh/aEA1rByXGqRlQD/+Ta0zq2JATGp8t9wmX0AaCA/EarZYQCk8iP/mAVJAbNk40k0MRkAAAAAAAAAuQA==\"},\"shape\":[104],\"dtype\":\"float64\",\"order\":\"little\"},{\"type\":\"ndarray\",\"array\":{\"type\":\"bytes\",\"data\":\"AAAAAAAALkAAAAAAAAAuQAAAAAAAAC5AaNk40k0MRkAkPIj/5gFSQBQID8RqtlhAQ2p8t9wmX0A6/k2tM6tiQDOsHJcapGVA8QuQWbh/aEBQ6g01oj9rQDQU/Glt5W1APCtgnFc5cEAEP+BwfnRxQN0rsdL1pHJAOdgFYojLc0CLKhG/AOl0QEAJBoop/nVAyFoXY80Ld0CXBXjqthJ4QBnwWsCwE3lAwgDzhIUPekD/HXPY/wZ7QEYuDlvq+ntAARj3rA/sfEClwWBuOtt9QKARfj81yX5AYu6BwMq2f0Atn8/IYlKAQP9zhCn4yYBA3eh40opCgUAAccYTgLyBQJ5/hj09OIJA84fSnye2gkA0/cOKpDaDQJxSdE4ZuoNAYPv8OutAhEC6anegf8uEQOIT/c47WoVAEGqnFoXthUB+4I/HwIWGQGDqzzFUI4dA8vqApaTGh0BshbxyF3CIQAT9m+kRIIlA89Q4WvnWiUBwgKwUM5WKQLdyEGkkW4tA/R5+pzIpjEB7+A4gw/+MQGly3CI7341AAAAAAADIjkAAAAAAAMiOQAAAAAAAyI5AAAAAAADIjkBqctwiO9+NQHv4DiDD/4xA/h5+pzIpjEC4chBpJFuLQHKArBQzlYpA89Q4WvnWiUAF/ZvpESCJQG2FvHIXcIhA9PqApaTGh0Bh6s8xVCOHQH7gj8fAhYZAEGqnFoXthUDiE/3OO1qFQLtqd6B/y4RAYfv8OutAhECdUnROGbqDQDX9w4qkNoNA84fSnye2gkCff4Y9PTiCQP9wxhOAvIFA3eh40opCgUAAdIQp+MmAQC6fz8hiUoBAY+6BwMq2f0CfEX4/Ncl+QKXBYG46231AAxj3rA/sfEBGLg5b6vp7QAEec9j/BntAxADzhIUPekAb8FrAsBN5QJcFeOq2EnhAyVoXY80Ld0A/CQaKKf51QI0qEb8A6XRAPNgFYojLc0DfK7HS9aRyQAU/4HB+dHFAQCtgnFc5cEA3FPxpbeVtQFPqDTWiP2tA8guQWbh/aEA1rByXGqRlQD/+Ta0zq2JATGp8t9wmX0AaCA/EarZYQCk8iP/mAVJAbNk40k0MRkAAAAAAAAAuQA==\"},\"shape\":[104],\"dtype\":\"float64\",\"order\":\"little\"},{\"type\":\"ndarray\",\"array\":{\"type\":\"bytes\",\"data\":\"AAAAAAAALkAAAAAAAAAuQAAAAAAAAC5AaNk40k0MRkAkPIj/5gFSQBQID8RqtlhAQ2p8t9wmX0A6/k2tM6tiQDOsHJcapGVA8QuQWbh/aEBQ6g01oj9rQDQU/Glt5W1APCtgnFc5cEAEP+BwfnRxQN0rsdL1pHJAOdgFYojLc0CLKhG/AOl0QEAJBoop/nVAyFoXY80Ld0CXBXjqthJ4QBnwWsCwE3lAwgDzhIUPekD/HXPY/wZ7QEYuDlvq+ntAARj3rA/sfEClwWBuOtt9QKARfj81yX5AYu6BwMq2f0Atn8/IYlKAQP9zhCn4yYBA3eh40opCgUAAccYTgLyBQJ5/hj09OIJA84fSnye2gkA0/cOKpDaDQJxSdE4ZuoNAYPv8OutAhEC6anegf8uEQOIT/c47WoVAEGqnFoXthUB+4I/HwIWGQGDqzzFUI4dA8vqApaTGh0BshbxyF3CIQAT9m+kRIIlA89Q4WvnWiUBwgKwUM5WKQLdyEGkkW4tA/R5+pzIpjEB7+A4gw/+MQGly3CI7341AAAAAAADIjkAAAAAAAMiOQAAAAAAAyI5AAAAAAADIjkBqctwiO9+NQHv4DiDD/4xA/h5+pzIpjEC4chBpJFuLQHKArBQzlYpA89Q4WvnWiUAF/ZvpESCJQG2FvHIXcIhA9PqApaTGh0Bh6s8xVCOHQH7gj8fAhYZAEGqnFoXthUDiE/3OO1qFQLtqd6B/y4RAYfv8OutAhECdUnROGbqDQDX9w4qkNoNA84fSnye2gkCff4Y9PTiCQP9wxhOAvIFA3eh40opCgUAAdIQp+MmAQC6fz8hiUoBAY+6BwMq2f0CfEX4/Ncl+QKXBYG46231AAxj3rA/sfEBGLg5b6vp7QAEec9j/BntAxADzhIUPekAb8FrAsBN5QJcFeOq2EnhAyVoXY80Ld0A/CQaKKf51QI0qEb8A6XRAPNgFYojLc0DfK7HS9aRyQAU/4HB+dHFAQCtgnFc5cEA3FPxpbeVtQFPqDTWiP2tA8guQWbh/aEA1rByXGqRlQD/+Ta0zq2JATGp8t9wmX0AaCA/EarZYQCk8iP/mAVJAbNk40k0MRkAAAAAAAAAuQA==\"},\"shape\":[104],\"dtype\":\"float64\",\"order\":\"little\"},{\"type\":\"ndarray\",\"array\":{\"type\":\"bytes\",\"data\":\"AAAAAAAALkAAAAAAAAAuQAAAAAAAAC5AaNk40k0MRkAkPIj/5gFSQBQID8RqtlhAQ2p8t9wmX0A6/k2tM6tiQDOsHJcapGVA8QuQWbh/aEBQ6g01oj9rQDQU/Glt5W1APCtgnFc5cEAEP+BwfnRxQN0rsdL1pHJAOdgFYojLc0CLKhG/AOl0QEAJBoop/nVAyFoXY80Ld0CXBXjqthJ4QBnwWsCwE3lAwgDzhIUPekD/HXPY/wZ7QEYuDlvq+ntAARj3rA/sfEClwWBuOtt9QKARfj81yX5AYu6BwMq2f0Atn8/IYlKAQP9zhCn4yYBA3eh40opCgUAAccYTgLyBQJ5/hj09OIJA84fSnye2gkA0/cOKpDaDQJxSdE4ZuoNAYPv8OutAhEC6anegf8uEQOIT/c47WoVAEGqnFoXthUB+4I/HwIWGQGDqzzFUI4dA8vqApaTGh0BshbxyF3CIQAT9m+kRIIlA89Q4WvnWiUBwgKwUM5WKQLdyEGkkW4tA/R5+pzIpjEB7+A4gw/+MQGly3CI7341AAAAAAADIjkAAAAAAAMiOQAAAAAAAyI5AAAAAAADIjkBqctwiO9+NQHv4DiDD/4xA/h5+pzIpjEC4chBpJFuLQHKArBQzlYpA89Q4WvnWiUAF/ZvpESCJQG2FvHIXcIhA9PqApaTGh0Bh6s8xVCOHQH7gj8fAhYZAEGqnFoXthUDiE/3OO1qFQLtqd6B/y4RAYfv8OutAhECdUnROGbqDQDX9w4qkNoNA84fSnye2gkCff4Y9PTiCQP9wxhOAvIFA3eh40opCgUAAdIQp+MmAQC6fz8hiUoBAY+6BwMq2f0CfEX4/Ncl+QKXBYG46231AAxj3rA/sfEBGLg5b6vp7QAEec9j/BntAxADzhIUPekAb8FrAsBN5QJcFeOq2EnhAyVoXY80Ld0A/CQaKKf51QI0qEb8A6XRAPNgFYojLc0DfK7HS9aRyQAU/4HB+dHFAQCtgnFc5cEA3FPxpbeVtQFPqDTWiP2tA8guQWbh/aEA1rByXGqRlQD/+Ta0zq2JATGp8t9wmX0AaCA/EarZYQCk8iP/mAVJAbNk40k0MRkAAAAAAAAAuQA==\"},\"shape\":[104],\"dtype\":\"float64\",\"order\":\"little\"},{\"type\":\"ndarray\",\"array\":{\"type\":\"bytes\",\"data\":\"AAAAAAAALkAAAAAAAAAuQAAAAAAAAC5AaNk40k0MRkAkPIj/5gFSQBQID8RqtlhAQ2p8t9wmX0A6/k2tM6tiQDOsHJcapGVA8QuQWbh/aEBQ6g01oj9rQDQU/Glt5W1APCtgnFc5cEAEP+BwfnRxQN0rsdL1pHJAOdgFYojLc0CLKhG/AOl0QEAJBoop/nVAyFoXY80Ld0CXBXjqthJ4QBnwWsCwE3lAwgDzhIUPekD/HXPY/wZ7QEYuDlvq+ntAARj3rA/sfEClwWBuOtt9QKARfj81yX5AYu6BwMq2f0Atn8/IYlKAQP9zhCn4yYBA3eh40opCgUAAccYTgLyBQJ5/hj09OIJA84fSnye2gkA0/cOKpDaDQJxSdE4ZuoNAYPv8OutAhEC6anegf8uEQOIT/c47WoVAEGqnFoXthUB+4I/HwIWGQGDqzzFUI4dA8vqApaTGh0BshbxyF3CIQAT9m+kRIIlA89Q4WvnWiUBwgKwUM5WKQLdyEGkkW4tA/R5+pzIpjEB7+A4gw/+MQGly3CI7341AAAAAAADIjkAAAAAAAMiOQAAAAAAAyI5AAAAAAADIjkBqctwiO9+NQHv4DiDD/4xA/h5+pzIpjEC4chBpJFuLQHKArBQzlYpA89Q4WvnWiUAF/ZvpESCJQG2FvHIXcIhA9PqApaTGh0Bh6s8xVCOHQH7gj8fAhYZAEGqnFoXthUDiE/3OO1qFQLtqd6B/y4RAYfv8OutAhECdUnROGbqDQDX9w4qkNoNA84fSnye2gkCff4Y9PTiCQP9wxhOAvIFA3eh40opCgUAAdIQp+MmAQC6fz8hiUoBAY+6BwMq2f0CfEX4/Ncl+QKXBYG46231AAxj3rA/sfEBGLg5b6vp7QAEec9j/BntAxADzhIUPekAb8FrAsBN5QJcFeOq2EnhAyVoXY80Ld0A/CQaKKf51QI0qEb8A6XRAPNgFYojLc0DfK7HS9aRyQAU/4HB+dHFAQCtgnFc5cEA3FPxpbeVtQFPqDTWiP2tA8guQWbh/aEA1rByXGqRlQD/+Ta0zq2JATGp8t9wmX0AaCA/EarZYQCk8iP/mAVJAbNk40k0MRkAAAAAAAAAuQA==\"},\"shape\":[104],\"dtype\":\"float64\",\"order\":\"little\"}]],[\"ys\",[{\"type\":\"ndarray\",\"array\":{\"type\":\"bytes\",\"data\":\"ZmzlMJLMYkAgxAXkNs8NQCDEBeQ2zw1ABvAxIc/FDUCcBUOwHKoNQLbfi9TmfA1AIllf0fQ+DUC1TBDqDfEMQECV8WH5kwxAnA1WfH4oDECQkJB8ZK8LQPb486VyKQtAnSHTO3CXCkBb5YCBJPoJQAAfULpWUglAYKmTKc6gCEBMX54SUuYHQJgbw7ipIwdAErlUX5xZBkCSEqZJ8YgFQOUCCrtvsgRA42TT9t7WA0BaE1VABvcCQCDp4dqsEwJABsHMCZotAUDcdWgQlUUAQO7ED2TKuP4/UsP7Y6Pl/D+KnDqnQxP7PzcGcrQ5Q/k/ArZHEhR39z+LYWFHYbD1P32+ZNqv8PM/d4L3UY458j8gY780i4zwPzssxBJq1u0/KKIKrTSu6j9Vk51Fk6PnPwJryOmiueQ/f5TWpoDz4T8m9iYUk6jePxkUlUE1vtk/XlmO8CEu1T+MnKk7k/7QP29o+3qGa8o/6O1CIdizwz9n7a4+H8W7P8hfzVRCCLI/qBp53gOUpD9jQV/hGY2SPzAyqKeFz3I/AAAAAAAAAAAAAAAAAAAAAFVVVVVVVWJAVVVVVVVVYkClpGD0elViQE9gJL7pVWJA5zyTlZ5WYkAB759dlldiQDMrPfnNWGJAEKZdS0JaYkAwFPQ28FtiQCQq857UXWJAgpxNZuxfYkDfH/ZvNGJiQNBo356pZGJA6Sv81UhnYkDAHT/4DmpiQOjymuj4bGJA+F8CigNwYkCCGWi/K3NiQBzUvmtudmJAWkT5cch5YkDSHgq1Nn1iQBgY5Be2gGJAweR5fUOEYkBiOb7I24diQI/Ko9x7i2JA3EwdnCCPYkDfdB3qxpJiQCz3lqlrlmJAWYh8vQuaYkD63MAIpJ1iQKOpVm4xoWJA6aIw0bCkYkBhfUEUH6hiQKDtexp5q2JAOqjSxruuYkDDYTj847FiQNLOn53utGJA+6P7jdi3YkDSlT6wnrpiQOpYW+c9vWJA3KFEFrO/YkA6Je0f+8FiQJiXR+cSxGJAjK1GT/fFYkCqG906pcdiQIiW/YwZyWJAutKaKFHKYkDUhKfwSMtiQGxhFsj9y2JAFh3akWzMYkBmbOUwksxiQA==\"},\"shape\":[104],\"dtype\":\"float64\",\"order\":\"little\"},{\"type\":\"ndarray\",\"array\":{\"type\":\"bytes\",\"data\":\"808ev3UFb0BlbOUwksxiQGVs5TCSzGJAOr3LfzbNYkBefchbGs9iQEZhyisw0mJAZB3AVmrWYkAuZphDu9tiQBjwQVkV4mJAmW+r/mrpYkAhmcOarvFiQCgheZTS+mJAILy6UskEY0CAHnc8hQ9jQLv8nLj4GmNARgsbLhYnY0CW/t8D0DNjQB+L2qAYQWNAVGX5a+JOY0CrQSvMH11jQJnUXijDa2NAkdKC5756Y0AI8IVwBYpjQHThViqJmWNASFvkezypY0D4ER3MEbljQPq574H7yGNAwQdLBOzYY0DCrx261ehjQHRmVgqr+GNAR+DjW14IZECy0bQV4hdkQCrvt54oJ2RAI+3bXSQ2ZEAQgA+6x0RkQGdcQRoFU2RAnTZg5c5gZEAlw1qCF25kQHS2H1jRemRA/8Sdze6GZEA6o8NJYpJkQJoFgDMenWRAk6DB8RSnZECaKHfrOLBkQCNSj4d8uGRAotH4LNK/ZECMW6JCLMZkQFekei99y2RAdWBwWrfPZEBcRHIqzdJkQIEEbwax1GRAVlVVVVXVZEBWVVVVVdVkQHIcx3Ech3BAchzHcRyHcEAH9FNKyoZwQPSTVVzYhXBAAqJUdE2EcEDzw9leMIJwQI2fbeiHf3BAmNqY3Vp8cEDZGuQKsHhwQBUG2DyOdHBAEUL9P/xvcECTdNzgAGtwQGND/uuiZXBARVTrLelfcEABTSxz2llwQFnTSYh9U3BAFo3MOdlMcED7Hz1U9EVwQNAxJKTVPnBAWGgK9oM3cEBcaXgWBjBwQJ/a9tFiKHBA6mEO9aAgcEAApUdMxxhwQKhJK6TcEHBAqPVByecIcEDEThSI7wBwQIX1VVr18W9A1j4dCiDib0AExY+4bNJvQJfTvv7owm9AH7a7daKzb0AnuJe2pqRvQDklZFoDlm9A4kgy+sWHb0CsbhMv/HlvQCTiGJKzbG9A1u5TvPlfb0BK4NVG3FNvQA4CsMpoSG9Ar5/z4Kw9b0C3BLIitjNvQK98/CiSKm9AKFPkjE4ib0Cm03rn+BpvQLxJ0dGeFG9A8gD55E0Pb0DURAO6EwtvQO1gAer9B29AyKAEDhoGb0DzTx6/dQVvQA==\"},\"shape\":[104],\"dtype\":\"float64\",\"order\":\"little\"},{\"type\":\"ndarray\",\"array\":{\"type\":\"bytes\",\"data\":\"4EvvtQTRdED8EmHSy8JxQPwSYdLLwnFAbJvuN2jCcUBXymbnQsFxQCUAAR9kv3FAPJ30HNS8cUAGAnkfm7lxQOeOxWTBtXFAT6QRK0+xcUCcopSwTKxxQDnqhTPCpnFAj9sc8regcUAG15AqNppxQAQ9GRtFk3FA9G3tAe2LcUA6ykQdNoRxQD+yVqsofHFAaoZa6sxzcUAlp4cYK2txQNN0FXRLYnFA4k87OzZZcUC0mDCs809xQLWvLAWMRnFATPVmhAc9cUDeyRZobjNxQNaNc+7IKXFAmKG0VR8gcUCPZRHceRZxQCI6wb/gDHFAuH/7PlwDcUC5lveX9PlwQI3f7Aiy8HBAmroS0JzncEBKiKArvd5wQASpzVkb1nBAMH3RmL/NcEA1ZeMmssVwQHrBOkL7vXBAafIOKaO2cEBoWJcZsq9wQN5TC1IwqXBANkWiECajcEDUjJOTm51wQCGLFhmZmHBAhaBi3yaUcEBoLa8kTZBwQDKSMycUjXBASi8nJYSKcEAXZcFcpYhwQAKUOQyAh3BAchzHcRyHcEByHMdxHIdwQFZVVVVVlXNAVlVVVVWVc0DlzMfvuJVzQPudT0DelnNALWi1CL2Yc0AWy8EKTZtzQE1mPQiGnnNAadnwwl+ic0AFxKT80aZzQLfFIXfUq3NAGX4w9F6xc0DCjJk1abdzQEqRJf3qvXNATSudDNzEc0Be+sglNMxzQBiecQrr03NAFbZffPjbc0Dp4Vs9VORzQC/BLg/27HNAf/Ogs9X1c0BwGHvs6v5zQJzPhXstCHRAm7iJIpURdEAHc0+jGRt0QHSen7+yJHRAfNpCOVgudEC6xgHSATh0QMICpUunQXRAMC71Z0BLdECa6LroxFR0QJrRvo8sXnRAxojJHm9ndEC4raNXhHB0QAfgFfxjeXRATb/ozQWCdEAi6+SOYYp0QB4D0wBvknRA2KZ75SWadEDqdaf+faF0QOoPHw5vqHRAdBSr1fCudEAdIxQX+7R0QH/bIpSFunRAMd2fDoi/dEDMx1NI+sN0QOo6BwPUx3RAINaCAA3LdEAJOY8Cnc10QDsD9cp7z3RAUNR8G6HQdEDgS++1BNF0QA==\"},\"shape\":[104],\"dtype\":\"float64\",\"order\":\"little\"},{\"type\":\"ndarray\",\"array\":{\"type\":\"bytes\",\"data\":\"xIR9mT3fd0DgS++1BNF0QOBL77UE0XRAYqR1EgbRdEA1Ec4UCtF0QEGnIKAQ0XRAdXuVlxnRdEC9olTeJNF0QAQyhlcy0XRAOT5S5kHRdEBE3OBtU9F0QBUhWtFm0XRAliHm83vRdEC18qy4ktF0QF6p1gKr0XRAflqLtcTRdED/GvOz39F0QND/NeH70XRA3B18IBnSdEAOiu1UN9J0QFRZsmFW0nRAm6DyKXbSdEDMdNaQltJ0QNfqhXm30nRApxcpx9jSdEAoEOhc+tJ0QEfp6h0c03RA77dZ7T3TdEAOkVyuX9N0QI6JG0SB03RAX7a+kaLTdEBqLG56w9N0QJwAUuHj03RA40eSqQPUdEApF1e2ItR0QFuDyOpA1HRAZqEOKl7UdEA2hlFXetR0QLhGuVWV1HRA1/dtCK/UdECArpdSx9R0QKB/Xhfe1HRAIoDqOfPUdEDyxGOdBtV0QP5i8iQY1XRAMW++syfVdEB4/u8sNdV0QMAlr3NA1XRA9Pkja0nVdEABkHb2T9V0QNP8zvhT1XRAVlVVVVXVdEBWVVVVVdV0QDqO4ziO43dAOo7jOI7jd0C2NV3cjON3QOTIBNqI43dA2DKyToLjd0ClXj1XeeN3QF03fhBu43dAFKhMl2Djd0Djm4AIUeN3QNf98YA/43dAB7l4HSzjd0CDuOz6FuN3QGTnJTYA43dAuzD86+fid0Cbf0c5zuJ3QBq/3zqz4ndAS9qcDZfid0A/vFbOeeJ3QA1Q5Zlb4ndAxoAgjTzid0CAOeDEHOJ3QExl/F384XdAQu9Mddvhd0BzwqknuuF3QPHJ6pGY4XdA1PDn0Hbhd0AsInkBVeF3QAxJdkAz4XdAjFC3qhHhd0C7IxRd8OB3QLCtZHTP4HdAf9mADa/gd0A4kkBFj+B3QPDCezhw4HdAv1YKBFLgd0CzOMTENOB3QORTgZcY4HdAYpMZmf3fd0BD4mTm4993QJorO5zL33dAe1p017Tfd0D5Wei0n993QCgVb1GM33dAHHfgyXrfd0DoahQ7a993QKHb4sFd33dAWrQje1Lfd0Am4K6DSd93QBlKXPhC33dAR90D9j7fd0DEhH2ZPd93QA==\"},\"shape\":[104],\"dtype\":\"float64\",\"order\":\"little\"},{\"type\":\"ndarray\",\"array\":{\"type\":\"bytes\",\"data\":\"qL0LfXbtekDEhH2ZPd93QMSEfZk933dAWq387KPfd0ASWDVC0eB3QF9OQCG94ndAr1k2El/ld0B0QzCdruh3QB/VRkqj7HdAJNiSoTTxd0DuFS0rWvZ3QPFXLm8L/HdAnGev9T8CeEBkDslG7wh4QLcVlOoQEHhACEcpaZwXeEDGa6FKiR94QGJNFRfPJ3hATLWdVmUweED4bFORQzl4QNQ9T09hQnhAUvGpGLZLeEDiUHx1OVV4QPcl3+3iXnhAAjrrCapoeEBxVrlRhnJ4QLhEYk1vfHhARc7+hFyGeECMvKeARZB4QPvYdcghmnhABu2B5OijeEAawuRckq14QKsht7kVt3hAKtURg2rAeEAFpg1BiMl4QLJdw3tm0nhAnMVLu/zaeEA4p7+HQuN4QPTLN2kv63hARP3M57ryeECYBJiL3Pl4QGCrsdyLAHlADbsyY8AGeUAQ/TOncQx5QNo6zjCXEXlA3T0aiCgWeUCIzzA1HRp5QE65KsBsHXlAnsQgsQ4geUDruiuQ+iF5QKJlZOUnI3lAOY7jOI4jeUA5juM4jiN5QB3HcRzHMXxAHcdxHMcxfECGnvLIYDF8QM3zuXMzMHxAg/2ulEcufEAy8rijpSt8QGwIvxhWKHxAwXaoa2EkfEDAc1wU0B98QPQ1woqqGnxA8vPARvkUfEBC5D/AxA58QHs9Jm8VCHxAJzZby/MAfEDYBMZMaPl7QBzgTWt78XtAgP7ZnjXpe0CWllFfn+B7QOvemyTB13tADQ6gZqPOe0CPWkWdTsV7QPz6ckDLu3tA6SUQyCGye0DfEQSsWqh7QG/1NWR+nntAKQeNaJWUe0CcffAwqIp7QFWPRzW/gHtA5nJ57eJ2e0DcXm3RG217QMeJCllyY3tANio4/O5Ze0C4dt0ymlB7QNul4XR8R3tAMO4rOp4+e0BGhqP6BzZ7QKqkLy7CLXtA7H+3TNUle0CdTiLOSR57QElHVyooF3tAgqA92XgQe0DUkLxSRAp7QNJOuw6TBHtABxEhhW3/ekAEDtUt3Pp6QFh8voDn9npAk5LE9ZfzekBDh84E9vB6QPeQwyUK73pAPuaK0NztekCovQt9du16QA==\"},\"shape\":[104],\"dtype\":\"float64\",\"order\":\"little\"},{\"type\":\"ndarray\",\"array\":{\"type\":\"bytes\",\"data\":\"AAAAAABAf0Acx3EcxzF8QBzHcRzHMXxAG8dxHMcxfEAcx3EcxzF8QB3HcRzHMXxAHMdxHMcxfEAcx3EcxzF8QBvHcRzHMXxAHsdxHMcxfEAex3EcxzF8QBzHcRzHMXxAHMdxHMcxfEAbx3EcxzF8QBvHcRzHMXxAHMdxHMcxfEAcx3EcxzF8QB3HcRzHMXxAHcdxHMcxfEAdx3EcxzF8QBzHcRzHMXxAG8dxHMcxfEAcx3EcxzF8QBvHcRzHMXxAHMdxHMcxfEAcx3EcxzF8QB3HcRzHMXxAHMdxHMcxfEAbx3EcxzF8QBzHcRzHMXxAHMdxHMcxfEAcx3EcxzF8QBzHcRzHMXxAHcdxHMcxfEAcx3EcxzF8QBzHcRzHMXxAHMdxHMcxfEAcx3EcxzF8QBzHcRzHMXxAHMdxHMcxfEAcx3EcxzF8QBzHcRzHMXxAHMdxHMcxfEAcx3EcxzF8QBzHcRzHMXxAHMdxHMcxfEAcx3EcxzF8QBzHcRzHMXxAHMdxHMcxfEAcx3EcxzF8QBzHcRzHMXxAHMdxHMcxfEAcx3EcxzF8QAAAAAAAQH9AAAAAAABAf0D//////z9/QP7/////P39AAAAAAABAf0AAAAAAAEB/QAEAAAAAQH9A//////8/f0ACAAAAAEB/QAEAAAAAQH9AAQAAAABAf0D//////z9/QP//////P39A/v////8/f0AAAAAAAEB/QAAAAAAAQH9AAQAAAABAf0AAAAAAAEB/QAEAAAAAQH9AAAAAAABAf0AAAAAAAEB/QP7/////P39A//////8/f0AAAAAAAEB/QAAAAAAAQH9AAAAAAABAf0AAAAAAAEB/QAAAAAAAQH9AAAAAAABAf0AAAAAAAEB/QAAAAAAAQH9AAAAAAABAf0AAAAAAAEB/QAAAAAAAQH9AAAAAAABAf0AAAAAAAEB/QAAAAAAAQH9AAAAAAABAf0AAAAAAAEB/QAAAAAAAQH9AAAAAAABAf0AAAAAAAEB/QAAAAAAAQH9AAQAAAABAf0D//////z9/QAAAAAAAQH9AAAAAAABAf0AAAAAAAEB/QAAAAAAAQH9AAAAAAABAf0AAAAAAAEB/QA==\"},\"shape\":[104],\"dtype\":\"float64\",\"order\":\"little\"}]],[\"sport\",[\"fencing\",\"fencing\",\"kayak\",\"kayak\",\"kayak\",\"triathlon\"]],[\"Ethnicity\",[\"White\",\"African\",\"African\",\"Asian\",\"Latino\",\"Latino\"]],[\"count\",{\"type\":\"ndarray\",\"array\":{\"type\":\"bytes\",\"data\":\"BgAAAAQAAAACAAAAAgAAAAIAAAACAAAA\"},\"shape\":[6],\"dtype\":\"int32\",\"order\":\"little\"}],[\"edge_color\",{\"type\":\"ndarray\",\"array\":[\"White\",\"African\",\"African\",\"Asian\",\"Latino\",\"Latino\"],\"shape\":[6],\"dtype\":\"object\",\"order\":\"little\"}]]}}},\"view\":{\"type\":\"object\",\"name\":\"CDSView\",\"id\":\"p2079\",\"attributes\":{\"filter\":{\"type\":\"object\",\"name\":\"AllIndices\",\"id\":\"p2080\"}}},\"glyph\":{\"type\":\"object\",\"name\":\"Patches\",\"id\":\"p2098\",\"attributes\":{\"xs\":{\"type\":\"field\",\"field\":\"xs\"},\"ys\":{\"type\":\"field\",\"field\":\"ys\"},\"line_color\":{\"type\":\"field\",\"field\":\"edge_color\",\"transform\":{\"type\":\"object\",\"name\":\"CategoricalColorMapper\",\"id\":\"p2060\",\"attributes\":{\"palette\":[\"#1f77b4\",\"#aec7e8\",\"#ff7f0e\",\"#ffbb78\",\"#2ca02c\",\"#98df8a\",\"#d62728\"],\"factors\":[\"fencing\",\"kayak\",\"triathlon\",\"White\",\"African\",\"Asian\",\"Latino\"]}}},\"fill_color\":{\"type\":\"field\",\"field\":\"edge_color\",\"transform\":{\"id\":\"p2060\"}},\"fill_alpha\":{\"type\":\"value\",\"value\":0.6}}},\"selection_glyph\":{\"type\":\"object\",\"name\":\"Patches\",\"id\":\"p2099\",\"attributes\":{\"xs\":{\"type\":\"field\",\"field\":\"xs\"},\"ys\":{\"type\":\"field\",\"field\":\"ys\"},\"line_color\":{\"type\":\"field\",\"field\":\"edge_color\",\"transform\":{\"id\":\"p2060\"}},\"fill_color\":{\"type\":\"field\",\"field\":\"edge_color\",\"transform\":{\"id\":\"p2060\"}},\"fill_alpha\":{\"type\":\"value\",\"value\":0.6}}},\"nonselection_glyph\":{\"type\":\"object\",\"name\":\"Patches\",\"id\":\"p2100\",\"attributes\":{\"xs\":{\"type\":\"field\",\"field\":\"xs\"},\"ys\":{\"type\":\"field\",\"field\":\"ys\"},\"line_color\":{\"type\":\"field\",\"field\":\"edge_color\",\"transform\":{\"id\":\"p2060\"}},\"line_alpha\":{\"type\":\"value\",\"value\":0.2},\"fill_color\":{\"type\":\"field\",\"field\":\"edge_color\",\"transform\":{\"id\":\"p2060\"}},\"fill_alpha\":{\"type\":\"value\",\"value\":0.2}}},\"hover_glyph\":{\"type\":\"object\",\"name\":\"Patches\",\"id\":\"p2101\",\"attributes\":{\"xs\":{\"type\":\"field\",\"field\":\"xs\"},\"ys\":{\"type\":\"field\",\"field\":\"ys\"},\"line_color\":{\"type\":\"field\",\"field\":\"edge_color\",\"transform\":{\"id\":\"p2060\"}},\"line_alpha\":{\"type\":\"value\",\"value\":0.9},\"fill_color\":{\"type\":\"field\",\"field\":\"edge_color\",\"transform\":{\"id\":\"p2060\"}},\"fill_alpha\":{\"type\":\"value\",\"value\":0.9}}},\"muted_glyph\":{\"type\":\"object\",\"name\":\"Patches\",\"id\":\"p2102\",\"attributes\":{\"xs\":{\"type\":\"field\",\"field\":\"xs\"},\"ys\":{\"type\":\"field\",\"field\":\"ys\"},\"line_color\":{\"type\":\"field\",\"field\":\"edge_color\",\"transform\":{\"id\":\"p2060\"}},\"fill_color\":{\"type\":\"field\",\"field\":\"edge_color\",\"transform\":{\"id\":\"p2060\"}},\"fill_alpha\":{\"type\":\"value\",\"value\":0.6}}}}},\"selection_policy\":{\"type\":\"object\",\"name\":\"NodesAndLinkedEdges\",\"id\":\"p2103\"},\"inspection_policy\":{\"type\":\"object\",\"name\":\"EdgesAndLinkedNodes\",\"id\":\"p2104\"}}},{\"type\":\"object\",\"name\":\"GlyphRenderer\",\"id\":\"p2116\",\"attributes\":{\"data_source\":{\"id\":\"p2057\"},\"view\":{\"id\":\"p2071\"},\"glyph\":{\"type\":\"object\",\"name\":\"Quad\",\"id\":\"p2111\",\"attributes\":{\"left\":{\"type\":\"field\",\"field\":\"x0\"},\"right\":{\"type\":\"field\",\"field\":\"x1\"},\"bottom\":{\"type\":\"field\",\"field\":\"y0\"},\"top\":{\"type\":\"field\",\"field\":\"y1\"},\"fill_color\":{\"type\":\"field\",\"field\":\"index\",\"transform\":{\"id\":\"p2056\"}}}},\"selection_glyph\":{\"type\":\"object\",\"name\":\"Quad\",\"id\":\"p2113\",\"attributes\":{\"left\":{\"type\":\"field\",\"field\":\"x0\"},\"right\":{\"type\":\"field\",\"field\":\"x1\"},\"bottom\":{\"type\":\"field\",\"field\":\"y0\"},\"top\":{\"type\":\"field\",\"field\":\"y1\"},\"fill_color\":{\"type\":\"field\",\"field\":\"index\",\"transform\":{\"id\":\"p2056\"}}}},\"nonselection_glyph\":{\"type\":\"object\",\"name\":\"Quad\",\"id\":\"p2112\",\"attributes\":{\"left\":{\"type\":\"field\",\"field\":\"x0\"},\"right\":{\"type\":\"field\",\"field\":\"x1\"},\"bottom\":{\"type\":\"field\",\"field\":\"y0\"},\"top\":{\"type\":\"field\",\"field\":\"y1\"},\"line_alpha\":{\"type\":\"value\",\"value\":0.2},\"fill_color\":{\"type\":\"field\",\"field\":\"index\",\"transform\":{\"id\":\"p2056\"}},\"fill_alpha\":{\"type\":\"value\",\"value\":0.2},\"hatch_alpha\":{\"type\":\"value\",\"value\":0.2}}},\"hover_glyph\":{\"type\":\"object\",\"name\":\"Quad\",\"id\":\"p2114\",\"attributes\":{\"left\":{\"type\":\"field\",\"field\":\"x0\"},\"right\":{\"type\":\"field\",\"field\":\"x1\"},\"bottom\":{\"type\":\"field\",\"field\":\"y0\"},\"top\":{\"type\":\"field\",\"field\":\"y1\"},\"fill_color\":{\"type\":\"field\",\"field\":\"index\",\"transform\":{\"id\":\"p2056\"}}}},\"muted_glyph\":{\"type\":\"object\",\"name\":\"Quad\",\"id\":\"p2115\",\"attributes\":{\"left\":{\"type\":\"field\",\"field\":\"x0\"},\"right\":{\"type\":\"field\",\"field\":\"x1\"},\"bottom\":{\"type\":\"field\",\"field\":\"y0\"},\"top\":{\"type\":\"field\",\"field\":\"y1\"},\"line_alpha\":{\"type\":\"value\",\"value\":0.2},\"fill_color\":{\"type\":\"field\",\"field\":\"index\",\"transform\":{\"id\":\"p2056\"}},\"fill_alpha\":{\"type\":\"value\",\"value\":0.2},\"hatch_alpha\":{\"type\":\"value\",\"value\":0.2}}}}},{\"type\":\"object\",\"name\":\"GlyphRenderer\",\"id\":\"p2128\",\"attributes\":{\"data_source\":{\"type\":\"object\",\"name\":\"ColumnDataSource\",\"id\":\"p2119\",\"attributes\":{\"selected\":{\"type\":\"object\",\"name\":\"Selection\",\"id\":\"p2120\",\"attributes\":{\"indices\":[],\"line_indices\":[]}},\"selection_policy\":{\"type\":\"object\",\"name\":\"UnionRenderers\",\"id\":\"p2121\"},\"data\":{\"type\":\"map\",\"entries\":[[\"x\",{\"type\":\"ndarray\",\"array\":{\"type\":\"bytes\",\"data\":\"AAAAAAAADsAAAAAAAAAOwAAAAAAAAA7AAAAAAACqjkAAAAAAAKqOQAAAAAAAqo5AAAAAAACqjkA=\"},\"shape\":[7],\"dtype\":\"float64\",\"order\":\"little\"}],[\"y\",{\"type\":\"ndarray\",\"array\":{\"type\":\"bytes\",\"data\":\"UbXtmbJ8X0AA+conIVh2QI7jOI7juH1AUUoIVlVVUkCChab///9tQEie/sZxXHZAHMdxHMcxfEA=\"},\"shape\":[7],\"dtype\":\"float64\",\"order\":\"little\"}],[\"text\",[\"fencing - 10\",\"kayak - 6\",\"triathlon - 2\",\"White - 6\",\"African - 6\",\"Asian - 2\",\"Latino - 4\"]]]}}},\"view\":{\"type\":\"object\",\"name\":\"CDSView\",\"id\":\"p2129\",\"attributes\":{\"filter\":{\"type\":\"object\",\"name\":\"AllIndices\",\"id\":\"p2130\"}}},\"glyph\":{\"type\":\"object\",\"name\":\"Text\",\"id\":\"p2125\",\"attributes\":{\"x\":{\"type\":\"field\",\"field\":\"x\"},\"y\":{\"type\":\"field\",\"field\":\"y\"},\"text\":{\"type\":\"field\",\"field\":\"text\"},\"text_color\":{\"type\":\"value\",\"value\":\"black\"},\"text_font_size\":{\"type\":\"value\",\"value\":\"8pt\"},\"text_align\":{\"type\":\"value\",\"value\":\"right\"},\"text_baseline\":{\"type\":\"value\",\"value\":\"middle\"}}},\"selection_glyph\":{\"type\":\"object\",\"name\":\"Text\",\"id\":\"p2131\",\"attributes\":{\"x\":{\"type\":\"field\",\"field\":\"x\"},\"y\":{\"type\":\"field\",\"field\":\"y\"},\"text\":{\"type\":\"field\",\"field\":\"text\"},\"angle\":{\"type\":\"value\",\"value\":0},\"x_offset\":{\"type\":\"value\",\"value\":0},\"y_offset\":{\"type\":\"value\",\"value\":0},\"text_color\":{\"type\":\"value\",\"value\":\"black\"},\"text_outline_color\":{\"type\":\"value\",\"value\":null},\"text_alpha\":{\"type\":\"value\",\"value\":1.0},\"text_font_size\":{\"type\":\"value\",\"value\":\"8pt\"},\"text_font_style\":{\"type\":\"value\",\"value\":\"normal\"},\"text_align\":{\"type\":\"value\",\"value\":\"right\"},\"text_baseline\":{\"type\":\"value\",\"value\":\"middle\"},\"text_line_height\":{\"type\":\"value\",\"value\":1.2},\"background_fill_color\":{\"type\":\"value\",\"value\":null},\"background_fill_alpha\":{\"type\":\"value\",\"value\":1.0},\"background_hatch_color\":{\"type\":\"value\",\"value\":null},\"background_hatch_alpha\":{\"type\":\"value\",\"value\":1.0},\"background_hatch_scale\":{\"type\":\"value\",\"value\":12.0},\"background_hatch_pattern\":{\"type\":\"value\",\"value\":null},\"background_hatch_weight\":{\"type\":\"value\",\"value\":1.0},\"border_line_color\":{\"type\":\"value\",\"value\":null},\"border_line_alpha\":{\"type\":\"value\",\"value\":1.0},\"border_line_width\":{\"type\":\"value\",\"value\":1},\"border_line_join\":{\"type\":\"value\",\"value\":\"bevel\"},\"border_line_cap\":{\"type\":\"value\",\"value\":\"butt\"},\"border_line_dash\":{\"type\":\"value\",\"value\":[]},\"border_line_dash_offset\":{\"type\":\"value\",\"value\":0}}},\"nonselection_glyph\":{\"type\":\"object\",\"name\":\"Text\",\"id\":\"p2126\",\"attributes\":{\"x\":{\"type\":\"field\",\"field\":\"x\"},\"y\":{\"type\":\"field\",\"field\":\"y\"},\"text\":{\"type\":\"field\",\"field\":\"text\"},\"text_color\":{\"type\":\"value\",\"value\":\"black\"},\"text_alpha\":{\"type\":\"value\",\"value\":0.1},\"text_font_size\":{\"type\":\"value\",\"value\":\"8pt\"},\"text_align\":{\"type\":\"value\",\"value\":\"right\"},\"text_baseline\":{\"type\":\"value\",\"value\":\"middle\"}}},\"muted_glyph\":{\"type\":\"object\",\"name\":\"Text\",\"id\":\"p2127\",\"attributes\":{\"x\":{\"type\":\"field\",\"field\":\"x\"},\"y\":{\"type\":\"field\",\"field\":\"y\"},\"text\":{\"type\":\"field\",\"field\":\"text\"},\"text_color\":{\"type\":\"value\",\"value\":\"black\"},\"text_alpha\":{\"type\":\"value\",\"value\":0.2},\"text_font_size\":{\"type\":\"value\",\"value\":\"8pt\"},\"text_align\":{\"type\":\"value\",\"value\":\"right\"},\"text_baseline\":{\"type\":\"value\",\"value\":\"middle\"}}}}}],\"toolbar\":{\"type\":\"object\",\"name\":\"Toolbar\",\"id\":\"p2033\",\"attributes\":{\"tools\":[{\"type\":\"object\",\"name\":\"WheelZoomTool\",\"id\":\"p2022\",\"attributes\":{\"tags\":[\"hv_created\"],\"renderers\":\"auto\",\"zoom_together\":\"none\"}},{\"type\":\"object\",\"name\":\"HoverTool\",\"id\":\"p2023\",\"attributes\":{\"tags\":[\"hv_created\"],\"renderers\":[{\"id\":\"p2081\"}],\"tooltips\":[[\"sport\",\"@{sport}\"],[\"Ethnicity\",\"@{Ethnicity}\"],[\"count\",\"@{count}\"]]}},{\"type\":\"object\",\"name\":\"SaveTool\",\"id\":\"p2046\"},{\"type\":\"object\",\"name\":\"PanTool\",\"id\":\"p2047\"},{\"type\":\"object\",\"name\":\"BoxZoomTool\",\"id\":\"p2048\",\"attributes\":{\"overlay\":{\"type\":\"object\",\"name\":\"BoxAnnotation\",\"id\":\"p2049\",\"attributes\":{\"syncable\":false,\"level\":\"overlay\",\"visible\":false,\"left\":{\"type\":\"number\",\"value\":\"nan\"},\"right\":{\"type\":\"number\",\"value\":\"nan\"},\"top\":{\"type\":\"number\",\"value\":\"nan\"},\"bottom\":{\"type\":\"number\",\"value\":\"nan\"},\"left_units\":\"canvas\",\"right_units\":\"canvas\",\"top_units\":\"canvas\",\"bottom_units\":\"canvas\",\"line_color\":\"black\",\"line_alpha\":1.0,\"line_width\":2,\"line_dash\":[4,4],\"fill_color\":\"lightgrey\",\"fill_alpha\":0.5}}}},{\"type\":\"object\",\"name\":\"ResetTool\",\"id\":\"p2054\"},{\"type\":\"object\",\"name\":\"TapTool\",\"id\":\"p2055\",\"attributes\":{\"renderers\":\"auto\"}}],\"active_drag\":{\"id\":\"p2047\"},\"active_scroll\":{\"id\":\"p2022\"}}},\"left\":[{\"type\":\"object\",\"name\":\"LinearAxis\",\"id\":\"p2041\",\"attributes\":{\"visible\":false,\"ticker\":{\"type\":\"object\",\"name\":\"BasicTicker\",\"id\":\"p2042\",\"attributes\":{\"mantissas\":[1,2,5]}},\"formatter\":{\"type\":\"object\",\"name\":\"BasicTickFormatter\",\"id\":\"p2043\"},\"axis_label\":\"y\",\"major_label_policy\":{\"type\":\"object\",\"name\":\"AllLabels\",\"id\":\"p2044\"}}}],\"below\":[{\"type\":\"object\",\"name\":\"LinearAxis\",\"id\":\"p2036\",\"attributes\":{\"visible\":false,\"ticker\":{\"type\":\"object\",\"name\":\"BasicTicker\",\"id\":\"p2037\",\"attributes\":{\"mantissas\":[1,2,5]}},\"formatter\":{\"type\":\"object\",\"name\":\"BasicTickFormatter\",\"id\":\"p2038\"},\"axis_label\":\"x\",\"major_label_policy\":{\"type\":\"object\",\"name\":\"AllLabels\",\"id\":\"p2039\"}}}],\"center\":[{\"type\":\"object\",\"name\":\"Grid\",\"id\":\"p2040\",\"attributes\":{\"axis\":{\"id\":\"p2036\"},\"grid_line_color\":null}},{\"type\":\"object\",\"name\":\"Grid\",\"id\":\"p2045\",\"attributes\":{\"dimension\":1,\"axis\":{\"id\":\"p2041\"},\"grid_line_color\":null}}],\"min_border_top\":10,\"min_border_bottom\":10,\"min_border_left\":10,\"min_border_right\":10,\"output_backend\":\"webgl\"}},{\"type\":\"object\",\"name\":\"Spacer\",\"id\":\"p2133\",\"attributes\":{\"name\":\"HSpacer03748\",\"stylesheets\":[\"\\n:host(.pn-loading):before, .pn-loading:before {\\n  background-color: #c3c3c3;\\n  mask-size: auto calc(min(50%, 400px));\\n  -webkit-mask-size: auto calc(min(50%, 400px));\\n}\",{\"id\":\"p2015\"},{\"id\":\"p2013\"},{\"id\":\"p2014\"}],\"margin\":0,\"sizing_mode\":\"stretch_width\",\"align\":\"start\"}}]}}],\"defs\":[{\"type\":\"model\",\"name\":\"ReactiveHTML1\"},{\"type\":\"model\",\"name\":\"FlexBox1\",\"properties\":[{\"name\":\"align_content\",\"kind\":\"Any\",\"default\":\"flex-start\"},{\"name\":\"align_items\",\"kind\":\"Any\",\"default\":\"flex-start\"},{\"name\":\"flex_direction\",\"kind\":\"Any\",\"default\":\"row\"},{\"name\":\"flex_wrap\",\"kind\":\"Any\",\"default\":\"wrap\"},{\"name\":\"gap\",\"kind\":\"Any\",\"default\":\"\"},{\"name\":\"justify_content\",\"kind\":\"Any\",\"default\":\"flex-start\"}]},{\"type\":\"model\",\"name\":\"FloatPanel1\",\"properties\":[{\"name\":\"config\",\"kind\":\"Any\",\"default\":{\"type\":\"map\"}},{\"name\":\"contained\",\"kind\":\"Any\",\"default\":true},{\"name\":\"position\",\"kind\":\"Any\",\"default\":\"right-top\"},{\"name\":\"offsetx\",\"kind\":\"Any\",\"default\":null},{\"name\":\"offsety\",\"kind\":\"Any\",\"default\":null},{\"name\":\"theme\",\"kind\":\"Any\",\"default\":\"primary\"},{\"name\":\"status\",\"kind\":\"Any\",\"default\":\"normalized\"}]},{\"type\":\"model\",\"name\":\"GridStack1\",\"properties\":[{\"name\":\"mode\",\"kind\":\"Any\",\"default\":\"warn\"},{\"name\":\"ncols\",\"kind\":\"Any\",\"default\":null},{\"name\":\"nrows\",\"kind\":\"Any\",\"default\":null},{\"name\":\"allow_resize\",\"kind\":\"Any\",\"default\":true},{\"name\":\"allow_drag\",\"kind\":\"Any\",\"default\":true},{\"name\":\"state\",\"kind\":\"Any\",\"default\":[]}]},{\"type\":\"model\",\"name\":\"drag1\",\"properties\":[{\"name\":\"slider_width\",\"kind\":\"Any\",\"default\":5},{\"name\":\"slider_color\",\"kind\":\"Any\",\"default\":\"black\"},{\"name\":\"value\",\"kind\":\"Any\",\"default\":50}]},{\"type\":\"model\",\"name\":\"click1\",\"properties\":[{\"name\":\"terminal_output\",\"kind\":\"Any\",\"default\":\"\"},{\"name\":\"debug_name\",\"kind\":\"Any\",\"default\":\"\"},{\"name\":\"clears\",\"kind\":\"Any\",\"default\":0}]},{\"type\":\"model\",\"name\":\"FastWrapper1\",\"properties\":[{\"name\":\"object\",\"kind\":\"Any\",\"default\":null},{\"name\":\"style\",\"kind\":\"Any\",\"default\":null}]},{\"type\":\"model\",\"name\":\"NotificationAreaBase1\",\"properties\":[{\"name\":\"js_events\",\"kind\":\"Any\",\"default\":{\"type\":\"map\"}},{\"name\":\"position\",\"kind\":\"Any\",\"default\":\"bottom-right\"},{\"name\":\"_clear\",\"kind\":\"Any\",\"default\":0}]},{\"type\":\"model\",\"name\":\"NotificationArea1\",\"properties\":[{\"name\":\"js_events\",\"kind\":\"Any\",\"default\":{\"type\":\"map\"}},{\"name\":\"notifications\",\"kind\":\"Any\",\"default\":[]},{\"name\":\"position\",\"kind\":\"Any\",\"default\":\"bottom-right\"},{\"name\":\"_clear\",\"kind\":\"Any\",\"default\":0},{\"name\":\"types\",\"kind\":\"Any\",\"default\":[{\"type\":\"map\",\"entries\":[[\"type\",\"warning\"],[\"background\",\"#ffc107\"],[\"icon\",{\"type\":\"map\",\"entries\":[[\"className\",\"fas fa-exclamation-triangle\"],[\"tagName\",\"i\"],[\"color\",\"white\"]]}]]},{\"type\":\"map\",\"entries\":[[\"type\",\"info\"],[\"background\",\"#007bff\"],[\"icon\",{\"type\":\"map\",\"entries\":[[\"className\",\"fas fa-info-circle\"],[\"tagName\",\"i\"],[\"color\",\"white\"]]}]]}]}]},{\"type\":\"model\",\"name\":\"Notification\",\"properties\":[{\"name\":\"background\",\"kind\":\"Any\",\"default\":null},{\"name\":\"duration\",\"kind\":\"Any\",\"default\":3000},{\"name\":\"icon\",\"kind\":\"Any\",\"default\":null},{\"name\":\"message\",\"kind\":\"Any\",\"default\":\"\"},{\"name\":\"notification_type\",\"kind\":\"Any\",\"default\":null},{\"name\":\"_destroyed\",\"kind\":\"Any\",\"default\":false}]},{\"type\":\"model\",\"name\":\"TemplateActions1\",\"properties\":[{\"name\":\"open_modal\",\"kind\":\"Any\",\"default\":0},{\"name\":\"close_modal\",\"kind\":\"Any\",\"default\":0}]},{\"type\":\"model\",\"name\":\"BootstrapTemplateActions1\",\"properties\":[{\"name\":\"open_modal\",\"kind\":\"Any\",\"default\":0},{\"name\":\"close_modal\",\"kind\":\"Any\",\"default\":0}]},{\"type\":\"model\",\"name\":\"TemplateEditor1\",\"properties\":[{\"name\":\"layout\",\"kind\":\"Any\",\"default\":[]}]},{\"type\":\"model\",\"name\":\"MaterialTemplateActions1\",\"properties\":[{\"name\":\"open_modal\",\"kind\":\"Any\",\"default\":0},{\"name\":\"close_modal\",\"kind\":\"Any\",\"default\":0}]},{\"type\":\"model\",\"name\":\"copy_to_clipboard1\",\"properties\":[{\"name\":\"fill\",\"kind\":\"Any\",\"default\":\"none\"},{\"name\":\"value\",\"kind\":\"Any\",\"default\":null}]}]}};\n",
       "  var render_items = [{\"docid\":\"b2f351ed-a5e4-45fe-bb7e-e79d47211edf\",\"roots\":{\"p2012\":\"f4469d66-f2f7-4d09-a216-f72fa889e015\"},\"root_ids\":[\"p2012\"]}];\n",
       "  var docs = Object.values(docs_json)\n",
       "  if (!docs) {\n",
       "    return\n",
       "  }\n",
       "  const py_version = docs[0].version.replace('rc', '-rc.').replace('.dev', '-dev.')\n",
       "  async function embed_document(root) {\n",
       "    var Bokeh = get_bokeh(root)\n",
       "    await Bokeh.embed.embed_items_notebook(docs_json, render_items);\n",
       "    for (const render_item of render_items) {\n",
       "      for (const root_id of render_item.root_ids) {\n",
       "\tconst id_el = document.getElementById(root_id)\n",
       "\tif (id_el.children.length && id_el.children[0].hasAttribute('data-root-id')) {\n",
       "\t  const root_el = id_el.children[0]\n",
       "\t  root_el.id = root_el.id + '-rendered'\n",
       "\t  for (const child of root_el.children) {\n",
       "            // Ensure JupyterLab does not capture keyboard shortcuts\n",
       "            // see: https://jupyterlab.readthedocs.io/en/4.1.x/extension/notebook.html#keyboard-interaction-model\n",
       "\t    child.setAttribute('data-lm-suppress-shortcuts', 'true')\n",
       "\t  }\n",
       "\t}\n",
       "      }\n",
       "    }\n",
       "  }\n",
       "  function get_bokeh(root) {\n",
       "    if (root.Bokeh === undefined) {\n",
       "      return null\n",
       "    } else if (root.Bokeh.version !== py_version) {\n",
       "      if (root.Bokeh.versions === undefined || !root.Bokeh.versions.has(py_version)) {\n",
       "\treturn null\n",
       "      }\n",
       "      return root.Bokeh.versions.get(py_version);\n",
       "    } else if (root.Bokeh.version === py_version) {\n",
       "      return root.Bokeh\n",
       "    }\n",
       "    return null\n",
       "  }\n",
       "  function is_loaded(root) {\n",
       "    var Bokeh = get_bokeh(root)\n",
       "    return (Bokeh != null && Bokeh.Panel !== undefined)\n",
       "  }\n",
       "  if (is_loaded(root)) {\n",
       "    embed_document(root);\n",
       "  } else {\n",
       "    var attempts = 0;\n",
       "    var timer = setInterval(function(root) {\n",
       "      if (is_loaded(root)) {\n",
       "        clearInterval(timer);\n",
       "        embed_document(root);\n",
       "      } else if (document.readyState == \"complete\") {\n",
       "        attempts++;\n",
       "        if (attempts > 200) {\n",
       "          clearInterval(timer);\n",
       "\t  var Bokeh = get_bokeh(root)\n",
       "\t  if (Bokeh == null || Bokeh.Panel == null) {\n",
       "            console.warn(\"Panel: ERROR: Unable to run Panel code because Bokeh or Panel library is missing\");\n",
       "\t  } else {\n",
       "\t    console.warn(\"Panel: WARNING: Attempting to render but not all required libraries could be resolved.\")\n",
       "\t    embed_document(root)\n",
       "\t  }\n",
       "        }\n",
       "      }\n",
       "    }, 25, root)\n",
       "  }\n",
       "})(window);</script>"
      ],
      "text/plain": [
       ":Sankey   [sport,Ethnicity]   (count)"
      ]
     },
     "execution_count": 986,
     "metadata": {
      "application/vnd.holoviews_exec.v0+json": {
       "id": "p2012"
      }
     },
     "output_type": "execute_result"
    }
   ],
   "source": [
    "import holoviews as hv\n",
    "\n",
    "df=Athletes.groupby(['sport'])['Ethnicity'].value_counts().reset_index(name=\"count\")\n",
    "#print(df)\n",
    "\n",
    "hv.extension('bokeh')\n",
    "sankey = hv.Sankey(df, label='Demographics by Sport')\n",
    "sankey.opts(label_position='left', edge_color='Ethnicity', node_color='index', cmap='tab20')\n"
   ]
  },
  {
   "cell_type": "markdown",
   "metadata": {
    "id": "PFK_iZbPgbz2"
   },
   "source": [
    "### Qs.27 Calculate the average heart rate for every minute for every athlete and add it as a column in the same dataframe."
   ]
  },
  {
   "cell_type": "code",
   "execution_count": 988,
   "metadata": {
    "id": "jj9ue8wOgbz2",
    "outputId": "66647400-8ab9-4159-8fc6-d7ce395d86a9"
   },
   "outputs": [
    {
     "name": "stdout",
     "output_type": "stream",
     "text": [
      "       ID     time     RR       VO2  power      stage     HR      Avg_HR\n",
      "0      11 -168.600  727.0  0.287147      0    Warm up   83.0         NaN\n",
      "1      11 -167.872  728.0  0.287147      0    Warm up   82.0  155.113608\n",
      "2      11 -167.148  724.0  0.287147      0    Warm up   83.0  139.278000\n",
      "3      11 -166.484  664.0  0.320580      0    Warm up   90.0  136.631136\n",
      "4      11 -165.836  648.0  0.320580      0    Warm up   93.0  149.045479\n",
      "...    ..      ...    ...       ...    ...        ...    ...         ...\n",
      "27598  10  942.700  428.0  0.786363      0  Cool down  140.0         NaN\n",
      "27599  10  943.124  424.0  0.786363      0  Cool down  142.0         NaN\n",
      "27600  10  943.552  428.0  0.786363      0  Cool down  140.0         NaN\n",
      "27601  10  943.976  424.0  0.786363      0  Cool down  142.0         NaN\n",
      "27602  10  944.404  428.0  0.786363      0  Cool down  140.0         NaN\n",
      "\n",
      "[52062 rows x 8 columns]\n"
     ]
    }
   ],
   "source": [
    "All_sports['Avg_HR']=All_sports.groupby(['ID'])['HR'].mean()\n",
    "print(All_sports)"
   ]
  },
  {
   "cell_type": "markdown",
   "metadata": {
    "id": "KyvL1tKZgbz2"
   },
   "source": [
    "### Qs.28  Print athlete 15s Age and Pvt1 using the format() function"
   ]
  },
  {
   "cell_type": "code",
   "execution_count": 990,
   "metadata": {
    "id": "t5Y02kHDgbz2",
    "outputId": "e89103b5-4a2e-4c8d-9d31-a15deed87cf1"
   },
   "outputs": [
    {
     "name": "stdout",
     "output_type": "stream",
     "text": [
      "Athlete ID is [15], His age is [13] and his P_vt1 is [125]\n"
     ]
    }
   ],
   "source": [
    "df=Athletes[(Athletes['ID'] == 15)]\n",
    "df_dict=df.to_dict('list')\n",
    "\n",
    "athlete_details=\"Athlete ID is {ID}, His age is {age} and his P_vt1 is {pvt1}\".format(ID=df_dict['ID'],age=df_dict['age'],pvt1=df_dict['P_vt1'])\n",
    "print(athlete_details)\n"
   ]
  },
  {
   "cell_type": "markdown",
   "metadata": {
    "id": "rfy5cCOEgbz2"
   },
   "source": [
    "### Qs.29 On average how long was each participants’ warm up?"
   ]
  },
  {
   "cell_type": "code",
   "execution_count": 992,
   "metadata": {
    "id": "-z34tmOggbz2",
    "outputId": "02d79a8f-4737-43f7-dd7d-060cdd927e0d"
   },
   "outputs": [
    {
     "name": "stdout",
     "output_type": "stream",
     "text": [
      "ID       Time in Minutes \n",
      "1        2.18            \n",
      "2        3.66            \n",
      "3        3.04            \n",
      "4        3.06            \n",
      "5        3.01            \n",
      "6        3.07            \n",
      "7        3.04            \n",
      "8        3.04            \n",
      "9        3.6             \n",
      "10       3.04            \n",
      "11       2.81            \n",
      "12       3.05            \n",
      "13       3.07            \n",
      "14       2.68            \n",
      "15       3.08            \n",
      "16       2.75            \n",
      "17       3.04            \n",
      "18       3.02            \n"
     ]
    }
   ],
   "source": [
    "Stage_ID_HR_counts=merged_sports.groupby(['ID','HR_Zone'])['stage'].value_counts()\n",
    "#print(Stage_ID_HR_counts.head(25))\n",
    "\n",
    "Stage_df=merged_sports[(merged_sports['stage'] == 'Warm up')]\n",
    "#print(Stage_df)\n",
    "\n",
    "ID_wrt_time=Stage_df.groupby(['ID'])['time'].min()\n",
    "ID_wrt_time.to_dict()\n",
    "\n",
    "for key in ID_wrt_time.keys():\n",
    "    ID_wrt_time[key]=round(abs(ID_wrt_time[key])/60,2)\n",
    "\n",
    "# For adding label to time in minutes - used below formatting technique\n",
    "print(\"{:<8} {:<15} \".format('ID','Time in Minutes'))\n",
    "for k, v in ID_wrt_time.items():\n",
    "    label = v\n",
    "    print(\"{:<8} {:<15} \".format(k, label))\n"
   ]
  },
  {
   "cell_type": "markdown",
   "metadata": {
    "id": "xYYf31fmgbz3"
   },
   "source": [
    "### Qs.30 Display the HRV of each athlete?"
   ]
  },
  {
   "cell_type": "code",
   "execution_count": 994,
   "metadata": {
    "id": "qvMffLDOgbz3",
    "outputId": "e6084133-3e6e-405c-a9a1-e797932a56f3"
   },
   "outputs": [
    {
     "name": "stdout",
     "output_type": "stream",
     "text": [
      "    ID         HRV\n",
      "0    1  121.157152\n",
      "1    2  180.730679\n",
      "2    3  115.570278\n",
      "3    4   96.588612\n",
      "4    5  140.756819\n",
      "5    6  347.787239\n",
      "6    7  121.684478\n",
      "7    8  387.432612\n",
      "8    9  115.715009\n",
      "9   10  133.765589\n",
      "10  11   99.785372\n",
      "11  12  110.027812\n",
      "12  13  100.119653\n",
      "13  14  172.115157\n",
      "14  15  137.059986\n",
      "15  16  575.089786\n",
      "16  17  130.962202\n",
      "17  18  143.344855\n"
     ]
    }
   ],
   "source": [
    "HRV_athlete=merged_sports.groupby(['ID'])['RR'].std().reset_index(name='HRV')\n",
    "print(HRV_athlete)"
   ]
  },
  {
   "cell_type": "markdown",
   "metadata": {
    "id": "9RLIHRB7gbz3"
   },
   "source": [
    "### Qs.31 Return the count of athletes for any sport that the user inputs."
   ]
  },
  {
   "cell_type": "code",
   "execution_count": 996,
   "metadata": {
    "id": "5Ru_nwxEgbz3",
    "outputId": "93b2f0a5-4634-42a9-e935-9fabe44f8095"
   },
   "outputs": [
    {
     "name": "stdin",
     "output_type": "stream",
     "text": [
      "Enter any sport from the following - fencing/triathlon/kayak kayak\n"
     ]
    },
    {
     "name": "stdout",
     "output_type": "stream",
     "text": [
      "6\n"
     ]
    }
   ],
   "source": [
    "sport_in=input(\"Enter any sport from the following - fencing/triathlon/kayak\")\n",
    "df=Athletes['sport'].value_counts()\n",
    "df=df.to_dict()\n",
    "#print(type(df))\n",
    "\n",
    "for i in df:\n",
    "        if i ==sport_in:\n",
    "            print(df[sport_in])\n",
    "        else:\n",
    "            continue"
   ]
  },
  {
   "cell_type": "markdown",
   "metadata": {
    "id": "f42aIaxigbz3"
   },
   "source": [
    "### Qs.32 Insert the name of every athlete into an array and display the length of that array."
   ]
  },
  {
   "cell_type": "code",
   "execution_count": 998,
   "metadata": {
    "id": "vmuJZpiXgbz3",
    "outputId": "e5e0b33f-b8fb-49d9-f123-2769d7d3eb2c"
   },
   "outputs": [
    {
     "name": "stdout",
     "output_type": "stream",
     "text": [
      "18\n"
     ]
    }
   ],
   "source": [
    "arr=[]\n",
    "fname=Athletes['First Name']\n",
    "lname=Athletes['Last Name']\n",
    "full_name=fname+' '+lname\n",
    "\n",
    "\n",
    "for i in full_name:\n",
    "    arr.append(i)\n",
    "print(len(arr))\n"
   ]
  },
  {
   "cell_type": "markdown",
   "metadata": {
    "id": "NYSvHK6F2t44"
   },
   "source": [
    "### Qs33.Create a list and a tuple. Print the types and lengths of both"
   ]
  },
  {
   "cell_type": "code",
   "execution_count": 1000,
   "metadata": {
    "colab": {
     "base_uri": "https://localhost:8080/"
    },
    "executionInfo": {
     "elapsed": 167,
     "status": "ok",
     "timestamp": 1724275971814,
     "user": {
      "displayName": "Soumi Sen",
      "userId": "06561516563240062837"
     },
     "user_tz": 420
    },
    "id": "FJxObWkK2u-s",
    "outputId": "2865dca0-58b1-4fcd-c5fa-357ae70e1c5b"
   },
   "outputs": [
    {
     "name": "stdout",
     "output_type": "stream",
     "text": [
      "The type of this: <class 'list'> and length of the list is: 4\n",
      "Type of this is:  {<class 'tuple'>} and length of the tuple is:  5\n"
     ]
    }
   ],
   "source": [
    "list=['My','2nd','Python','Hackathon']\n",
    "print(f\"The type of this:\", type(list) ,\"and length of the list is:\", len(list))\n",
    "\n",
    "tuple=('Python','Hackathon','is','in','progress')\n",
    "print(f\"Type of this is: \",{type(tuple)},\"and length of the tuple is: \", len(tuple))"
   ]
  },
  {
   "cell_type": "markdown",
   "metadata": {
    "id": "sRBquXRc25nA"
   },
   "source": [
    "### Qs34 Display a word cloud using any values in the dataset"
   ]
  },
  {
   "cell_type": "code",
   "execution_count": 1002,
   "metadata": {
    "colab": {
     "base_uri": "https://localhost:8080/",
     "height": 307
    },
    "executionInfo": {
     "elapsed": 1207,
     "status": "ok",
     "timestamp": 1724304090784,
     "user": {
      "displayName": "Soumi Sen",
      "userId": "06561516563240062837"
     },
     "user_tz": 420
    },
    "id": "2yYlHILT3GI5",
    "outputId": "884ddc00-71d8-4611-f143-1be6b07dcad3"
   },
   "outputs": [
    {
     "data": {
      "image/png": "[encoded data removed]",
      "text/plain": [
       "<Figure size 640x480 with 1 Axes>"
      ]
     },
     "metadata": {},
     "output_type": "display_data"
    }
   ],
   "source": [
    "# iterate through the Athletes data frame\n",
    "for Name in Athletes.iterrows():\n",
    "\n",
    "  # typecaste each First Name to string\n",
    "  #first_names = str(Athletes['First Name'])\n",
    "   first_names = Athletes['First Name'].to_string()\n",
    "\n",
    "wordcloud = wc.WordCloud(width=400, height=200, background_color='black').generate(first_names)\n",
    "\n",
    "#plt.figure(figsize=(12, 8))\n",
    "plt.imshow(wordcloud, interpolation='bilinear')\n",
    "plt.title('Word Cloud for Athletes First Name')\n",
    "plt.axis('off')\n",
    "plt.show()"
   ]
  },
  {
   "cell_type": "markdown",
   "metadata": {
    "id": "JqXtFQMV3WxI"
   },
   "source": [
    "### Qs35 Create a Regression Plot on Max V02 and mean BMI for any sport of your choice"
   ]
  },
  {
   "cell_type": "code",
   "execution_count": 1004,
   "metadata": {
    "colab": {
     "base_uri": "https://localhost:8080/",
     "height": 546
    },
    "executionInfo": {
     "elapsed": 1531,
     "status": "ok",
     "timestamp": 1724276667768,
     "user": {
      "displayName": "Soumi Sen",
      "userId": "06561516563240062837"
     },
     "user_tz": 420
    },
    "id": "kUSnc4Ba3X8y",
    "outputId": "3057bcb9-cafb-447c-e4ac-7107f0489c48"
   },
   "outputs": [
    {
     "data": {
      "text/plain": [
       "<Figure size 1200x800 with 0 Axes>"
      ]
     },
     "metadata": {},
     "output_type": "display_data"
    },
    {
     "data": {
      "image/png": "[encoded data removed]",
      "text/plain": [
       "<Figure size 500x500 with 1 Axes>"
      ]
     },
     "metadata": {},
     "output_type": "display_data"
    }
   ],
   "source": [
    "# store sum of VO2 by grouping on ID\n",
    "sum_vo2=Kayaking.groupby('ID')['VO2'].sum()\n",
    "\n",
    "# merge to get ALL deTils\n",
    "df1=pd.merge(sum_vo2,Athletes,on='ID',how='inner')[['ID','VO2','sport','Weight','Height']]\n",
    "# itterate through for loop to get MAX VO2 and BMI\n",
    "for index, row in df1.iterrows():\n",
    "\n",
    "        df1.at[index, 'max_vo2'] = round(df1.at[index, 'VO2']/df1.at[index, 'Weight'],2)\n",
    "        df1.at[index, 'BMI'] = round(df1.at[index, 'Weight']/((df1.at[index, 'Height']/100)**2),2)\n",
    "#print(df1)\n",
    "plt.figure(figsize=(12,8))\n",
    "sns.lmplot(x ='BMI', y ='max_vo2', data = df1)\n",
    "sns.set_style('whitegrid')\n",
    "plt.title('Regression Plot of Max V02 and BMI for Kayaking')\n",
    "plt.show()\n",
    "\n"
   ]
  },
  {
   "cell_type": "markdown",
   "metadata": {
    "id": "ikf7o3YE5wNH"
   },
   "source": [
    "### Qs36 Plot the time series of HR( every 5 mins) of athlete 1"
   ]
  },
  {
   "cell_type": "code",
   "execution_count": 1006,
   "metadata": {
    "colab": {
     "base_uri": "https://localhost:8080/",
     "height": 651
    },
    "executionInfo": {
     "elapsed": 631,
     "status": "ok",
     "timestamp": 1724277534148,
     "user": {
      "displayName": "Soumi Sen",
      "userId": "06561516563240062837"
     },
     "user_tz": 420
    },
    "id": "6QBVDFA95xFW",
    "outputId": "7188cec4-52b0-4976-fb31-c3228346ac15"
   },
   "outputs": [
    {
     "name": "stdout",
     "output_type": "stream",
     "text": [
      "      ID     time      HR\n",
      "0      1  619.388  194.81\n",
      "1      1  619.700  192.31\n",
      "2      1  620.012  192.31\n",
      "3      1  620.320  194.81\n",
      "4      1  620.632  192.31\n",
      "...   ..      ...     ...\n",
      "1711   1   27.488  107.14\n",
      "1712   1    0.912   65.79\n",
      "1713   1    1.620   84.75\n",
      "1714   1    2.276   91.46\n",
      "1715   1    2.952   88.76\n",
      "\n",
      "[1716 rows x 3 columns]\n",
      "time\n",
      "0 days 00:00:00.912000    135.897267\n",
      "0 days 00:05:00.912000    176.800489\n",
      "0 days 00:10:00.912000    192.844386\n",
      "Freq: 5min, Name: HR, dtype: float64\n"
     ]
    },
    {
     "data": {
      "image/png": "[encoded data removed]",
      "text/plain": [
       "<Figure size 1000x600 with 1 Axes>"
      ]
     },
     "metadata": {},
     "output_type": "display_data"
    }
   ],
   "source": [
    "# here I considered only GET test HR values\n",
    "\n",
    "df_ath1=merged_sports.loc[(merged_sports['ID']==1) & (merged_sports['stage']=='Get')][['ID','time','HR']].reset_index().drop('index',axis=1)\n",
    "print(df_ath1)\n",
    "\n",
    "df_ath1['time'] = pd.to_timedelta(df_ath1['time'],unit='s')\n",
    "\n",
    "df_ath1.set_index('time', inplace=True)\n",
    "\n",
    "#print(df_ath1)\n",
    "# Resample the data to 5-minute intervals, calculating the mean HR in each interval\n",
    "df_ath1_resampled = df_ath1['HR'].resample('5T').mean()\n",
    "\n",
    "print(df_ath1_resampled)\n",
    "\n",
    "plt.figure(figsize=(10, 6))\n",
    "plt.plot(df_ath1_resampled, marker='o', linestyle='-')\n",
    "plt.title('Heart Rate (HR) of Athlete 1 Every 5 Minutes')\n",
    "plt.xlabel('Time')\n",
    "plt.ylabel('Heart Rate')\n",
    "plt.grid(True)\n",
    "plt.show()\n"
   ]
  },
  {
   "cell_type": "markdown",
   "metadata": {
    "id": "_F0VAAua-J_I"
   },
   "source": [
    "### Qs37 What was the maximum power achieved in terms of watts, which participant achieved it? Display name, sport and watts."
   ]
  },
  {
   "cell_type": "code",
   "execution_count": 1008,
   "metadata": {
    "colab": {
     "base_uri": "https://localhost:8080/",
     "height": 227
    },
    "executionInfo": {
     "elapsed": 169,
     "status": "ok",
     "timestamp": 1724278391604,
     "user": {
      "displayName": "Soumi Sen",
      "userId": "06561516563240062837"
     },
     "user_tz": 420
    },
    "id": "Jt9EW8Jh-LLL",
    "outputId": "87db736c-d445-4855-f4c8-31b70a7b504c"
   },
   "outputs": [
    {
     "name": "stdout",
     "output_type": "stream",
     "text": [
      "The maximum power achieved by:\n"
     ]
    },
    {
     "data": {
      "text/plain": [
       "First Name    Isabella\n",
       "Last Name      Griffin\n",
       "sport            kayak\n",
       "power              335\n",
       "Name: 0, dtype: object"
      ]
     },
     "execution_count": 1008,
     "metadata": {},
     "output_type": "execute_result"
    }
   ],
   "source": [
    "# get the maximum power\n",
    "result=All_sports.loc[All_sports['power']==All_sports['power'].max()]\n",
    "#print(result)\n",
    "# merge the data for other details\n",
    "result1=pd.merge(result,Athletes,on='ID',how='inner')[['First Name','Last Name','sport','power']]\n",
    "print(\"The maximum power achieved by:\")\n",
    "result1.iloc[0]"
   ]
  },
  {
   "cell_type": "markdown",
   "metadata": {
    "id": "xOgtEH8QAK6j"
   },
   "source": [
    "### Qs38: What is the average difference in IBI during the warm up Vs the actual test?"
   ]
  },
  {
   "cell_type": "code",
   "execution_count": 1010,
   "metadata": {
    "colab": {
     "base_uri": "https://localhost:8080/"
    },
    "executionInfo": {
     "elapsed": 160,
     "status": "ok",
     "timestamp": 1724278775942,
     "user": {
      "displayName": "Soumi Sen",
      "userId": "06561516563240062837"
     },
     "user_tz": 420
    },
    "id": "eX8osZx2AMx_",
    "outputId": "5f0a4e1c-aa91-411d-e9ba-cff7300f819b"
   },
   "outputs": [
    {
     "name": "stdout",
     "output_type": "stream",
     "text": [
      "The average difference in IBI during the warm up Vs the actual test is : 357.77\n"
     ]
    }
   ],
   "source": [
    "# Get the average IBI/RR by stage\n",
    "avg_IBI=merged_sports.groupby('stage')['RR'].mean()\n",
    "#print(avg_IBI)\n",
    "print(\"The average difference in IBI during the warm up Vs the actual test is :\" ,round(avg_IBI['Warm up']-avg_IBI['Get'],2))"
   ]
  },
  {
   "cell_type": "markdown",
   "metadata": {
    "id": "i2IDpeWyB36-"
   },
   "source": [
    "### Qs39 Print out what's in indexes 7, 10, and 3 for the array. [1, 2, 3, 4, 5,6,7,8,9,10]"
   ]
  },
  {
   "cell_type": "code",
   "execution_count": 1012,
   "metadata": {
    "colab": {
     "base_uri": "https://localhost:8080/"
    },
    "executionInfo": {
     "elapsed": 164,
     "status": "ok",
     "timestamp": 1724278915525,
     "user": {
      "displayName": "Soumi Sen",
      "userId": "06561516563240062837"
     },
     "user_tz": 420
    },
    "id": "0XL0Ixl3B5B9",
    "outputId": "44aab3c5-8afb-4715-c0ea-801d596bcde8"
   },
   "outputs": [
    {
     "name": "stdout",
     "output_type": "stream",
     "text": [
      "8\n",
      "4\n"
     ]
    }
   ],
   "source": [
    "array=np.array([1, 2, 3, 4, 5,6,7,8,9,10])\n",
    "print(array[7])\n",
    "#print(array[10])  #Index 10 will give error as indexes starting from 0-9 for this array\n",
    "print(array[3])"
   ]
  },
  {
   "cell_type": "markdown",
   "metadata": {
    "id": "SWARaIgsCL7f"
   },
   "source": [
    "### Qs.40  [ 1,  2,  3,  4,  5],[ 6,  7,  8,  9, 10],[11, 12, 13, 14, 15],[16, 17, 18, 19, 20],[21, 22, 23, 24, 25],[26, 27, 28, 29, 30]  Use array slicing to display elements 1,3,5. If the value is less than 4 display it as 99"
   ]
  },
  {
   "cell_type": "code",
   "execution_count": 1014,
   "metadata": {
    "colab": {
     "base_uri": "https://localhost:8080/"
    },
    "executionInfo": {
     "elapsed": 160,
     "status": "ok",
     "timestamp": 1724278986849,
     "user": {
      "displayName": "Soumi Sen",
      "userId": "06561516563240062837"
     },
     "user_tz": 420
    },
    "id": "7bWpp9-nCN9v",
    "outputId": "3f8782bc-31b5-4e0f-cea8-e4e01543d8d2"
   },
   "outputs": [
    {
     "name": "stdout",
     "output_type": "stream",
     "text": [
      "1 3 5\n",
      "[[99 99 99  4  5]\n",
      " [ 6  7  8  9 10]\n",
      " [11 12 13 14 15]\n",
      " [16 17 18 19 20]\n",
      " [21 22 23 24 25]\n",
      " [26 27 28 29 30]]\n"
     ]
    }
   ],
   "source": [
    "my_array=np.array([[ 1,  2,  3,  4,  5],\n",
    "       [ 6,  7,  8,  9, 10],\n",
    "       [11, 12, 13, 14, 15],\n",
    "       [16, 17, 18, 19, 20],\n",
    "       [21, 22, 23, 24, 25],\n",
    "       [26,27,28,29, 30] ] )\n",
    "\n",
    "print(my_array[0][0],my_array[0][2],my_array[0][4])\n",
    "\n",
    "for i in range(6):\n",
    "  for j in range(5):\n",
    "    if my_array[i][j]<4:\n",
    "      my_array[i][j]=99\n",
    "print(my_array)"
   ]
  },
  {
   "cell_type": "markdown",
   "metadata": {
    "id": "fj9Z4lbOChDM"
   },
   "source": [
    "### Qs41 What was lowest wattage achieved at the end of a test and by which participant? Display name, sport and watts."
   ]
  },
  {
   "cell_type": "code",
   "execution_count": 1016,
   "metadata": {
    "colab": {
     "base_uri": "https://localhost:8080/"
    },
    "executionInfo": {
     "elapsed": 166,
     "status": "ok",
     "timestamp": 1724279311317,
     "user": {
      "displayName": "Soumi Sen",
      "userId": "06561516563240062837"
     },
     "user_tz": 420
    },
    "id": "aEOJJG7sCjfs",
    "outputId": "a46abe4a-0825-4f45-bd6a-e06db1d4f290"
   },
   "outputs": [
    {
     "name": "stdout",
     "output_type": "stream",
     "text": [
      "The lowest wattage achieved at the end of a test by:        2\n",
      "   Ethan\n",
      "Reynolds\n",
      " fencing\n",
      "     140\n"
     ]
    }
   ],
   "source": [
    "# here considering only GET values\n",
    "GET_test=merged_sports.loc[merged_sports['stage']=='Get']\n",
    "\n",
    "# get the end time\n",
    "end_of_test=GET_test.groupby('ID')['time'].max()\n",
    "\n",
    "#print(end_of_test)\n",
    "wattage=pd.merge(end_of_test,GET_test,on=['ID','time'],how='inner')[['ID','First Name','Last Name','sport','power']].sort_values(by='power')\n",
    "#print(wattage)\n",
    "print(\"The lowest wattage achieved at the end of a test by:\" ,wattage.loc[wattage['power']==wattage['power'].min()].iloc[0].to_string(index=False))"
   ]
  },
  {
   "cell_type": "markdown",
   "metadata": {
    "id": "yODBmkUnD-Qz"
   },
   "source": [
    "### Qs42 What was the difference in heart rate between warm up and GET for athlete 1"
   ]
  },
  {
   "cell_type": "code",
   "execution_count": 1018,
   "metadata": {
    "colab": {
     "base_uri": "https://localhost:8080/"
    },
    "executionInfo": {
     "elapsed": 162,
     "status": "ok",
     "timestamp": 1724279791305,
     "user": {
      "displayName": "Soumi Sen",
      "userId": "06561516563240062837"
     },
     "user_tz": 420
    },
    "id": "L9eQ1ExgExIN",
    "outputId": "742d493e-8e48-4cf6-a4ed-42e16c9180f9"
   },
   "outputs": [
    {
     "name": "stdout",
     "output_type": "stream",
     "text": [
      "                   HR\n",
      "stage                \n",
      "Get        162.524242\n",
      "Warm up     79.986590\n",
      "cool down   75.000000\n",
      "The difference in heart rate between warm up and GET for athlete 1 is:  -82.53765282886668\n"
     ]
    }
   ],
   "source": [
    "#\n",
    "df_ath1_HRinfo=merged_sports.loc[( merged_sports['ID']==1) & (merged_sports['stage'] !='Cool down')][['stage','HR']]\n",
    "print(df_ath1_HRinfo.groupby('stage').mean())\n",
    "print(\"The difference in heart rate between warm up and GET for athlete 1 is: \",df_ath1_HRinfo.groupby('stage').mean().iloc[1,0]-df_ath1_HRinfo.groupby('stage').mean().iloc[0,0])\n"
   ]
  },
  {
   "cell_type": "markdown",
   "metadata": {
    "id": "_xHUkcnjFrg9"
   },
   "source": [
    "### Qs43 Create a pivot table that shows count of patients within each age group and sport"
   ]
  },
  {
   "cell_type": "code",
   "execution_count": 1020,
   "metadata": {
    "colab": {
     "base_uri": "https://localhost:8080/",
     "height": 331
    },
    "executionInfo": {
     "elapsed": 167,
     "status": "ok",
     "timestamp": 1724279886440,
     "user": {
      "displayName": "Soumi Sen",
      "userId": "06561516563240062837"
     },
     "user_tz": 420
    },
    "id": "7gW_gZhqFskj",
    "outputId": "88deffb3-f46e-4e74-fca3-2f003aab0c2c"
   },
   "outputs": [
    {
     "data": {
      "text/html": [
       "<div>\n",
       "<style scoped>\n",
       "    .dataframe tbody tr th:only-of-type {\n",
       "        vertical-align: middle;\n",
       "    }\n",
       "\n",
       "    .dataframe tbody tr th {\n",
       "        vertical-align: top;\n",
       "    }\n",
       "\n",
       "    .dataframe thead th {\n",
       "        text-align: right;\n",
       "    }\n",
       "</style>\n",
       "<table border=\"1\" class=\"dataframe\">\n",
       "  <thead>\n",
       "    <tr style=\"text-align: right;\">\n",
       "      <th>sport</th>\n",
       "      <th>fencing</th>\n",
       "      <th>kayak</th>\n",
       "      <th>triathlon</th>\n",
       "      <th>All</th>\n",
       "    </tr>\n",
       "    <tr>\n",
       "      <th>age</th>\n",
       "      <th></th>\n",
       "      <th></th>\n",
       "      <th></th>\n",
       "      <th></th>\n",
       "    </tr>\n",
       "  </thead>\n",
       "  <tbody>\n",
       "    <tr>\n",
       "      <th>12</th>\n",
       "      <td>NaN</td>\n",
       "      <td>NaN</td>\n",
       "      <td>2.0</td>\n",
       "      <td>2</td>\n",
       "    </tr>\n",
       "    <tr>\n",
       "      <th>13</th>\n",
       "      <td>NaN</td>\n",
       "      <td>2.0</td>\n",
       "      <td>NaN</td>\n",
       "      <td>2</td>\n",
       "    </tr>\n",
       "    <tr>\n",
       "      <th>14</th>\n",
       "      <td>2.0</td>\n",
       "      <td>NaN</td>\n",
       "      <td>NaN</td>\n",
       "      <td>2</td>\n",
       "    </tr>\n",
       "    <tr>\n",
       "      <th>15</th>\n",
       "      <td>4.0</td>\n",
       "      <td>NaN</td>\n",
       "      <td>NaN</td>\n",
       "      <td>4</td>\n",
       "    </tr>\n",
       "    <tr>\n",
       "      <th>16</th>\n",
       "      <td>2.0</td>\n",
       "      <td>1.0</td>\n",
       "      <td>NaN</td>\n",
       "      <td>3</td>\n",
       "    </tr>\n",
       "    <tr>\n",
       "      <th>17</th>\n",
       "      <td>2.0</td>\n",
       "      <td>NaN</td>\n",
       "      <td>NaN</td>\n",
       "      <td>2</td>\n",
       "    </tr>\n",
       "    <tr>\n",
       "      <th>18</th>\n",
       "      <td>NaN</td>\n",
       "      <td>3.0</td>\n",
       "      <td>NaN</td>\n",
       "      <td>3</td>\n",
       "    </tr>\n",
       "    <tr>\n",
       "      <th>All</th>\n",
       "      <td>10.0</td>\n",
       "      <td>6.0</td>\n",
       "      <td>2.0</td>\n",
       "      <td>18</td>\n",
       "    </tr>\n",
       "  </tbody>\n",
       "</table>\n",
       "</div>"
      ],
      "text/plain": [
       "sport  fencing  kayak  triathlon  All\n",
       "age                                  \n",
       "12         NaN    NaN        2.0    2\n",
       "13         NaN    2.0        NaN    2\n",
       "14         2.0    NaN        NaN    2\n",
       "15         4.0    NaN        NaN    4\n",
       "16         2.0    1.0        NaN    3\n",
       "17         2.0    NaN        NaN    2\n",
       "18         NaN    3.0        NaN    3\n",
       "All       10.0    6.0        2.0   18"
      ]
     },
     "execution_count": 1020,
     "metadata": {},
     "output_type": "execute_result"
    }
   ],
   "source": [
    "Athletes.pivot_table(columns=\"sport\", index=\"age\", values=\"ID\", aggfunc=\"count\", margins=\"True\")\n"
   ]
  },
  {
   "cell_type": "markdown",
   "metadata": {
    "id": "xGD_jpMzF0FV"
   },
   "source": [
    "### Qs44 Display a distrubution chart of MAX V02 for all athletes"
   ]
  },
  {
   "cell_type": "code",
   "execution_count": 1022,
   "metadata": {
    "colab": {
     "base_uri": "https://localhost:8080/",
     "height": 802
    },
    "executionInfo": {
     "elapsed": 728,
     "status": "ok",
     "timestamp": 1724304234872,
     "user": {
      "displayName": "Soumi Sen",
      "userId": "06561516563240062837"
     },
     "user_tz": 420
    },
    "id": "xjHJhD8xF3xT",
    "outputId": "b1186853-afde-4903-a0da-bd88a81bdea8"
   },
   "outputs": [
    {
     "name": "stdout",
     "output_type": "stream",
     "text": [
      "    ID  VO2_max\n",
      "0    1    42.81\n",
      "1    2    38.63\n",
      "2    3    69.71\n",
      "3    4    76.99\n",
      "4    5    86.74\n",
      "5    6    71.68\n",
      "6    7    38.40\n",
      "7    8    44.82\n",
      "8    9    49.70\n",
      "9   10    55.12\n",
      "10  11    89.59\n",
      "11  12    92.26\n",
      "12  13    90.76\n",
      "13  14    54.87\n",
      "14  15    66.94\n",
      "15  16    69.66\n",
      "16  17    73.79\n",
      "17  18    81.21\n"
     ]
    },
    {
     "data": {
      "image/png": "[encoded data removed]",
      "text/plain": [
       "<Figure size 640x480 with 1 Axes>"
      ]
     },
     "metadata": {},
     "output_type": "display_data"
    }
   ],
   "source": [
    "sum_VO2=merged_sports.groupby('ID')['VO2'].sum()\n",
    "#print(sum_VO2)\n",
    "\n",
    "sum_VO2_max=pd.merge(sum_VO2,Athletes,on='ID',how='inner')[['ID','VO2','Weight']]\n",
    "sum_VO2_max['VO2_max']=round(sum_VO2_max['VO2']/sum_VO2_max['Weight'],2)\n",
    "max_vo2_by_athlete=sum_VO2_max[['ID','VO2_max']]\n",
    "print(max_vo2_by_athlete)\n",
    "\n",
    "#sns.histplot(max_vo2_by_athlete, kde=True, bins=20, color='blue')\n",
    "sns.distplot(max_vo2_by_athlete['VO2_max'], kde=True, bins=20, color='blue')\n",
    "plt.title('Distribution Chart of MAX V02 for all athletes')\n",
    "plt.show()"
   ]
  },
  {
   "cell_type": "markdown",
   "metadata": {
    "id": "QhbCJv6ZLla5"
   },
   "source": [
    "### Qs45 Create a dummy array with no data with a size of 15."
   ]
  },
  {
   "cell_type": "code",
   "execution_count": 1024,
   "metadata": {
    "colab": {
     "base_uri": "https://localhost:8080/"
    },
    "executionInfo": {
     "elapsed": 158,
     "status": "ok",
     "timestamp": 1724281509048,
     "user": {
      "displayName": "Soumi Sen",
      "userId": "06561516563240062837"
     },
     "user_tz": 420
    },
    "id": "gQvqFzNiLm8O",
    "outputId": "8097d85b-e26a-4518-fbc2-374997fcd5ed"
   },
   "outputs": [
    {
     "name": "stdout",
     "output_type": "stream",
     "text": [
      "[2.10077583e-312 8.48798321e-314 1.27319747e-313 1.69759663e-313\n",
      " 2.12199579e-313 2.54639495e-313 2.97079411e-313 3.39519327e-313\n",
      " 3.81959242e-313 4.24399158e-313 4.66839074e-313 5.09278990e-313\n",
      " 5.51718906e-313 5.94158822e-313 6.36598737e-313]\n"
     ]
    }
   ],
   "source": [
    "# Create a dummy array with a size of 15\n",
    "dummy_array = np.empty(15)\n",
    "\n",
    "print(dummy_array)"
   ]
  },
  {
   "cell_type": "markdown",
   "metadata": {
    "id": "IxD3mhqtL_Nu"
   },
   "source": [
    "### Qs46 How many minutes did participant 15s exercise last and what was the total V02 max consumed during the test?"
   ]
  },
  {
   "cell_type": "code",
   "execution_count": 1026,
   "metadata": {
    "colab": {
     "base_uri": "https://localhost:8080/"
    },
    "executionInfo": {
     "elapsed": 163,
     "status": "ok",
     "timestamp": 1724282037919,
     "user": {
      "displayName": "Soumi Sen",
      "userId": "06561516563240062837"
     },
     "user_tz": 420
    },
    "id": "VNMEp3NlMG7Q",
    "outputId": "feb733fb-fbdd-4245-f96a-c6c243d234bb"
   },
   "outputs": [
    {
     "name": "stdout",
     "output_type": "stream",
     "text": [
      "Participant 15's exercise last for: 805.26 seconds\n",
      "The total V02 max consumed during the test is: 56.63316544070866\n"
     ]
    }
   ],
   "source": [
    "df_ath15_info=merged_sports.loc[(merged_sports['ID']==15) & (merged_sports['stage']=='Get')].reset_index().drop('index',axis=1)[['time','VO2','Weight']]\n",
    "#print(df_ath15_info)\n",
    "print(\"Participant 15's exercise last for:\",df_ath15_info.iloc[-1]['time'],\"seconds\")\n",
    "VO2_MAX=df_ath15_info['VO2'].sum()/df_ath15_info['Weight']\n",
    "print(\"The total V02 max consumed during the test is:\",VO2_MAX.iloc[1])"
   ]
  },
  {
   "cell_type": "markdown",
   "metadata": {
    "id": "rvy5dHaeODNW"
   },
   "source": [
    "\n",
    "### Qs 47 Convert ' sport' into a numeric field through Label encoding"
   ]
  },
  {
   "cell_type": "code",
   "execution_count": 1028,
   "metadata": {
    "colab": {
     "base_uri": "https://localhost:8080/",
     "height": 613
    },
    "executionInfo": {
     "elapsed": 831,
     "status": "ok",
     "timestamp": 1724282080571,
     "user": {
      "displayName": "Soumi Sen",
      "userId": "06561516563240062837"
     },
     "user_tz": 420
    },
    "id": "UN5a34i8OEZz",
    "outputId": "9c6a6742-31d6-4ed6-ad52-4a27d46aa89c"
   },
   "outputs": [
    {
     "data": {
      "text/html": [
       "<div>\n",
       "<style scoped>\n",
       "    .dataframe tbody tr th:only-of-type {\n",
       "        vertical-align: middle;\n",
       "    }\n",
       "\n",
       "    .dataframe tbody tr th {\n",
       "        vertical-align: top;\n",
       "    }\n",
       "\n",
       "    .dataframe thead th {\n",
       "        text-align: right;\n",
       "    }\n",
       "</style>\n",
       "<table border=\"1\" class=\"dataframe\">\n",
       "  <thead>\n",
       "    <tr style=\"text-align: right;\">\n",
       "      <th></th>\n",
       "      <th>ID</th>\n",
       "      <th>age</th>\n",
       "      <th>Weight</th>\n",
       "      <th>Height</th>\n",
       "      <th>P_vt1</th>\n",
       "      <th>P_vt2</th>\n",
       "      <th>sport</th>\n",
       "      <th>Gender</th>\n",
       "      <th>Ethnicity</th>\n",
       "      <th>First Name</th>\n",
       "      <th>Last Name</th>\n",
       "      <th>DOB</th>\n",
       "      <th>BMI</th>\n",
       "      <th>sport_LabelEncoding</th>\n",
       "    </tr>\n",
       "  </thead>\n",
       "  <tbody>\n",
       "    <tr>\n",
       "      <th>0</th>\n",
       "      <td>1</td>\n",
       "      <td>15</td>\n",
       "      <td>53.7</td>\n",
       "      <td>161</td>\n",
       "      <td>50</td>\n",
       "      <td>140</td>\n",
       "      <td>fencing</td>\n",
       "      <td>Female</td>\n",
       "      <td>African</td>\n",
       "      <td>Olivia</td>\n",
       "      <td>Martinez</td>\n",
       "      <td>2009</td>\n",
       "      <td>20.716793</td>\n",
       "      <td>0</td>\n",
       "    </tr>\n",
       "    <tr>\n",
       "      <th>1</th>\n",
       "      <td>2</td>\n",
       "      <td>15</td>\n",
       "      <td>56.2</td>\n",
       "      <td>162</td>\n",
       "      <td>80</td>\n",
       "      <td>127</td>\n",
       "      <td>fencing</td>\n",
       "      <td>Male</td>\n",
       "      <td>African</td>\n",
       "      <td>Ethan</td>\n",
       "      <td>Reynolds</td>\n",
       "      <td>2009</td>\n",
       "      <td>21.414419</td>\n",
       "      <td>0</td>\n",
       "    </tr>\n",
       "    <tr>\n",
       "      <th>2</th>\n",
       "      <td>3</td>\n",
       "      <td>16</td>\n",
       "      <td>89.9</td>\n",
       "      <td>191</td>\n",
       "      <td>155</td>\n",
       "      <td>300</td>\n",
       "      <td>fencing</td>\n",
       "      <td>Male</td>\n",
       "      <td>White</td>\n",
       "      <td>Jackson</td>\n",
       "      <td>Harper</td>\n",
       "      <td>2008</td>\n",
       "      <td>24.642965</td>\n",
       "      <td>0</td>\n",
       "    </tr>\n",
       "    <tr>\n",
       "      <th>3</th>\n",
       "      <td>4</td>\n",
       "      <td>16</td>\n",
       "      <td>76.5</td>\n",
       "      <td>180</td>\n",
       "      <td>215</td>\n",
       "      <td>275</td>\n",
       "      <td>fencing</td>\n",
       "      <td>Male</td>\n",
       "      <td>White</td>\n",
       "      <td>Liam</td>\n",
       "      <td>Sanchez</td>\n",
       "      <td>2008</td>\n",
       "      <td>23.611111</td>\n",
       "      <td>0</td>\n",
       "    </tr>\n",
       "    <tr>\n",
       "      <th>4</th>\n",
       "      <td>5</td>\n",
       "      <td>17</td>\n",
       "      <td>76.4</td>\n",
       "      <td>186</td>\n",
       "      <td>110</td>\n",
       "      <td>172</td>\n",
       "      <td>fencing</td>\n",
       "      <td>Female</td>\n",
       "      <td>White</td>\n",
       "      <td>Ava</td>\n",
       "      <td>Thompson</td>\n",
       "      <td>2007</td>\n",
       "      <td>22.083478</td>\n",
       "      <td>0</td>\n",
       "    </tr>\n",
       "    <tr>\n",
       "      <th>5</th>\n",
       "      <td>6</td>\n",
       "      <td>17</td>\n",
       "      <td>65.6</td>\n",
       "      <td>169</td>\n",
       "      <td>131</td>\n",
       "      <td>186</td>\n",
       "      <td>fencing</td>\n",
       "      <td>Female</td>\n",
       "      <td>White</td>\n",
       "      <td>Sophia</td>\n",
       "      <td>Rodriguez</td>\n",
       "      <td>2007</td>\n",
       "      <td>22.968383</td>\n",
       "      <td>0</td>\n",
       "    </tr>\n",
       "    <tr>\n",
       "      <th>6</th>\n",
       "      <td>7</td>\n",
       "      <td>15</td>\n",
       "      <td>49.8</td>\n",
       "      <td>165</td>\n",
       "      <td>65</td>\n",
       "      <td>108</td>\n",
       "      <td>fencing</td>\n",
       "      <td>Female</td>\n",
       "      <td>White</td>\n",
       "      <td>Grace</td>\n",
       "      <td>Simmons</td>\n",
       "      <td>2009</td>\n",
       "      <td>18.292011</td>\n",
       "      <td>0</td>\n",
       "    </tr>\n",
       "    <tr>\n",
       "      <th>7</th>\n",
       "      <td>8</td>\n",
       "      <td>15</td>\n",
       "      <td>51.2</td>\n",
       "      <td>165</td>\n",
       "      <td>80</td>\n",
       "      <td>133</td>\n",
       "      <td>fencing</td>\n",
       "      <td>Female</td>\n",
       "      <td>White</td>\n",
       "      <td>Aiden</td>\n",
       "      <td>Bennett</td>\n",
       "      <td>2009</td>\n",
       "      <td>18.806244</td>\n",
       "      <td>0</td>\n",
       "    </tr>\n",
       "    <tr>\n",
       "      <th>8</th>\n",
       "      <td>9</td>\n",
       "      <td>14</td>\n",
       "      <td>57.1</td>\n",
       "      <td>176</td>\n",
       "      <td>50</td>\n",
       "      <td>125</td>\n",
       "      <td>fencing</td>\n",
       "      <td>Female</td>\n",
       "      <td>African</td>\n",
       "      <td>Chloe</td>\n",
       "      <td>Price</td>\n",
       "      <td>2010</td>\n",
       "      <td>18.433626</td>\n",
       "      <td>0</td>\n",
       "    </tr>\n",
       "    <tr>\n",
       "      <th>9</th>\n",
       "      <td>10</td>\n",
       "      <td>14</td>\n",
       "      <td>58.8</td>\n",
       "      <td>177</td>\n",
       "      <td>101</td>\n",
       "      <td>162</td>\n",
       "      <td>fencing</td>\n",
       "      <td>Female</td>\n",
       "      <td>African</td>\n",
       "      <td>Lily</td>\n",
       "      <td>Jordan</td>\n",
       "      <td>2010</td>\n",
       "      <td>18.768553</td>\n",
       "      <td>0</td>\n",
       "    </tr>\n",
       "    <tr>\n",
       "      <th>10</th>\n",
       "      <td>11</td>\n",
       "      <td>18</td>\n",
       "      <td>84.8</td>\n",
       "      <td>182</td>\n",
       "      <td>174</td>\n",
       "      <td>268</td>\n",
       "      <td>kayak</td>\n",
       "      <td>Female</td>\n",
       "      <td>African</td>\n",
       "      <td>Isabella</td>\n",
       "      <td>Griffin</td>\n",
       "      <td>2006</td>\n",
       "      <td>25.600773</td>\n",
       "      <td>1</td>\n",
       "    </tr>\n",
       "    <tr>\n",
       "      <th>11</th>\n",
       "      <td>12</td>\n",
       "      <td>18</td>\n",
       "      <td>86.0</td>\n",
       "      <td>183</td>\n",
       "      <td>170</td>\n",
       "      <td>294</td>\n",
       "      <td>kayak</td>\n",
       "      <td>Male</td>\n",
       "      <td>African</td>\n",
       "      <td>Caleb</td>\n",
       "      <td>Dixon</td>\n",
       "      <td>2006</td>\n",
       "      <td>25.680074</td>\n",
       "      <td>1</td>\n",
       "    </tr>\n",
       "    <tr>\n",
       "      <th>12</th>\n",
       "      <td>13</td>\n",
       "      <td>18</td>\n",
       "      <td>83.9</td>\n",
       "      <td>183</td>\n",
       "      <td>144</td>\n",
       "      <td>267</td>\n",
       "      <td>kayak</td>\n",
       "      <td>Female</td>\n",
       "      <td>Asian</td>\n",
       "      <td>Mia</td>\n",
       "      <td>Carpenter</td>\n",
       "      <td>2006</td>\n",
       "      <td>25.053002</td>\n",
       "      <td>1</td>\n",
       "    </tr>\n",
       "    <tr>\n",
       "      <th>13</th>\n",
       "      <td>14</td>\n",
       "      <td>13</td>\n",
       "      <td>62.3</td>\n",
       "      <td>171</td>\n",
       "      <td>140</td>\n",
       "      <td>170</td>\n",
       "      <td>kayak</td>\n",
       "      <td>Female</td>\n",
       "      <td>Asian</td>\n",
       "      <td>Harper</td>\n",
       "      <td>Mitchell</td>\n",
       "      <td>2011</td>\n",
       "      <td>21.305701</td>\n",
       "      <td>1</td>\n",
       "    </tr>\n",
       "    <tr>\n",
       "      <th>14</th>\n",
       "      <td>15</td>\n",
       "      <td>13</td>\n",
       "      <td>63.5</td>\n",
       "      <td>172</td>\n",
       "      <td>125</td>\n",
       "      <td>156</td>\n",
       "      <td>kayak</td>\n",
       "      <td>Male</td>\n",
       "      <td>Latino</td>\n",
       "      <td>Mason</td>\n",
       "      <td>Wallace</td>\n",
       "      <td>2011</td>\n",
       "      <td>21.464305</td>\n",
       "      <td>1</td>\n",
       "    </tr>\n",
       "    <tr>\n",
       "      <th>15</th>\n",
       "      <td>16</td>\n",
       "      <td>16</td>\n",
       "      <td>70.4</td>\n",
       "      <td>182</td>\n",
       "      <td>79</td>\n",
       "      <td>175</td>\n",
       "      <td>kayak</td>\n",
       "      <td>Male</td>\n",
       "      <td>Latino</td>\n",
       "      <td>Logan</td>\n",
       "      <td>Anderson</td>\n",
       "      <td>2008</td>\n",
       "      <td>21.253472</td>\n",
       "      <td>1</td>\n",
       "    </tr>\n",
       "    <tr>\n",
       "      <th>16</th>\n",
       "      <td>17</td>\n",
       "      <td>12</td>\n",
       "      <td>39.9</td>\n",
       "      <td>156</td>\n",
       "      <td>101</td>\n",
       "      <td>145</td>\n",
       "      <td>triathlon</td>\n",
       "      <td>Male</td>\n",
       "      <td>Latino</td>\n",
       "      <td>Lucas</td>\n",
       "      <td>Foster</td>\n",
       "      <td>2012</td>\n",
       "      <td>16.395464</td>\n",
       "      <td>2</td>\n",
       "    </tr>\n",
       "    <tr>\n",
       "      <th>17</th>\n",
       "      <td>18</td>\n",
       "      <td>12</td>\n",
       "      <td>39.7</td>\n",
       "      <td>158</td>\n",
       "      <td>65</td>\n",
       "      <td>168</td>\n",
       "      <td>triathlon</td>\n",
       "      <td>Male</td>\n",
       "      <td>Latino</td>\n",
       "      <td>Owen</td>\n",
       "      <td>Myers</td>\n",
       "      <td>2012</td>\n",
       "      <td>15.902900</td>\n",
       "      <td>2</td>\n",
       "    </tr>\n",
       "  </tbody>\n",
       "</table>\n",
       "</div>"
      ],
      "text/plain": [
       "    ID  age  Weight  Height  P_vt1  P_vt2      sport  Gender Ethnicity  \\\n",
       "0    1   15    53.7     161     50    140    fencing  Female   African   \n",
       "1    2   15    56.2     162     80    127    fencing    Male   African   \n",
       "2    3   16    89.9     191    155    300    fencing    Male     White   \n",
       "3    4   16    76.5     180    215    275    fencing    Male     White   \n",
       "4    5   17    76.4     186    110    172    fencing  Female     White   \n",
       "5    6   17    65.6     169    131    186    fencing  Female     White   \n",
       "6    7   15    49.8     165     65    108    fencing  Female     White   \n",
       "7    8   15    51.2     165     80    133    fencing  Female     White   \n",
       "8    9   14    57.1     176     50    125    fencing  Female   African   \n",
       "9   10   14    58.8     177    101    162    fencing  Female   African   \n",
       "10  11   18    84.8     182    174    268      kayak  Female   African   \n",
       "11  12   18    86.0     183    170    294      kayak    Male   African   \n",
       "12  13   18    83.9     183    144    267      kayak  Female     Asian   \n",
       "13  14   13    62.3     171    140    170      kayak  Female     Asian   \n",
       "14  15   13    63.5     172    125    156      kayak    Male    Latino   \n",
       "15  16   16    70.4     182     79    175      kayak    Male    Latino   \n",
       "16  17   12    39.9     156    101    145  triathlon    Male    Latino   \n",
       "17  18   12    39.7     158     65    168  triathlon    Male    Latino   \n",
       "\n",
       "   First Name  Last Name   DOB        BMI  sport_LabelEncoding  \n",
       "0      Olivia   Martinez  2009  20.716793                    0  \n",
       "1       Ethan   Reynolds  2009  21.414419                    0  \n",
       "2     Jackson     Harper  2008  24.642965                    0  \n",
       "3        Liam    Sanchez  2008  23.611111                    0  \n",
       "4         Ava   Thompson  2007  22.083478                    0  \n",
       "5      Sophia  Rodriguez  2007  22.968383                    0  \n",
       "6       Grace    Simmons  2009  18.292011                    0  \n",
       "7       Aiden    Bennett  2009  18.806244                    0  \n",
       "8       Chloe      Price  2010  18.433626                    0  \n",
       "9        Lily     Jordan  2010  18.768553                    0  \n",
       "10   Isabella    Griffin  2006  25.600773                    1  \n",
       "11      Caleb      Dixon  2006  25.680074                    1  \n",
       "12        Mia  Carpenter  2006  25.053002                    1  \n",
       "13     Harper   Mitchell  2011  21.305701                    1  \n",
       "14      Mason    Wallace  2011  21.464305                    1  \n",
       "15      Logan   Anderson  2008  21.253472                    1  \n",
       "16      Lucas     Foster  2012  16.395464                    2  \n",
       "17       Owen      Myers  2012  15.902900                    2  "
      ]
     },
     "execution_count": 1028,
     "metadata": {},
     "output_type": "execute_result"
    }
   ],
   "source": [
    "from sklearn.preprocessing import LabelEncoder\n",
    "le=LabelEncoder()\n",
    "Athletes['sport_LabelEncoding']=le.fit_transform(Athletes['sport'])\n",
    "Athletes"
   ]
  },
  {
   "cell_type": "markdown",
   "metadata": {
    "id": "XVCKLJ-wOOWZ"
   },
   "source": [
    "### Qs48 What was the average age of the athletes?"
   ]
  },
  {
   "cell_type": "code",
   "execution_count": 1030,
   "metadata": {
    "colab": {
     "base_uri": "https://localhost:8080/"
    },
    "executionInfo": {
     "elapsed": 160,
     "status": "ok",
     "timestamp": 1724282185582,
     "user": {
      "displayName": "Soumi Sen",
      "userId": "06561516563240062837"
     },
     "user_tz": 420
    },
    "id": "yEfRrQREORIO",
    "outputId": "8c4bc542-cf43-4604-8d4c-78583138198f"
   },
   "outputs": [
    {
     "name": "stdout",
     "output_type": "stream",
     "text": [
      "The average age of the Athletes is:  15.22\n"
     ]
    }
   ],
   "source": [
    "print(\"The average age of the Athletes is: \",  round(Athletes['age'].mean(),2))"
   ]
  },
  {
   "cell_type": "markdown",
   "metadata": {
    "id": "l5SU4V44gbz5"
   },
   "source": [
    "### Qs 49. Retrieve the row with minimum IBI for fencing athletes using sorting technique."
   ]
  },
  {
   "cell_type": "code",
   "execution_count": 1032,
   "metadata": {
    "id": "qs2tNmZvgbz5",
    "outputId": "82678015-a85b-4d02-8480-0cb33813fbf7"
   },
   "outputs": [
    {
     "name": "stdout",
     "output_type": "stream",
     "text": [
      "Row with minimum IBI value for Fencing athletes is:\n"
     ]
    },
    {
     "data": {
      "text/html": [
       "<div>\n",
       "<style scoped>\n",
       "    .dataframe tbody tr th:only-of-type {\n",
       "        vertical-align: middle;\n",
       "    }\n",
       "\n",
       "    .dataframe tbody tr th {\n",
       "        vertical-align: top;\n",
       "    }\n",
       "\n",
       "    .dataframe thead th {\n",
       "        text-align: right;\n",
       "    }\n",
       "</style>\n",
       "<table border=\"1\" class=\"dataframe\">\n",
       "  <thead>\n",
       "    <tr style=\"text-align: right;\">\n",
       "      <th></th>\n",
       "      <th>ID</th>\n",
       "      <th>time</th>\n",
       "      <th>RR</th>\n",
       "      <th>VO2</th>\n",
       "      <th>power</th>\n",
       "    </tr>\n",
       "  </thead>\n",
       "  <tbody>\n",
       "    <tr>\n",
       "      <th>19582</th>\n",
       "      <td>7</td>\n",
       "      <td>596.372</td>\n",
       "      <td>252</td>\n",
       "      <td>1.293014</td>\n",
       "      <td>155</td>\n",
       "    </tr>\n",
       "  </tbody>\n",
       "</table>\n",
       "</div>"
      ],
      "text/plain": [
       "       ID     time   RR       VO2  power\n",
       "19582   7  596.372  252  1.293014    155"
      ]
     },
     "execution_count": 1032,
     "metadata": {},
     "output_type": "execute_result"
    }
   ],
   "source": [
    "#RR interval is also referred to as IBI.\n",
    "print(\"Row with minimum IBI value for Fencing athletes is:\")\n",
    "Fencing.sort_values(by='RR').head(1)"
   ]
  },
  {
   "cell_type": "markdown",
   "metadata": {
    "id": "kRKy5zDagbz5"
   },
   "source": [
    "### Qs 50. Create a violin chart using any 2 columns in the dataset"
   ]
  },
  {
   "cell_type": "code",
   "execution_count": 1034,
   "metadata": {
    "id": "Y6Vle2Gzgbz5",
    "outputId": "7248edac-cf06-41ed-c435-65156402098d"
   },
   "outputs": [
    {
     "data": {
      "image/png": "[encoded data removed]",
      "text/plain": [
       "<Figure size 640x480 with 1 Axes>"
      ]
     },
     "metadata": {},
     "output_type": "display_data"
    }
   ],
   "source": [
    "#plt.figure(figsize=(12,8))\n",
    "sns.violinplot(x='sport', y='age', data=Athletes) #x & y coordinates and dataset to be used for violin chart\n",
    "#Genderwise distribution of age across sports\n",
    "#sns.violinplot(x='sport', y='age', data=Athletes, hue='Gender',split=True,palette='Blues')\n",
    "plt.title(\"Distribution of Age Across Sports\",fontsize=15) #title of chart &fontsize\n",
    "plt.xlabel(\"Sport\",fontsize=12) #x axis label & fontsize\n",
    "plt.ylabel(\"Age\",fontsize=12) # y axis label &fontsize\n",
    "plt.show()"
   ]
  },
  {
   "cell_type": "markdown",
   "metadata": {
    "id": "Cd3ARzvxgbz5"
   },
   "source": [
    "### Qs 51. List every athlete’s V02 ml/kg"
   ]
  },
  {
   "cell_type": "code",
   "execution_count": 1036,
   "metadata": {
    "id": "hR6Bu5u2gbz6",
    "outputId": "d62cdc57-7aa3-4667-8642-be55ec2f66b0"
   },
   "outputs": [
    {
     "data": {
      "text/html": [
       "<div>\n",
       "<style scoped>\n",
       "    .dataframe tbody tr th:only-of-type {\n",
       "        vertical-align: middle;\n",
       "    }\n",
       "\n",
       "    .dataframe tbody tr th {\n",
       "        vertical-align: top;\n",
       "    }\n",
       "\n",
       "    .dataframe thead th {\n",
       "        text-align: right;\n",
       "    }\n",
       "</style>\n",
       "<table border=\"1\" class=\"dataframe\">\n",
       "  <thead>\n",
       "    <tr style=\"text-align: right;\">\n",
       "      <th></th>\n",
       "      <th>ID</th>\n",
       "      <th>First Name</th>\n",
       "      <th>Last Name</th>\n",
       "      <th>VO2mlperkg</th>\n",
       "    </tr>\n",
       "  </thead>\n",
       "  <tbody>\n",
       "    <tr>\n",
       "      <th>0</th>\n",
       "      <td>1</td>\n",
       "      <td>Olivia</td>\n",
       "      <td>Martinez</td>\n",
       "      <td>42.81</td>\n",
       "    </tr>\n",
       "    <tr>\n",
       "      <th>1</th>\n",
       "      <td>2</td>\n",
       "      <td>Ethan</td>\n",
       "      <td>Reynolds</td>\n",
       "      <td>38.63</td>\n",
       "    </tr>\n",
       "    <tr>\n",
       "      <th>2</th>\n",
       "      <td>3</td>\n",
       "      <td>Jackson</td>\n",
       "      <td>Harper</td>\n",
       "      <td>69.71</td>\n",
       "    </tr>\n",
       "    <tr>\n",
       "      <th>3</th>\n",
       "      <td>4</td>\n",
       "      <td>Liam</td>\n",
       "      <td>Sanchez</td>\n",
       "      <td>76.99</td>\n",
       "    </tr>\n",
       "    <tr>\n",
       "      <th>4</th>\n",
       "      <td>5</td>\n",
       "      <td>Ava</td>\n",
       "      <td>Thompson</td>\n",
       "      <td>86.74</td>\n",
       "    </tr>\n",
       "    <tr>\n",
       "      <th>5</th>\n",
       "      <td>6</td>\n",
       "      <td>Sophia</td>\n",
       "      <td>Rodriguez</td>\n",
       "      <td>71.68</td>\n",
       "    </tr>\n",
       "    <tr>\n",
       "      <th>6</th>\n",
       "      <td>7</td>\n",
       "      <td>Grace</td>\n",
       "      <td>Simmons</td>\n",
       "      <td>38.40</td>\n",
       "    </tr>\n",
       "    <tr>\n",
       "      <th>7</th>\n",
       "      <td>8</td>\n",
       "      <td>Aiden</td>\n",
       "      <td>Bennett</td>\n",
       "      <td>44.82</td>\n",
       "    </tr>\n",
       "    <tr>\n",
       "      <th>8</th>\n",
       "      <td>9</td>\n",
       "      <td>Chloe</td>\n",
       "      <td>Price</td>\n",
       "      <td>49.70</td>\n",
       "    </tr>\n",
       "    <tr>\n",
       "      <th>9</th>\n",
       "      <td>10</td>\n",
       "      <td>Lily</td>\n",
       "      <td>Jordan</td>\n",
       "      <td>55.12</td>\n",
       "    </tr>\n",
       "    <tr>\n",
       "      <th>10</th>\n",
       "      <td>11</td>\n",
       "      <td>Isabella</td>\n",
       "      <td>Griffin</td>\n",
       "      <td>89.59</td>\n",
       "    </tr>\n",
       "    <tr>\n",
       "      <th>11</th>\n",
       "      <td>12</td>\n",
       "      <td>Caleb</td>\n",
       "      <td>Dixon</td>\n",
       "      <td>92.26</td>\n",
       "    </tr>\n",
       "    <tr>\n",
       "      <th>12</th>\n",
       "      <td>13</td>\n",
       "      <td>Mia</td>\n",
       "      <td>Carpenter</td>\n",
       "      <td>90.76</td>\n",
       "    </tr>\n",
       "    <tr>\n",
       "      <th>13</th>\n",
       "      <td>14</td>\n",
       "      <td>Harper</td>\n",
       "      <td>Mitchell</td>\n",
       "      <td>54.87</td>\n",
       "    </tr>\n",
       "    <tr>\n",
       "      <th>14</th>\n",
       "      <td>15</td>\n",
       "      <td>Mason</td>\n",
       "      <td>Wallace</td>\n",
       "      <td>66.94</td>\n",
       "    </tr>\n",
       "    <tr>\n",
       "      <th>15</th>\n",
       "      <td>16</td>\n",
       "      <td>Logan</td>\n",
       "      <td>Anderson</td>\n",
       "      <td>69.66</td>\n",
       "    </tr>\n",
       "    <tr>\n",
       "      <th>16</th>\n",
       "      <td>17</td>\n",
       "      <td>Lucas</td>\n",
       "      <td>Foster</td>\n",
       "      <td>73.79</td>\n",
       "    </tr>\n",
       "    <tr>\n",
       "      <th>17</th>\n",
       "      <td>18</td>\n",
       "      <td>Owen</td>\n",
       "      <td>Myers</td>\n",
       "      <td>81.21</td>\n",
       "    </tr>\n",
       "  </tbody>\n",
       "</table>\n",
       "</div>"
      ],
      "text/plain": [
       "    ID First Name  Last Name  VO2mlperkg\n",
       "0    1     Olivia   Martinez       42.81\n",
       "1    2      Ethan   Reynolds       38.63\n",
       "2    3    Jackson     Harper       69.71\n",
       "3    4       Liam    Sanchez       76.99\n",
       "4    5        Ava   Thompson       86.74\n",
       "5    6     Sophia  Rodriguez       71.68\n",
       "6    7      Grace    Simmons       38.40\n",
       "7    8      Aiden    Bennett       44.82\n",
       "8    9      Chloe      Price       49.70\n",
       "9   10       Lily     Jordan       55.12\n",
       "10  11   Isabella    Griffin       89.59\n",
       "11  12      Caleb      Dixon       92.26\n",
       "12  13        Mia  Carpenter       90.76\n",
       "13  14     Harper   Mitchell       54.87\n",
       "14  15      Mason    Wallace       66.94\n",
       "15  16      Logan   Anderson       69.66\n",
       "16  17      Lucas     Foster       73.79\n",
       "17  18       Owen      Myers       81.21"
      ]
     },
     "execution_count": 1036,
     "metadata": {},
     "output_type": "execute_result"
    }
   ],
   "source": [
    "# Adding all VO2 values for each athlete\n",
    "vO2_sum=All_sports.groupby(['ID'])['VO2'].sum()\n",
    "#print(vO2_sum_df)\n",
    "\n",
    "#Inner join on VO2sum and athletes based on ID and writing the specific values to a new dataframe\n",
    "athletenew_df=pd.merge(Athletes,vO2_sum, on='ID', how='inner')[['ID','First Name','Last Name','Weight','Height','sport','VO2']]\n",
    "#print(athletenew_df)\n",
    "\n",
    "\n",
    "#Calculating VO2ml/kg for each athlete and writing it to the dataframe\n",
    "athletenew_df['VO2mlperkg']=(athletenew_df['VO2']/athletenew_df['Weight']).round(2)\n",
    "#print(athletenew_df)\n",
    "\n",
    "#Printing the 2 values from the dataframe\n",
    "athletenew_df[['ID','First Name','Last Name','VO2mlperkg']]"
   ]
  },
  {
   "cell_type": "markdown",
   "metadata": {
    "id": "zxBYDIyegbz6"
   },
   "source": [
    "### Qs 52. Using all markers of fitness available to you, who is fittest athlete. Write 1-2 lines about the analysis that led to your insight."
   ]
  },
  {
   "cell_type": "markdown",
   "metadata": {
    "id": "dxln08mWgbz6"
   },
   "source": [
    "VO2max is the most relevant measure of fitness for evaluating an athlete's endurance and cardiovascular health. Higher VO2max values generally indicate better cardiovascular and respiratory efficiency, which is crucial for endurance sports. Athlete 12, Caleb Dixon has the highest VO2max of 92.26 ml/kg. Hence athlete 12 is the fittest athlete."
   ]
  },
  {
   "cell_type": "markdown",
   "metadata": {
    "id": "eUu07J8agbz6"
   },
   "source": [
    "### Qs 53. phonebook={\"john\":938477566,\"Jack\":938377264,\"Jill\":947662781} ,find the phone number of Jill"
   ]
  },
  {
   "cell_type": "code",
   "execution_count": 1040,
   "metadata": {
    "id": "-S8kNpT8gbz6",
    "outputId": "7d82711a-aad1-4251-cd52-9dc9adbac31c"
   },
   "outputs": [
    {
     "name": "stdout",
     "output_type": "stream",
     "text": [
      "Jill - 947662781\n"
     ]
    }
   ],
   "source": [
    "phonebook = {\n",
    "    \"john\":938477566,\n",
    "    \"Jack\":938377264,\n",
    "    \"Jill\":947662781\n",
    "}\n",
    "\n",
    "#checking if key is present in dictionary and printing the corresponding value\n",
    "if \"Jill\" in phonebook:\n",
    "    print(f'Jill - {phonebook[\"Jill\"]}')\n",
    "else:\n",
    "    print(\"Jill is not listed in the phonebook\")"
   ]
  },
  {
   "cell_type": "markdown",
   "metadata": {
    "id": "C85bXMCrgbz6"
   },
   "source": [
    "### Qs 54. Create a Pie chart for Athletes and explode the widge with Highest V02 kg/ml in and Label by Athlete ID"
   ]
  },
  {
   "cell_type": "code",
   "execution_count": 1042,
   "metadata": {
    "id": "WZG5VmTmgbz6",
    "outputId": "afa604ff-4b70-4819-867b-120a9984f303"
   },
   "outputs": [
    {
     "data": {
      "image/png": "[encoded data removed]",
      "text/plain": [
       "<Figure size 640x480 with 1 Axes>"
      ]
     },
     "metadata": {},
     "output_type": "display_data"
    }
   ],
   "source": [
    "#athletenew_df\n",
    "\n",
    "# Finding the index of the highest VO2 value\n",
    "vo2_max_index = athletenew_df['VO2mlperkg'].idxmax()\n",
    "#print(vo2_max_index)\n",
    "\n",
    "# Define explode array with 0.2 for the slice with the maximum VO2\n",
    "explodes = [0.2 if max == vo2_max_index else 0 for max in range(len(athletenew_df))]\n",
    "\n",
    "# Creates pie chart\n",
    "#plt.figure(figsize=(10, 8))\n",
    "plt.pie(athletenew_df['VO2mlperkg'], explode=explodes, labels=athletenew_df['ID'])\n",
    "plt.title('VO2ml/kg of Athletes', fontsize=14)\n",
    "plt.show()"
   ]
  },
  {
   "cell_type": "markdown",
   "metadata": {
    "id": "jVCX6u6xgbz6"
   },
   "source": [
    "### Qs 55. Using a for loop iterate through HR for all trathletes and display all details of the athlete with the highest heart rate"
   ]
  },
  {
   "cell_type": "code",
   "execution_count": 1044,
   "metadata": {
    "id": "hvvl7xi6gbz6",
    "outputId": "d3d0b37d-ddcf-4fa8-995a-d86778937daf"
   },
   "outputs": [
    {
     "name": "stdout",
     "output_type": "stream",
     "text": [
      "      ID First Name Last Name  age Gender  Weight  Height  Heartrate\n",
      "4152  18       Owen     Myers   12   Male    39.7     158     197.37\n"
     ]
    }
   ],
   "source": [
    "#60/(RR/1000) will give you Heart rate per minute\n",
    "tr_heartrate=(60/(Triathlon['RR']/1000)).round(2) ## Calculating the heart rate from RR value\n",
    "\n",
    "#Writing the triathlon dataframe to a new dataframe and adding the heartrate to the new dataframe\n",
    "triathlon_new=Triathlon\n",
    "triathlon_new['Heartrate']=tr_heartrate\n",
    "\n",
    "#print(triathlon_new)\n",
    "\n",
    "#Getting the maximum heartrate of each athlete\n",
    "hr_id=triathlon_new.groupby(['ID'])['Heartrate'].max()\n",
    "#print(hr_id)\n",
    "\n",
    "hr_dict=hr_id.to_dict()\n",
    "#print(hr_dict)\n",
    "\n",
    "highhr=0\n",
    "\n",
    "# finding the highest heartrate from all athletes\n",
    "for number in hr_id:\n",
    "    if number>highhr:\n",
    "        highhr=number\n",
    "#print(highhr)\n",
    "\n",
    "#Merging the triathlon_new and athletes table to get the details of the athletes\n",
    "athlete_tri=pd.merge(triathlon_new,Athletes,on='ID',how='inner')\n",
    "#print(athlete_tri)\n",
    "\n",
    "#printing the details of the athlete with the highest heartrate\n",
    "athlete_det=athlete_tri[(athlete_tri['Heartrate']==highhr)]\n",
    "#print(f\"Athlete ID: {athlete_det['ID']}\\n Athlete Name: {athlete_det['First Name']} {athlete_det['Last Name']}\\n Age: {athlete_det['age']}\\n Gender: {athlete_det['Gender']}\\n Weight: {athlete_det['Weight']}\\n Height: {athlete_det['Height']}\\n Sport: {athlete_det['sport']}\\n Heart Rate: {athlete_det['Heartrate']}\")\n",
    "print(athlete_det[['ID','First Name','Last Name','age','Gender','Weight','Height','Heartrate']])"
   ]
  },
  {
   "cell_type": "markdown",
   "metadata": {
    "id": "6qUxKEABgbz6"
   },
   "source": [
    "### Qs 56. Display a histogram to show distribution of athletes by sport."
   ]
  },
  {
   "cell_type": "code",
   "execution_count": 1046,
   "metadata": {
    "id": "VTGu59N4gbz6",
    "outputId": "ae225455-3611-4e59-b4b2-e41f89045ff9"
   },
   "outputs": [
    {
     "data": {
      "image/png": "[encoded data removed]",
      "text/plain": [
       "<Figure size 640x480 with 1 Axes>"
      ]
     },
     "metadata": {},
     "output_type": "display_data"
    }
   ],
   "source": [
    "#plt.figure(figsize=(10,8))\n",
    "plt.hist(Athletes['sport'],bins=3,color='purple',edgecolor='black')\n",
    "plt.xlabel(\"Sport\",fontsize=15)\n",
    "plt.ylabel(\"Count of Athletes\",fontsize=15)\n",
    "plt.title(\"Distribution of Athletes By Sport\",fontsize=16)\n",
    "plt.show()"
   ]
  },
  {
   "cell_type": "markdown",
   "metadata": {
    "id": "NOR8QC2Egbz6"
   },
   "source": [
    "### Qs 57. Get the first letter of last name of students using for loops and RegEX"
   ]
  },
  {
   "cell_type": "code",
   "execution_count": 1048,
   "metadata": {
    "id": "s7zNCwhvgbz6",
    "outputId": "aadd2496-3662-41f8-88ef-efdd4e903823"
   },
   "outputs": [
    {
     "name": "stdout",
     "output_type": "stream",
     "text": [
      "First letter of last name in 'Olivia Martinez'  is  M\n",
      "First letter of last name in 'Ethan Reynolds'  is  R\n",
      "First letter of last name in 'Jackson Harper'  is  H\n",
      "First letter of last name in 'Liam Sanchez'  is  S\n"
     ]
    }
   ],
   "source": [
    "\n",
    "Names = [\"Olivia Martinez\", \"Ethan Reynolds\", \"Jackson Harper\", \"Liam Sanchez\"]\n",
    "\n",
    "for name in Names:\n",
    "     #Using regex to match the last name after the blank space\n",
    "     match = re.search(r'\\b(\\w+)$', name)\n",
    "\n",
    "     if match:\n",
    "        # Extracting the first letter of the last name\n",
    "        first_letter = match.group(1)[0]\n",
    "        print(f\"First letter of last name in '{name}'  is  {first_letter}\")\n",
    "     else:\n",
    "        print(\"No last name found\")"
   ]
  },
  {
   "cell_type": "markdown",
   "metadata": {
    "id": "3RBfPyivgbz6"
   },
   "source": [
    "### Qs 58. What is the average % difference in heart rate between warm up and GET for all athletes?"
   ]
  },
  {
   "cell_type": "code",
   "execution_count": 1050,
   "metadata": {
    "id": "b7xhiRQsgbz6",
    "outputId": "c1a56875-b9c8-4767-b44e-1c05c685c0f3"
   },
   "outputs": [
    {
     "name": "stdout",
     "output_type": "stream",
     "text": [
      "stage         Get    Warm up  cool down    Diff HR\n",
      "ID                                                \n",
      "1      162.524242  79.986590      75.00  82.537653\n",
      "2      154.913218  66.853112      63.56  88.060106\n",
      "3      142.223221  79.782881      87.72  62.440339\n",
      "4      152.314551  91.995891      98.04  60.318660\n",
      "5      152.723375  80.976878      99.34  71.746497\n",
      "6      143.087561  69.492370      88.24  73.595191\n",
      "7      155.782105  83.641833     100.67  72.140272\n",
      "8      146.861512  67.542228      91.46  79.319285\n",
      "9      164.819213  89.687714      98.68  75.131499\n",
      "10     155.917431  78.849619      90.36  77.067812\n",
      "11     144.753626  87.210840      94.94  57.542786\n",
      "12     147.688619  83.592540      73.53  64.096080\n",
      "13     147.577860  90.186788      85.71  57.391071\n",
      "14     148.920067  78.368061      56.82  70.552006\n",
      "15     151.592592  75.705240      85.23  75.887352\n",
      "16     151.615054  81.778924      96.77  69.836130\n",
      "17     152.170669  79.896333      80.65  72.274335\n",
      "18     156.140258  71.021698      84.27  85.118560\n",
      "\n",
      "The average difference in heart rate between warm up and GET for all athletes is:  71.95\n"
     ]
    }
   ],
   "source": [
    "# Filter and get only the GET and Warmup data and group them by ID\n",
    "ath1_HRinfo=merged_sports.loc[merged_sports['stage'] !='Cool down'].groupby(['ID','stage'])['HR'].mean()\n",
    "#print(ath1_HRinfo)\n",
    "ath1_HRinfo=ath1_HRinfo.unstack()\n",
    "#print(ath1_HRinfo)\n",
    "ath1_HRinfo['Diff HR']=ath1_HRinfo['Get']-ath1_HRinfo['Warm up']\n",
    "print(ath1_HRinfo)\n",
    "print()\n",
    "print(\"The average difference in heart rate between warm up and GET for all athletes is: \",round(ath1_HRinfo['Diff HR'].mean(),2))"
   ]
  },
  {
   "cell_type": "markdown",
   "metadata": {
    "id": "8xMoebgtgbz6"
   },
   "source": [
    "### Qs 59. Who is the tallest athlete in the dataset. What is his sport and his Vo2 ml/kg?"
   ]
  },
  {
   "cell_type": "code",
   "execution_count": 1052,
   "metadata": {
    "id": "QzN7Vj0dgbz7",
    "outputId": "a1125f6d-ce0c-47d1-b471-cde1f8f05c66"
   },
   "outputs": [
    {
     "name": "stdout",
     "output_type": "stream",
     "text": [
      "Athlete ID: 3 \n",
      "Name: Jackson Harper\n",
      "Height: 191\n",
      "VO2ml/kg:69.71\n",
      "Sport: fencing\n"
     ]
    }
   ],
   "source": [
    "#print(Athletes)\n",
    "#print(athletenew_df)\n",
    "\n",
    "# Finding the index of the tallest athlete\n",
    "tallathlete_index = athletenew_df['Height'].idxmax()\n",
    "\n",
    "# Getting details of the tallest athlete\n",
    "tallest_athlete = athletenew_df.loc[tallathlete_index]\n",
    "\n",
    "print(f\"Athlete ID: {tallest_athlete['ID']} \\nName: {tallest_athlete['First Name']} {tallest_athlete['Last Name']}\\nHeight: {tallest_athlete['Height']}\\nVO2ml/kg:{tallest_athlete['VO2mlperkg']}\\nSport: {tallest_athlete['sport']}\" )"
   ]
  },
  {
   "cell_type": "markdown",
   "metadata": {
    "id": "nAuXLbbjgbz7"
   },
   "source": [
    "### Qs 60. Get the last letter of athletes last names using RegEX ."
   ]
  },
  {
   "cell_type": "code",
   "execution_count": 1054,
   "metadata": {
    "id": "ZM1jEEGNgbz7",
    "outputId": "ca45b2eb-37f7-4000-9fac-9611873b353b"
   },
   "outputs": [
    {
     "name": "stdout",
     "output_type": "stream",
     "text": [
      "Last Names are : \n",
      " 0      Martinez\n",
      "1      Reynolds\n",
      "2        Harper\n",
      "3       Sanchez\n",
      "4      Thompson\n",
      "5     Rodriguez\n",
      "6       Simmons\n",
      "7       Bennett\n",
      "8         Price\n",
      "9        Jordan\n",
      "10      Griffin\n",
      "11        Dixon\n",
      "12    Carpenter\n",
      "13     Mitchell\n",
      "14      Wallace\n",
      "15     Anderson\n",
      "16       Foster\n",
      "17        Myers\n",
      "Name: Last Name, dtype: object\n",
      " Last Letters in Last Names are ['z', 's', 'r', 'z', 'n', 'z', 's', 't', 'e', 'n', 'n', 'n', 'r', 'l', 'e', 'n', 'r', 's']\n"
     ]
    }
   ],
   "source": [
    "last_letter = [] # Initializing an empty list to store the last letters of the last names\n",
    "\n",
    "# Using for loop to iterate over the list of  names\n",
    "for last_name in Athletes['Last Name']:\n",
    "    # Extracting the last letter using regex\n",
    "    match = re.search(r'(\\w)\\b$', last_name)\n",
    "    if match:\n",
    "        last_letter.append(match.group(1))\n",
    "print(f\"Last Names are : \\n {Athletes['Last Name']}\")\n",
    "print(f\" Last Letters in Last Names are {last_letter}\")"
   ]
  },
  {
   "cell_type": "markdown",
   "metadata": {
    "id": "rjulyXw-gbz7"
   },
   "source": [
    "### Qs 61. Reverse an arrays order in Python. You can use any array with any values you like."
   ]
  },
  {
   "cell_type": "code",
   "execution_count": 1056,
   "metadata": {
    "id": "ClspHbSBgbz7",
    "outputId": "cb85a684-14e0-420c-df76-601b7fe201cd"
   },
   "outputs": [
    {
     "name": "stdout",
     "output_type": "stream",
     "text": [
      " The reverse of array [10, 20, 30, 40, 50, 60, 70] is :\n",
      "[70, 60, 50, 40, 30, 20, 10]\n"
     ]
    }
   ],
   "source": [
    "numbers=[10,20,30,40,50,60,70]\n",
    "print(f\" The reverse of array {numbers} is :\")\n",
    "print(numbers[::-1]) #printing in reverse order using negative index"
   ]
  },
  {
   "cell_type": "markdown",
   "metadata": {
    "id": "cbEIY3nBgbz7"
   },
   "source": [
    "### Qs 62. What is the root mean of successive differences for 30 consecutive minutes for each athlete."
   ]
  },
  {
   "cell_type": "code",
   "execution_count": 1058,
   "metadata": {
    "id": "rttC8Mbugbz7"
   },
   "outputs": [],
   "source": [
    "#result =  merged_sports.groupby(['ID']).apply(lambda x: np.sqrt(np.mean(np.square(np.diff(merged_sports['RR'])))))\n",
    "#result"
   ]
  },
  {
   "cell_type": "code",
   "execution_count": 1059,
   "metadata": {
    "id": "lUUiaSBWgbz7",
    "outputId": "27e76b3f-9910-42bd-d431-d01bdf98e934"
   },
   "outputs": [
    {
     "name": "stdout",
     "output_type": "stream",
     "text": [
      "                          ID     RR       VO2  power      stage  age  Weight  \\\n",
      "time                                                                           \n",
      "-1 days +23:57:49.160000   1  672.0  0.302008      0    Warm up   15    53.7   \n",
      "-1 days +23:57:49.832000   1  672.0  0.302008      0    Warm up   15    53.7   \n",
      "-1 days +23:57:50.464000   1  632.0  0.301336      0    Warm up   15    53.7   \n",
      "-1 days +23:57:51.176000   1  712.0  0.301336      0    Warm up   15    53.7   \n",
      "-1 days +23:57:52.052000   1  876.0  0.301336      0    Warm up   15    53.7   \n",
      "...                       ..    ...       ...    ...        ...  ...     ...   \n",
      "0 days 00:15:47.288000    18  536.0  0.507071      0  Cool down   12    39.7   \n",
      "0 days 00:15:47.816000    18  528.0  0.507071      0  Cool down   12    39.7   \n",
      "0 days 00:15:48.344000    18  528.0  0.507071      0  Cool down   12    39.7   \n",
      "0 days 00:15:48.884000    18  540.0  0.507071      0  Cool down   12    39.7   \n",
      "0 days 00:15:49.424000    18  540.0  0.507071      0  Cool down   12    39.7   \n",
      "\n",
      "                          Height  P_vt1  P_vt2      sport  Gender Ethnicity  \\\n",
      "time                                                                          \n",
      "-1 days +23:57:49.160000     161     50    140    fencing  Female   African   \n",
      "-1 days +23:57:49.832000     161     50    140    fencing  Female   African   \n",
      "-1 days +23:57:50.464000     161     50    140    fencing  Female   African   \n",
      "-1 days +23:57:51.176000     161     50    140    fencing  Female   African   \n",
      "-1 days +23:57:52.052000     161     50    140    fencing  Female   African   \n",
      "...                          ...    ...    ...        ...     ...       ...   \n",
      "0 days 00:15:47.288000       158     65    168  triathlon    Male    Latino   \n",
      "0 days 00:15:47.816000       158     65    168  triathlon    Male    Latino   \n",
      "0 days 00:15:48.344000       158     65    168  triathlon    Male    Latino   \n",
      "0 days 00:15:48.884000       158     65    168  triathlon    Male    Latino   \n",
      "0 days 00:15:49.424000       158     65    168  triathlon    Male    Latino   \n",
      "\n",
      "                         First Name Last Name      HR                 HR_Zone  \\\n",
      "time                                                                            \n",
      "-1 days +23:57:49.160000     Olivia  Martinez   89.29  Zone 1 (recovery/easy)   \n",
      "-1 days +23:57:49.832000     Olivia  Martinez   89.29  Zone 1 (recovery/easy)   \n",
      "-1 days +23:57:50.464000     Olivia  Martinez   94.94  Zone 1 (recovery/easy)   \n",
      "-1 days +23:57:51.176000     Olivia  Martinez   84.27  Zone 1 (recovery/easy)   \n",
      "-1 days +23:57:52.052000     Olivia  Martinez   68.49  Zone 1 (recovery/easy)   \n",
      "...                             ...       ...     ...                     ...   \n",
      "0 days 00:15:47.288000         Owen     Myers  111.94   Zone 2 (Aerobic/base)   \n",
      "0 days 00:15:47.816000         Owen     Myers  113.64   Zone 2 (Aerobic/base)   \n",
      "0 days 00:15:48.344000         Owen     Myers  113.64   Zone 2 (Aerobic/base)   \n",
      "0 days 00:15:48.884000         Owen     Myers  111.11   Zone 2 (Aerobic/base)   \n",
      "0 days 00:15:49.424000         Owen     Myers  111.11   Zone 2 (Aerobic/base)   \n",
      "\n",
      "                          BMI  sport_num  \n",
      "time                                      \n",
      "-1 days +23:57:49.160000  NaN          2  \n",
      "-1 days +23:57:49.832000  NaN          2  \n",
      "-1 days +23:57:50.464000  NaN          2  \n",
      "-1 days +23:57:51.176000  NaN          2  \n",
      "-1 days +23:57:52.052000  NaN          2  \n",
      "...                       ...        ...  \n",
      "0 days 00:15:47.288000    NaN          1  \n",
      "0 days 00:15:47.816000    NaN          1  \n",
      "0 days 00:15:48.344000    NaN          1  \n",
      "0 days 00:15:48.884000    NaN          1  \n",
      "0 days 00:15:49.424000    NaN          1  \n",
      "\n",
      "[52062 rows x 19 columns]\n"
     ]
    }
   ],
   "source": [
    "# Convert the 'time' column to datetime format\n",
    "sports_cpy=merged_sports.copy()\n",
    "sports_cpy['time'] = pd.to_timedelta(sports_cpy['time'],unit='s')\n",
    "\n",
    "# Set the 'time' column as the index\n",
    "sports_cpy.set_index('time', inplace=True)\n",
    "\n",
    "\n",
    "# Sort the DataFrame by 'ID' and 'time'\n",
    "sports_cpy.sort_values(by=['ID', 'time'], inplace=True)\n",
    "print(sports_cpy)\n",
    "# Function to calculate RMSSD for a given HR series\n",
    "\n",
    "def calculate_root_mean(hr_series):\n",
    "    diff = np.diff(hr_series)  # Calculate successive differences\n",
    "    squared_diff = diff ** 2   # Square the differences\n",
    "    mean_squared_diff = np.mean(squared_diff)  # Mean of squared differences\n",
    "    root_mean = np.sqrt(mean_squared_diff)  # Square root of the mean\n",
    "    return root_mean\n",
    "\n",
    "# Group by athlete and resample the time series into 30-minute intervals\n",
    "root_mean_results = sports_cpy.groupby('ID').resample('30T').apply(lambda x: calculate_root_mean(x['HR']))"
   ]
  },
  {
   "cell_type": "markdown",
   "metadata": {
    "id": "f3nF2aalgbz7"
   },
   "source": [
    "### Qs 63. On average how many minutes did each athlete in the sport of fencing spend in Zone 5?"
   ]
  },
  {
   "cell_type": "code",
   "execution_count": 1061,
   "metadata": {
    "id": "1sfgc2sRgbz7",
    "outputId": "2cd55727-0447-43d8-f193-c248413811ad"
   },
   "outputs": [
    {
     "data": {
      "text/html": [
       "<div>\n",
       "<style scoped>\n",
       "    .dataframe tbody tr th:only-of-type {\n",
       "        vertical-align: middle;\n",
       "    }\n",
       "\n",
       "    .dataframe tbody tr th {\n",
       "        vertical-align: top;\n",
       "    }\n",
       "\n",
       "    .dataframe thead th {\n",
       "        text-align: right;\n",
       "    }\n",
       "</style>\n",
       "<table border=\"1\" class=\"dataframe\">\n",
       "  <thead>\n",
       "    <tr style=\"text-align: right;\">\n",
       "      <th></th>\n",
       "      <th>ID</th>\n",
       "      <th>Avg Zone5_time</th>\n",
       "    </tr>\n",
       "  </thead>\n",
       "  <tbody>\n",
       "    <tr>\n",
       "      <th>0</th>\n",
       "      <td>1</td>\n",
       "      <td>8.77</td>\n",
       "    </tr>\n",
       "    <tr>\n",
       "      <th>1</th>\n",
       "      <td>2</td>\n",
       "      <td>6.76</td>\n",
       "    </tr>\n",
       "    <tr>\n",
       "      <th>2</th>\n",
       "      <td>3</td>\n",
       "      <td>17.04</td>\n",
       "    </tr>\n",
       "    <tr>\n",
       "      <th>3</th>\n",
       "      <td>4</td>\n",
       "      <td>17.35</td>\n",
       "    </tr>\n",
       "    <tr>\n",
       "      <th>4</th>\n",
       "      <td>5</td>\n",
       "      <td>14.76</td>\n",
       "    </tr>\n",
       "    <tr>\n",
       "      <th>5</th>\n",
       "      <td>6</td>\n",
       "      <td>13.14</td>\n",
       "    </tr>\n",
       "    <tr>\n",
       "      <th>6</th>\n",
       "      <td>7</td>\n",
       "      <td>8.34</td>\n",
       "    </tr>\n",
       "    <tr>\n",
       "      <th>7</th>\n",
       "      <td>8</td>\n",
       "      <td>9.10</td>\n",
       "    </tr>\n",
       "    <tr>\n",
       "      <th>8</th>\n",
       "      <td>9</td>\n",
       "      <td>8.62</td>\n",
       "    </tr>\n",
       "    <tr>\n",
       "      <th>9</th>\n",
       "      <td>10</td>\n",
       "      <td>10.62</td>\n",
       "    </tr>\n",
       "  </tbody>\n",
       "</table>\n",
       "</div>"
      ],
      "text/plain": [
       "   ID  Avg Zone5_time\n",
       "0   1            8.77\n",
       "1   2            6.76\n",
       "2   3           17.04\n",
       "3   4           17.35\n",
       "4   5           14.76\n",
       "5   6           13.14\n",
       "6   7            8.34\n",
       "7   8            9.10\n",
       "8   9            8.62\n",
       "9  10           10.62"
      ]
     },
     "execution_count": 1061,
     "metadata": {},
     "output_type": "execute_result"
    }
   ],
   "source": [
    "#Extracting records of fencing athletes in zone5\n",
    "zone5_df=merged_sports[(merged_sports['HR_Zone'] == 'Zone 5(AnAerobic)') & (merged_sports['sport']=='fencing')]\n",
    "# Grouping by athletic ID and calculating the average time for each athlete\n",
    "zone5_time=((zone5_df.groupby(['ID'])['time'].mean())/60).round(2).reset_index(name=\"Avg Zone5_time\")\n",
    "zone5_time"
   ]
  },
  {
   "cell_type": "markdown",
   "metadata": {
    "id": "Ky1yOODDgbz7"
   },
   "source": [
    "### Qs 64. Count athletes based on Gender using count plot"
   ]
  },
  {
   "cell_type": "code",
   "execution_count": 1063,
   "metadata": {
    "id": "-RUgmFl6gbz7",
    "outputId": "3e70c9f3-fb65-40e2-b241-b309f561c659"
   },
   "outputs": [
    {
     "data": {
      "image/png": "[encoded data removed]",
      "text/plain": [
       "<Figure size 640x480 with 1 Axes>"
      ]
     },
     "metadata": {},
     "output_type": "display_data"
    }
   ],
   "source": [
    "#plt.figure(figsize=(10,8))\n",
    "sns.countplot(x=\"Gender\",data=Athletes)\n",
    "plt.title(\"Count of Athletes Based On Gender\",fontsize=15)\n",
    "plt.xlabel(\"Gender\",fontsize=12)\n",
    "plt.ylabel(\"Athlete Count\",fontsize=12)\n",
    "plt.show()"
   ]
  },
  {
   "cell_type": "markdown",
   "metadata": {
    "id": "K-m6UHJHjSm9"
   },
   "source": [
    " ### Qs65.  [ 1,  2,  3,  4,  5],[ 6,  7,  8,  9, 10],[11, 12, 13, 14, 15],[16, 17, 18, 19, 20],[21, 22, 23, 24, 25],[26, 27, 28, 29, 30]  Use array slicing to display elements 4,7,10,17."
   ]
  },
  {
   "cell_type": "code",
   "execution_count": 1065,
   "metadata": {
    "colab": {
     "base_uri": "https://localhost:8080/"
    },
    "executionInfo": {
     "elapsed": 334,
     "status": "ok",
     "timestamp": 1724304494493,
     "user": {
      "displayName": "Soumi Sen",
      "userId": "06561516563240062837"
     },
     "user_tz": 420
    },
    "id": "Hze72qwcgbz7",
    "outputId": "4f4b7f9b-4ffd-47c1-a8b9-bed34e433c6d"
   },
   "outputs": [
    {
     "name": "stdout",
     "output_type": "stream",
     "text": [
      "4 , 7 , 10 , 17\n"
     ]
    }
   ],
   "source": [
    "fived_array=np.array([ [ 1,  2,  3,  4,  5],\n",
    "   [ 6,  7,  8,  9, 10],\n",
    "   [11, 12, 13, 14, 15],\n",
    "   [16, 17, 18, 19, 20],\n",
    "   [21, 22, 23, 24, 25],\n",
    "   [26, 27, 28, 29, 30] ])\n",
    "print(fived_array[0][3],\",\",fived_array[1][1],\",\",fived_array[1][4],\",\",fived_array[3][1])"
   ]
  },
  {
   "cell_type": "markdown",
   "metadata": {
    "id": "-mUslSRDjr_W"
   },
   "source": [
    "### Qs66  On average, how long did each participant spend at 200 watts?"
   ]
  },
  {
   "cell_type": "code",
   "execution_count": 1067,
   "metadata": {
    "colab": {
     "base_uri": "https://localhost:8080/"
    },
    "executionInfo": {
     "elapsed": 306,
     "status": "ok",
     "timestamp": 1724304938927,
     "user": {
      "displayName": "Soumi Sen",
      "userId": "06561516563240062837"
     },
     "user_tz": 420
    },
    "id": "k0J5PDtagbz7",
    "outputId": "aacd4da5-5e12-4b09-b8b6-eab58979d066"
   },
   "outputs": [
    {
     "name": "stdout",
     "output_type": "stream",
     "text": [
      "ID\n",
      "3     3.247333\n",
      "4     3.313333\n",
      "5     3.282667\n",
      "6     3.278444\n",
      "9     0.301111\n",
      "10    1.753778\n",
      "11    3.312000\n",
      "12    3.254889\n",
      "13    3.374667\n",
      "14    3.315778\n",
      "15    3.319333\n",
      "16    3.314444\n",
      "18    1.465333\n",
      "Name: time, dtype: float64\n"
     ]
    }
   ],
   "source": [
    "watt_df = All_sports.loc[All_sports['power'] == 200]\n",
    "watt_df_byID = watt_df.groupby(['ID'])\n",
    "watt_diff=watt_df_byID['time'].max()-watt_df_byID['time'].min()\n",
    "A=len(pd.unique(All_sports['ID']))\n",
    "print(watt_diff/A)"
   ]
  },
  {
   "cell_type": "markdown",
   "metadata": {
    "id": "wD-lvHFMldJm"
   },
   "source": [
    "### Qs67 Athletes from which sport had the highest average cardiorespiratory fitness in terms of v02 max?"
   ]
  },
  {
   "cell_type": "code",
   "execution_count": 1069,
   "metadata": {
    "colab": {
     "base_uri": "https://localhost:8080/"
    },
    "executionInfo": {
     "elapsed": 333,
     "status": "ok",
     "timestamp": 1724305282946,
     "user": {
      "displayName": "Soumi Sen",
      "userId": "06561516563240062837"
     },
     "user_tz": 420
    },
    "id": "t5mAJt_dlug5",
    "outputId": "247bf395-40fe-4b00-e815-38254b343bf7"
   },
   "outputs": [
    {
     "name": "stdout",
     "output_type": "stream",
     "text": [
      "triathlon sport had the highest average cardiorespiratory fitness in terms of vo2 max with value: 77.5\n"
     ]
    }
   ],
   "source": [
    "athletenew_df_by_sport=athletenew_df.groupby('sport')['VO2mlperkg'].mean()\n",
    "print(athletenew_df_by_sport.idxmax(),\"sport had the highest average cardiorespiratory fitness in terms of vo2 max with value:\",round(athletenew_df_by_sport.max(),2))"
   ]
  },
  {
   "cell_type": "markdown",
   "metadata": {
    "id": "o1feFhtcmwGb"
   },
   "source": [
    "### Qs68 What % of athletes exceeded 90% of max HR? (Max HR is calculated as 220-Age)"
   ]
  },
  {
   "cell_type": "code",
   "execution_count": 1071,
   "metadata": {
    "colab": {
     "base_uri": "https://localhost:8080/"
    },
    "executionInfo": {
     "elapsed": 20177,
     "status": "ok",
     "timestamp": 1724305767261,
     "user": {
      "displayName": "Soumi Sen",
      "userId": "06561516563240062837"
     },
     "user_tz": 420
    },
    "id": "GMZNkFJ_m2Bd",
    "outputId": "11117a78-2d26-41fe-d474-e5195aaac7b9"
   },
   "outputs": [
    {
     "name": "stdout",
     "output_type": "stream",
     "text": [
      "          solution     HR\n",
      "0      Exceeds 90%  94.44\n",
      "1  not Exceeds 90%   5.56\n"
     ]
    }
   ],
   "source": [
    "#All_sports['hr_cal']= (60000/All_sports['RR']).round(2)\n",
    "R_11= merged_sports.groupby('ID')['HR'].max()\n",
    "df1=pd.merge(R_11,Athletes,on='ID',how='inner')[['ID','HR','sport','age']]\n",
    "for index,row in df1.iterrows():\n",
    "    df1['max_HR']= abs(df1['age'].subtract(220))\n",
    "df1.loc[df1['HR']>0.9*df1['max_HR'],'solution']=\"Exceeds 90%\"\n",
    "df1.loc[df1['HR']<=0.9*df1['max_HR'],'solution']=\"not Exceeds 90%\"\n",
    "#print(df1)\n",
    "print(df1['solution'].value_counts(normalize=True).mul(100).round(2).reset_index(name='HR'))"
   ]
  },
  {
   "cell_type": "code",
   "execution_count": 1072,
   "metadata": {},
   "outputs": [
    {
     "name": "stdout",
     "output_type": "stream",
     "text": [
      "solution\n",
      "Exceeds 90%        94.44\n",
      "not Exceeds 90%     5.56\n",
      "Name: proportion, dtype: float64 %\n"
     ]
    }
   ],
   "source": [
    "All_sports['HR']= (60000/All_sports['RR']).round(2)\n",
    "R_11= All_sports.groupby(['ID'])['HR'].max()\n",
    "df1=pd.merge(R_11,Athletes,on='ID',how='inner')[['ID','HR','sport','age']]\n",
    "df1['max_HR']= 220-df1['age']\n",
    "df1.loc[df1['HR']>0.9*df1['max_HR'],\"solution\"]=\"Exceeds 90%\"\n",
    "df1.loc[df1['HR']<=0.9*df1['max_HR'],\"solution\"]=\"not Exceeds 90%\"\n",
    "print(df1['solution'].value_counts(normalize=True).mul(100).round(2),'%')"
   ]
  },
  {
   "cell_type": "markdown",
   "metadata": {
    "id": "-nSuHRmholNd"
   },
   "source": [
    "### Qs69 What was the lowest heart rate recorded at a power wattage of 200"
   ]
  },
  {
   "cell_type": "code",
   "execution_count": 1074,
   "metadata": {
    "colab": {
     "base_uri": "https://localhost:8080/"
    },
    "executionInfo": {
     "elapsed": 335,
     "status": "ok",
     "timestamp": 1724305935079,
     "user": {
      "displayName": "Soumi Sen",
      "userId": "06561516563240062837"
     },
     "user_tz": 420
    },
    "id": "xJMEqkmTm7kf",
    "outputId": "427c2f8e-ddb5-4a28-9d28-9c648dadaabc"
   },
   "outputs": [
    {
     "name": "stdout",
     "output_type": "stream",
     "text": [
      "71.77 was the lowest heart rate recorded at a power wattage of 200\n"
     ]
    }
   ],
   "source": [
    "#All_sports['lowest HR'] = 60000/All_sports['RR']\n",
    "df_200watt = merged_sports.loc[merged_sports['power'] == 200]\n",
    "print(df_200watt['HR'].min(),\"was the lowest heart rate recorded at a power wattage of 200\")"
   ]
  },
  {
   "cell_type": "markdown",
   "metadata": {
    "id": "XIiQjc5ipQWq"
   },
   "source": [
    "### Qs70. On Average how long did most athletes spend at 75% of MaxHR (Max HR is calculated as 220-Age)"
   ]
  },
  {
   "cell_type": "code",
   "execution_count": 1076,
   "metadata": {
    "colab": {
     "base_uri": "https://localhost:8080/"
    },
    "executionInfo": {
     "elapsed": 316,
     "status": "ok",
     "timestamp": 1724306568407,
     "user": {
      "displayName": "Soumi Sen",
      "userId": "06561516563240062837"
     },
     "user_tz": 420
    },
    "id": "2wchp75QpVPl",
    "outputId": "5905c74a-6d2f-44c4-c5da-b424fd045c78"
   },
   "outputs": [
    {
     "data": {
      "text/plain": [
       "515.19"
      ]
     },
     "execution_count": 1076,
     "metadata": {},
     "output_type": "execute_result"
    }
   ],
   "source": [
    "Athletes['Max_HR']=220-Athletes['age']\n",
    "Athletes['75%Max_HR']=round(Athletes['Max_HR']*0.75,0)\n",
    "\n",
    "#All_sports['HR']=round(60000/All_sports['RR'],0)\n",
    "df_merege75=pd.merge(merged_sports,Athletes,on='ID',how='inner')[['ID','75%Max_HR','time','HR']]\n",
    "df_merege75['HR_new']=round(df_merege75['HR'],0)\n",
    "\n",
    "df_result1=df_merege75.loc[df_merege75['75%Max_HR']==df_merege75['HR_new']].reset_index()\n",
    "\n",
    "df_result2=df_result1.groupby('ID')['time'].max()-df_result1.groupby('ID')['time'].min()\n",
    "df_result2.mean().round(2)"
   ]
  },
  {
   "cell_type": "code",
   "execution_count": null,
   "metadata": {
    "id": "OoAwoD49r4SB"
   },
   "outputs": [],
   "source": []
  },
  {
   "cell_type": "markdown",
   "metadata": {
    "id": "Su52aFzIrvKJ"
   },
   "source": [
    "### Qs71. Create a crosstab to show each sport as a column and each heart rate zone as rows with counts of rows that satisfy each condition as values"
   ]
  },
  {
   "cell_type": "code",
   "execution_count": 1078,
   "metadata": {
    "colab": {
     "base_uri": "https://localhost:8080/"
    },
    "executionInfo": {
     "elapsed": 318,
     "status": "ok",
     "timestamp": 1724306777567,
     "user": {
      "displayName": "Soumi Sen",
      "userId": "06561516563240062837"
     },
     "user_tz": 420
    },
    "id": "inrOwGoHr-_e",
    "outputId": "4473b295-d27d-4a62-b27f-2aa577ecc66f"
   },
   "outputs": [
    {
     "name": "stdout",
     "output_type": "stream",
     "text": [
      "sport                       fencing  kayak  triathlon\n",
      "HR_Zone                                              \n",
      "Zone 1 (recovery/easy)         2258   1456        464\n",
      "Zone 2 (Aerobic/base)          3433   2621        318\n",
      "Zone 3 (tempo)                 4269   3434       1089\n",
      "Zone 4 (Lactate threshold)     6322   4464        893\n",
      "Zone 5(AnAerobic)             11321   7503       2217\n"
     ]
    }
   ],
   "source": [
    "crosstab_result =pd.crosstab(merged_sports['HR_Zone'], merged_sports['sport'])\n",
    "print(crosstab_result)"
   ]
  },
  {
   "cell_type": "markdown",
   "metadata": {},
   "source": [
    "### Q72. Provide an example of a lambda function that multiplies any 2 input values."
   ]
  },
  {
   "cell_type": "code",
   "execution_count": 1080,
   "metadata": {},
   "outputs": [
    {
     "name": "stdin",
     "output_type": "stream",
     "text": [
      "Enter X value:  4\n",
      "Enter Y value:  6\n"
     ]
    },
    {
     "name": "stdout",
     "output_type": "stream",
     "text": [
      "The multipliaction of the X & Y values: 24.0\n"
     ]
    }
   ],
   "source": [
    "multi=lambda X,Y:X*Y\n",
    "X = float(input('Enter X value: '))\n",
    "Y = float(input('Enter Y value: '))\n",
    "result = multi(X, Y)\n",
    "print(\"The multipliaction of the X & Y values:\", result)"
   ]
  },
  {
   "cell_type": "markdown",
   "metadata": {},
   "source": [
    "### Qs.73 How long was athlete 17s warm up"
   ]
  },
  {
   "cell_type": "code",
   "execution_count": 1082,
   "metadata": {},
   "outputs": [
    {
     "name": "stdout",
     "output_type": "stream",
     "text": [
      "182.408 Seconds long was athlete 17s warm up\n"
     ]
    }
   ],
   "source": [
    "df1=merged_sports.loc[(merged_sports['time']<=0)&(merged_sports['ID']==17)].reset_index()\n",
    "df2=df1['time'].max()-df1['time'].min()\n",
    "print(df2,\"Seconds long was athlete 17s warm up\")"
   ]
  },
  {
   "cell_type": "markdown",
   "metadata": {},
   "source": [
    "### Qs.74 Take a students full name and reverse it using a for loop"
   ]
  },
  {
   "cell_type": "code",
   "execution_count": 1084,
   "metadata": {},
   "outputs": [
    {
     "name": "stdout",
     "output_type": "stream",
     "text": [
      "    ID         full_name           reverse\n",
      "0    1   Olivia Martinez   zenitraM aivilO\n",
      "1    2    Ethan Reynolds    sdlonyeR nahtE\n",
      "2    3    Jackson Harper    repraH noskcaJ\n",
      "3    4      Liam Sanchez      zehcnaS maiL\n",
      "4    5      Ava Thompson      nospmohT avA\n",
      "5    6  Sophia Rodriguez  zeugirdoR aihpoS\n",
      "6    7     Grace Simmons     snommiS ecarG\n",
      "7    8     Aiden Bennett     ttenneB nediA\n",
      "8    9       Chloe Price       ecirP eolhC\n",
      "9   10       Lily Jordan       nadroJ yliL\n",
      "10  11  Isabella Griffin  niffirG allebasI\n",
      "11  12       Caleb Dixon       noxiD belaC\n",
      "12  13     Mia Carpenter     retnepraC aiM\n",
      "13  14   Harper Mitchell   llehctiM repraH\n",
      "14  15     Mason Wallace     ecallaW nosaM\n",
      "15  16    Logan Anderson    nosrednA nagoL\n",
      "16  17      Lucas Foster      retsoF sacuL\n",
      "17  18        Owen Myers        sreyM newO\n"
     ]
    }
   ],
   "source": [
    "Athletes['full_name'] = Athletes['First Name'] + ' ' + Athletes['Last Name']\n",
    "reverse_list=[]\n",
    "for names in Athletes['full_name']:\n",
    "    reverse_name=\"\"\n",
    "    for char in names:\n",
    "         reverse_name= char + reverse_name\n",
    "    reverse_list.append(reverse_name)\n",
    "Athletes['reverse']=reverse_list     \n",
    "print(Athletes[['ID','full_name','reverse']])  "
   ]
  },
  {
   "cell_type": "markdown",
   "metadata": {},
   "source": [
    "### Qs.75 What was the maximum heart rate recorded during the test. Which athlete did it belong to? Display name, sport and HR"
   ]
  },
  {
   "cell_type": "code",
   "execution_count": 1086,
   "metadata": {},
   "outputs": [
    {
     "name": "stdout",
     "output_type": "stream",
     "text": [
      "       ID First Name Last Name    sport     HR            HR_Zone\n",
      "44041   7      Grace   Simmons  fencing  238.1  Zone 5(AnAerobic)\n"
     ]
    }
   ],
   "source": [
    "df1=merged_sports.loc[(merged_sports['HR']==merged_sports['HR'].max())]\n",
    "print(df1[['ID','First Name','Last Name','sport','HR','HR_Zone']])"
   ]
  },
  {
   "cell_type": "markdown",
   "metadata": {},
   "source": [
    "### Qs.76 np.arange(1,31).reshape(6,5),find array slicing to get the elements 2,5,13,25,30."
   ]
  },
  {
   "cell_type": "code",
   "execution_count": 1088,
   "metadata": {},
   "outputs": [
    {
     "name": "stdout",
     "output_type": "stream",
     "text": [
      "[[ 1  2  3  4  5]\n",
      " [ 6  7  8  9 10]\n",
      " [11 12 13 14 15]\n",
      " [16 17 18 19 20]\n",
      " [21 22 23 24 25]\n",
      " [26 27 28 29 30]]\n",
      "2 , 5 , 13 , 25 , 30\n"
     ]
    }
   ],
   "source": [
    "x= np.arange(1,31).reshape(6,5)\n",
    "print(x)\n",
    "print(x[0][1],\",\",x[0][4],\",\",x[2][2],\",\",x[4][4],\",\",x[5][4])"
   ]
  },
  {
   "cell_type": "markdown",
   "metadata": {},
   "source": [
    "### Qs.77 Display a violin chart to show distribution of VO2Max against age."
   ]
  },
  {
   "cell_type": "code",
   "execution_count": 1090,
   "metadata": {},
   "outputs": [
    {
     "data": {
      "text/plain": [
       "<Axes: title={'center': 'Distribution of VO2Max against age.'}, xlabel='age', ylabel='max_vo2'>"
      ]
     },
     "execution_count": 1090,
     "metadata": {},
     "output_type": "execute_result"
    },
    {
     "data": {
      "image/png": "[encoded data removed]",
      "text/plain": [
       "<Figure size 640x480 with 1 Axes>"
      ]
     },
     "metadata": {},
     "output_type": "display_data"
    }
   ],
   "source": [
    "sum_vo2=merged_sports.groupby(['ID'])['VO2'].sum()\n",
    "df1=pd.merge(sum_vo2,Athletes,on='ID',how='inner')[['ID','age','VO2','Weight']]\n",
    "for index,row in df1.iterrows():\n",
    "     df1.at[index,'max_vo2']=round(df1.at[index,'VO2']/df1.at[index,'Weight'],2)\n",
    "plt.title(\"Distribution of VO2Max against age.\")\n",
    "sns.violinplot(x='age',y='max_vo2',hue='age',palette=\"RdPu\",data=df1) "
   ]
  },
  {
   "cell_type": "markdown",
   "metadata": {},
   "source": [
    "### QS.78 Create a heatmap that show heart rate zones by minutes and the number of athletes in each HR and each minute."
   ]
  },
  {
   "cell_type": "code",
   "execution_count": 1092,
   "metadata": {},
   "outputs": [
    {
     "data": {
      "text/plain": [
       "<Axes: title={'center': 'Heart rate zones by minutes and the number of athletes in each HR and each minute'}, xlabel='time_min', ylabel='HR_Zone'>"
      ]
     },
     "execution_count": 1092,
     "metadata": {},
     "output_type": "execute_result"
    },
    {
     "data": {
      "image/png": "[encoded data removed]",
      "text/plain": [
       "<Figure size 640x480 with 2 Axes>"
      ]
     },
     "metadata": {},
     "output_type": "display_data"
    }
   ],
   "source": [
    "merged_sports['time_min']=(merged_sports['time']/60).round(0)\n",
    "\n",
    "\n",
    "g = merged_sports.groupby(['time_min','HR_Zone','ID'])\n",
    "cnt = g.ID.nunique()\n",
    "df=cnt.to_frame(name=\"No_of_Athletes\")\n",
    "df1=df.groupby(['HR_Zone','time_min'])['No_of_Athletes'].sum().reset_index()\n",
    "result = pd.crosstab(df1['HR_Zone'], df1['time_min'])\n",
    "plt.title(\"Heart rate zones by minutes and the number of athletes in each HR and each minute\")\n",
    "sns.heatmap(result,cmap='viridis',vmax=5,vmin=0,linewidth=0.5,linecolor=\"#222\")"
   ]
  },
  {
   "cell_type": "markdown",
   "metadata": {},
   "source": [
    "### Qs.79  Plot the Donut chart athlete distrubution by Gender"
   ]
  },
  {
   "cell_type": "code",
   "execution_count": 1094,
   "metadata": {},
   "outputs": [
    {
     "data": {
      "image/png": "[encoded data removed]",
      "text/plain": [
       "<Figure size 640x480 with 1 Axes>"
      ]
     },
     "metadata": {},
     "output_type": "display_data"
    }
   ],
   "source": [
    "gender=(Athletes['Gender']).value_counts()\n",
    "x=('female 10','male 8')\n",
    "plt.title(\"Distrubution by Gender\")\n",
    "plt.pie(gender,autopct = '%0.2f%%',labels=x,pctdistance=0.85,explode=(0.02, 0.02))\n",
    "my_circle=plt.Circle((0,0),0.6,color='white')\n",
    "plt.gca().add_artist(my_circle) and plt.show()"
   ]
  },
  {
   "cell_type": "markdown",
   "metadata": {},
   "source": [
    "### Qs. 80 find the size of a Tuple for any given input"
   ]
  },
  {
   "cell_type": "code",
   "execution_count": 1096,
   "metadata": {},
   "outputs": [
    {
     "name": "stdout",
     "output_type": "stream",
     "text": [
      "tuple length is  4\n"
     ]
    }
   ],
   "source": [
    "a=(1,2,3,4)\n",
    "print(\"tuple length is \",len(a))\n"
   ]
  },
  {
   "cell_type": "code",
   "execution_count": 1097,
   "metadata": {},
   "outputs": [
    {
     "data": {
      "text/plain": [
       "'\\nresult_tuple = tuple(int(item) for item in (input(\\'Enter integers: \\')).split())\\nprint(result_tuple)\\nprint(len(result_tuple),\"is the tuple length of given input\" )\\n'"
      ]
     },
     "execution_count": 1097,
     "metadata": {},
     "output_type": "execute_result"
    }
   ],
   "source": [
    "#for integer input\n",
    "'''\n",
    "result_tuple = tuple(int(item) for item in (input('Enter integers: ')).split())\n",
    "print(result_tuple)\n",
    "print(len(result_tuple),\"is the tuple length of given input\" )\n",
    "'''"
   ]
  },
  {
   "cell_type": "code",
   "execution_count": 1098,
   "metadata": {},
   "outputs": [
    {
     "data": {
      "text/plain": [
       "'\\nresult_tuple = tuple((input(\\'Enter integers: \\')).split())\\nprint(result_tuple)\\nprint(len(result_tuple),\"is the tuple length of given input\" )\\n'"
      ]
     },
     "execution_count": 1098,
     "metadata": {},
     "output_type": "execute_result"
    }
   ],
   "source": [
    "# for any input(80 Q)\n",
    "'''\n",
    "result_tuple = tuple((input('Enter integers: ')).split())\n",
    "print(result_tuple)\n",
    "print(len(result_tuple),\"is the tuple length of given input\" )\n",
    "'''"
   ]
  }
 ],
 "metadata": {
  "colab": {
   "provenance": []
  },
  "kernelspec": {
   "display_name": "Python 3 (ipykernel)",
   "language": "python",
   "name": "python3"
  },
  "language_info": {
   "codemirror_mode": {
    "name": "ipython",
    "version": 3
   },
   "file_extension": ".py",
   "mimetype": "text/x-python",
   "name": "python",
   "nbconvert_exporter": "python",
   "pygments_lexer": "ipython3",
   "version": "3.12.4"
  }
 },
 "nbformat": 4,
 "nbformat_minor": 4
}
