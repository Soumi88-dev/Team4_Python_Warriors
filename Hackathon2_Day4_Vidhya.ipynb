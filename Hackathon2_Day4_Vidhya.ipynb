{
 "cells": [
  {
   "cell_type": "code",
   "execution_count": 6,
   "id": "afdb888f-9448-4b9d-8c83-6dbae89c03cf",
   "metadata": {},
   "outputs": [
    {
     "name": "stderr",
     "output_type": "stream",
     "text": [
      "C:\\Users\\vidhy\\anaconda3\\Lib\\site-packages\\openpyxl\\worksheet\\_read_only.py:79: UserWarning: Unknown extension is not supported and will be removed\n",
      "  for idx, row in parser.parse():\n",
      "C:\\Users\\vidhy\\anaconda3\\Lib\\site-packages\\openpyxl\\worksheet\\_read_only.py:79: UserWarning: Unknown extension is not supported and will be removed\n",
      "  for idx, row in parser.parse():\n",
      "C:\\Users\\vidhy\\anaconda3\\Lib\\site-packages\\openpyxl\\worksheet\\_read_only.py:79: UserWarning: Unknown extension is not supported and will be removed\n",
      "  for idx, row in parser.parse():\n"
     ]
    }
   ],
   "source": [
    "import pandas as pd\n",
    "import numpy as np\n",
    "from datetime import datetime\n",
    "dataset = pd.ExcelFile(r\"C:\\Users\\vidhy\\Downloads\\V02Max_Combined.xlsx\")\n",
    "\n",
    "Athletes = pd.read_excel(dataset, sheet_name = 'Athletes')\n",
    "Kayaking = pd.read_excel(dataset, sheet_name = 'Kayaking')\n",
    "Triathlon = pd.read_excel(dataset, sheet_name = 'Triathlon')\n",
    "Fencing = pd.read_excel(dataset, sheet_name = 'Fencing')\n"
   ]
  },
  {
   "cell_type": "code",
   "execution_count": null,
   "id": "15ce46ab-cbed-4dd7-9861-4fd0cb582872",
   "metadata": {},
   "outputs": [],
   "source": [
    "#7)Create a correlation matrix to show the relationship between HR, BMI and sport?"
   ]
  },
  {
   "cell_type": "code",
   "execution_count": 7,
   "id": "ef5227ab-5f95-41dd-b251-26018524194b",
   "metadata": {},
   "outputs": [],
   "source": [
    "Athletes['BMI']=Athletes['Weight']/(Athletes['Height']**2)\n",
    "#print(Athletes)"
   ]
  },
  {
   "cell_type": "code",
   "execution_count": 12,
   "id": "ff127093-8512-4a10-9ed1-997b45e7c026",
   "metadata": {},
   "outputs": [
    {
     "name": "stdout",
     "output_type": "stream",
     "text": [
      "       ID     time     RR       VO2  power\n",
      "0      11 -168.600  727.0  0.287147      0\n",
      "1      11 -167.872  728.0  0.287147      0\n",
      "2      11 -167.148  724.0  0.287147      0\n",
      "3      11 -166.484  664.0  0.320580      0\n",
      "4      11 -165.836  648.0  0.320580      0\n",
      "...    ..      ...    ...       ...    ...\n",
      "27598  10  942.700  428.0  0.786363      0\n",
      "27599  10  943.124  424.0  0.786363      0\n",
      "27600  10  943.552  428.0  0.786363      0\n",
      "27601  10  943.976  424.0  0.786363      0\n",
      "27602  10  944.404  428.0  0.786363      0\n",
      "\n",
      "[52062 rows x 5 columns]\n",
      "       ID     time     RR       VO2  power      HR                     HR_Zone\n",
      "0      11 -168.600  727.0  0.287147      0   82.53      Zone 1 (recovery/easy)\n",
      "1      11 -167.872  728.0  0.287147      0   82.42      Zone 1 (recovery/easy)\n",
      "2      11 -167.148  724.0  0.287147      0   82.87      Zone 1 (recovery/easy)\n",
      "3      11 -166.484  664.0  0.320580      0   90.36      Zone 1 (recovery/easy)\n",
      "4      11 -165.836  648.0  0.320580      0   92.59      Zone 1 (recovery/easy)\n",
      "...    ..      ...    ...       ...    ...     ...                         ...\n",
      "27598  10  942.700  428.0  0.786363      0  140.19  Zone 4 (Lactate threshold)\n",
      "27599  10  943.124  424.0  0.786363      0  141.51  Zone 4 (Lactate threshold)\n",
      "27600  10  943.552  428.0  0.786363      0  140.19  Zone 4 (Lactate threshold)\n",
      "27601  10  943.976  424.0  0.786363      0  141.51  Zone 4 (Lactate threshold)\n",
      "27602  10  944.404  428.0  0.786363      0  140.19  Zone 4 (Lactate threshold)\n",
      "\n",
      "[52062 rows x 7 columns]\n"
     ]
    }
   ],
   "source": [
    "combined=pd.concat([Kayaking,Triathlon,Fencing])\n",
    "print(combined)\n",
    "\n",
    "\n",
    "def Heart_Rate(rr):\n",
    "    return round(60*1000/rr,2)\n",
    "def Heartrate_Zone(hr):\n",
    "    if hr<100:\n",
    "        return 'Zone 1 (recovery/easy)'\n",
    "    elif hr>=100 and hr<120:\n",
    "        return 'Zone 2 (Aerobic/base)'\n",
    "    elif hr>=120 and hr<135:\n",
    "        return 'Zone 3 (tempo)'\n",
    "    elif hr>=135 and hr<155:\n",
    "        return 'Zone 4 (Lactate threshold)'\n",
    "    else:\n",
    "        return 'Zone 5(AnAerobic)'\n",
    "combined['HR']=combined['RR'].apply(Heart_Rate)\n",
    "combined['HR_Zone']=combined['HR'].apply(Heartrate_Zone)\n",
    "#pd.set_option('display.max_rows',1000)\n",
    "print(combined)\n",
    "        "
   ]
  },
  {
   "cell_type": "code",
   "execution_count": null,
   "id": "4bbd4128-fc92-4f46-95e9-6ada6c4b3674",
   "metadata": {},
   "outputs": [],
   "source": []
  },
  {
   "cell_type": "code",
   "execution_count": 23,
   "id": "c5577585-5cc6-4a59-a0ab-18a991009d72",
   "metadata": {},
   "outputs": [
    {
     "name": "stdout",
     "output_type": "stream",
     "text": [
      "       ID     time     RR       VO2  power      HR  \\\n",
      "0      11 -168.600  727.0  0.287147      0   82.53   \n",
      "1      11 -167.872  728.0  0.287147      0   82.42   \n",
      "2      11 -167.148  724.0  0.287147      0   82.87   \n",
      "3      11 -166.484  664.0  0.320580      0   90.36   \n",
      "4      11 -165.836  648.0  0.320580      0   92.59   \n",
      "...    ..      ...    ...       ...    ...     ...   \n",
      "52057  10  942.700  428.0  0.786363      0  140.19   \n",
      "52058  10  943.124  424.0  0.786363      0  141.51   \n",
      "52059  10  943.552  428.0  0.786363      0  140.19   \n",
      "52060  10  943.976  424.0  0.786363      0  141.51   \n",
      "52061  10  944.404  428.0  0.786363      0  140.19   \n",
      "\n",
      "                          HR_Zone  age  Weight  Height  P_vt1  P_vt2    sport  \\\n",
      "0          Zone 1 (recovery/easy)   18    84.8     182    174    268    kayak   \n",
      "1          Zone 1 (recovery/easy)   18    84.8     182    174    268    kayak   \n",
      "2          Zone 1 (recovery/easy)   18    84.8     182    174    268    kayak   \n",
      "3          Zone 1 (recovery/easy)   18    84.8     182    174    268    kayak   \n",
      "4          Zone 1 (recovery/easy)   18    84.8     182    174    268    kayak   \n",
      "...                           ...  ...     ...     ...    ...    ...      ...   \n",
      "52057  Zone 4 (Lactate threshold)   14    58.8     177    101    162  fencing   \n",
      "52058  Zone 4 (Lactate threshold)   14    58.8     177    101    162  fencing   \n",
      "52059  Zone 4 (Lactate threshold)   14    58.8     177    101    162  fencing   \n",
      "52060  Zone 4 (Lactate threshold)   14    58.8     177    101    162  fencing   \n",
      "52061  Zone 4 (Lactate threshold)   14    58.8     177    101    162  fencing   \n",
      "\n",
      "       Gender Ethnicity First Name Last Name       BMI  \n",
      "0      Female   African   Isabella   Griffin  0.002560  \n",
      "1      Female   African   Isabella   Griffin  0.002560  \n",
      "2      Female   African   Isabella   Griffin  0.002560  \n",
      "3      Female   African   Isabella   Griffin  0.002560  \n",
      "4      Female   African   Isabella   Griffin  0.002560  \n",
      "...       ...       ...        ...       ...       ...  \n",
      "52057  Female   African       Lily    Jordan  0.001877  \n",
      "52058  Female   African       Lily    Jordan  0.001877  \n",
      "52059  Female   African       Lily    Jordan  0.001877  \n",
      "52060  Female   African       Lily    Jordan  0.001877  \n",
      "52061  Female   African       Lily    Jordan  0.001877  \n",
      "\n",
      "[52062 rows x 18 columns]\n"
     ]
    }
   ],
   "source": [
    "merged=pd.merge(combined,Athletes,on='ID')\n",
    "print(merged)"
   ]
  },
  {
   "cell_type": "code",
   "execution_count": 10,
   "id": "86a014e8-410e-43e6-92e4-28a613c48791",
   "metadata": {},
   "outputs": [
    {
     "name": "stdout",
     "output_type": "stream",
     "text": [
      "                BMI  sport_num        HR\n",
      "BMI        1.000000  -0.346155 -0.056931\n",
      "sport_num -0.346155   1.000000  0.039016\n",
      "HR        -0.056931   0.039016  1.000000\n"
     ]
    }
   ],
   "source": [
    "merged['sport_num']=pd.factorize(merged['sport'])[0]\n",
    "#correlate=merged[['BMI','sport_num','HR']]\n",
    "correlation_matrix=merged[['BMI','sport_num','HR']].corr()\n",
    "print(correlation_matrix)"
   ]
  },
  {
   "cell_type": "code",
   "execution_count": null,
   "id": "d01cf409-5523-49fa-9594-da68d9ee5934",
   "metadata": {},
   "outputs": [],
   "source": [
    "#11)Create any 3d plot using any data. Values do not have to be from the dataset given?"
   ]
  },
  {
   "cell_type": "code",
   "execution_count": 15,
   "id": "b9cd23d1-6521-41c0-a00a-51100a5b9f70",
   "metadata": {
    "scrolled": true
   },
   "outputs": [
    {
     "data": {
      "image/png": "[encoded data removed]",
      "text/plain": [
       "<Figure size 640x480 with 1 Axes>"
      ]
     },
     "metadata": {},
     "output_type": "display_data"
    }
   ],
   "source": [
    "\n",
    "import matplotlib.pyplot as plt\n",
    "x=[5,7,9,22,3,89,10,95,33,55]\n",
    "y=[100,133,244,550,670,900,890,567,987,300]\n",
    "plt.scatter(x,y,c='red')\n",
    "plt.show()\n",
    "   \n"
   ]
  },
  {
   "cell_type": "code",
   "execution_count": null,
   "id": "4d6496f2-8697-4660-884f-5fb78dd74400",
   "metadata": {},
   "outputs": [],
   "source": [
    "#10)What was the average HRV of the triathletes?"
   ]
  },
  {
   "cell_type": "code",
   "execution_count": 22,
   "id": "f4a3372b-1ee1-4b32-930f-73b8e39c60bc",
   "metadata": {},
   "outputs": [
    {
     "name": "stdout",
     "output_type": "stream",
     "text": [
      "The average HRV of the Triathlon is 138.40\n"
     ]
    }
   ],
   "source": [
    "triathlon=merged[merged['sport']=='triathlon']\n",
    "#print(triathlon)\n",
    "#print(merged)\n",
    "HRV=triathlon['RR'].std()\n",
    "print(f\"The average HRV of the Triathlon is {HRV:.2f}\")\n"
   ]
  },
  {
   "cell_type": "code",
   "execution_count": null,
   "id": "ef00e54d-f65e-4fe5-a8aa-6e05068a1bef",
   "metadata": {},
   "outputs": [],
   "source": [
    "#10)How long was athlete 12 in HR Zone 5?"
   ]
  },
  {
   "cell_type": "code",
   "execution_count": 30,
   "id": "7d45ea20-0b7c-484a-b199-864dc320d707",
   "metadata": {},
   "outputs": [
    {
     "name": "stdout",
     "output_type": "stream",
     "text": [
      "Empty DataFrame\n",
      "Columns: [ID, time, RR, VO2, power, HR, HR_Zone, age, Weight, Height, P_vt1, P_vt2, sport, Gender, Ethnicity, First Name, Last Name, BMI]\n",
      "Index: []\n",
      "0.0\n"
     ]
    }
   ],
   "source": [
    "Athelet_12= merged[merged['ID']==12]\n",
    "Athelet_12_Zone5= Athelet_12[Athelet_12['HR_Zone']==5]\n",
    "print(Athelet_12_Zone5)\n",
    "Total_time=Athelet_12_Zone5['time'].sum()\n",
    "print(Total_time)\n"
   ]
  },
  {
   "cell_type": "code",
   "execution_count": null,
   "id": "08f902e7-58f9-41a6-9933-fc2c9442d97a",
   "metadata": {},
   "outputs": [],
   "source": [
    "#2)Divide the rows into 3 parts: Warm up, GET(graded exercise test) and cool down using the data def. Label each row accordingly?"
   ]
  },
  {
   "cell_type": "code",
   "execution_count": 11,
   "id": "cdc414ec-ba0b-43f4-8429-065a583ab9ad",
   "metadata": {},
   "outputs": [
    {
     "name": "stdout",
     "output_type": "stream",
     "text": [
      "       ID     time     RR       VO2  power      HR  \\\n",
      "0      11 -168.600  727.0  0.287147      0   82.53   \n",
      "1      11 -167.872  728.0  0.287147      0   82.42   \n",
      "2      11 -167.148  724.0  0.287147      0   82.87   \n",
      "3      11 -166.484  664.0  0.320580      0   90.36   \n",
      "4      11 -165.836  648.0  0.320580      0   92.59   \n",
      "...    ..      ...    ...       ...    ...     ...   \n",
      "27598  10  942.700  428.0  0.786363      0  140.19   \n",
      "27599  10  943.124  424.0  0.786363      0  141.51   \n",
      "27600  10  943.552  428.0  0.786363      0  140.19   \n",
      "27601  10  943.976  424.0  0.786363      0  141.51   \n",
      "27602  10  944.404  428.0  0.786363      0  140.19   \n",
      "\n",
      "                          HR_Zone      stage  \n",
      "0          Zone 1 (recovery/easy)    Warm up  \n",
      "1          Zone 1 (recovery/easy)    Warm up  \n",
      "2          Zone 1 (recovery/easy)    Warm up  \n",
      "3          Zone 1 (recovery/easy)    Warm up  \n",
      "4          Zone 1 (recovery/easy)    Warm up  \n",
      "...                           ...        ...  \n",
      "27598  Zone 4 (Lactate threshold)  Cool down  \n",
      "27599  Zone 4 (Lactate threshold)  Cool down  \n",
      "27600  Zone 4 (Lactate threshold)  Cool down  \n",
      "27601  Zone 4 (Lactate threshold)  Cool down  \n",
      "27602  Zone 4 (Lactate threshold)  Cool down  \n",
      "\n",
      "[52062 rows x 8 columns]\n"
     ]
    }
   ],
   "source": [
    "conditions=[\n",
    "    (combined['time']<0),\n",
    "    (combined['time']>0) & (combined['power']>0),\n",
    "    (combined['power']<=0)\n",
    "]\n",
    "choices=['Warm up','Get','Cool down']\n",
    "combined['stage']=np.select(conditions,choices,default='cool down')\n",
    "print(combined)                           "
   ]
  },
  {
   "cell_type": "code",
   "execution_count": null,
   "id": "92accf5d-4c4a-4956-be55-ded2475d615b",
   "metadata": {},
   "outputs": [],
   "source": []
  }
 ],
 "metadata": {
  "kernelspec": {
   "display_name": "Python 3 (ipykernel)",
   "language": "python",
   "name": "python3"
  },
  "language_info": {
   "codemirror_mode": {
    "name": "ipython",
    "version": 3
   },
   "file_extension": ".py",
   "mimetype": "text/x-python",
   "name": "python",
   "nbconvert_exporter": "python",
   "pygments_lexer": "ipython3",
   "version": "3.11.7"
  }
 },
 "nbformat": 4,
 "nbformat_minor": 5
}
